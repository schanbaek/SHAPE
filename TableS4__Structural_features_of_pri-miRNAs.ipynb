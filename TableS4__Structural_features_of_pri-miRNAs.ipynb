{
 "cells": [
  {
   "cell_type": "markdown",
   "metadata": {},
   "source": [
    "# Table S4. Structural features of pri-miRNAs\n",
    "1. Generate all structures\n",
    "2. Select one structure\n",
    "3. Draw figures\n",
    "4. Determine junctions\n",
    "5. Get features\n",
    "6. Build a table"
   ]
  },
  {
   "cell_type": "code",
   "execution_count": 1,
   "metadata": {},
   "outputs": [
    {
     "name": "stdout",
     "output_type": "stream",
     "text": [
      "Last revised by S. Chan Baek at 2024-01-19.\n"
     ]
    }
   ],
   "source": [
    "import time\n",
    "today = time.strftime('%Y-%m-%d')\n",
    "name = 'S. Chan Baek'\n",
    "print 'Last revised by %s at %s.' % (name, today)"
   ]
  },
  {
   "cell_type": "code",
   "execution_count": 2,
   "metadata": {},
   "outputs": [
    {
     "name": "stdout",
     "output_type": "stream",
     "text": [
      "/casa/bsc/projects/2_Structure-of-pri/2007_paper_prep\n"
     ]
    }
   ],
   "source": [
    "HOME = '/casa/bsc/projects/2_Structure-of-pri/2007_paper_prep'\n",
    "%cd $HOME"
   ]
  },
  {
   "cell_type": "code",
   "execution_count": 4,
   "metadata": {},
   "outputs": [],
   "source": [
    "from __future__ import division\n",
    "from collections import Counter, defaultdict\n",
    "from os import path, listdir\n",
    "import pandas as pd\n",
    "import numpy as np\n",
    "import re\n",
    "import gzip"
   ]
  },
  {
   "cell_type": "code",
   "execution_count": 5,
   "metadata": {},
   "outputs": [],
   "source": [
    "LIBRARIES = [ 'rep1', 'rep2-1', 'rep2-2', 'rep2-3' ]\n",
    "CONDITIONS = [ '+1m7', '-1m7', 'dc' ]"
   ]
  },
  {
   "cell_type": "code",
   "execution_count": 101,
   "metadata": {},
   "outputs": [
    {
     "name": "stdout",
     "output_type": "stream",
     "text": [
      "519 478\n"
     ]
    }
   ],
   "source": [
    "s1 = pd.read_csv('publication/TableS1__Pri-miRNAs_selected_for_SHAPE-MaP.csv',index_col=0)\n",
    "s2 = pd.read_csv('publication/TableS2__Constructs_used_in_this_study.csv',index_col=0)\n",
    "s3 = pd.read_csv('publication/TableS3_2__SHAPE_reactivity.csv',index_col=0)\n",
    "s3cnts = pd.read_csv('publication/TableS3_1__Read_counts.csv',index_col=0)\n",
    "s3shan = pd.read_csv('publication/TableS3_3__Shannon_entropy.csv',index_col=0)\n",
    "s3shan.columns = range(1,126)\n",
    "s3shan = s3shan.fillna(0)\n",
    "constseqs = s2['Construct sequence'].to_dict()\n",
    "mirs = [m for m in s1.index if m in s3.index]\n",
    "print len(s1.index), len(mirs)"
   ]
  },
  {
   "cell_type": "code",
   "execution_count": 7,
   "metadata": {},
   "outputs": [
    {
     "name": "stdout",
     "output_type": "stream",
     "text": [
      "(25, 96) (25, 46)\n"
     ]
    }
   ],
   "source": [
    "def get_pre_position(mir):\n",
    "    constseq = constseqs[mir].replace('T','U')\n",
    "    preseq = s1.loc[mir, 'Precursor']\n",
    "    return constseq.find(preseq)+1, constseq.find(preseq)+len(preseq)\n",
    "\n",
    "def get_mat_position(mir,arm):\n",
    "    constseq = constseqs[mir].replace('T','U')\n",
    "    matseq = s1.loc[mir,arm]\n",
    "    return constseq.find(matseq)+1, constseq.find(matseq)+len(matseq)\n",
    "\n",
    "m = 'hsa-let-7a-1'\n",
    "print get_pre_position(m), get_mat_position(m,'5p')"
   ]
  },
  {
   "cell_type": "code",
   "execution_count": 8,
   "metadata": {},
   "outputs": [
    {
     "name": "stdout",
     "output_type": "stream",
     "text": [
      "env: DATAPATH=/casa/bsc/bin/RNAstructure/data_tables\n"
     ]
    }
   ],
   "source": [
    "fold = '/casa/bsc/bin/RNAstructure/exe/Fold'\n",
    "datapath = '/casa/bsc/bin/RNAstructure/data_tables'\n",
    "pvclient = '/casa/bsc/bin/ShapeMapper_v1.2/pvclient.py'\n",
    "%env DATAPATH $datapath"
   ]
  },
  {
   "cell_type": "markdown",
   "metadata": {},
   "source": [
    "---\n",
    "### 1. Generate all possible structure models\n",
    "- shape reactivity files were generated in \"TableS3__SHAPE_reactivity\""
   ]
  },
  {
   "cell_type": "code",
   "execution_count": 12,
   "metadata": {},
   "outputs": [],
   "source": [
    "RCUT_PD = 500\n",
    "RCUT_M = 100\n",
    "sufflibs = {}\n",
    "for m in mirs:\n",
    "    sufflibs[m] = [lib for lib in LIBRARIES if s3cnts.loc[m,'%s_+1m7'%lib]>=RCUT_PD and \n",
    "                                               s3cnts.loc[m,'%s_-1m7'%lib]>=RCUT_M and\n",
    "                                               s3cnts.loc[m,'%s_dc'%lib]>=RCUT_PD ]"
   ]
  },
  {
   "cell_type": "code",
   "execution_count": 18,
   "metadata": {},
   "outputs": [],
   "source": [
    "PARAMS = [ (1.8,-.6), (2.4,-.8), (1.2,-.4) ]\n",
    "FASTA_DIR = 'resources/fasta_files'\n",
    "SHAPE_DIR = 'shape/2021-12-28'\n",
    "RTS_DIR = '%s/shape_reactivity'%SHAPE_DIR\n",
    "STR_DIR = '%s/structures'%SHAPE_DIR\n",
    "FIG_DIR = '%s/figures'%SHAPE_DIR"
   ]
  },
  {
   "cell_type": "code",
   "execution_count": 13,
   "metadata": {},
   "outputs": [],
   "source": [
    "# for rna in s2.index:\n",
    "#     with open('%s/%s.fa'%(FASTA_DIR,rna),'wt') as out:\n",
    "#         out.write('>%s\\n%s'%(rna,constseqs[rna]))"
   ]
  },
  {
   "cell_type": "code",
   "execution_count": 14,
   "metadata": {
    "scrolled": true
   },
   "outputs": [],
   "source": [
    "# ## Generate ct files\n",
    "# if not path.exists(STR_DIR): \n",
    "#     !mkdir $STR_DIR\n",
    "    \n",
    "# for m in mirs:\n",
    "#     seqfile = '%s/%s.fa'%(FASTA_DIR,m)\n",
    "#     for lib in sufflibs[m]:\n",
    "#         rtsfile = '%s/%s_%s.shape'%(RTS_DIR,m,lib)\n",
    "#         for slope,inter in PARAMS:\n",
    "#             ctfile = '%s/%s_%s_m%i.ct'%(STR_DIR,m,lib,slope*10)\n",
    "#             out = !$fold $seqfile $ctfile -sh $rtsfile -sm $slope -si $inter"
   ]
  },
  {
   "cell_type": "markdown",
   "metadata": {},
   "source": [
    "---\n",
    "### 2. Select the most relevant structure model\n",
    "- First, select those with some lengths of upper and lower stems, 2 nt overhang, and a symmetric stem.\n",
    "- Second, give priority to those modeled with more reads.\n",
    "- For leftovers, loosening the threshold step by step.\n",
    "- If there are still more than one, select those correponds best with SHAPE reactivity profile."
   ]
  },
  {
   "cell_type": "code",
   "execution_count": 20,
   "metadata": {},
   "outputs": [],
   "source": [
    "def split_ct(ctfile):\n",
    "    infos = open(ctfile, 'rt').read()\n",
    "    rna = infos.split('\\n')[0].strip().split()[-1]\n",
    "    nstrt = infos.count(rna)\n",
    "    splitinfos = []\n",
    "    for i in range(nstrt):\n",
    "        lines = infos.split('\\n')[1+(1+len(constseqs[rna]))*i:(1+len(constseqs[rna]))*(i+1)]\n",
    "        splitinfos.append([ tuple(map(int,l.strip().split()[4:6][::-1])) for l in lines ])\n",
    "    return splitinfos\n",
    "\n",
    "def count_ustempairs(ctinfo, ps, pe, me5p, ms3p):\n",
    "    return len([(i,p) for i,p in ctinfo if ps<=i<=me5p and ms3p-2<=p<=pe-2])\n",
    "\n",
    "def count_lstempairs(ctinfo, ps, pe):\n",
    "    return len([(i,p) for i,p in ctinfo if ps-13<=i<ps and pe-2<p<=pe+11])\n",
    "\n",
    "def measure_asymmetry(ctinfo, ps, pe, me5p, ms3p):\n",
    "    pairs = [(i,p) for i,p in ctinfo if i<me5p and p>=ms3p]\n",
    "    stems = [(i,p) for i,p in pairs if ps-9<=i<=ps+15 or pe-15<=p<=pe+8]\n",
    "    consecps = zip(stems[:-1],stems[1:])\n",
    "    return max([abs((i2-i1)-(p1-p2)) for (i1,p1),(i2,p2) in consecps]+[-999])\n",
    "\n",
    "def get_sym_str(ctinfo, ps, pe):\n",
    "    stinfo = [(x,y) for x,y in ctinfo if y>0]\n",
    "    ls = [ (x,y) for i,(x,y) in enumerate(stinfo[:-1]) \n",
    "          if stinfo[i+1]==(y,x) and x>ps and y<pe ]\n",
    "    loopst, loopen = min(ls, key=lambda (x,y):abs(120-x-y))\n",
    "    stems = [ (i,p) for i,p in ctinfo if i<=loopst and loopen<=p ]\n",
    "    if len(stems)<2:\n",
    "        return 'F'*125\n",
    "    stemst, stemen = stems[0]\n",
    "    stems = stems + [ (p,i) for i,p in stems[::-1] ]\n",
    "    symst = ''\n",
    "    for (l5,l3),(u5,u3) in zip(stems[:-1],stems[1:]):\n",
    "        if l5==loopst: symst += 'M'+'L'*(loopen-loopst-1)\n",
    "        elif u5-l5==1: symst += 'M'\n",
    "        else:\n",
    "            symmet = min(u5-l5-1, l3-u3-1)\n",
    "            symst += 'M' + symmet*'S' + (u5-l5-1-symmet)*'A'# + symmet*'S'\n",
    "    symst = 'F'*(stemst-1) + symst + 'M' + 'F'*(125-stemen)\n",
    "    return symst\n",
    "\n",
    "def count_len(symstr):\n",
    "    return sum([symstr.count(s) for s in 'MS'])\n",
    "\n",
    "def measure_3overhang(ctinfo, ps, pe):\n",
    "    termps = [(i,j) for i,j in ctinfo if 0<=i-ps<=5 and 2<=pe-j<=7]\n",
    "    intst = [(i,j) for i,j in ctinfo if ps-10<i<j<ps+10 or pe-10<i<j<pe+10]\n",
    "    if termps==[] or intst:\n",
    "        return -999\n",
    "    symstr = get_sym_str(ctinfo, ps, pe)\n",
    "    ov3 = count_len(symstr[:ps-1])-count_len(symstr[pe:]) # (pe-lastp[1])-(lastp[0]-ps)\n",
    "    return ov3"
   ]
  },
  {
   "cell_type": "code",
   "execution_count": 21,
   "metadata": {
    "scrolled": true
   },
   "outputs": [
    {
     "name": "stdout",
     "output_type": "stream",
     "text": [
      "19\n",
      "8\n",
      "2\n",
      "3\n"
     ]
    }
   ],
   "source": [
    "mir = 'hsa-mir-127'\n",
    "ctfile = '%s/%s_rep1_m18.ct'%(STR_DIR,mir)\n",
    "ctinfo = split_ct(ctfile)[1]\n",
    "ms5p, me5p = get_mat_position(mir,'5p')\n",
    "ms3p, me3p = get_mat_position(mir,'3p')\n",
    "print count_ustempairs(ctinfo, ms5p, me3p, me5p, ms3p)\n",
    "print count_lstempairs(ctinfo, ms5p, me3p)\n",
    "print measure_3overhang(ctinfo, ms5p, me3p)\n",
    "print measure_asymmetry(ctinfo, ms5p, me3p, me5p, ms3p)"
   ]
  },
  {
   "cell_type": "code",
   "execution_count": 49,
   "metadata": {},
   "outputs": [],
   "source": [
    "PARAMS = [18,12,24]\n",
    "MINUS = 14\n",
    "MINLS = 8\n",
    "OVRANGE = range(1,4)\n",
    "MAXASYM = 8"
   ]
  },
  {
   "cell_type": "code",
   "execution_count": 50,
   "metadata": {},
   "outputs": [
    {
     "name": "stdout",
     "output_type": "stream",
     "text": [
      "428\n"
     ]
    }
   ],
   "source": [
    "strmodels = defaultdict(list)\n",
    "for m in mirs:\n",
    "    ms5p, me5p = get_mat_position(m,'5p')\n",
    "    ms3p, me3p = get_mat_position(m,'3p')\n",
    "    for lib in sufflibs[m]:\n",
    "        for param in PARAMS:\n",
    "            ctfile = '%s/%s_%s_m%s.ct'%(STR_DIR,m,lib,param)\n",
    "            for i,ctinfo in enumerate(split_ct(ctfile)):\n",
    "                usbps = count_ustempairs(ctinfo, ms5p, me3p, me5p, ms3p)\n",
    "                ov3 = measure_3overhang(ctinfo, ms5p, me3p)\n",
    "                lsbps = count_lstempairs(ctinfo, ms5p, me3p)\n",
    "                asym = measure_asymmetry(ctinfo, ms5p, me3p, me5p, ms3p)\n",
    "                if usbps>=MINUS and ov3 in OVRANGE and lsbps>=MINLS and asym<=MAXASYM:\n",
    "                    strmodels[m].append((ctinfo,ctfile,i+1,lib))\n",
    "print len(strmodels)"
   ]
  },
  {
   "cell_type": "code",
   "execution_count": 51,
   "metadata": {},
   "outputs": [
    {
     "name": "stdout",
     "output_type": "stream",
     "text": [
      "373\n"
     ]
    }
   ],
   "source": [
    "RCUT = 5000\n",
    "cnt = 0\n",
    "for m in strmodels:\n",
    "    priorlibs = [lib for lib in sufflibs[m] if s3cnts.loc[m,['%s_+1m7'%lib,'%s_-1m7'%lib,'%s_dc'%lib]].mean()>=RCUT]\n",
    "    priorstrs = [st for st in strmodels[m] if st[3] in priorlibs]\n",
    "    if priorlibs and priorstrs:\n",
    "        strmodels[m] = priorstrs\n",
    "        cnt += 1\n",
    "print cnt"
   ]
  },
  {
   "cell_type": "code",
   "execution_count": 53,
   "metadata": {},
   "outputs": [
    {
     "name": "stdout",
     "output_type": "stream",
     "text": [
      "476\n"
     ]
    }
   ],
   "source": [
    "ovrange = OVRANGE\n",
    "minls = MINLS\n",
    "maxasym = MAXASYM\n",
    "REL_ASYM = 20\n",
    "REL_OVER = range(-4,6)\n",
    "\n",
    "while len(strmodels)<len(mirs) and minls>=0:\n",
    "    leftover = [m for m in mirs if m not in strmodels]\n",
    "    if ovrange==OVRANGE and minls==1:\n",
    "        ovrange = REL_OVER\n",
    "        minls = MINLS\n",
    "        maxasym = MAXASYM\n",
    "    elif maxasym==REL_ASYM:\n",
    "        minls -= 1\n",
    "    else:\n",
    "        maxasym += 2\n",
    "        \n",
    "    for m in leftover:\n",
    "        ms5p, me5p = get_mat_position(m,'5p')\n",
    "        ms3p, me3p = get_mat_position(m,'3p')\n",
    "        for lib in sufflibs[m]:\n",
    "            for param in PARAMS:\n",
    "                ctfile = '%s/%s_%s_m%s.ct'%(STR_DIR,m,lib,param)\n",
    "                for i,ctinfo in enumerate(split_ct(ctfile)):\n",
    "                    usbps = count_ustempairs(ctinfo, ms5p, me3p, me5p, ms3p)\n",
    "                    ov3 = measure_3overhang(ctinfo, ms5p, me3p)\n",
    "                    lsbps = count_lstempairs(ctinfo, ms5p, me3p)\n",
    "                    asym = measure_asymmetry(ctinfo, ms5p, me3p, me5p, ms3p)\n",
    "                    if usbps>=MINUS and ov3 in ovrange and lsbps>=minls and asym<=maxasym:\n",
    "                        strmodels[m].append((ctinfo,ctfile,i+1,lib))\n",
    "print len(strmodels)"
   ]
  },
  {
   "cell_type": "code",
   "execution_count": 56,
   "metadata": {},
   "outputs": [],
   "source": [
    "from scipy.stats import mannwhitneyu\n",
    "def get_auc(ctinfo, ctfile):\n",
    "    m,lib = ctfile.split('_')[:2]; m = m.split('/')[-1]\n",
    "    rtsfile = '%s/%s_%s.shape'%(RTS_DIR,m,lib)\n",
    "    rts = !cut -f2 $rtsfile\n",
    "    rts = map(float,rts)\n",
    "    rtssrna = [rt for rt,info in zip(rts,zip(*ctinfo)[1]) if info==0]\n",
    "    rtdsrna = [rt for rt,info in zip(rts,zip(*ctinfo)[1]) if info>0]\n",
    "    auc = mannwhitneyu(rtssrna,rtdsrna)[0]/len(rtssrna)/len(rtdsrna)\n",
    "    return max(auc,1-auc)"
   ]
  },
  {
   "cell_type": "code",
   "execution_count": 57,
   "metadata": {},
   "outputs": [],
   "source": [
    "folded = sorted(strmodels)\n",
    "ctinfos, ctfileinfos = {}, {}\n",
    "for m in folded:\n",
    "    ctinfo,ctfile,i,lib = max(strmodels[m],key=lambda x:get_auc(x[0],x[1]))\n",
    "    ctinfos[m] = ctinfo\n",
    "    ctfileinfos[m] = (ctfile,i,lib)"
   ]
  },
  {
   "cell_type": "code",
   "execution_count": 58,
   "metadata": {},
   "outputs": [],
   "source": [
    "# adjustment\n",
    "ctfileinfos['hsa-mir-19a'] = ('shape/2021-07-05/structures/hsa-mir-19a_rep2-2_m18.ct',1,'rep2-2')\n",
    "ctfileinfos['hsa-mir-99a'] = ('shape/2021-07-05/structures/hsa-mir-99a_rep2-1_m18.ct',1,'rep2-1')\n",
    "ctinfos['hsa-mir-19a'] = split_ct('shape/2021-07-05/structures/hsa-mir-19a_rep2-2_m18.ct')[0]\n",
    "ctinfos['hsa-mir-99a'] = split_ct('shape/2021-07-05/structures/hsa-mir-99a_rep2-1_m18.ct')[0]"
   ]
  },
  {
   "cell_type": "markdown",
   "metadata": {},
   "source": [
    "---\n",
    "### 3. Make the figures of the selected structure models"
   ]
  },
  {
   "cell_type": "code",
   "execution_count": 59,
   "metadata": {},
   "outputs": [],
   "source": [
    "def split_ct_all(ctfile):\n",
    "    infos = open(ctfile, 'rt').read()\n",
    "    rna = infos.split('\\n')[0].strip().split()[-1]\n",
    "    nstrt = infos.count(rna)\n",
    "    splitinfos = []\n",
    "    for i in range(nstrt):\n",
    "        lines = infos.split('\\n')[(1+len(constseqs[rna]))*i:(1+len(constseqs[rna]))*(i+1)]\n",
    "        splitinfos.append(lines)\n",
    "    return splitinfos\n",
    "\n",
    "def draw(ct, shape, ctnum, out, mir):\n",
    "    outf = !$pvclient --ct $ct --shape $shape --out $out --structures $ctnum\n",
    "    if not mir.startswith('hsa-'):\n",
    "        return\n",
    "    \n",
    "    s5, e5 = get_mat_position(mir,'5p')\n",
    "    s3, e3 = get_mat_position(mir,'3p')\n",
    "    boldpos = range(s5,e5+1)+range(s3,e3+1)\n",
    "    \n",
    "    eps = '%s.eps'%out\n",
    "    neweps = eps.replace('.eps','_b.eps')\n",
    "    newf = open(neweps, 'wt')\n",
    "    for l in open(eps, 'rt'):\n",
    "        if l.startswith('% nucleotide'):\n",
    "            pos = int(l.split()[2]) - 1 # since position starts from 2 in initial file\n",
    "            if pos in boldpos:\n",
    "                newf.write('/Helvetica-Bold findfont 12 scalefont setfont\\n')\n",
    "            else:\n",
    "                newf.write('/Helvetica findfont 10.5 scalefont setfont\\n')\n",
    "        elif l.find('hsa-') >= 0 and l.find('moveto') >= 0:\n",
    "            rna = l.split()[-2][:-1]\n",
    "            st = l.find('(') + 1\n",
    "            en = l.rfind(')')\n",
    "            l = l.replace(l[st:en], rna)\n",
    "            newf.write('/Helvetica-Bold findfont 6 scalefont setfont\\n')\n",
    "        newf.write(l.replace('(T)', '(U)'))\n",
    "    newf.close()\n",
    "    !rm -f $eps\n",
    "    return"
   ]
  },
  {
   "cell_type": "code",
   "execution_count": 60,
   "metadata": {},
   "outputs": [],
   "source": [
    "# if not path.exists(FIG_DIR):\n",
    "#     !mkdir $FIG_DIR\n",
    "\n",
    "# ctfiles = {}    \n",
    "# for m in folded:\n",
    "#     ctfile, ctnum, lib = ctfileinfos[m]\n",
    "#     shapefile = '%s/%s_%s.shape'%(RTS_DIR,m,lib)\n",
    "    \n",
    "#     select = '%s/%s'%(FIG_DIR,ctfile.split('/')[-1].replace('.ct','_%s.ct'%ctnum))\n",
    "#     ctlines = split_ct_all(ctfile)[ctnum-1]\n",
    "#     ctfiles[m] = select\n",
    "#     with open(select,'wt') as f:\n",
    "#         f.write('\\n'.join(ctlines))\n",
    "    \n",
    "#     eps = '%s/%s'%(FIG_DIR,m)\n",
    "#     if '%s_b.eps'%m in listdir(FIG_DIR):\n",
    "#         continue\n",
    "#     draw(ctfile, shapefile, ctnum, eps, m)"
   ]
  },
  {
   "cell_type": "markdown",
   "metadata": {},
   "source": [
    "---\n",
    "### 4. Determine the apical and basal junctions"
   ]
  },
  {
   "cell_type": "code",
   "execution_count": 61,
   "metadata": {},
   "outputs": [],
   "source": [
    "looppos = {}\n",
    "for m in folded:\n",
    "    ps, pe = get_pre_position(m)\n",
    "    stinfo = [ p for p in ctinfos[m] if p[1]>0 ] \n",
    "    ls = [ (x,y) for i,(x,y) in enumerate(stinfo[:-1]) \n",
    "           if stinfo[i+1]==(y,x) and x>ps and y<pe ]\n",
    "    if not ls: print m\n",
    "    looppos[m] = min(ls, key=lambda (x,y):abs(120-x-y))"
   ]
  },
  {
   "cell_type": "code",
   "execution_count": 62,
   "metadata": {},
   "outputs": [],
   "source": [
    "def get_sym_str(m):\n",
    "    loopst, loopen = looppos[m]\n",
    "    stems = [ (i,p) for i,p in ctinfos[m] if i<=loopst and loopen<=p ]\n",
    "    if len(stems)<2:\n",
    "        return 'F'*125\n",
    "    stemst, stemen = stems[0]\n",
    "    stems = stems + [ (p,i) for i,p in stems[::-1] ]\n",
    "    symst = ''\n",
    "    for (l5,l3),(u5,u3) in zip(stems[:-1],stems[1:]):\n",
    "        if l5==loopst: symst += 'M'+'L'*(loopen-loopst-1)\n",
    "        elif u5-l5==1: symst += 'M'\n",
    "        else:\n",
    "            symmet = min(u5-l5-1, l3-u3-1)\n",
    "            symst += 'M' + symmet*'S' + (u5-l5-1-symmet)*'A'# + symmet*'S'\n",
    "    symst = 'F'*(stemst-1) + symst + 'M' + 'F'*(125-stemen)\n",
    "    return symst\n",
    "\n",
    "def calculate_dist(pair1, pair2):\n",
    "    return min(abs(pair1[0]-pair2[0]), abs(pair1[1]-pair2[1]))\n",
    "\n",
    "def list_jcs(stems): # [ (1, 124), (2, 123), ... ]\n",
    "    jcpos = []\n",
    "    for uppair,lowpair in zip(stems[:-1],stems[1:]):\n",
    "        jcsize = abs(uppair[0]-lowpair[0])+abs(lowpair[1]-uppair[1])-2\n",
    "        if jcsize>=1:\n",
    "            jcpos.append(uppair)\n",
    "    jcpos.append(stems[-1])\n",
    "    return jcpos\n",
    "\n",
    "def list_all_junctions(m,option):\n",
    "    ps, pe = get_pre_position(m)\n",
    "    loopst, loopen = looppos[m]\n",
    "    stems = [ (i,p) for i,p in ctinfos[m] if i<=loopst and loopen<=p ]\n",
    "    stems = [ (i,p) for i,p in stems \n",
    "              if not any([i2 for i2,p2 in ctinfos[m] if i<i2<p2<ps or pe<i2<p2<p]) ]\n",
    "    ajcs = list_jcs(stems)\n",
    "    bjcs = list_jcs(stems[::-1])\n",
    "    if option=='basal':\n",
    "        return bjcs\n",
    "    return ajcs\n",
    "\n",
    "def get_delta_g(st5,st3,dg5,dg3):\n",
    "    if st5==[] or st3==[]:\n",
    "        return dg5+dg3\n",
    "    if (st5[0]==0 and st3[0]==0):\n",
    "        return [dg5[0]+dg3[0]]+get_delta_g(st5[1:],st3[1:],dg5[1:],dg3[1:])\n",
    "    if st5[0]==0:\n",
    "        return [dg5[0]]+get_delta_g(st5[1:],st3,dg5[1:],dg3)\n",
    "    if st3[0]==0:\n",
    "        return [dg3[0]]+get_delta_g(st5,st3[1:],dg5,dg3[1:])\n",
    "    return [dg5[0]+dg3[0]]+get_delta_g(st5[1:],st3[1:],dg5[1:],dg3[1:])"
   ]
  },
  {
   "cell_type": "code",
   "execution_count": 63,
   "metadata": {},
   "outputs": [
    {
     "name": "stdout",
     "output_type": "stream",
     "text": [
      "[(54, 70), (41, 78), (38, 81), (28, 92), (24, 96), (16, 104)]\n",
      "[(21, 99), (26, 94), (37, 83), (39, 80), (48, 71), (57, 67)]\n"
     ]
    }
   ],
   "source": [
    "print list_all_junctions('hsa-mir-16-1','basal')\n",
    "print list_all_junctions('hsa-mir-16-1','apical')"
   ]
  },
  {
   "cell_type": "code",
   "execution_count": 64,
   "metadata": {},
   "outputs": [],
   "source": [
    "WIN = 15\n",
    "lrange = range(2,1+WIN)\n",
    "lsets = [(i,j) for i in lrange for j in lrange]\n",
    "cols = ['mir','dist']+range(-WIN,WIN)"
   ]
  },
  {
   "cell_type": "code",
   "execution_count": 65,
   "metadata": {},
   "outputs": [
    {
     "data": {
      "text/html": [
       "<div>\n",
       "<style scoped>\n",
       "    .dataframe tbody tr th:only-of-type {\n",
       "        vertical-align: middle;\n",
       "    }\n",
       "\n",
       "    .dataframe tbody tr th {\n",
       "        vertical-align: top;\n",
       "    }\n",
       "\n",
       "    .dataframe thead th {\n",
       "        text-align: right;\n",
       "    }\n",
       "</style>\n",
       "<table border=\"1\" class=\"dataframe\">\n",
       "  <thead>\n",
       "    <tr style=\"text-align: right;\">\n",
       "      <th></th>\n",
       "      <th>1</th>\n",
       "      <th>2</th>\n",
       "      <th>3</th>\n",
       "      <th>4</th>\n",
       "      <th>5</th>\n",
       "      <th>6</th>\n",
       "      <th>7</th>\n",
       "      <th>8</th>\n",
       "      <th>9</th>\n",
       "      <th>10</th>\n",
       "    </tr>\n",
       "  </thead>\n",
       "  <tbody>\n",
       "    <tr>\n",
       "      <th>hsa-let-7a-1</th>\n",
       "      <td>0.134258</td>\n",
       "      <td>0</td>\n",
       "      <td>0.0821034</td>\n",
       "      <td>0</td>\n",
       "      <td>0.233454</td>\n",
       "      <td>0.440442</td>\n",
       "      <td>0.241292</td>\n",
       "      <td>1.09485</td>\n",
       "      <td>0.0335838</td>\n",
       "      <td>0.260488</td>\n",
       "    </tr>\n",
       "    <tr>\n",
       "      <th>hsa-let-7a-2</th>\n",
       "      <td>0</td>\n",
       "      <td>0.184993</td>\n",
       "      <td>0</td>\n",
       "      <td>0.19736</td>\n",
       "      <td>0</td>\n",
       "      <td>0</td>\n",
       "      <td>0.735154</td>\n",
       "      <td>0.242866</td>\n",
       "      <td>0.0719598</td>\n",
       "      <td>0.793133</td>\n",
       "    </tr>\n",
       "    <tr>\n",
       "      <th>hsa-let-7a-3</th>\n",
       "      <td>0</td>\n",
       "      <td>0</td>\n",
       "      <td>0</td>\n",
       "      <td>0.133857</td>\n",
       "      <td>0.201411</td>\n",
       "      <td>0.132156</td>\n",
       "      <td>0.0767123</td>\n",
       "      <td>0</td>\n",
       "      <td>0.504929</td>\n",
       "      <td>0.58487</td>\n",
       "    </tr>\n",
       "  </tbody>\n",
       "</table>\n",
       "</div>"
      ],
      "text/plain": [
       "                    1         2          3         4         5         6   \\\n",
       "hsa-let-7a-1  0.134258         0  0.0821034         0  0.233454  0.440442   \n",
       "hsa-let-7a-2         0  0.184993          0   0.19736         0         0   \n",
       "hsa-let-7a-3         0         0          0  0.133857  0.201411  0.132156   \n",
       "\n",
       "                     7         8          9         10  \n",
       "hsa-let-7a-1   0.241292   1.09485  0.0335838  0.260488  \n",
       "hsa-let-7a-2   0.735154  0.242866  0.0719598  0.793133  \n",
       "hsa-let-7a-3  0.0767123         0   0.504929   0.58487  "
      ]
     },
     "execution_count": 65,
     "metadata": {},
     "output_type": "execute_result"
    }
   ],
   "source": [
    "rtstbl = pd.DataFrame(index=sorted(folded), columns=range(1,126))\n",
    "for m in folded:\n",
    "    lib = ctfileinfos[m][-1]\n",
    "    rtsfile = '%s/%s_%s.shape'%(RTS_DIR,m,lib)\n",
    "    rts = !cut -f2 $rtsfile\n",
    "    rtstbl.loc[m] = dict(zip(range(1,126),map(float,rts)))\n",
    "rtstbl.iloc[:3,:10]"
   ]
  },
  {
   "cell_type": "code",
   "execution_count": 66,
   "metadata": {},
   "outputs": [],
   "source": [
    "M = 1.8\n",
    "B = -.6\n",
    "delgtbl = np.log(rtstbl.astype(float)+1)*M+B"
   ]
  },
  {
   "cell_type": "code",
   "execution_count": 68,
   "metadata": {
    "scrolled": true
   },
   "outputs": [],
   "source": [
    "delgbj, delgaj = pd.DataFrame(columns=cols), pd.DataFrame(columns=cols)\n",
    "for m in folded:\n",
    "    ps, pe = get_pre_position(m)\n",
    "    symstr = get_sym_str(m)\n",
    "    ctinfod = {i:0 if (0<i<60 and 0<p<60) or (60<i and 60<p) else p for i,p in ctinfos[m]}\n",
    "    for x5,x3 in list_all_junctions(m,'basal'):\n",
    "        if x5==1 or x3==125:\n",
    "            continue\n",
    "        if x5<ps: \n",
    "            dist = -count_len(symstr[x5-1:ps-1])\n",
    "        else:\n",
    "            dist = count_len(symstr[ps-1:x5])\n",
    "        \n",
    "        st5 = [ctinfod[x] if x in ctinfod else 0 for x in range(x5-15,x5)][::-1]\n",
    "        st3 = [ctinfod[x] if x in ctinfod else 0 for x in range(x3+1,x3+16)]\n",
    "        dg5 = delgtbl.loc[m,range(x5-15,x5)].copy().fillna(0).tolist()[::-1]\n",
    "        dg3 = delgtbl.loc[m,range(x3+1,x3+16)].copy().fillna(0).tolist()\n",
    "        dgs = get_delta_g(st5,st3,dg5,dg3)[:15]\n",
    "        st5 = [ctinfod[x] if x in ctinfod else 0 for x in range(x5,x5+15)]\n",
    "        st3 = [ctinfod[x] if x in ctinfod else 0 for x in range(x3-14,x3+1)][::-1]\n",
    "        dg5 = delgtbl.loc[m,range(x5,x5+15)].copy().fillna(0).tolist()\n",
    "        dg3 = delgtbl.loc[m,range(x3-14,x3+1)].copy().fillna(0).tolist()[::-1]\n",
    "        dgs = dgs[::-1]+get_delta_g(st5,st3,dg5,dg3)[:15]\n",
    "        delgbj = delgbj.append(pd.Series(dict(zip(cols,[m,dist]+dgs))),ignore_index=True)\n",
    "        \n",
    "    for x5,x3 in list_all_junctions(m,'apical'):\n",
    "        if x5<ps: \n",
    "            dist = -count_len(symstr[x5-1:ps-1])\n",
    "        else:\n",
    "            dist = count_len(symstr[ps-1:x5])\n",
    "        mid = (x5+x3)//2\n",
    "        st5 = [ctinfod[x] if x in ctinfod else 0 for x in range(x5-14,x5+1)][::-1]\n",
    "        st3 = [ctinfod[x] if x in ctinfod else 0 for x in range(x3,x+15)]\n",
    "        dg5 = delgtbl.loc[m,range(x5-14,x5+1)].copy().fillna(0).tolist()[::-1]\n",
    "        dg3 = delgtbl.loc[m,range(x3,x3+15)].copy().fillna(0).tolist()\n",
    "        dgs = get_delta_g(st5,st3,dg5,dg3)[:15]\n",
    "        st5 = [ctinfod[x] for x in range(x5+1,min(x5+16,mid))]\n",
    "        st3 = [ctinfod[x] for x in range(max(mid,x3-15),x3)][::-1]\n",
    "        dg5 = delgtbl.loc[m,range(x5+1,min(x5+16,mid))].copy().fillna(0).tolist()\n",
    "        dg3 = delgtbl.loc[m,range(max(mid,x3-15),x3)].copy().fillna(0).tolist()[::-1]\n",
    "        dgs = dgs[::-1]+get_delta_g(st5,st3,dg5,dg3)[:15]\n",
    "        delgaj = delgaj.append(pd.Series(dict(zip(cols,[m,dist]+dgs))),ignore_index=True)\n",
    "delgbj = delgbj.fillna(0)\n",
    "delgaj = delgaj.fillna(0)"
   ]
  },
  {
   "cell_type": "code",
   "execution_count": 69,
   "metadata": {},
   "outputs": [],
   "source": [
    "coeffsbj = pd.DataFrame(columns=range(-WIN,WIN))\n",
    "coeffsaj = pd.DataFrame(columns=range(-WIN,WIN))\n",
    "for l1 in range(1,1+WIN):\n",
    "    for l2 in range(1,1+WIN):\n",
    "        coeffbj = [0]*(WIN-l1)+[1]*l1+[-1]*l2+[0]*(WIN-l2)\n",
    "        coeffaj = [0]*(WIN-l1)+[-1]*l1+[1]*l2+[0]*(WIN-l2)\n",
    "        labelbj = 'L1=%s, L2=%s'%(l1,l2)\n",
    "        labelaj = 'L3=%s, L4=%s'%(l1,l2)\n",
    "        coeffsbj.loc[labelbj] = pd.Series(dict(zip(range(-WIN,WIN),coeffbj)))\n",
    "        coeffsaj.loc[labelaj] = pd.Series(dict(zip(range(-WIN,WIN),coeffaj)))"
   ]
  },
  {
   "cell_type": "code",
   "execution_count": 70,
   "metadata": {
    "scrolled": true
   },
   "outputs": [],
   "source": [
    "delgbj = delgbj.join(delgbj[range(-WIN,WIN)].dot(coeffsbj.T))\n",
    "delgaj = delgaj.join(delgaj[range(-WIN,WIN)].dot(coeffsaj.T))"
   ]
  },
  {
   "cell_type": "code",
   "execution_count": 71,
   "metadata": {},
   "outputs": [],
   "source": [
    "L1, L2, L3, L4 = 3,3,5,5"
   ]
  },
  {
   "cell_type": "code",
   "execution_count": 72,
   "metadata": {},
   "outputs": [],
   "source": [
    "jcpostbl = pd.DataFrame()\n",
    "for m in folded:\n",
    "    ps, pe = get_pre_position(m)\n",
    "    symstr = get_sym_str(m)\n",
    "    for x5,x3 in list_all_junctions(m,'basal'):\n",
    "        dist = -count_len(symstr[x5-1:ps-1])\n",
    "        jcpostbl.loc[m,dist+int(x5>=ps)] = '%s,%s'%(x5,x3)\n",
    "\n",
    "    for y5,y3 in list_all_junctions(m,'apical'):\n",
    "        if y5>ps: \n",
    "            dist = count_len(symstr[ps-1:y5-1])\n",
    "            jcpostbl.loc[m,dist+1] = '%s,%s'%(y5,y3)\n",
    "jcpostbl = jcpostbl[sorted(jcpostbl.columns)]\n",
    "\n",
    "bjtbl = pd.pivot_table(delgbj, index=['mir'], columns=['dist'],\n",
    "                       values='L1=%s, L2=%s'%(L1,L2), aggfunc=np.sum)\n",
    "ajtbl = pd.pivot_table(delgaj, index=['mir'], columns=['dist'],\n",
    "                       values='L3=%s, L4=%s'%(L3,L4), aggfunc=np.sum)"
   ]
  },
  {
   "cell_type": "code",
   "execution_count": 73,
   "metadata": {},
   "outputs": [],
   "source": [
    "LS = range(-15,-10)\n",
    "US = range(19,26)\n",
    "TS = range(31,39)\n",
    "flag = 0\n",
    "jcpairs = {}\n",
    "while len(jcpairs)<len(folded):\n",
    "    ms = [m for m in folded if m not in jcpairs]\n",
    "    for m in ms:\n",
    "        bjs = delgbj[delgbj['mir']==m].set_index('dist')['L1=%s, L2=%s'%(L1,L2)].to_dict()\n",
    "        ajs = delgaj[delgaj['mir']==m].set_index('dist')['L3=%s, L4=%s'%(L3,L4)].to_dict()\n",
    "        pairs = [(b,a) for b in bjs for a in ajs if a-b in TS and b in LS and a in US]     \n",
    "        if pairs:\n",
    "            jcpairs[m] = max(pairs,key=lambda (x,y):bjs[x]+ajs[y])\n",
    "    if flag%3==1:\n",
    "        TS = range(min(TS)-1,max(TS)+2); flag+=1\n",
    "    elif flag%3==2:\n",
    "        US = range(min(US)-1,max(US)+2); flag+=1\n",
    "    else:\n",
    "        LS = range(min(LS)-1,max(LS)+2); flag+=1"
   ]
  },
  {
   "cell_type": "code",
   "execution_count": 74,
   "metadata": {},
   "outputs": [],
   "source": [
    "jcpostbl.loc['hsa-mir-656',-14] = '19,107'\n",
    "jcpairs['hsa-mir-18a'] = (-13,22)\n",
    "jcpairs['hsa-mir-18b'] = (-8,20)\n",
    "jcpairs['hsa-mir-19b-2'] = (-13,21)\n",
    "jcpairs['hsa-mir-20b'] = (-12,19)\n",
    "jcpairs['hsa-mir-24-2'] = (-13,22)\n",
    "jcpairs['hsa-mir-26a-1'] = (-14,22)\n",
    "jcpairs['hsa-mir-27b'] = (-13,21)\n",
    "jcpairs['hsa-mir-29a'] = (-14,23)\n",
    "jcpairs['hsa-mir-32'] = (-14,22)\n",
    "jcpairs['hsa-mir-93'] = (-13,21)\n",
    "jcpairs['hsa-mir-105-2'] = (-13,22)\n",
    "jcpairs['hsa-mir-106a'] = (-13,22)\n",
    "jcpairs['hsa-mir-122'] = (-13,22)\n",
    "jcpairs['hsa-mir-126'] = (-7,19)\n",
    "jcpairs['hsa-mir-129-1'] = (-13,23)\n",
    "jcpairs['hsa-mir-130b'] = (-12,19)\n",
    "jcpairs['hsa-mir-134'] = (-10,19)\n",
    "jcpairs['hsa-mir-136'] = (-16,22)\n",
    "jcpairs['hsa-mir-143'] = (-11,21)\n",
    "jcpairs['hsa-mir-144'] = (-13,19)\n",
    "jcpairs['hsa-mir-146b'] = (-10,19)\n",
    "jcpairs['hsa-mir-148a'] = (-13,20)\n",
    "jcpairs['hsa-mir-151a'] = (-9,21)\n",
    "jcpairs['hsa-mir-153-1'] = (-13,22)\n",
    "jcpairs['hsa-mir-190b'] = (-10,21)\n",
    "jcpairs['hsa-mir-195'] = (-9,22)\n",
    "jcpairs['hsa-mir-199a-1'] = (-10,22)\n",
    "jcpairs['hsa-mir-199a-2'] = (-14,23)\n",
    "jcpairs['hsa-mir-200b'] = (-12,21)\n",
    "jcpairs['hsa-mir-200c'] = (-13,23)\n",
    "jcpairs['hsa-mir-202'] = (-15,24)\n",
    "jcpairs['hsa-mir-218-2'] = (-8,21)\n",
    "jcpairs['hsa-mir-221'] = (-14,22)\n",
    "jcpairs['hsa-mir-302c'] = (-2,21)\n",
    "jcpairs['hsa-mir-302d'] = (-11,20)\n",
    "jcpairs['hsa-mir-325'] = (-14,19)\n",
    "jcpairs['hsa-mir-335'] = (-10,26)\n",
    "jcpairs['hsa-mir-337'] = (-15,22)\n",
    "jcpairs['hsa-mir-374b'] = (-10,23)\n",
    "jcpairs['hsa-mir-372'] = (-12,21)\n",
    "jcpairs['hsa-mir-376a-2'] = (-15,21)\n",
    "jcpairs['hsa-mir-376b'] = (-15,21)\n",
    "jcpairs['hsa-mir-377'] = (-14,22)\n",
    "jcpairs['hsa-mir-379'] = (-14,21)\n",
    "jcpairs['hsa-mir-410'] = (-12,21)\n",
    "jcpairs['hsa-mir-433'] = (-12,21)\n",
    "jcpairs['hsa-mir-452'] = (-13,23)\n",
    "jcpairs['hsa-mir-486-1'] = (-14,21)\n",
    "jcpairs['hsa-mir-503'] = (-13,22)\n",
    "jcpairs['hsa-mir-513a-1'] = (-13,24)\n",
    "jcpairs['hsa-mir-518a-1'] = (-13,21)\n",
    "jcpairs['hsa-mir-518a-2'] = (-14,21)\n",
    "jcpairs['hsa-mir-518b'] = (-13,22)\n",
    "jcpairs['hsa-mir-518d'] = (-9,23)\n",
    "jcpairs['hsa-mir-519d'] = (-14,25)\n",
    "jcpairs['hsa-mir-520a'] = (-14,21)\n",
    "jcpairs['hsa-mir-520f'] = (-14,19)\n",
    "jcpairs['hsa-mir-525'] = (-14,21)\n",
    "jcpairs['hsa-mir-526a-1'] = (-6,21)\n",
    "jcpairs['hsa-mir-526b'] = (-13,21)\n",
    "jcpairs['hsa-mir-541'] = (-15,24)\n",
    "jcpairs['hsa-mir-589'] = (-13,26)\n",
    "jcpairs['hsa-mir-641'] = (-14,24)\n",
    "jcpairs['hsa-mir-656'] = (-14,21)\n",
    "jcpairs['hsa-mir-708'] = (-13,21)\n",
    "jcpairs['hsa-mir-758'] = (-11,22)\n",
    "jcpairs['hsa-mir-766'] = (-12,21)\n",
    "jcpairs['hsa-mir-770'] = (-11,22)\n",
    "jcpairs['hsa-mir-1185-1'] = (-14,21)\n",
    "jcpairs['hsa-mir-1185-2'] = (-14,21)\n",
    "jcpairs['hsa-mir-1245b'] = (-17,19)\n",
    "jcpairs['hsa-mir-1287'] = (-13,20)\n",
    "jcpairs['hsa-mir-1908'] = (-14,18)\n",
    "jcpairs['hsa-mir-2278'] = (-8,22)\n",
    "jcpairs['hsa-mir-2355'] = (-12,26)\n",
    "jcpairs['hsa-mir-2467'] = (-15,22)\n",
    "jcpairs['hsa-mir-3173'] = (-5,24)\n",
    "jcpairs['hsa-mir-3186'] = (-10,22)\n",
    "jcpairs['hsa-mir-3612'] = (-9,24)\n",
    "jcpairs['hsa-mir-3681'] = (-9,23)\n",
    "jcpairs['hsa-mir-3918'] = (-16,23)\n",
    "jcpairs['hsa-mir-3944'] = (-13,22)\n",
    "jcpairs['hsa-mir-4664'] = (-6,20)\n",
    "jcpairs['hsa-mir-4677'] = (-15,22)\n",
    "jcpairs['hsa-mir-510'] = (-16,22)"
   ]
  },
  {
   "cell_type": "markdown",
   "metadata": {},
   "source": [
    "---\n",
    "### 5. Get features"
   ]
  },
  {
   "cell_type": "code",
   "execution_count": 76,
   "metadata": {},
   "outputs": [
    {
     "data": {
      "text/html": [
       "<div>\n",
       "<style scoped>\n",
       "    .dataframe tbody tr th:only-of-type {\n",
       "        vertical-align: middle;\n",
       "    }\n",
       "\n",
       "    .dataframe tbody tr th {\n",
       "        vertical-align: top;\n",
       "    }\n",
       "\n",
       "    .dataframe thead th {\n",
       "        text-align: right;\n",
       "    }\n",
       "</style>\n",
       "<table border=\"1\" class=\"dataframe\">\n",
       "  <thead>\n",
       "    <tr style=\"text-align: right;\">\n",
       "      <th></th>\n",
       "      <th>Cleavage Efficiency</th>\n",
       "      <th>Cleavage Homogeneity</th>\n",
       "      <th>5' miRBase site</th>\n",
       "      <th>3' miRBase site</th>\n",
       "      <th>5' cleavage site</th>\n",
       "      <th>3' cleavage site</th>\n",
       "      <th>5' alternative site</th>\n",
       "      <th>3' alternative site</th>\n",
       "      <th>Fraction of alternative site</th>\n",
       "      <th>5p-nick processing ratio</th>\n",
       "      <th>3p-nick processing ratio</th>\n",
       "      <th>Inverse processing ratio</th>\n",
       "    </tr>\n",
       "    <tr>\n",
       "      <th>Pri-miRNA</th>\n",
       "      <th></th>\n",
       "      <th></th>\n",
       "      <th></th>\n",
       "      <th></th>\n",
       "      <th></th>\n",
       "      <th></th>\n",
       "      <th></th>\n",
       "      <th></th>\n",
       "      <th></th>\n",
       "      <th></th>\n",
       "      <th></th>\n",
       "      <th></th>\n",
       "    </tr>\n",
       "  </thead>\n",
       "  <tbody>\n",
       "    <tr>\n",
       "      <th>hsa-let-7a-1</th>\n",
       "      <td>4.051311</td>\n",
       "      <td>0.882549</td>\n",
       "      <td>25</td>\n",
       "      <td>96</td>\n",
       "      <td>25.0</td>\n",
       "      <td>96.0</td>\n",
       "      <td>24.0</td>\n",
       "      <td>97.0</td>\n",
       "      <td>0.017713</td>\n",
       "      <td>0.004202</td>\n",
       "      <td>0.010504</td>\n",
       "      <td>0.008403</td>\n",
       "    </tr>\n",
       "  </tbody>\n",
       "</table>\n",
       "</div>"
      ],
      "text/plain": [
       "              Cleavage Efficiency  Cleavage Homogeneity  5' miRBase site  \\\n",
       "Pri-miRNA                                                                  \n",
       "hsa-let-7a-1             4.051311              0.882549               25   \n",
       "\n",
       "              3' miRBase site  5' cleavage site  3' cleavage site  \\\n",
       "Pri-miRNA                                                           \n",
       "hsa-let-7a-1               96              25.0              96.0   \n",
       "\n",
       "              5' alternative site  3' alternative site  \\\n",
       "Pri-miRNA                                                \n",
       "hsa-let-7a-1                 24.0                 97.0   \n",
       "\n",
       "              Fraction of alternative site  5p-nick processing ratio  \\\n",
       "Pri-miRNA                                                              \n",
       "hsa-let-7a-1                      0.017713                  0.004202   \n",
       "\n",
       "              3p-nick processing ratio  Inverse processing ratio  \n",
       "Pri-miRNA                                                         \n",
       "hsa-let-7a-1                  0.010504                  0.008403  "
      ]
     },
     "execution_count": 76,
     "metadata": {},
     "output_type": "execute_result"
    }
   ],
   "source": [
    "kims3file = 'publication/Kim2021_TableS3.xlsx'\n",
    "kims3 = pd.ExcelFile(kims3file).parse('s3-2. IVP results',header=3,index_col=0)\n",
    "effs = dict(kims3['Cleavage Efficiency'])\n",
    "homs = dict(kims3['Cleavage Homogeneity'])\n",
    "kims3.head(1)"
   ]
  },
  {
   "cell_type": "code",
   "execution_count": 139,
   "metadata": {},
   "outputs": [
    {
     "data": {
      "text/html": [
       "<div>\n",
       "<style scoped>\n",
       "    .dataframe tbody tr th:only-of-type {\n",
       "        vertical-align: middle;\n",
       "    }\n",
       "\n",
       "    .dataframe tbody tr th {\n",
       "        vertical-align: top;\n",
       "    }\n",
       "\n",
       "    .dataframe thead th {\n",
       "        text-align: right;\n",
       "    }\n",
       "</style>\n",
       "<table border=\"1\" class=\"dataframe\">\n",
       "  <thead>\n",
       "    <tr style=\"text-align: right;\">\n",
       "      <th></th>\n",
       "      <th>Cleavage Efficiency</th>\n",
       "      <th>Cleavage Homogeneity</th>\n",
       "      <th>5' miRBase site</th>\n",
       "      <th>3' miRBase site</th>\n",
       "      <th>5' cleavage site</th>\n",
       "      <th>3' cleavage site</th>\n",
       "      <th>5' alternative site</th>\n",
       "      <th>3' alternative site</th>\n",
       "      <th>Fraction of alternative site</th>\n",
       "      <th>5p-nick processing ratio</th>\n",
       "      <th>3p-nick processing ratio</th>\n",
       "      <th>Inverse processing ratio</th>\n",
       "    </tr>\n",
       "    <tr>\n",
       "      <th>Pri-miRNA</th>\n",
       "      <th></th>\n",
       "      <th></th>\n",
       "      <th></th>\n",
       "      <th></th>\n",
       "      <th></th>\n",
       "      <th></th>\n",
       "      <th></th>\n",
       "      <th></th>\n",
       "      <th></th>\n",
       "      <th></th>\n",
       "      <th></th>\n",
       "      <th></th>\n",
       "    </tr>\n",
       "  </thead>\n",
       "  <tbody>\n",
       "    <tr>\n",
       "      <th>hsa-let-7a-1</th>\n",
       "      <td>6.380507</td>\n",
       "      <td>0.870736</td>\n",
       "      <td>25</td>\n",
       "      <td>96</td>\n",
       "      <td>25.0</td>\n",
       "      <td>96.0</td>\n",
       "      <td>NaN</td>\n",
       "      <td>NaN</td>\n",
       "      <td>NaN</td>\n",
       "      <td>0.001255</td>\n",
       "      <td>0.027604</td>\n",
       "      <td>0.007528</td>\n",
       "    </tr>\n",
       "  </tbody>\n",
       "</table>\n",
       "</div>"
      ],
      "text/plain": [
       "              Cleavage Efficiency  Cleavage Homogeneity  5' miRBase site  \\\n",
       "Pri-miRNA                                                                  \n",
       "hsa-let-7a-1             6.380507              0.870736               25   \n",
       "\n",
       "              3' miRBase site  5' cleavage site  3' cleavage site  \\\n",
       "Pri-miRNA                                                           \n",
       "hsa-let-7a-1               96              25.0              96.0   \n",
       "\n",
       "              5' alternative site  3' alternative site  \\\n",
       "Pri-miRNA                                                \n",
       "hsa-let-7a-1                  NaN                  NaN   \n",
       "\n",
       "              Fraction of alternative site  5p-nick processing ratio  \\\n",
       "Pri-miRNA                                                              \n",
       "hsa-let-7a-1                           NaN                  0.001255   \n",
       "\n",
       "              3p-nick processing ratio  Inverse processing ratio  \n",
       "Pri-miRNA                                                         \n",
       "hsa-let-7a-1                  0.027604                  0.007528  "
      ]
     },
     "execution_count": 139,
     "metadata": {},
     "output_type": "execute_result"
    }
   ],
   "source": [
    "kims6file = 'publication/Kim2021_TableS6.xlsx'\n",
    "kims6 = pd.ExcelFile(kims6file).parse('s6-2. IVP results',header=3,index_col=0)\n",
    "effssr = dict(kims6['Cleavage Efficiency'])\n",
    "homssr = dict(kims6['Cleavage Homogeneity'])\n",
    "kims6.head(1)"
   ]
  },
  {
   "cell_type": "code",
   "execution_count": 77,
   "metadata": {},
   "outputs": [
    {
     "name": "stdout",
     "output_type": "stream",
     "text": [
      ">> TS\n",
      "33\t121\t0.0109\t0.0014\n",
      "34\t76\t0.5760\t0.9187\n",
      "35\t105\t0.9991\t0.9991\n",
      "36\t89\t0.3058\t0.2578\n",
      "37\t85\t0.0504\t0.0043\n",
      ">> US\n",
      "20\t54\t0.2762\t0.3936\n",
      "21\t120\t0.5545\t0.9488\n",
      "22\t155\t0.9995\t0.9995\n",
      "23\t85\t0.2277\t0.2159\n",
      "24\t62\t0.0672\t0.1034\n",
      ">> LS\n",
      "11\t83\t0.0001\t0.0000\n",
      "12\t86\t0.0090\t0.0090\n",
      "13\t157\t0.9995\t0.9995\n",
      "14\t97\t0.6885\t0.0339\n",
      "15\t53\t0.0006\t0.0049\n"
     ]
    }
   ],
   "source": [
    "print '>> TS'\n",
    "bins = [(20,33),(34,34),(35,35),(36,36),(37,50)]\n",
    "msl = [[m for m in folded if lb<=jcpairs[m][1]-jcpairs[m][0]<=ub] for lb,ub in bins]\n",
    "pes = [[effs[m] for m in ms] for ms in msl]\n",
    "phs = [[homs[m] for m in ms] for ms in msl]\n",
    "labels1 = [33,34,35,36,37]\n",
    "for lab,pe,ph in zip(labels1,pes,phs):\n",
    "    print '%s\\t%s\\t%.4f\\t%.4f'%(lab,len(pe),mannwhitneyu(pes[2],pe)[1]*2,\n",
    "                             mannwhitneyu(phs[2],ph)[1]*2)\n",
    "\n",
    "print '>> US'\n",
    "bins = [(-5,20),(21,21),(22,22),(23,23),(24,40)]\n",
    "msl = [[m for m in folded if lb<=jcpairs[m][1]<=ub] for lb,ub in bins]\n",
    "pes = [[effs[m] for m in ms] for ms in msl]\n",
    "phs = [[homs[m] for m in ms] for ms in msl]\n",
    "labels1 = [20,21,22,23,24]\n",
    "for lab,pe,ph in zip(labels1,pes,phs):\n",
    "    print '%s\\t%s\\t%.4f\\t%.4f'%(lab,len(pe),mannwhitneyu(pes[2],pe)[1]*2,\n",
    "                             mannwhitneyu(phs[2],ph)[1]*2)\n",
    "\n",
    "print '>> LS'\n",
    "bins = [(-5,11),(12,12),(13,13),(14,14),(15,30)]\n",
    "msl = [[m for m in folded if lb<=-jcpairs[m][0]<=ub] for lb,ub in bins]\n",
    "pes = [[effs[m] for m in ms] for ms in msl]\n",
    "phs = [[homs[m] for m in ms] for ms in msl]\n",
    "labels1 = [11,12,13,14,15]\n",
    "for lab,pe,ph in zip(labels1,pes,phs):\n",
    "    print '%s\\t%s\\t%.4f\\t%.4f'%(lab,len(pe),mannwhitneyu(pes[2],pe)[1]*2,\n",
    "                             mannwhitneyu(phs[2],ph)[1]*2)"
   ]
  },
  {
   "cell_type": "code",
   "execution_count": 102,
   "metadata": {},
   "outputs": [],
   "source": [
    "LENGTH = 125\n",
    "BJWIN = 8\n",
    "shannon_ens = defaultdict(list)\n",
    "for m in folded:\n",
    "    shens = s3shan.loc[m]\n",
    "    bj,aj = jcpairs[m]\n",
    "    bj5,bj3 = map(int,jcpostbl.loc[m,bj].split(','))\n",
    "    aj5,aj3 = map(int,jcpostbl.loc[m,aj].split(','))    \n",
    "    ctinfo = ctinfos[m]\n",
    "    shannon_ens['stem'].extend([ shens[p] for p in range(bj5,aj5+1)+range(aj3,bj3+1) if ctinfo[p]!=0 ])\n",
    "    shannon_ens['loop'].extend([ shens[p] for p in range(aj5+1,aj3) if ctinfo[p]!=0 ])\n",
    "    shannon_ens['basal'].extend([ shens[p] for p in range(max(1,bj5-BJWIN),bj5)+range(bj3+1,min(125,bj3+1+BJWIN))\n",
    "                                  if ctinfo[p]!=0 ])"
   ]
  },
  {
   "cell_type": "code",
   "execution_count": 106,
   "metadata": {},
   "outputs": [
    {
     "name": "stdout",
     "output_type": "stream",
     "text": [
      "0.2 0.061 0.164\n"
     ]
    }
   ],
   "source": [
    "xs = np.arange(0,.61,.02)\n",
    "bins = np.arange(0,.63,.02)-.01\n",
    "ys1 = np.histogram(shannon_ens['stem'],bins=bins)[0]\n",
    "ys2 = np.histogram(shannon_ens['loop'],bins=bins)[0]\n",
    "ys3 = np.histogram(shannon_ens['basal'],bins=bins)[0]\n",
    "cut = np.percentile(shannon_ens['stem'],95)\n",
    "frac_loop = len([se for se in shannon_ens['loop'] if se>=cut])/len(shannon_ens['loop'])\n",
    "frac_basal = len([se for se in shannon_ens['basal'] if se>=cut])/len(shannon_ens['basal'])\n",
    "print round(cut,3), round(frac_loop,3), round(frac_basal,3)"
   ]
  },
  {
   "cell_type": "code",
   "execution_count": 107,
   "metadata": {},
   "outputs": [],
   "source": [
    "bs5s, bs3s = {}, {}\n",
    "bes = {}\n",
    "for m in folded:\n",
    "    shens = s3shan.loc[m]\n",
    "    bj,aj = jcpairs[m]\n",
    "    bj5,bj3 = map(int,jcpostbl.loc[m,bj].split(','))\n",
    "    aj5,aj3 = map(int,jcpostbl.loc[m,aj].split(','))    \n",
    "    ctinfo = ctinfos[m]\n",
    "    \n",
    "    outpairs = [(i,p) for i,p in ctinfo if p>0 and not (i in range(bj5,bj3+1) or p in range(bj5,bj3+1))]\n",
    "    defpairs = [(i,p) for i,p in outpairs if shens[i]<cut and shens[p]<cut]\n",
    "    be5 = max([i for i,p in defpairs if i<bj5]+[0])\n",
    "    be3 = min([i for i,p in defpairs if i>bj3]+[126])\n",
    "    bes[m] = (be5,be3)\n",
    "    bs5s[m] = bj5-be5-1\n",
    "    bs3s[m] = be3-bj3-1"
   ]
  },
  {
   "cell_type": "code",
   "execution_count": 113,
   "metadata": {},
   "outputs": [],
   "source": [
    "mismatch = {}\n",
    "bulged5, bulged3 = {}, {}\n",
    "mmtbl = pd.DataFrame(index=folded,columns=range(-15,25))\n",
    "bg5tbl = pd.DataFrame(index=folded,columns=range(-15,25))\n",
    "bg3tbl = pd.DataFrame(index=folded,columns=range(-15,25))\n",
    "for m in folded:\n",
    "    ps, pe = get_pre_position(m)\n",
    "    symstr = get_sym_str(m)\n",
    "    bj,aj = jcpairs[m]\n",
    "    bj5,bj3 = map(int,jcpostbl.loc[m,bj].split(','))\n",
    "    aj5,aj3 = map(int,jcpostbl.loc[m,aj].split(','))\n",
    "    stem5sts = symstr[bj5-1:aj5]\n",
    "    mismatch[m] = stem5sts.count('S')\n",
    "    bulged5[m] = symstr[bj5-1:aj5].count('A')\n",
    "    bulged3[m] = symstr[aj3-1:bj3].count('A')\n",
    "    \n",
    "    usstr = symstr[ps-1:aj5].replace('A','')+symstr[aj5:aj5+2]\n",
    "    lsstr = symstr[bj5-3:bj5-1]+symstr[bj5-1:ps-1].replace('A','')\n",
    "    usstr = [0 if s=='M' else 1 for s in usstr]\n",
    "    lsstr = [0 if s=='M' else 1 for s in lsstr]\n",
    "    strd = dict(zip(range(25),usstr)); strd.update(dict(zip(range(-1,-16,-1),lsstr[::-1])))\n",
    "    mmtbl.loc[m] = pd.Series(strd)\n",
    "    \n",
    "    lstem = abs(bj)\n",
    "    str5 = re.sub('[A]+','A',symstr[bj5-1:aj5])\n",
    "    str3 = re.sub('[A]+','A',symstr[aj3-1:bj3][::-1])\n",
    "    bgd5 = {r.start()-lstem-str5[:r.start()].count('A'):1 for r in re.finditer('MAM',str5)}\n",
    "    bgd3 = {r.start()-lstem-str3[:r.start()].count('A'):1 for r in re.finditer('MAM',str3)}\n",
    "    bg5tbl.loc[m] = pd.Series(bgd5)\n",
    "    bg3tbl.loc[m] = pd.Series(bgd3)\n",
    "bg5tbl = bg5tbl.fillna(0).astype(int)\n",
    "bg3tbl = bg3tbl.fillna(0).astype(int)"
   ]
  },
  {
   "cell_type": "code",
   "execution_count": 128,
   "metadata": {},
   "outputs": [
    {
     "name": "stdout",
     "output_type": "stream",
     "text": [
      "28 28\n"
     ]
    }
   ],
   "source": [
    "bulgepos = -11\n",
    "bg3ms = bg3tbl[bg3tbl[bulgepos]==1].index\n",
    "bg3nuc, bg3seq = {}, {}\n",
    "for m in bg3ms:\n",
    "    ps, pe = get_pre_position(m)\n",
    "    symstr = get_sym_str(m)\n",
    "    bj,aj = jcpairs[m]\n",
    "    lstem = abs(bj)\n",
    "    ustem = abs(aj)\n",
    "    bj5,bj3 = map(int,jcpostbl.loc[m,bj].split(','))\n",
    "    aj5,aj3 = map(int,jcpostbl.loc[m,aj].split(','))\n",
    "    str5 = symstr[bj5-1:aj5]\n",
    "    seq5 = constseqs[m][bj5-1:aj5].replace('T','U')    \n",
    "    str3 = symstr[aj3-1:bj3]\n",
    "    seq3 = constseqs[m][aj3-1:bj3].replace('T','U')\n",
    "    for r in re.finditer('M[A]+M',str3):\n",
    "        if count_len(str3[:r.start()+1])==ustem+abs(bulgepos)-1:\n",
    "            s3,e3 = r.span()\n",
    "            break\n",
    "    else:\n",
    "        continue\n",
    "    for i in range(len(str5)):\n",
    "        if str5[i-1:i+1]=='MM' and count_len(str5[i:])==ustem+abs(bulgepos)-1:\n",
    "            s5,e5 = i-1,i+1\n",
    "            break\n",
    "    else:\n",
    "        continue\n",
    "    bg3seq[m] = seq3[s3+1:e3-1]\n",
    "    bg3nuc[m] = map(lambda (x,y):x+y,\n",
    "                    zip(seq5[s5-1:e5+1], seq3[e3-1:e3+1][::-1]+seq3[s3-1:s3+1][::-1]))\n",
    "bg3nuc['hsa-mir-2115'] = ('CG','CG','CG','AU')\n",
    "bg3seq['hsa-mir-2115'] = 'A'\n",
    "print len(bg3ms), len(bg3nuc)"
   ]
  },
  {
   "cell_type": "code",
   "execution_count": 133,
   "metadata": {},
   "outputs": [
    {
     "name": "stdout",
     "output_type": "stream",
     "text": [
      "9\n"
     ]
    }
   ],
   "source": [
    "bgwgs = [m for m in bg3ms if bg3nuc[m][1] in 'CG UG' and bg3seq[m] in 'U A' and bg3nuc[m][2] in 'CG UG']\n",
    "print len(bgwgs)"
   ]
  },
  {
   "cell_type": "code",
   "execution_count": 143,
   "metadata": {},
   "outputs": [
    {
     "data": {
      "text/html": [
       "<div>\n",
       "<style scoped>\n",
       "    .dataframe tbody tr th:only-of-type {\n",
       "        vertical-align: middle;\n",
       "    }\n",
       "\n",
       "    .dataframe tbody tr th {\n",
       "        vertical-align: top;\n",
       "    }\n",
       "\n",
       "    .dataframe thead th {\n",
       "        text-align: right;\n",
       "    }\n",
       "</style>\n",
       "<table border=\"1\" class=\"dataframe\">\n",
       "  <thead>\n",
       "    <tr style=\"text-align: right;\">\n",
       "      <th></th>\n",
       "      <th>1</th>\n",
       "      <th>2</th>\n",
       "      <th>3</th>\n",
       "      <th>4</th>\n",
       "      <th>5</th>\n",
       "      <th>6</th>\n",
       "      <th>7</th>\n",
       "      <th>8</th>\n",
       "      <th>9</th>\n",
       "      <th>10</th>\n",
       "      <th>...</th>\n",
       "      <th>116</th>\n",
       "      <th>117</th>\n",
       "      <th>118</th>\n",
       "      <th>119</th>\n",
       "      <th>120</th>\n",
       "      <th>121</th>\n",
       "      <th>122</th>\n",
       "      <th>123</th>\n",
       "      <th>124</th>\n",
       "      <th>125</th>\n",
       "    </tr>\n",
       "  </thead>\n",
       "  <tbody>\n",
       "    <tr>\n",
       "      <th>hsa-let-7a-1</th>\n",
       "      <td>124</td>\n",
       "      <td>123</td>\n",
       "      <td>122</td>\n",
       "      <td>121</td>\n",
       "      <td>120</td>\n",
       "      <td>119</td>\n",
       "      <td>118</td>\n",
       "      <td>117</td>\n",
       "      <td>0</td>\n",
       "      <td>0</td>\n",
       "      <td>...</td>\n",
       "      <td>0</td>\n",
       "      <td>8</td>\n",
       "      <td>7</td>\n",
       "      <td>6</td>\n",
       "      <td>5</td>\n",
       "      <td>4</td>\n",
       "      <td>3</td>\n",
       "      <td>2</td>\n",
       "      <td>1</td>\n",
       "      <td>0</td>\n",
       "    </tr>\n",
       "  </tbody>\n",
       "</table>\n",
       "<p>1 rows × 125 columns</p>\n",
       "</div>"
      ],
      "text/plain": [
       "              1    2    3    4    5    6    7    8    9    10  ...   116  117  \\\n",
       "hsa-let-7a-1  124  123  122  121  120  119  118  117    0    0 ...     0    8   \n",
       "\n",
       "              118  119  120  121  122  123  124  125  \n",
       "hsa-let-7a-1    7    6    5    4    3    2    1    0  \n",
       "\n",
       "[1 rows x 125 columns]"
      ]
     },
     "execution_count": 143,
     "metadata": {},
     "output_type": "execute_result"
    }
   ],
   "source": [
    "tbl = pd.DataFrame(index=folded, columns=range(1,126))\n",
    "for m in folded:\n",
    "    tbl.loc[m] = pd.Series(dict(ctinfos[m]))\n",
    "tbl.head(1)"
   ]
  },
  {
   "cell_type": "code",
   "execution_count": 144,
   "metadata": {},
   "outputs": [],
   "source": [
    "tbl.to_csv('publication/TableS4_1__SHAPE-based_pri-miRNA_structures.csv')"
   ]
  },
  {
   "cell_type": "code",
   "execution_count": 137,
   "metadata": {},
   "outputs": [],
   "source": [
    "COLS = ['Library','Fold param.','i th str.',\n",
    "        'Apical junction position','Basal junction position','Basal segment boundaries',\n",
    "        'Stem length (bp)','Lower stem length (bp)','Upper stem length (bp)','Mismatches','5p bulges','3p bulges',\n",
    "        'Mismatch at -6','bGWG at -10/-11',\n",
    "        'Apical loop size (nt)',\"5' basal segment length (nt)\",\"3' basal segment length (nt)\",\n",
    "        'Cleavage efficiency (MP)','Cleavage homogeneity (MP)',\n",
    "        'Cleavage efficiency (MP+SRSF3)','Cleavage Homogeneity (MP+SRSF3)']\n",
    "PARAM_DICT = {'m18':'-m 1.8 -i -0.6',\n",
    "              'm24':'-m 2.4 -i -0.8',\n",
    "              'm12':'-m 1.2 -i -0.4'}"
   ]
  },
  {
   "cell_type": "code",
   "execution_count": 140,
   "metadata": {},
   "outputs": [
    {
     "data": {
      "text/html": [
       "<div>\n",
       "<style scoped>\n",
       "    .dataframe tbody tr th:only-of-type {\n",
       "        vertical-align: middle;\n",
       "    }\n",
       "\n",
       "    .dataframe tbody tr th {\n",
       "        vertical-align: top;\n",
       "    }\n",
       "\n",
       "    .dataframe thead th {\n",
       "        text-align: right;\n",
       "    }\n",
       "</style>\n",
       "<table border=\"1\" class=\"dataframe\">\n",
       "  <thead>\n",
       "    <tr style=\"text-align: right;\">\n",
       "      <th></th>\n",
       "      <th>Library</th>\n",
       "      <th>Fold param.</th>\n",
       "      <th>i th str.</th>\n",
       "      <th>Apical junction position</th>\n",
       "      <th>Basal junction position</th>\n",
       "      <th>Basal segment boundaries</th>\n",
       "      <th>Stem length (bp)</th>\n",
       "      <th>Lower stem length (bp)</th>\n",
       "      <th>Upper stem length (bp)</th>\n",
       "      <th>Mismatches</th>\n",
       "      <th>...</th>\n",
       "      <th>3p bulges</th>\n",
       "      <th>Mismatch at -6</th>\n",
       "      <th>bGWG at -10/-11</th>\n",
       "      <th>Apical loop size (nt)</th>\n",
       "      <th>5' basal segment length (nt)</th>\n",
       "      <th>3' basal segment length (nt)</th>\n",
       "      <th>Cleavage efficiency (MP)</th>\n",
       "      <th>Cleavage homogeneity (MP)</th>\n",
       "      <th>Cleavage efficiency (MP+SRSF3)</th>\n",
       "      <th>Cleavage Homogeneity (MP+SRSF3)</th>\n",
       "    </tr>\n",
       "  </thead>\n",
       "  <tbody>\n",
       "    <tr>\n",
       "      <th>hsa-let-7a-1</th>\n",
       "      <td>rep2-1</td>\n",
       "      <td>-m 2.4 -i -0.8</td>\n",
       "      <td>1</td>\n",
       "      <td>46, 74</td>\n",
       "      <td>11, 109</td>\n",
       "      <td>8, 117</td>\n",
       "      <td>34</td>\n",
       "      <td>13</td>\n",
       "      <td>21</td>\n",
       "      <td>0</td>\n",
       "      <td>...</td>\n",
       "      <td>2</td>\n",
       "      <td>0</td>\n",
       "      <td>0</td>\n",
       "      <td>27</td>\n",
       "      <td>2</td>\n",
       "      <td>7</td>\n",
       "      <td>1.41184</td>\n",
       "      <td>1.12131</td>\n",
       "      <td>2.22354</td>\n",
       "      <td>1.1063</td>\n",
       "    </tr>\n",
       "  </tbody>\n",
       "</table>\n",
       "<p>1 rows × 21 columns</p>\n",
       "</div>"
      ],
      "text/plain": [
       "             Library     Fold param. i th str. Apical junction position  \\\n",
       "hsa-let-7a-1  rep2-1  -m 2.4 -i -0.8         1                   46, 74   \n",
       "\n",
       "             Basal junction position Basal segment boundaries  \\\n",
       "hsa-let-7a-1                 11, 109                   8, 117   \n",
       "\n",
       "             Stem length (bp) Lower stem length (bp) Upper stem length (bp)  \\\n",
       "hsa-let-7a-1               34                     13                     21   \n",
       "\n",
       "             Mismatches               ...               3p bulges  \\\n",
       "hsa-let-7a-1          0               ...                       2   \n",
       "\n",
       "             Mismatch at -6 bGWG at -10/-11 Apical loop size (nt)  \\\n",
       "hsa-let-7a-1              0               0                    27   \n",
       "\n",
       "             5' basal segment length (nt) 3' basal segment length (nt)  \\\n",
       "hsa-let-7a-1                            2                            7   \n",
       "\n",
       "             Cleavage efficiency (MP) Cleavage homogeneity (MP)  \\\n",
       "hsa-let-7a-1                  1.41184                   1.12131   \n",
       "\n",
       "             Cleavage efficiency (MP+SRSF3) Cleavage Homogeneity (MP+SRSF3)  \n",
       "hsa-let-7a-1                        2.22354                          1.1063  \n",
       "\n",
       "[1 rows x 21 columns]"
      ]
     },
     "execution_count": 140,
     "metadata": {},
     "output_type": "execute_result"
    }
   ],
   "source": [
    "tbl = pd.DataFrame(index=folded, columns=COLS)\n",
    "for m in folded:\n",
    "    lib,param = ctfileinfos[m][0].split('/')[-1].split('.')[0].split('_')[1:]\n",
    "    strnum = ctfileinfos[m][1]\n",
    "    tbl.loc[m,'Library'] = lib\n",
    "    tbl.loc[m,'Fold param.'] = PARAM_DICT[param]\n",
    "    tbl.loc[m,'i th str.'] = strnum\n",
    "       \n",
    "    bj,aj = jcpairs[m]\n",
    "    bj5,bj3 = map(int,jcpostbl.loc[m,bj].split(','))\n",
    "    aj5,aj3 = map(int,jcpostbl.loc[m,aj].split(','))\n",
    "    be5,be3 = bes[m]\n",
    "    tbl.loc[m,'Apical junction position'] = '%i, %i'%(aj5,aj3)\n",
    "    tbl.loc[m,'Basal junction position'] = '%i, %i'%(bj5,bj3)\n",
    "    tbl.loc[m,'Basal segment boundaries'] = '%i, %i'%(be5,be3)\n",
    "    \n",
    "    tbl.loc[m,'Stem length (bp)'] = aj-bj\n",
    "    tbl.loc[m,'Lower stem length (bp)'] = -bj\n",
    "    tbl.loc[m,'Upper stem length (bp)'] = aj\n",
    "    tbl.loc[m,'Mismatches'] = mismatch[m]\n",
    "    tbl.loc[m,'5p bulges'] = bulged5[m]\n",
    "    tbl.loc[m,'3p bulges'] = bulged3[m]\n",
    "    \n",
    "    tbl.loc[m,'Mismatch at -6'] = mmtbl.loc[m,-6]\n",
    "    tbl.loc[m,'bGWG at -10/-11'] = int(m in bgwgs)\n",
    "    \n",
    "    tbl.loc[m,'Apical loop size (nt)'] = aj3-aj5-1\n",
    "    tbl.loc[m,\"5' basal segment length (nt)\"] = bs5s[m]\n",
    "    tbl.loc[m,\"3' basal segment length (nt)\"] = bs3s[m]\n",
    "    \n",
    "    tbl.loc[m,'Cleavage efficiency (MP)'] = effs[m]/effs['hsa-mir-30a']\n",
    "    tbl.loc[m,'Cleavage homogeneity (MP)'] = homs[m]/homs['hsa-mir-30a'] \n",
    "    tbl.loc[m,'Cleavage efficiency (MP+SRSF3)'] = effssr[m]/effs['hsa-mir-30a']\n",
    "    tbl.loc[m,'Cleavage Homogeneity (MP+SRSF3)'] = homssr[m]/homs['hsa-mir-30a'] \n",
    "tbl.head(1)"
   ]
  },
  {
   "cell_type": "code",
   "execution_count": 141,
   "metadata": {},
   "outputs": [],
   "source": [
    "tbl.to_csv('publication/TableS4__Structural_features_of_pri-miRNAs.csv')"
   ]
  },
  {
   "cell_type": "markdown",
   "metadata": {},
   "source": [
    "---"
   ]
  },
  {
   "cell_type": "code",
   "execution_count": 162,
   "metadata": {
    "scrolled": true
   },
   "outputs": [],
   "source": [
    "fincts = [ f for f in listdir(FIG_DIR) if f.endswith('.ct') ]\n",
    "for m in folded:\n",
    "    ctfile,i,rep = ctfileinfos[m]\n",
    "    finct = ctfile.replace('.ct','_%i.ct'%i).replace('structures','figures')\n",
    "    if finct.split('/')[-1] in fincts:\n",
    "        newfile = 'publication/structures/SHAPE/%s.ct'%m\n",
    "        !cp $finct $newfile\n",
    "    else:\n",
    "        print m"
   ]
  },
  {
   "cell_type": "code",
   "execution_count": 148,
   "metadata": {},
   "outputs": [],
   "source": [
    "ctfile = 'shape/assem/structures/IRES-domainII_rep2-2_1.ct'\n",
    "newfile = 'publication/structures/SHAPE/IRES-domainII.ct'\n",
    "!cp $ctfile $newfile\n",
    "\n",
    "ctfile = 'shape/assem/structures/U1-snRNA_rep2-2_1.ct'\n",
    "newfile = 'publication/structures/SHAPE/U1-snRNA.ct'\n",
    "!cp $ctfile $newfile\n",
    "\n",
    "ctfile = 'shape/assem/structures/Yeast-tRNAasp_rep2-2_2.ct'\n",
    "newfile = 'publication/structures/SHAPE/Yeast-tRNAasp.ct'\n",
    "!cp $ctfile $newfile"
   ]
  },
  {
   "cell_type": "code",
   "execution_count": null,
   "metadata": {},
   "outputs": [],
   "source": []
  }
 ],
 "metadata": {
  "kernelspec": {
   "display_name": "Python 2",
   "language": "python",
   "name": "python2"
  },
  "language_info": {
   "codemirror_mode": {
    "name": "ipython",
    "version": 2
   },
   "file_extension": ".py",
   "mimetype": "text/x-python",
   "name": "python",
   "nbconvert_exporter": "python",
   "pygments_lexer": "ipython2",
   "version": "2.7.18"
  }
 },
 "nbformat": 4,
 "nbformat_minor": 2
}

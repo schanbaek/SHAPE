{
 "cells": [
  {
   "attachments": {},
   "cell_type": "markdown",
   "metadata": {},
   "source": [
    "## Figure 3. The bulged GWG motif enhances Drosha-mediated processing.\n",
    "- 3A. Bulge count\n",
    "- 3B. In vitro processing results of pri-miRNAs with different numbers of bulges\n",
    "- 3C. Bulge frequency.\n",
    "- 3D. In vitro processing results of pri-miRNAs with and without a bulge.\n",
    "- 3E-F. Sequence preference of the 3p bulge at -10.\n",
    "- 3G. In vitro processing results of pri-miRNAs with and without the GWG bulge.\n",
    "- 3H. In vitro processing results of artificial pri-miRNAs with and without the GWG bulge."
   ]
  },
  {
   "cell_type": "code",
   "execution_count": 1,
   "metadata": {},
   "outputs": [
    {
     "name": "stdout",
     "output_type": "stream",
     "text": [
      "Last revised by S. Chan Baek at 2024-01-25.\n"
     ]
    }
   ],
   "source": [
    "import time\n",
    "today = time.strftime('%Y-%m-%d')\n",
    "name = 'S. Chan Baek'\n",
    "print 'Last revised by %s at %s.' % (name, today)"
   ]
  },
  {
   "cell_type": "code",
   "execution_count": 2,
   "metadata": {},
   "outputs": [
    {
     "name": "stdout",
     "output_type": "stream",
     "text": [
      "/casa/bsc/projects/2_Structure-of-pri/2007_paper_prep/240125/\n",
      "/casa/bsc/projects/2_Structure-of-pri/2007_paper_prep\n"
     ]
    }
   ],
   "source": [
    "import os\n",
    "HOME = '/casa/bsc/projects/2_Structure-of-pri/2007_paper_prep'\n",
    "SAVEPATH = '%s/%s/'%(HOME,time.strftime('%y%m%d'))\n",
    "if not os.path.exists(SAVEPATH):\n",
    "    os.makedirs(SAVEPATH)\n",
    "print SAVEPATH\n",
    "%cd $HOME"
   ]
  },
  {
   "cell_type": "code",
   "execution_count": 3,
   "metadata": {},
   "outputs": [],
   "source": [
    "from __future__ import division\n",
    "from collections import Counter, defaultdict\n",
    "from matplotlib import pyplot as plt\n",
    "from matplotlib import gridspec, lines, colors\n",
    "from scipy.stats import pearsonr, mannwhitneyu, sem\n",
    "import pandas as pd\n",
    "import numpy as np\n",
    "import re\n",
    "%matplotlib inline"
   ]
  },
  {
   "cell_type": "code",
   "execution_count": 4,
   "metadata": {},
   "outputs": [
    {
     "name": "stdout",
     "output_type": "stream",
     "text": [
      "476\n"
     ]
    }
   ],
   "source": [
    "s1 = pd.read_csv('publication/TableS1__Pri-miRNAs_selected_for_SHAPE-MaP.csv',index_col=0)\n",
    "s2 = pd.read_csv('publication/TableS2__Constructs_used_in_this_study.csv',index_col=0)\n",
    "s3 = pd.read_csv('publication/TableS3_2__SHAPE_reactivity.csv',index_col=0)\n",
    "s3.columns = range(1,126)\n",
    "s3cnts = pd.read_csv('publication/TableS3_1__Read_counts.csv',index_col=0)\n",
    "s3shan = pd.read_csv('publication/TableS3_3__Shannon_entropy.csv',index_col=0)\n",
    "s3shan.columns = range(1,126)\n",
    "s3shan = s3shan.fillna(0)\n",
    "s4str = pd.read_csv('publication/TableS4_1__SHAPE-based_pri-miRNA_structures.csv',index_col=0)\n",
    "s4str.columns = range(1,126)\n",
    "s4 = pd.read_csv('publication/TableS4_2__Structural_features_of_pri-miRNAs.csv',index_col=0)\n",
    "releffs = s4['Cleavage efficiency (MP)']\n",
    "relhoms = s4['Cleavage homogeneity (MP)']\n",
    "constseqs = s2['Construct sequence'].to_dict()\n",
    "folded = list(s4.index)\n",
    "print len(folded)"
   ]
  },
  {
   "cell_type": "code",
   "execution_count": 5,
   "metadata": {},
   "outputs": [],
   "source": [
    "def get_pre_position(mir):\n",
    "    constseq = constseqs[mir].replace('T','U')\n",
    "    preseq = s1.loc[mir, 'Precursor']\n",
    "    return constseq.find(preseq)+1, constseq.find(preseq)+len(preseq)\n",
    "\n",
    "def split_ct(ctfile):\n",
    "    infos = open(ctfile, 'rt').read()\n",
    "    length = int(infos.split('\\n')[0].strip().split()[0])\n",
    "    rna = infos.split('\\n')[0].strip().split()[-1]\n",
    "    nstrt = infos.count(rna)\n",
    "    splitinfos = []\n",
    "    for i in range(nstrt):\n",
    "        lines = infos.split('\\n')[1+(1+length)*i:(1+length)*(i+1)]\n",
    "        splitinfos.append([ tuple(map(int,l.strip().split()[4:6][::-1])) for l in lines ])\n",
    "    return splitinfos"
   ]
  },
  {
   "cell_type": "markdown",
   "metadata": {},
   "source": [
    "### 3A. Bulge counts"
   ]
  },
  {
   "cell_type": "code",
   "execution_count": 14,
   "metadata": {},
   "outputs": [
    {
     "name": "stdout",
     "output_type": "stream",
     "text": [
      "Counter({2: 111, 0: 86, 1: 85, 3: 65, 4: 47, 5: 29, 6: 20, 7: 14, 8: 7, 9: 4, 11: 4, 10: 2, 13: 2})\n"
     ]
    }
   ],
   "source": [
    "bulged = {}\n",
    "for m in folded:\n",
    "    symstr = features.loc[m,'structure']\n",
    "    aj5,aj3,bj5,bj3 = features.loc[m,['AJ5','AJ3','BJ5','BJ3']].astype(int)\n",
    "    bulged[m] = (symstr[bj5-1:aj5]+symstr[aj3-1:bj3]).count('A')\n",
    "print Counter(bulged.values())"
   ]
  },
  {
   "cell_type": "code",
   "execution_count": 6,
   "metadata": {},
   "outputs": [
    {
     "name": "stdout",
     "output_type": "stream",
     "text": [
      "[18.06722689 17.85714286 23.31932773 13.65546218  9.87394958  6.09243697\n",
      "  4.20168067  2.94117647  3.99159664]\n"
     ]
    }
   ],
   "source": [
    "bins = [(0,0),(1,1),(2,2),(3,3),(4,4),(5,5),(6,6),(7,7),(8,50)]\n",
    "xs = range(0,9)\n",
    "ys = [len([m for m in folded if lb<=s4.loc[m,['5p bulges','3p bulges']].sum()<=ub]) for lb,ub in bins]\n",
    "ys = np.array(ys)/len(folded)*100\n",
    "print ys"
   ]
  },
  {
   "cell_type": "code",
   "execution_count": 7,
   "metadata": {},
   "outputs": [
    {
     "data": {
      "image/png": "[encoded data removed]",
      "text/plain": [
       "<matplotlib.figure.Figure at 0x7f26b81918d0>"
      ]
     },
     "metadata": {},
     "output_type": "display_data"
    }
   ],
   "source": [
    "fig, ax = plt.subplots(1, 1, figsize=(2.5,2.2))\n",
    "ax.bar(xs,ys,color='#424242',width=.7,edgecolor='k',lw=1,zorder=2)\n",
    "\n",
    "ax.set_xlabel('Bulged bases in the stem')\n",
    "ax.set_ylabel('Pri-miRNA proportion (%)')\n",
    "ax.set_xticks(xs)\n",
    "ax.set_xticklabels(xs[:-1]+['   $\\geq$8'])\n",
    "ax.set_yticks([0,10,20])\n",
    "ax.set_xlim(min(xs)-.7,max(xs)+.5)\n",
    "ax.yaxis.grid(ls='-',lw=.5)\n",
    "#fig.savefig(resultpath+'230228_s3__bulge_count.pdf')"
   ]
  },
  {
   "cell_type": "markdown",
   "metadata": {},
   "source": [
    "### 3B. In vitro processing results of pri-miRNAs with different numbers of bulges"
   ]
  },
  {
   "cell_type": "code",
   "execution_count": 8,
   "metadata": {},
   "outputs": [
    {
     "name": "stdout",
     "output_type": "stream",
     "text": [
      "0.009497202580893834\n",
      "0.03072219464596543\n"
     ]
    }
   ],
   "source": [
    "bins = [(0,1),(2,3),(4,5),(6,7),(8,30)]\n",
    "msl = [[m for m in folded if lb<=s4.loc[m,['5p bulges','3p bulges']].sum()<=ub] for lb,ub in bins]\n",
    "pes = [[releffs[m] for m in ms] for ms in msl]\n",
    "phs = [[relhoms[m] for m in ms] for ms in msl]\n",
    "xs = np.arange(len(bins))\n",
    "ys1 = map(np.average,pes)\n",
    "es1 = map(sem,pes)\n",
    "ys2 = map(np.average,phs)\n",
    "es2 = map(sem,phs)\n",
    "labels = ['0-1','2-3','4-5','6-7','$\\geq$8']\n",
    "print mannwhitneyu(pes[0],pes[1]+pes[2]+pes[3]+pes[4])[1]*2\n",
    "print mannwhitneyu(phs[0],phs[1]+phs[2]+phs[3]+phs[4])[1]*2\n",
    "labels = ['%s\\n(%s)'%(l,len(pe)) for l,pe in zip(labels,pes)]"
   ]
  },
  {
   "cell_type": "code",
   "execution_count": 9,
   "metadata": {},
   "outputs": [
    {
     "data": {
      "text/plain": [
       "Text(0,0.5,u'Cleavage homogeneity')"
      ]
     },
     "execution_count": 9,
     "metadata": {},
     "output_type": "execute_result"
    },
    {
     "data": {
      "image/png": "[encoded data removed]",
      "text/plain": [
       "<matplotlib.figure.Figure at 0x7f26b60afa90>"
      ]
     },
     "metadata": {},
     "output_type": "display_data"
    }
   ],
   "source": [
    "fig,ax = plt.subplots(1,1,figsize=(2.5,1.8))\n",
    "\n",
    "ax.errorbar(xs-.12,ys1,yerr=es1,lw=0,elinewidth=1.8,ms=3,marker='o',color='#7b3294')\n",
    "axt = ax.twinx()\n",
    "axt.errorbar(xs+.12,ys2,yerr=es2,lw=0,elinewidth=1.8,ms=3,marker='o',color='#4dac26')\n",
    "ax.set_xlim(min(xs)-.5,max(xs)+.5)\n",
    "ax.set_xticks(xs)\n",
    "ax.set_xticklabels(labels)\n",
    "ax.set_yticks(np.arange(.5,1,.1))\n",
    "ax.grid(ls='-',lw=.7,color='w')\n",
    "for a in [ax,axt]:\n",
    "    a.spines['left'].set_visible(False)\n",
    "    a.spines['bottom'].set_visible(False)\n",
    "ax.tick_params(left='on')\n",
    "axt.tick_params(left='off',right='on')\n",
    "ax.set_facecolor('#ededed')\n",
    "ax.set_xlabel('Bulged bases in the stem')\n",
    "ax.set_ylabel('Cleavage efficiency',color='#7b3294')\n",
    "axt.set_ylabel('Cleavage homogeneity',color='#4dac26')\n",
    "#fig.savefig(resultpath + '230704_s3__bulge_processing.pdf')"
   ]
  },
  {
   "cell_type": "markdown",
   "metadata": {},
   "source": [
    "### 3C. Bulge frequency."
   ]
  },
  {
   "cell_type": "code",
   "execution_count": 10,
   "metadata": {},
   "outputs": [],
   "source": [
    "def get_sym_str(ctinfo, ps, pe):\n",
    "    stinfo = [(x,y) for x,y in ctinfo if y>0]\n",
    "    ls = [ (x,y) for i,(x,y) in enumerate(stinfo[:-1]) \n",
    "          if stinfo[i+1]==(y,x) and x>ps and y<pe ]\n",
    "    loopst, loopen = min(ls, key=lambda (x,y):abs(120-x-y))\n",
    "    stems = [ (i,p) for i,p in ctinfo if i<=loopst and loopen<=p ]\n",
    "    if len(stems)<2:\n",
    "        return 'F'*125\n",
    "    stemst, stemen = stems[0]\n",
    "    stems = stems + [ (p,i) for i,p in stems[::-1] ]\n",
    "    symst = ''\n",
    "    for (l5,l3),(u5,u3) in zip(stems[:-1],stems[1:]):\n",
    "        if l5==loopst: symst += 'M'+'L'*(loopen-loopst-1)\n",
    "        elif u5-l5==1: symst += 'M'\n",
    "        else:\n",
    "            symmet = min(u5-l5-1, l3-u3-1)\n",
    "            symst += 'M' + symmet*'S' + (u5-l5-1-symmet)*'A'# + symmet*'S'\n",
    "    symst = 'F'*(stemst-1) + symst + 'M' + 'F'*(125-stemen)\n",
    "    return symst"
   ]
  },
  {
   "cell_type": "code",
   "execution_count": 11,
   "metadata": {
    "scrolled": true
   },
   "outputs": [],
   "source": [
    "bg5tbl = pd.DataFrame(index=folded,columns=range(-15,25))\n",
    "bg3tbl = pd.DataFrame(index=folded,columns=range(-15,25))\n",
    "for m in folded:\n",
    "    ctinfo = list(s4str.loc[m].items())\n",
    "    ps, pe = get_pre_position(m)\n",
    "    symstr = get_sym_str(ctinfo, ps, pe)\n",
    "    ajs, aje = map(int,s4.loc[m,'Apical junction position'].split(', '))\n",
    "    bjs, bje = map(int,s4.loc[m,'Basal junction position'].split(', '))\n",
    "    lstem = s4.loc[m,'Lower stem length (bp)']\n",
    "    str5 = re.sub('[A]+','A',symstr[bjs-1:ajs])\n",
    "    str3 = re.sub('[A]+','A',symstr[aje-1:bje][::-1])\n",
    "    bgd5 = {r.start()-lstem-str5[:r.start()].count('A'):1 for r in re.finditer('MAM',str5)}\n",
    "    bgd3 = {r.start()-lstem-str3[:r.start()].count('A'):1 for r in re.finditer('MAM',str3)}\n",
    "    bg5tbl.loc[m] = pd.Series(bgd5)\n",
    "    bg3tbl.loc[m] = pd.Series(bgd3)\n",
    "bg5tbl = bg5tbl.fillna(0).astype(int)\n",
    "bg3tbl = bg3tbl.fillna(0).astype(int)"
   ]
  },
  {
   "cell_type": "code",
   "execution_count": 12,
   "metadata": {
    "scrolled": true
   },
   "outputs": [
    {
     "data": {
      "image/png": "[encoded data removed]",
      "text/plain": [
       "<matplotlib.figure.Figure at 0x7f26b60af750>"
      ]
     },
     "metadata": {},
     "output_type": "display_data"
    }
   ],
   "source": [
    "xs = range(-12,21)\n",
    "ys1 = bg5tbl[xs].sum()/len(folded)*100\n",
    "ys2 = bg3tbl[xs].sum()/len(folded)*100\n",
    "xs = np.arange(-12,21)+.5\n",
    "xtks = range(-10,1,5)+range(4,20,5)\n",
    "xtls = range(-10,0,5)+['+1','+5','+10','+15','+20']\n",
    "\n",
    "fig, (ax1,ax2) = plt.subplots(2, 1, figsize=(4.5,2.4))\n",
    "ax1.bar(xs,ys1,color='#424242',zorder=2,width=.7,edgecolor='k',lw=1)\n",
    "ax2.bar(xs,ys2,color='#424242',zorder=2,width=.7,edgecolor='k',lw=1)\n",
    "ax1.set_ylabel('5p bulge\\nfrequency (%)',fontsize=11)\n",
    "ax2.set_ylabel('3p bulge\\nfrequency (%)',fontsize=11)\n",
    "for ax in [ax1,ax2]:\n",
    "    ax.set_xlim(-12.5,21)\n",
    "    ax.set_xticks(xtks)\n",
    "    ax.set_xticklabels(xtls)\n",
    "    ax.set_xticks(xs-.5,minor=True)\n",
    "    ax.grid(ls='-',lw=.5)\n",
    "    ax.set_ylim(0,5.5)\n",
    "    \n",
    "ax2.invert_yaxis()\n",
    "ax2.spines['top'].set_visible(True); ax2.spines['bottom'].set_visible(False)\n",
    "ax2.tick_params(bottom='off',top='on',which='both')\n",
    "ax2.set_xticklabels([])\n",
    "fig.subplots_adjust(hspace=.45)\n",
    "#fig.savefig(resultpath + '230228_f3a__bulge_freq.pdf')"
   ]
  },
  {
   "cell_type": "markdown",
   "metadata": {},
   "source": [
    "### 3B. In vitro processing results of pri-miRNAs with and without a bulge."
   ]
  },
  {
   "cell_type": "code",
   "execution_count": 13,
   "metadata": {},
   "outputs": [
    {
     "data": {
      "image/png": "[encoded data removed]",
      "text/plain": [
       "<matplotlib.figure.Figure at 0x7f27185685d0>"
      ]
     },
     "metadata": {},
     "output_type": "display_data"
    }
   ],
   "source": [
    "xs = np.arange(-12,21)\n",
    "ys11 = [-np.log10(min(1,mannwhitneyu([releffs[m] for m in bg5tbl[bg5tbl[x]==1].index],\n",
    "            [releffs[m] for m in bg5tbl[bg5tbl[x]==0].index])[1]*2*len(xs))) for x in xs]\n",
    "ys12 = [-np.log10(min(1,mannwhitneyu([relhoms[m] for m in bg5tbl[bg5tbl[x]==1].index],\n",
    "            [relhoms[m] for m in bg5tbl[bg5tbl[x]==0].index])[1]*2*len(xs))) for x in xs]\n",
    "ys21 = [-np.log10(min(1,mannwhitneyu([releffs[m] for m in bg3tbl[bg3tbl[x]==1].index],\n",
    "            [releffs[m] for m in bg3tbl[bg3tbl[x]==0].index])[1]*2*len(xs))) for x in xs]\n",
    "ys22 = [-np.log10(min(1,mannwhitneyu([relhoms[m] for m in bg3tbl[bg3tbl[x]==1].index],\n",
    "            [relhoms[m] for m in bg3tbl[bg3tbl[x]==0].index])[1]*2*len(xs))) for x in xs]\n",
    "xs = np.arange(-12,21)+.5\n",
    "\n",
    "fig, (ax1,ax2) = plt.subplots(2, 1, figsize=(4.5,2.4))\n",
    "ax1.bar(xs-.2,ys11,width=.4,color='#7b3294',edgecolor='k',lw=1,zorder=3)\n",
    "ax1.bar(xs+.2,ys12,width=.4,color='#4dac26',edgecolor='k',lw=1,zorder=3)\n",
    "ax2.bar(xs-.2,ys21,width=.4,color='#7b3294',edgecolor='k',lw=1,zorder=3,\n",
    "        label='cleavage efficiency')\n",
    "ax2.bar(xs+.2,ys22,width=.4,color='#4dac26',edgecolor='k',lw=1,zorder=3,\n",
    "        label='cleavage homogeneity')\n",
    "ax1.set_ylabel('-log10 padj\\n(w/wo 5p bulge)')\n",
    "ax2.set_ylabel('-log10 padj\\n(w/wo 3p bulge)')\n",
    "for ax in [ax1,ax2]:\n",
    "    ax.axhline(-np.log10(.05),color='tab:red',lw=1,ls='--')\n",
    "    ax.set_xlim(-12.5,21)\n",
    "    ax.set_ylim(0,2)\n",
    "    ax.set_xticks(xtks)\n",
    "    ax.set_xticklabels(xtls)\n",
    "    ax.set_xticks(xs-.5,minor=True)\n",
    "    ax.grid(ls='-',lw=.5)\n",
    "    \n",
    "ax2.invert_yaxis()\n",
    "ax2.spines['top'].set_visible(True); ax2.spines['bottom'].set_visible(False)\n",
    "ax2.tick_params(bottom='off',top='on',which='both')\n",
    "ax2.set_xticklabels([])\n",
    "ax2.legend(loc=(.5,.05),handlelength=1.2,prop={'size':10},labelspacing=.3)\n",
    "fig.subplots_adjust(hspace=.45)\n",
    "#fig.savefig(resultpath + '221018_f3b__bulge_processing.pdf')"
   ]
  },
  {
   "cell_type": "markdown",
   "metadata": {},
   "source": [
    "### S3A. Bulge frequency with sequenc-only"
   ]
  },
  {
   "cell_type": "code",
   "execution_count": 68,
   "metadata": {},
   "outputs": [],
   "source": [
    "bg5so = pd.DataFrame(index=folded,columns=range(-15,25))\n",
    "bg3so = pd.DataFrame(index=folded,columns=range(-15,25))\n",
    "for m in folded:\n",
    "    ctinfo = split_ct('publication/structures/RNAstructure/%s.ct'%m)[0]\n",
    "    stinfo = [ p for p in ctinfo if p[1]>0 ] \n",
    "    ps, pe = get_pre_position(m)\n",
    "    symstr = get_sym_str(ctinfo, ps, pe)\n",
    "    \n",
    "    loops = [ (x,y) for i,(x,y) in enumerate(stinfo[:-1]) if stinfo[i+1]==(y,x) and x>ps and y<pe ]\n",
    "    bj5,bj3 = [(i,p) for i,p in ctinfo if i<60<p][0]\n",
    "    aj5,aj3 = min(loops, key=lambda (x,y):abs(120-x-y))\n",
    "        \n",
    "    lstem = count_len(symstr[bj5-1:ps-1])\n",
    "    str5 = re.sub('[A]+','A',symstr[bj5-1:aj5])\n",
    "    str3 = re.sub('[A]+','A',symstr[aj3-1:bj3][::-1])\n",
    "    bgd5 = {r.start()-lstem-str5[:r.start()].count('A'):1 for r in re.finditer('MAM',str5)}\n",
    "    bgd3 = {r.start()-lstem-str3[:r.start()].count('A'):1 for r in re.finditer('MAM',str3)}\n",
    "    bg5so.loc[m] = pd.Series(bgd5)\n",
    "    bg3so.loc[m] = pd.Series(bgd3)\n",
    "bg5so = bg5so.fillna(0).astype(int)\n",
    "bg3so = bg3so.fillna(0).astype(int)"
   ]
  },
  {
   "cell_type": "code",
   "execution_count": 74,
   "metadata": {
    "scrolled": true
   },
   "outputs": [
    {
     "data": {
      "image/png": "[encoded data removed]",
      "text/plain": [
       "<matplotlib.figure.Figure at 0x7f26b8226f10>"
      ]
     },
     "metadata": {},
     "output_type": "display_data"
    }
   ],
   "source": [
    "xs = range(-12,21)\n",
    "ys1 = bg5so[xs].sum()/len(folded)*100\n",
    "ys2 = bg3so[xs].sum()/len(folded)*100\n",
    "xs = np.arange(-12,21)+.5\n",
    "xtks = range(-10,1,5)+range(4,20,5)\n",
    "xtls = range(-10,0,5)+['+1','+5','+10','+15','+20']\n",
    "\n",
    "fig, (ax1,ax2) = plt.subplots(2, 1, figsize=(4.5,2.4))\n",
    "ax1.bar(xs,ys1,color='#424242',zorder=2,width=.7,edgecolor='k',lw=1)\n",
    "ax2.bar(xs,ys2,color='#424242',zorder=2,width=.7,edgecolor='k',lw=1)\n",
    "ax1.set_ylabel('5p bulge\\nfrequency (%)',fontsize=11)\n",
    "ax2.set_ylabel('3p bulge\\nfrequency (%)',fontsize=11)\n",
    "for ax in [ax1,ax2]:\n",
    "    ax.set_xlim(-12.5,21)\n",
    "    ax.set_xticks(xtks)\n",
    "    ax.set_xticklabels(xtls)\n",
    "    ax.set_xticks(xs-.5,minor=True)\n",
    "    ax.grid(ls='-',lw=.5)\n",
    "    ax.set_ylim(0,6.5)\n",
    "    \n",
    "ax2.invert_yaxis()\n",
    "ax2.spines['top'].set_visible(True); ax2.spines['bottom'].set_visible(False)\n",
    "ax2.tick_params(bottom='off',top='on',which='both')\n",
    "ax2.set_xticklabels([])\n",
    "fig.subplots_adjust(hspace=.45)\n",
    "#fig.savefig(resultpath + '230228_f3a__bulge_freq.pdf')"
   ]
  },
  {
   "cell_type": "code",
   "execution_count": 75,
   "metadata": {},
   "outputs": [
    {
     "data": {
      "image/png": "[encoded data removed]",
      "text/plain": [
       "<matplotlib.figure.Figure at 0x7f26b12bc9d0>"
      ]
     },
     "metadata": {},
     "output_type": "display_data"
    }
   ],
   "source": [
    "xs = np.arange(-12,21)\n",
    "ys11 = [-np.log10(min(1,mannwhitneyu([releffs[m] for m in bg5so[bg5so[x]==1].index],\n",
    "            [releffs[m] for m in bg5so[bg5so[x]==0].index])[1]*2*len(xs))) for x in xs]\n",
    "ys12 = [-np.log10(min(1,mannwhitneyu([relhoms[m] for m in bg5so[bg5so[x]==1].index],\n",
    "            [relhoms[m] for m in bg5so[bg5so[x]==0].index])[1]*2*len(xs))) for x in xs]\n",
    "ys21 = [-np.log10(min(1,mannwhitneyu([releffs[m] for m in bg3so[bg3so[x]==1].index],\n",
    "            [releffs[m] for m in bg3so[bg3so[x]==0].index])[1]*2*len(xs))) for x in xs]\n",
    "ys22 = [-np.log10(min(1,mannwhitneyu([relhoms[m] for m in bg3so[bg3so[x]==1].index],\n",
    "            [relhoms[m] for m in bg3so[bg3so[x]==0].index])[1]*2*len(xs))) for x in xs]\n",
    "xs = np.arange(-12,21)+.5\n",
    "\n",
    "fig, (ax1,ax2) = plt.subplots(2, 1, figsize=(4.5,2.4))\n",
    "ax1.bar(xs-.2,ys11,width=.4,color='#7b3294',edgecolor='k',lw=1,zorder=3)\n",
    "ax1.bar(xs+.2,ys12,width=.4,color='#4dac26',edgecolor='k',lw=1,zorder=3)\n",
    "ax2.bar(xs-.2,ys21,width=.4,color='#7b3294',edgecolor='k',lw=1,zorder=3,\n",
    "        label='cleavage efficiency')\n",
    "ax2.bar(xs+.2,ys22,width=.4,color='#4dac26',edgecolor='k',lw=1,zorder=3,\n",
    "        label='cleavage homogeneity')\n",
    "ax1.set_ylabel('-log10 padj\\n(w/wo 5p bulge)')\n",
    "ax2.set_ylabel('-log10 padj\\n(w/wo 3p bulge)')\n",
    "for ax in [ax1,ax2]:\n",
    "    ax.axhline(-np.log10(.05),color='tab:red',lw=1,ls='--')\n",
    "    ax.set_xlim(-12.5,21)\n",
    "    ax.set_ylim(0,1.5)\n",
    "    ax.set_xticks(xtks)\n",
    "    ax.set_xticklabels(xtls)\n",
    "    ax.set_xticks(xs-.5,minor=True)\n",
    "    ax.grid(ls='-',lw=.5)\n",
    "    \n",
    "ax2.invert_yaxis()\n",
    "ax2.spines['top'].set_visible(True); ax2.spines['bottom'].set_visible(False)\n",
    "ax2.tick_params(bottom='off',top='on',which='both')\n",
    "ax2.set_xticklabels([])\n",
    "ax2.legend(loc=(.5,.2),handlelength=1.2,prop={'size':10},labelspacing=.3)\n",
    "fig.subplots_adjust(hspace=.45)\n",
    "#fig.savefig(resultpath + '221018_f3b__bulge_processing.pdf')"
   ]
  },
  {
   "cell_type": "markdown",
   "metadata": {},
   "source": [
    "### 3E-F. Sequence preference of the 3p bulge at -10/-11."
   ]
  },
  {
   "cell_type": "code",
   "execution_count": 61,
   "metadata": {},
   "outputs": [],
   "source": [
    "import matplotlib as mpl\n",
    "from matplotlib.text import TextPath\n",
    "from matplotlib.patches import PathPatch\n",
    "from matplotlib.font_manager import FontProperties\n",
    "fp = FontProperties(family=\"Helvetica\", weight=\"bold\") \n",
    "globscale = 1.35\n",
    "LETTERS = { \"U\" : TextPath((-0.35, 0), \"U\", size=1, prop=fp),\n",
    "            \"G\" : TextPath((-0.384, 0), \"G\", size=1, prop=fp),\n",
    "            \"A\" : TextPath((-0.35, 0), \"A\", size=1, prop=fp),\n",
    "            \"C\" : TextPath((-0.366, 0), \"C\", size=1, prop=fp) }\n",
    "COLOR_SCHEME = {'G': 'orange', \n",
    "                'A': 'red', \n",
    "                'C': 'blue', \n",
    "                'U': 'darkgreen'}\n",
    "def letterAt(letter, x, y, yscale=1, ax=None):\n",
    "    text = LETTERS[letter]\n",
    "    t = mpl.transforms.Affine2D().scale(1*globscale, yscale*globscale) + \\\n",
    "        mpl.transforms.Affine2D().translate(x,y) + ax.transData\n",
    "    p = PathPatch(text, lw=0, fc=COLOR_SCHEME[letter],  transform=t)\n",
    "    if ax != None:\n",
    "        ax.add_artist(p)\n",
    "    return p"
   ]
  },
  {
   "cell_type": "code",
   "execution_count": 104,
   "metadata": {
    "scrolled": true
   },
   "outputs": [],
   "source": [
    "POS = -11\n",
    "bg3ms = bg3tbl[bg3tbl[POS]==1].index\n",
    "bg3seq = {}\n",
    "for m in bg3ms:\n",
    "    priseq = constseqs[m].replace('T','U')\n",
    "    ctinfo = list(s4str.loc[m].items())\n",
    "    ps, pe = get_pre_position(m)\n",
    "    symstr = get_sym_str(ctinfo, ps, pe)\n",
    "    ajs, aje = map(int,s4.loc[m,'Apical junction position'].split(', '))\n",
    "    bjs, bje = map(int,s4.loc[m,'Basal junction position'].split(', '))\n",
    "    lstem = s4.loc[m,'Lower stem length (bp)']\n",
    "    str3 = symstr[aje-1:bje][::-1]\n",
    "    seq3 = priseq[aje-1:bje][::-1]\n",
    "    for r in re.finditer('M[A]+M',str3):\n",
    "        pos = r.start()-lstem-str3[:r.start()].count('A')\n",
    "        if pos == POS:\n",
    "            s,e = r.span()\n",
    "            s3p,e3p = bje-s,bje-e+1\n",
    "            s5p,e5p = s4str.loc[m,[s3p,e3p]]\n",
    "            \n",
    "            bp11 = priseq[s5p-1]+priseq[s3p-1]\n",
    "            bp10 = priseq[e5p-1]+priseq[e3p-1]\n",
    "            bulge = priseq[e3p:s3p-1]\n",
    "            bg3seq[m] = (bp11, bp10, bulge)"
   ]
  },
  {
   "cell_type": "code",
   "execution_count": 107,
   "metadata": {},
   "outputs": [
    {
     "name": "stdout",
     "output_type": "stream",
     "text": [
      "[('CG', 12), ('GC', 6), ('AU', 3), ('UA', 4), ('GU', 0), ('UG', 3)]\n"
     ]
    }
   ],
   "source": [
    "PAIRS = ['CG','GC','AU','UA','GU','UG']\n",
    "bps11 = [bg3seq[m][0] for m in bg3ms]\n",
    "data = [bps11.count(bp) for bp in PAIRS]\n",
    "print zip(PAIRS,data)\n",
    "colors = ['#8da0cb','#8da0cb','#66c2a5','#66c2a5','#fc8d62','#fc8d62']"
   ]
  },
  {
   "cell_type": "code",
   "execution_count": 106,
   "metadata": {},
   "outputs": [
    {
     "data": {
      "image/png": "[encoded data removed]",
      "text/plain": [
       "<matplotlib.figure.Figure at 0x7f26b81adad0>"
      ]
     },
     "metadata": {},
     "output_type": "display_data"
    }
   ],
   "source": [
    "fig, ax = plt.subplots(1, 1, figsize=(2,2))\n",
    "ps,ts = ax.pie(data, colors=colors, wedgeprops={'linewidth':1,'edgecolor':'w'},\n",
    "               startangle=180,counterclock=False)\n",
    "fig.tight_layout()\n",
    "#fig.savefig(resultpath + '230630_f3b__bp-11.pdf')"
   ]
  },
  {
   "cell_type": "code",
   "execution_count": 108,
   "metadata": {},
   "outputs": [
    {
     "name": "stdout",
     "output_type": "stream",
     "text": [
      "[('CG', 19), ('GC', 2), ('AU', 4), ('UA', 2), ('GU', 1), ('UG', 0)]\n"
     ]
    }
   ],
   "source": [
    "PAIRS = ['CG','GC','AU','UA','GU','UG']\n",
    "bps10 = [bg3seq[m][1] for m in bg3ms]\n",
    "data = [bps10.count(bp) for bp in PAIRS]\n",
    "print zip(PAIRS,data)\n",
    "colors = ['#8da0cb','#8da0cb','#66c2a5','#66c2a5','#fc8d62','#fc8d62']"
   ]
  },
  {
   "cell_type": "code",
   "execution_count": 109,
   "metadata": {},
   "outputs": [
    {
     "data": {
      "image/png": "[encoded data removed]",
      "text/plain": [
       "<matplotlib.figure.Figure at 0x7f26b5fd1550>"
      ]
     },
     "metadata": {},
     "output_type": "display_data"
    }
   ],
   "source": [
    "fig, ax = plt.subplots(1, 1, figsize=(2,2))\n",
    "ps,ts = ax.pie(data, colors=colors, wedgeprops={'linewidth':1,'edgecolor':'w'},\n",
    "               startangle=180,counterclock=False)\n",
    "fig.tight_layout()\n",
    "#fig.savefig(resultpath + '230630_f3b__bp-11.pdf')"
   ]
  },
  {
   "cell_type": "code",
   "execution_count": 112,
   "metadata": {},
   "outputs": [
    {
     "name": "stdout",
     "output_type": "stream",
     "text": [
      "[('C', 2), ('G', 1), ('A', 7), ('U', 13), ('>=2', 5)]\n"
     ]
    }
   ],
   "source": [
    "bg3s = [bg3seq[m][2] for m in bg3ms if len(bg3seq[m][2])==1]\n",
    "data = [bg3s.count(n) for n in 'CGAU']+[len(bg3ms)-len(bg3s)]\n",
    "colors = ['#7570b3','#7570b3','#1b9e77','#1b9e77','#969696']\n",
    "print zip(['C','G','A','U','>=2'],data)"
   ]
  },
  {
   "cell_type": "code",
   "execution_count": 111,
   "metadata": {},
   "outputs": [
    {
     "data": {
      "image/png": "[encoded data removed]",
      "text/plain": [
       "<matplotlib.figure.Figure at 0x7f27181faad0>"
      ]
     },
     "metadata": {},
     "output_type": "display_data"
    }
   ],
   "source": [
    "fig, ax = plt.subplots(1, 1, figsize=(2,2))\n",
    "ps,ts = ax.pie(data, colors=colors, wedgeprops={'linewidth':1,'edgecolor':'w'},\n",
    "               startangle=180,counterclock=False)\n",
    "fig.tight_layout()\n",
    "#fig.savefig(resultpath + '230630_f3b__bulge.pdf')"
   ]
  },
  {
   "cell_type": "code",
   "execution_count": 115,
   "metadata": {},
   "outputs": [],
   "source": [
    "seq5s = pd.DataFrame(columns=range(3),index=list('ACGU')).fillna(0)\n",
    "seq3s = pd.DataFrame(columns=range(3),index=list('ACGU')).fillna(0)\n",
    "\n",
    "seq5s[0] = pd.Series(Counter([bg3seq[m][0][0] for m in bg3ms]))\n",
    "seq5s[2] = pd.Series(Counter([bg3seq[m][1][0] for m in bg3ms]))\n",
    "\n",
    "seq3s[0] = pd.Series(Counter([bg3seq[m][0][1] for m in bg3ms]))\n",
    "seq3s[1] = pd.Series(Counter([bg3seq[m][2] for m in bg3ms if len(bg3seq[m][2])==1]))\n",
    "seq3s[2] = pd.Series(Counter([bg3seq[m][1][1] for m in bg3ms]))"
   ]
  },
  {
   "cell_type": "code",
   "execution_count": 130,
   "metadata": {},
   "outputs": [
    {
     "data": {
      "text/plain": [
       "(-0.5, 2.5, 0.0, 1.0)"
      ]
     },
     "execution_count": 130,
     "metadata": {},
     "output_type": "execute_result"
    },
    {
     "data": {
      "image/png": "[encoded data removed]",
      "text/plain": [
       "<matplotlib.figure.Figure at 0x7f26b12ced90>"
      ]
     },
     "metadata": {},
     "output_type": "display_data"
    }
   ],
   "source": [
    "fig, ax = plt.subplots(1, 1, figsize=(2,1))\n",
    "for i in range(3):\n",
    "    freq = seq5s[i].sort_values()\n",
    "    freq = freq/sum(freq)\n",
    "    bottom = 0\n",
    "    for nuc,f in freq.items():\n",
    "        letterAt(nuc,i,bottom,f,ax=ax)\n",
    "        bottom+=f\n",
    "        \n",
    "ax.set_xlim(-.5,2.5)\n",
    "ax.axis('off')\n",
    "#fig.savefig(resultpath + '220530_f3c__3bg5p.pdf')"
   ]
  },
  {
   "cell_type": "code",
   "execution_count": 131,
   "metadata": {},
   "outputs": [
    {
     "data": {
      "text/plain": [
       "(-0.5, 2.5, 0.0, 1.0)"
      ]
     },
     "execution_count": 131,
     "metadata": {},
     "output_type": "execute_result"
    },
    {
     "data": {
      "image/png": "[encoded data removed]",
      "text/plain": [
       "<matplotlib.figure.Figure at 0x7f26b14ce950>"
      ]
     },
     "metadata": {},
     "output_type": "display_data"
    }
   ],
   "source": [
    "fig, ax = plt.subplots(1, 1, figsize=(2,1))\n",
    "for i in range(3):\n",
    "    freq = seq3s[i].sort_values()\n",
    "    freq = freq/sum(freq)\n",
    "    bottom = 0\n",
    "    for nuc,f in freq.items():\n",
    "        letterAt(nuc,i,bottom,f,ax=ax)\n",
    "        bottom+=f\n",
    "        \n",
    "ax.set_xlim(-.5,2.5)\n",
    "ax.axis('off')\n",
    "#fig.savefig(resultpath + '220530_f3c__3bg3p.pdf')"
   ]
  },
  {
   "cell_type": "markdown",
   "metadata": {},
   "source": [
    "### 3E. In vitro processing results of pri-miRNAs with and without the GWG bulge."
   ]
  },
  {
   "cell_type": "code",
   "execution_count": 132,
   "metadata": {},
   "outputs": [
    {
     "name": "stdout",
     "output_type": "stream",
     "text": [
      "5 4\n"
     ]
    }
   ],
   "source": [
    "gug = [m for m in bg3ms if bg3seq[m][0] in 'CG UG' and bg3seq[m][1] in 'CG UG' and bg3seq[m][2]=='U']\n",
    "gag = [m for m in bg3ms if bg3seq[m][0] in 'CG UG' and bg3seq[m][1] in 'CG UG' and bg3seq[m][2]=='A']\n",
    "print len(gug), len(gag)"
   ]
  },
  {
   "cell_type": "code",
   "execution_count": 133,
   "metadata": {},
   "outputs": [
    {
     "name": "stdout",
     "output_type": "stream",
     "text": [
      "[5, 4, 19, 448]\n",
      "0.0011552832987924365 0.017047468125487634\n",
      "0.020252593098148253 0.022953867895450095\n"
     ]
    }
   ],
   "source": [
    "msl = [gug,gag,[m for m in bg3ms if m not in gug+gag],[m for m in folded if m not in bg3ms]]\n",
    "print map(len,msl)\n",
    "pes = [[releffs[m] for m in ms] for ms in msl]\n",
    "phs = [[relhoms[m] for m in ms] for ms in msl]\n",
    "xs = np.arange(len(msl))\n",
    "ys1 = map(np.average,pes)\n",
    "es1 = map(sem,pes)\n",
    "ys2 = map(np.average,phs)\n",
    "es2 = map(sem,phs)\n",
    "labels = ['GUG\\n', 'GAG\\n','Else\\n', 'No bulge\\n']\n",
    "labels = ['%s(%s)'%(l,len(pe)) for l,pe in zip(labels,pes)]\n",
    "print mannwhitneyu(pes[0],pes[-1])[1]*2, mannwhitneyu(phs[0],phs[-1])[1]*2\n",
    "print mannwhitneyu(pes[1],pes[-1])[1]*2, mannwhitneyu(phs[1],phs[-1])[1]*2"
   ]
  },
  {
   "cell_type": "code",
   "execution_count": 134,
   "metadata": {},
   "outputs": [
    {
     "data": {
      "text/plain": [
       "Text(0,0.5,u'Cleavage homogeneity')"
      ]
     },
     "execution_count": 134,
     "metadata": {},
     "output_type": "execute_result"
    },
    {
     "data": {
      "image/png": "[encoded data removed]",
      "text/plain": [
       "<matplotlib.figure.Figure at 0x7f26b12dc9d0>"
      ]
     },
     "metadata": {},
     "output_type": "display_data"
    }
   ],
   "source": [
    "fig,ax = plt.subplots(1,1,figsize=(2.8,2))\n",
    "ax.errorbar(xs-.1,ys1,yerr=es1,lw=0,elinewidth=1.8,ms=3,marker='o',color='#7b3294')\n",
    "axt = ax.twinx()\n",
    "axt.errorbar(xs+.1,ys2,yerr=es2,lw=0,elinewidth=1.8,ms=3,marker='o',color='#4dac26')\n",
    "ax.set_xlim(min(xs)-.5,max(xs)+.5)\n",
    "ax.set_xticks(xs)\n",
    "ax.set_xticklabels(labels)\n",
    "ax.grid(ls='-',lw=.7,color='w')\n",
    "for a in [ax,axt]:\n",
    "    a.spines['left'].set_visible(False)\n",
    "    a.spines['bottom'].set_visible(False)\n",
    "    ax.tick_params(left='on')\n",
    "axt.tick_params(left='off',right='on')\n",
    "ax.set_facecolor('#ededed')\n",
    "#ax.set_xlabel('3p bulge at %i'%(bulgepos+1))\n",
    "ax.set_ylabel('Cleavage efficiency',color='#7b3294')\n",
    "axt.set_ylabel('Cleavage homogeneity',color='#4dac26')\n",
    "#fig.savefig(resultpath + '230703_3bg_processing.pdf')#,dpi=300)"
   ]
  },
  {
   "cell_type": "markdown",
   "metadata": {},
   "source": [
    "### 4. In vitro processing results of artificial pri-miRNAs with and without the GWG bulge."
   ]
  },
  {
   "cell_type": "code",
   "execution_count": 136,
   "metadata": {},
   "outputs": [],
   "source": [
    "from scipy.stats import ttest_ind"
   ]
  },
  {
   "cell_type": "code",
   "execution_count": 137,
   "metadata": {
    "scrolled": true
   },
   "outputs": [
    {
     "name": "stdout",
     "output_type": "stream",
     "text": [
      "MannwhitneyuResult(statistic=9.0, pvalue=0.0636025696207536)\n",
      "Ttest_indResult(statistic=10.610559485869153, pvalue=0.00876564227965999)\n"
     ]
    }
   ],
   "source": [
    "## pri-watson\n",
    "wbg = 1-np.array([.718694, .449249, .656882])\n",
    "wobg = 1-np.array([.843303, .789091, .814812])\n",
    "#rele = wbg/wobg\n",
    "rele = [1.584909919,1.812051,1.742978726]\n",
    "\n",
    "print mannwhitneyu(rele,[1,1,1],alternative='two-sided')\n",
    "print ttest_ind(rele,[1,1,1],equal_var=False)"
   ]
  },
  {
   "cell_type": "code",
   "execution_count": 138,
   "metadata": {},
   "outputs": [
    {
     "data": {
      "image/png": "[encoded data removed]",
      "text/plain": [
       "<matplotlib.figure.Figure at 0x7f26b145b390>"
      ]
     },
     "metadata": {},
     "output_type": "display_data"
    }
   ],
   "source": [
    "fig, ax = plt.subplots(1,1,figsize=(1.5,2.5))\n",
    "\n",
    "bars = ax.bar([0,1],[np.average(rele),1],yerr=[sem(rele),0],width=.7,lw=1.3,\n",
    "              zorder=2,edgecolor='k',facecolor='#1C75BC',capsize=2,\n",
    "              error_kw={'zorder':3,'elinewidth':1} )\n",
    "ax.scatter([0,-.1,.1],rele,zorder=4,edgecolor='k',facecolor='w',lw=1.3)\n",
    "ax.scatter([.85,1,1.15],[1,1,1],zorder=4,edgecolor='k',facecolor='w',lw=1.3)\n",
    "ax.set_ylabel('Product / Input')\n",
    "ax.set_xticks([])\n",
    "ax.set_yticks([0,.5,1,1.5])\n",
    "ax.set_xlim(-.65,1.55)\n",
    "ax.yaxis.grid(ls='-',lw=.5)\n",
    "#fig.savefig('230228_f3f__ivp_results.pdf')"
   ]
  },
  {
   "cell_type": "code",
   "execution_count": 139,
   "metadata": {},
   "outputs": [
    {
     "name": "stdout",
     "output_type": "stream",
     "text": [
      "Ttest_indResult(statistic=-1.3336222372812896, pvalue=0.3139269797767008)\n",
      "Ttest_indResult(statistic=-13.326168537935736, pvalue=0.0015144504865046513)\n"
     ]
    }
   ],
   "source": [
    "## pri-99a\n",
    "wtpre = [1,1,1]\n",
    "wtalt = [0.12861897,0.139850866,0.189150747]\n",
    "mtpre = [1.028170455,1.003319373,1.150499708]\n",
    "mtalt = [0.430024939,0.406061225,0.429761201]\n",
    "print ttest_ind(wtpre,mtpre,equal_var=False)\n",
    "print ttest_ind(wtalt,mtalt,equal_var=False)"
   ]
  },
  {
   "cell_type": "code",
   "execution_count": 140,
   "metadata": {},
   "outputs": [
    {
     "data": {
      "image/png": "[encoded data removed]",
      "text/plain": [
       "<matplotlib.figure.Figure at 0x7f271869d210>"
      ]
     },
     "metadata": {},
     "output_type": "display_data"
    }
   ],
   "source": [
    "fig, ax = plt.subplots(1,1,figsize=(1.5,2.5))\n",
    "\n",
    "bars = ax.bar([-.18,.82],[1,np.average(mtpre)],yerr=[0,sem(mtpre)],width=.36,lw=1.3,\n",
    "              zorder=2,edgecolor='k',facecolor='#1C75BC',capsize=2,error_kw={'zorder':3,'elinewidth':1} )\n",
    "ax.scatter([-.28,-.18,-.08],wtpre,zorder=4,edgecolor='k',facecolor='w',lw=1.3,s=15)\n",
    "ax.scatter([.77,.87,.82],mtpre,zorder=4,edgecolor='k',facecolor='w',lw=1.3,s=15)\n",
    "\n",
    "bars = ax.bar([.18,1.18],[np.average(wtalt),np.average(mtalt)],yerr=[sem(wtalt),sem(mtalt)],width=.36,lw=1.3,\n",
    "              zorder=2,edgecolor='k',facecolor='#7F3F98',capsize=2,error_kw={'zorder':3,'elinewidth':1} )\n",
    "ax.scatter([.13,.23,.18],wtalt,zorder=4,edgecolor='k',facecolor='w',lw=1.3,s=15)\n",
    "ax.scatter([1.13,1.18,1.23],mtalt,zorder=4,edgecolor='k',facecolor='w',lw=1.3,s=15)\n",
    "\n",
    "ax.set_ylabel('Product / Input')\n",
    "ax.set_xticks([])\n",
    "ax.set_yticks([0,.5,1])\n",
    "ax.set_xlim(-.65,1.55)\n",
    "ax.yaxis.grid(ls='-',lw=.5)\n",
    "#fig.savefig('pri-mir-99a_ivp.pdf')"
   ]
  },
  {
   "cell_type": "code",
   "execution_count": 141,
   "metadata": {},
   "outputs": [
    {
     "name": "stdout",
     "output_type": "stream",
     "text": [
      "Ttest_indResult(statistic=45.46630302344321, pvalue=0.00048339897003118906)\n",
      "Ttest_indResult(statistic=4.252694593940142, pvalue=0.030101983523266793)\n"
     ]
    }
   ],
   "source": [
    "## pri-183\n",
    "wtpre = [1,1,1]\n",
    "wtalt = [0.333551239,0.345841362,0.307393604]\n",
    "mtpre = [0.157290947,0.199679241,0.1373811]\n",
    "mtalt = [0.210956684,0.24555534,0.15161773]\n",
    "print ttest_ind(wtpre,mtpre,equal_var=False)\n",
    "print ttest_ind(wtalt,mtalt,equal_var=False)"
   ]
  },
  {
   "cell_type": "code",
   "execution_count": 142,
   "metadata": {},
   "outputs": [
    {
     "data": {
      "image/png": "[encoded data removed]",
      "text/plain": [
       "<matplotlib.figure.Figure at 0x7f26b1288290>"
      ]
     },
     "metadata": {},
     "output_type": "display_data"
    }
   ],
   "source": [
    "fig, ax = plt.subplots(1,1,figsize=(1.5,2.5))\n",
    "\n",
    "bars = ax.bar([-.18,.82],[1,np.average(mtpre)],yerr=[0,sem(mtpre)],width=.36,lw=1.3,\n",
    "              zorder=2,edgecolor='k',facecolor='#1C75BC',capsize=2,error_kw={'zorder':3,'elinewidth':1} )\n",
    "ax.scatter([-.28,-.18,-.08],wtpre,zorder=4,edgecolor='k',facecolor='w',lw=1.3,s=15)\n",
    "ax.scatter([.77,.82,.87],mtpre,zorder=4,edgecolor='k',facecolor='w',lw=1.3,s=15)\n",
    "\n",
    "bars = ax.bar([.18,1.18],[np.average(wtalt),np.average(mtalt)],yerr=[sem(wtalt),sem(mtalt)],width=.36,lw=1.3,\n",
    "              zorder=2,edgecolor='k',facecolor='#7F3F98',capsize=2,error_kw={'zorder':3,'elinewidth':1} )\n",
    "ax.scatter([.13,.23,.18],wtalt,zorder=4,edgecolor='k',facecolor='w',lw=1.3,s=15)\n",
    "ax.scatter([1.13,1.23,1.18],mtalt,zorder=4,edgecolor='k',facecolor='w',lw=1.3,s=15)\n",
    "\n",
    "ax.set_ylabel('Product / Input')\n",
    "ax.set_xticks([])\n",
    "ax.set_yticks([0,.5,1])\n",
    "ax.set_xlim(-.65,1.55)\n",
    "ax.yaxis.grid(ls='-',lw=.5)\n",
    "#fig.savefig('pri-mir-183_ivp.pdf')"
   ]
  },
  {
   "cell_type": "code",
   "execution_count": 146,
   "metadata": {},
   "outputs": [],
   "source": [
    "## pri-99a\n",
    "vector = [0.039921919,0.027429845,0.035124102]\n",
    "wt = [1,1,1]\n",
    "mut = [0.429215768,0.584856134,0.732546543]"
   ]
  },
  {
   "cell_type": "code",
   "execution_count": 149,
   "metadata": {},
   "outputs": [],
   "source": [
    "xs_ve = np.array([-.15,0,.15])\n",
    "xs_wt = np.array([-.15,0,.15])+1\n",
    "xs_mu = np.array([0,0,0])+2\n",
    "\n",
    "xs = [0,1,2]\n",
    "ys = map(np.average,[vector,wt,mut])\n",
    "es = map(sem,[vector,wt,mut])"
   ]
  },
  {
   "cell_type": "code",
   "execution_count": 150,
   "metadata": {},
   "outputs": [
    {
     "data": {
      "image/png": "[encoded data removed]",
      "text/plain": [
       "<matplotlib.figure.Figure at 0x7f26b124a690>"
      ]
     },
     "metadata": {},
     "output_type": "display_data"
    }
   ],
   "source": [
    "fig, ax = plt.subplots(1,1,figsize=(1.8,2.2))\n",
    "ax.bar(xs,ys,yerr=es,edgecolor='k',lw=1,facecolor='#969696',capsize=2,error_kw={'zorder':3},zorder=2,width=.7)\n",
    "ax.scatter(xs_ve,vector,facecolor='w',edgecolor='k',s=15,zorder=4,lw=1.3)\n",
    "ax.scatter(xs_wt,wt,facecolor='w',edgecolor='k',s=15,zorder=4,lw=1.3)\n",
    "ax.scatter(xs_mu,mut,facecolor='w',edgecolor='k',s=15,zorder=4,lw=1.3)\n",
    "ax.set_ylabel('miRNA accumulation\\nin HEK293E cells')\n",
    "ax.set_xticks(xs)\n",
    "ax.set_xticklabels(['Vector','WT','Mut'])\n",
    "ax.set_yticks(np.arange(0,1.01,.2))\n",
    "ax.yaxis.grid(ls='-')\n",
    "ax.spines['left'].set_bounds(0,1)\n",
    "#fig.savefig('pri-mir-99a.pdf')"
   ]
  },
  {
   "cell_type": "code",
   "execution_count": 151,
   "metadata": {},
   "outputs": [],
   "source": [
    "## pri-183 in vivo\n",
    "vector = [0.056766333, 0.041601174, 0.081547904]\n",
    "wt = [1,1,1]\n",
    "mut = [0.526034089, 0.74616148, 0.735339138]"
   ]
  },
  {
   "cell_type": "code",
   "execution_count": 152,
   "metadata": {},
   "outputs": [],
   "source": [
    "xs_ve = np.array([-.15,0,.15])\n",
    "xs_wt = np.array([-.15,0,.15])+1\n",
    "xs_mu = np.array([0,-.075,.075])+2\n",
    "\n",
    "xs = [0,1,2]\n",
    "ys = map(np.average,[vector,wt,mut])\n",
    "es = map(sem,[vector,wt,mut])"
   ]
  },
  {
   "cell_type": "code",
   "execution_count": 153,
   "metadata": {},
   "outputs": [
    {
     "data": {
      "image/png": "[encoded data removed]",
      "text/plain": [
       "<matplotlib.figure.Figure at 0x7f26b0a2dc90>"
      ]
     },
     "metadata": {},
     "output_type": "display_data"
    }
   ],
   "source": [
    "fig, ax = plt.subplots(1,1,figsize=(1.8,2.2))\n",
    "ax.bar(xs,ys,yerr=es,edgecolor='k',lw=1,facecolor='#969696',capsize=2,error_kw={'zorder':3},zorder=2,width=.7)\n",
    "ax.scatter(xs_ve,vector,facecolor='w',edgecolor='k',s=15,zorder=4,lw=1.3)\n",
    "ax.scatter(xs_wt,wt,facecolor='w',edgecolor='k',s=15,zorder=4,lw=1.3)\n",
    "ax.scatter(xs_mu,mut,facecolor='w',edgecolor='k',s=15,zorder=4,lw=1.3)\n",
    "ax.set_ylabel('miRNA accumulation\\nin HEK293E cells')\n",
    "ax.set_xticks(xs)\n",
    "ax.set_xticklabels(['Vector','WT','Mut'])\n",
    "ax.set_yticks(np.arange(0,1.01,.2))\n",
    "ax.yaxis.grid(ls='-')\n",
    "ax.spines['left'].set_bounds(0,1)\n",
    "#fig.savefig('pri-mir-183.pdf')"
   ]
  },
  {
   "cell_type": "code",
   "execution_count": null,
   "metadata": {},
   "outputs": [],
   "source": []
  }
 ],
 "metadata": {
  "kernelspec": {
   "display_name": "Python 2",
   "language": "python",
   "name": "python2"
  },
  "language_info": {
   "codemirror_mode": {
    "name": "ipython",
    "version": 2
   },
   "file_extension": ".py",
   "mimetype": "text/x-python",
   "name": "python",
   "nbconvert_exporter": "python",
   "pygments_lexer": "ipython2",
   "version": "2.7.18"
  }
 },
 "nbformat": 4,
 "nbformat_minor": 2
}

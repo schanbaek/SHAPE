{
 "cells": [
  {
   "cell_type": "markdown",
   "metadata": {},
   "source": [
    "# Table S1. Pri-miRNAs selected for SHAPE-MaP.\n",
    "- (construct sequence, 5p sequence & 3p sequences) X (pri-miRNAs & controls)\n",
    "- based on MirGeneDB\n",
    "---\n",
    "1. Parse data\n",
    "2. Build table"
   ]
  },
  {
   "cell_type": "code",
   "execution_count": 1,
   "metadata": {},
   "outputs": [
    {
     "name": "stdout",
     "output_type": "stream",
     "text": [
      "Last revised by S. Chan Baek at 2024-01-12.\n"
     ]
    }
   ],
   "source": [
    "import time\n",
    "today = time.strftime('%Y-%m-%d')\n",
    "name = 'S. Chan Baek'\n",
    "print 'Last revised by %s at %s.' % (name, today)"
   ]
  },
  {
   "cell_type": "code",
   "execution_count": 2,
   "metadata": {},
   "outputs": [
    {
     "name": "stdout",
     "output_type": "stream",
     "text": [
      "/casa/bsc/projects/2_Structure-of-pri/2007_paper_prep\n"
     ]
    }
   ],
   "source": [
    "HOME = '/casa/bsc/projects/2_Structure-of-pri/2007_paper_prep'\n",
    "%cd $HOME"
   ]
  },
  {
   "cell_type": "code",
   "execution_count": 3,
   "metadata": {},
   "outputs": [],
   "source": [
    "from __future__ import division\n",
    "from Bio import SeqIO\n",
    "import pandas as pd"
   ]
  },
  {
   "cell_type": "markdown",
   "metadata": {},
   "source": [
    "## 1. Parse data\n",
    "- miRNA list and annotation information was retrived from [MirGeneDB v1.1](https://old.mirgenedb.org/gff/hsa?node=0&all=1&sort_desc=False&seed=&query=&sorted_by=name&fnode=0).\n",
    "- miRNA annotation information was adjusted by [MirGeneDB v2](https://mirgenedb.org/gff/ALL?sort=pos&all=1)."
   ]
  },
  {
   "cell_type": "markdown",
   "metadata": {},
   "source": [
    "#### miRNA list (mirgenedb v1)"
   ]
  },
  {
   "cell_type": "code",
   "execution_count": 4,
   "metadata": {},
   "outputs": [
    {
     "name": "stdout",
     "output_type": "stream",
     "text": [
      "519\n"
     ]
    }
   ],
   "source": [
    "dbv1f = 'publication/mirgenedb_v1.gff'\n",
    "dbv1 = pd.read_table(dbv1f, sep='\\t', header=2, usecols=[0,2,3,4,6,8], \n",
    "                     names=['chr','type','start','end','strand','info'])\n",
    "dbv1['db id'] = dbv1['info'].apply(lambda x:x.split(';')[0].split('=')[1]) # Hsa-Let-7-P1_pre\n",
    "dbv1['db name'] = dbv1['db id'].apply(lambda x:x.split('_')[0]) # Hsa-Let-7-P1\n",
    "dbv1pre = dbv1[dbv1['type']=='miRNA_precursor']\n",
    "dbv1pre = dbv1pre[dbv1pre['info'].apply(lambda x:x.find('Alias')>=0)]\n",
    "dbv1pre['mb name'] = dbv1pre['info'].apply(lambda x:x.split(';')[1].split('=')[1])\n",
    "allmirs = dbv1pre['mb name'].tolist()\n",
    "print len(allmirs)"
   ]
  },
  {
   "cell_type": "code",
   "execution_count": 5,
   "metadata": {},
   "outputs": [
    {
     "name": "stdout",
     "output_type": "stream",
     "text": [
      "Hsa-Let-7-P1\n"
     ]
    }
   ],
   "source": [
    "mbdbv1name = dbv1pre.set_index('mb name')['db name'].to_dict()\n",
    "print mbdbv1name['hsa-let-7a-2']"
   ]
  },
  {
   "cell_type": "markdown",
   "metadata": {},
   "source": [
    "#### miRBase information (for parsing mirgenedb v2)"
   ]
  },
  {
   "cell_type": "code",
   "execution_count": 8,
   "metadata": {},
   "outputs": [],
   "source": [
    "def parse_line(row):\n",
    "    for s in row['attr'].split(';'):\n",
    "        tag, value = s.split('=')\n",
    "        row[tag] = value\n",
    "    return row \n",
    "\n",
    "def load_mirbase_annot(gff):\n",
    "    anntbl = pd.read_table(gff, header=12, sep='\\t', usecols=[0,2,3,4,6,8], \n",
    "                           names=['chr','kind','start','end','strand','attr'])\n",
    "    anntbl = anntbl.apply(parse_line, axis=1).drop(['attr'], axis=1)\n",
    "    return anntbl"
   ]
  },
  {
   "cell_type": "code",
   "execution_count": 12,
   "metadata": {},
   "outputs": [
    {
     "data": {
      "text/html": [
       "<div>\n",
       "<style scoped>\n",
       "    .dataframe tbody tr th:only-of-type {\n",
       "        vertical-align: middle;\n",
       "    }\n",
       "\n",
       "    .dataframe tbody tr th {\n",
       "        vertical-align: top;\n",
       "    }\n",
       "\n",
       "    .dataframe thead th {\n",
       "        text-align: right;\n",
       "    }\n",
       "</style>\n",
       "<table border=\"1\" class=\"dataframe\">\n",
       "  <thead>\n",
       "    <tr style=\"text-align: right;\">\n",
       "      <th></th>\n",
       "      <th>Alias</th>\n",
       "      <th>Derives_from</th>\n",
       "      <th>Name</th>\n",
       "      <th>chr</th>\n",
       "      <th>end</th>\n",
       "      <th>kind</th>\n",
       "      <th>start</th>\n",
       "      <th>strand</th>\n",
       "    </tr>\n",
       "    <tr>\n",
       "      <th>ID</th>\n",
       "      <th></th>\n",
       "      <th></th>\n",
       "      <th></th>\n",
       "      <th></th>\n",
       "      <th></th>\n",
       "      <th></th>\n",
       "      <th></th>\n",
       "      <th></th>\n",
       "    </tr>\n",
       "  </thead>\n",
       "  <tbody>\n",
       "    <tr>\n",
       "      <th>MI0022705</th>\n",
       "      <td>MI0022705</td>\n",
       "      <td>NaN</td>\n",
       "      <td>hsa-mir-6859-1</td>\n",
       "      <td>chr1</td>\n",
       "      <td>17436</td>\n",
       "      <td>miRNA_primary_transcript</td>\n",
       "      <td>17369</td>\n",
       "      <td>-</td>\n",
       "    </tr>\n",
       "    <tr>\n",
       "      <th>MI0006363</th>\n",
       "      <td>MI0006363</td>\n",
       "      <td>NaN</td>\n",
       "      <td>hsa-mir-1302-2</td>\n",
       "      <td>chr1</td>\n",
       "      <td>30503</td>\n",
       "      <td>miRNA_primary_transcript</td>\n",
       "      <td>30366</td>\n",
       "      <td>+</td>\n",
       "    </tr>\n",
       "    <tr>\n",
       "      <th>MI0026420</th>\n",
       "      <td>MI0026420</td>\n",
       "      <td>NaN</td>\n",
       "      <td>hsa-mir-6859-2</td>\n",
       "      <td>chr1</td>\n",
       "      <td>187958</td>\n",
       "      <td>miRNA_primary_transcript</td>\n",
       "      <td>187891</td>\n",
       "      <td>-</td>\n",
       "    </tr>\n",
       "    <tr>\n",
       "      <th>MI0022558</th>\n",
       "      <td>MI0022558</td>\n",
       "      <td>NaN</td>\n",
       "      <td>hsa-mir-6723</td>\n",
       "      <td>chr1</td>\n",
       "      <td>632413</td>\n",
       "      <td>miRNA_primary_transcript</td>\n",
       "      <td>632325</td>\n",
       "      <td>-</td>\n",
       "    </tr>\n",
       "    <tr>\n",
       "      <th>MI0000342</th>\n",
       "      <td>MI0000342</td>\n",
       "      <td>NaN</td>\n",
       "      <td>hsa-mir-200b</td>\n",
       "      <td>chr1</td>\n",
       "      <td>1167198</td>\n",
       "      <td>miRNA_primary_transcript</td>\n",
       "      <td>1167104</td>\n",
       "      <td>+</td>\n",
       "    </tr>\n",
       "  </tbody>\n",
       "</table>\n",
       "</div>"
      ],
      "text/plain": [
       "               Alias Derives_from            Name   chr      end  \\\n",
       "ID                                                                 \n",
       "MI0022705  MI0022705          NaN  hsa-mir-6859-1  chr1    17436   \n",
       "MI0006363  MI0006363          NaN  hsa-mir-1302-2  chr1    30503   \n",
       "MI0026420  MI0026420          NaN  hsa-mir-6859-2  chr1   187958   \n",
       "MI0022558  MI0022558          NaN    hsa-mir-6723  chr1   632413   \n",
       "MI0000342  MI0000342          NaN    hsa-mir-200b  chr1  1167198   \n",
       "\n",
       "                               kind    start strand  \n",
       "ID                                                   \n",
       "MI0022705  miRNA_primary_transcript    17369      -  \n",
       "MI0006363  miRNA_primary_transcript    30366      +  \n",
       "MI0026420  miRNA_primary_transcript   187891      -  \n",
       "MI0022558  miRNA_primary_transcript   632325      -  \n",
       "MI0000342  miRNA_primary_transcript  1167104      +  "
      ]
     },
     "execution_count": 12,
     "metadata": {},
     "output_type": "execute_result"
    }
   ],
   "source": [
    "gff = 'publication/human_mirbase-v21.gff3'\n",
    "anntbl = load_mirbase_annot(gff)\n",
    "anntbl = anntbl.set_index('ID')\n",
    "anntbl = anntbl[anntbl['kind']=='miRNA_primary_transcript']\n",
    "anntbl.head()"
   ]
  },
  {
   "cell_type": "markdown",
   "metadata": {},
   "source": [
    "#### miRNA annotation information (mirgenedb v2)"
   ]
  },
  {
   "cell_type": "code",
   "execution_count": 13,
   "metadata": {},
   "outputs": [
    {
     "data": {
      "text/html": [
       "<div>\n",
       "<style scoped>\n",
       "    .dataframe tbody tr th:only-of-type {\n",
       "        vertical-align: middle;\n",
       "    }\n",
       "\n",
       "    .dataframe tbody tr th {\n",
       "        vertical-align: top;\n",
       "    }\n",
       "\n",
       "    .dataframe thead th {\n",
       "        text-align: right;\n",
       "    }\n",
       "</style>\n",
       "<table border=\"1\" class=\"dataframe\">\n",
       "  <thead>\n",
       "    <tr style=\"text-align: right;\">\n",
       "      <th></th>\n",
       "      <th>chr</th>\n",
       "      <th>type</th>\n",
       "      <th>start</th>\n",
       "      <th>end</th>\n",
       "      <th>strand</th>\n",
       "      <th>info</th>\n",
       "    </tr>\n",
       "  </thead>\n",
       "  <tbody>\n",
       "    <tr>\n",
       "      <th>0</th>\n",
       "      <td>chr1</td>\n",
       "      <td>pre_miRNA</td>\n",
       "      <td>1167124</td>\n",
       "      <td>1167182</td>\n",
       "      <td>+</td>\n",
       "      <td>ID=Hsa-Mir-8-P2a_pre;Alias=MI0000342</td>\n",
       "    </tr>\n",
       "    <tr>\n",
       "      <th>1</th>\n",
       "      <td>chr1</td>\n",
       "      <td>miRNA</td>\n",
       "      <td>1167124</td>\n",
       "      <td>1167145</td>\n",
       "      <td>+</td>\n",
       "      <td>ID=Hsa-Mir-8-P2a_5p*;Alias=MIMAT0004571</td>\n",
       "    </tr>\n",
       "    <tr>\n",
       "      <th>2</th>\n",
       "      <td>chr1</td>\n",
       "      <td>miRNA</td>\n",
       "      <td>1167160</td>\n",
       "      <td>1167182</td>\n",
       "      <td>+</td>\n",
       "      <td>ID=Hsa-Mir-8-P2a_3p;Alias=MIMAT0000318</td>\n",
       "    </tr>\n",
       "  </tbody>\n",
       "</table>\n",
       "</div>"
      ],
      "text/plain": [
       "    chr       type    start      end strand  \\\n",
       "0  chr1  pre_miRNA  1167124  1167182      +   \n",
       "1  chr1      miRNA  1167124  1167145      +   \n",
       "2  chr1      miRNA  1167160  1167182      +   \n",
       "\n",
       "                                      info  \n",
       "0     ID=Hsa-Mir-8-P2a_pre;Alias=MI0000342  \n",
       "1  ID=Hsa-Mir-8-P2a_5p*;Alias=MIMAT0004571  \n",
       "2   ID=Hsa-Mir-8-P2a_3p;Alias=MIMAT0000318  "
      ]
     },
     "execution_count": 13,
     "metadata": {},
     "output_type": "execute_result"
    }
   ],
   "source": [
    "dbv2f = 'resources/mirgenedb_v2.gff'\n",
    "dbv2 = pd.read_table(dbv2f, sep='\\t', header=2, usecols=[0,2,3,4,6,8], \n",
    "                     names=['chr','type','start','end','strand','info'])\n",
    "dbv2.head(3)"
   ]
  },
  {
   "cell_type": "code",
   "execution_count": 14,
   "metadata": {},
   "outputs": [],
   "source": [
    "dbv2['db id'] = dbv2['info'].apply(lambda x:x.split(';')[0].split('=')[1])\n",
    "dbv2['db name'] = dbv2['db id'].apply(lambda x:x.split('_')[0])\n",
    "dbv2pre = dbv2[dbv2['type']=='pre_miRNA'].sort_values('db name')\n",
    "dbv2pre = dbv2pre[dbv2pre['info'].apply(lambda x:x.find('Alias')>=0)]\n",
    "dbv2pre['mb id'] = dbv2pre['info'].apply(lambda x:x.split(';')[1].split('=')[1])\n",
    "dbv2pre['mb name'] = dbv2pre['mb id'].apply(lambda x: anntbl.loc[x,'Name'])\n",
    "dbv2pre = dbv2pre.drop_duplicates('mb name')"
   ]
  },
  {
   "cell_type": "code",
   "execution_count": 15,
   "metadata": {},
   "outputs": [
    {
     "name": "stdout",
     "output_type": "stream",
     "text": [
      "Hsa-Let-7-P2a1\n"
     ]
    }
   ],
   "source": [
    "mbdbv2name = dbv2pre.set_index('mb name')['db name'].to_dict()\n",
    "print mbdbv2name['hsa-let-7a-1']"
   ]
  },
  {
   "cell_type": "code",
   "execution_count": 16,
   "metadata": {},
   "outputs": [
    {
     "name": "stdout",
     "output_type": "stream",
     "text": [
      "['Hsa-Let-7-P10_3p*', 'Hsa-Let-7-P10_5p', 'Hsa-Let-7-P10_loop', 'Hsa-Let-7-P10_pre']\n"
     ]
    }
   ],
   "source": [
    "seqsv1 = { s.id:str(s.seq) for s in SeqIO.parse('resources/mirgenedb_v1.fa', 'fasta') }\n",
    "seqsv2 = { s.id:str(s.seq) for s in SeqIO.parse('resources/mirgenedb_v2.fa', 'fasta') }\n",
    "print sorted(seqsv1.keys())[:4]"
   ]
  },
  {
   "cell_type": "code",
   "execution_count": 18,
   "metadata": {
    "scrolled": true
   },
   "outputs": [
    {
     "name": "stdout",
     "output_type": "stream",
     "text": [
      "['Hsa-Mir-10-P2c_pre', 'Hsa-Mir-10-P2c_5p', 'Hsa-Mir-10-P2c_3p*'] ['AACCCGUAGAUCCGAUCUUGUGGUGAAGUGGACCGCACAAGCUCGCUUCUAUGGGUCUGU', 'AACCCGUAGAUCCGAUCUUGUG', 'CAAGCUCGCUUCUAUGGGUCUGU']\n"
     ]
    }
   ],
   "source": [
    "mir = 'hsa-mir-99a'\n",
    "if mir in mbdbv2name:\n",
    "    names = dbv2[dbv2['db name']==mbdbv2name[mir]]['db id'].tolist()\n",
    "    seqs = [ seqsv2[name] for name in names ]\n",
    "else:\n",
    "    names = dbv1[dbv1['db name']==mbdbv1name[mir]]['db id'].tolist()\n",
    "    seqs = [ seqsv1[name] for name in names ]\n",
    "print names, seqs"
   ]
  },
  {
   "cell_type": "markdown",
   "metadata": {},
   "source": [
    "## 2. Build table"
   ]
  },
  {
   "cell_type": "code",
   "execution_count": 20,
   "metadata": {},
   "outputs": [
    {
     "data": {
      "text/html": [
       "<div>\n",
       "<style scoped>\n",
       "    .dataframe tbody tr th:only-of-type {\n",
       "        vertical-align: middle;\n",
       "    }\n",
       "\n",
       "    .dataframe tbody tr th {\n",
       "        vertical-align: top;\n",
       "    }\n",
       "\n",
       "    .dataframe thead th {\n",
       "        text-align: right;\n",
       "    }\n",
       "</style>\n",
       "<table border=\"1\" class=\"dataframe\">\n",
       "  <thead>\n",
       "    <tr style=\"text-align: right;\">\n",
       "      <th></th>\n",
       "      <th>Precursor</th>\n",
       "      <th>5p</th>\n",
       "      <th>3p</th>\n",
       "      <th>Guide</th>\n",
       "    </tr>\n",
       "  </thead>\n",
       "  <tbody>\n",
       "    <tr>\n",
       "      <th>hsa-let-7a-2</th>\n",
       "      <td>UGAGGUAGUAGGUUGUAUAGUUUAGAAUUACAUCAAGGGAGAUAAC...</td>\n",
       "      <td>UGAGGUAGUAGGUUGUAUAGUU</td>\n",
       "      <td>CUGUACAGCCUCCUAGCUUUCC</td>\n",
       "      <td>5p</td>\n",
       "    </tr>\n",
       "  </tbody>\n",
       "</table>\n",
       "</div>"
      ],
      "text/plain": [
       "                                                      Precursor  \\\n",
       "hsa-let-7a-2  UGAGGUAGUAGGUUGUAUAGUUUAGAAUUACAUCAAGGGAGAUAAC...   \n",
       "\n",
       "                                  5p                      3p Guide  \n",
       "hsa-let-7a-2  UGAGGUAGUAGGUUGUAUAGUU  CUGUACAGCCUCCUAGCUUUCC    5p  "
      ]
     },
     "execution_count": 20,
     "metadata": {},
     "output_type": "execute_result"
    }
   ],
   "source": [
    "tbl = pd.DataFrame(columns=['Precursor','5p','3p','Guide'], index=allmirs)\n",
    "for mir in allmirs:\n",
    "    if mir in mbdbv2name:\n",
    "        names = dbv2[dbv2['db name']==mbdbv2name[mir]]['db id'].tolist()\n",
    "        seqs = [ seqsv2[name] for name in names ]\n",
    "    else:\n",
    "        names = dbv1[dbv1['db name']==mbdbv1name[mir]]['db id'].tolist()\n",
    "        seqs = [ seqsv1[name] for name in names ]\n",
    "    if len(names)<3:\n",
    "        print mir; continue\n",
    "    for col, seq in zip(['Precursor','5p','3p'], seqs):\n",
    "        tbl.loc[mir, col] = seq\n",
    "    guide = [ name for name in names[1:] if not name.endswith('*') ][0].split('_')[1]\n",
    "    tbl.loc[mir, 'Guide'] = guide\n",
    "tbl.head(1)"
   ]
  },
  {
   "cell_type": "code",
   "execution_count": 21,
   "metadata": {},
   "outputs": [],
   "source": [
    "tbl.sort_index().to_csv('publication/TableS1__Pri-miRNAs_selected_for_SHAPE-MaP.csv')"
   ]
  },
  {
   "cell_type": "code",
   "execution_count": null,
   "metadata": {},
   "outputs": [],
   "source": []
  }
 ],
 "metadata": {
  "kernelspec": {
   "display_name": "Python 2",
   "language": "python",
   "name": "python2"
  },
  "language_info": {
   "codemirror_mode": {
    "name": "ipython",
    "version": 2
   },
   "file_extension": ".py",
   "mimetype": "text/x-python",
   "name": "python",
   "nbconvert_exporter": "python",
   "pygments_lexer": "ipython2",
   "version": "2.7.18"
  }
 },
 "nbformat": 4,
 "nbformat_minor": 2
}

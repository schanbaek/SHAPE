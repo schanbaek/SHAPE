{
 "cells": [
  {
   "cell_type": "markdown",
   "metadata": {},
   "source": [
    "# Table S2. Constructs used in this study.\n",
    "- Pri-miRNA construct sequences were retrieved from Table S2 of [Kim, Baek et al. (2021)](https://www.sciencedirect.com/science/article/pii/S1097276521005451)\n",
    "---\n",
    "1. Load data\n",
    "2. Control RNA sequences\n",
    "3. Build table"
   ]
  },
  {
   "cell_type": "code",
   "execution_count": 1,
   "metadata": {},
   "outputs": [
    {
     "name": "stdout",
     "output_type": "stream",
     "text": [
      "Last revised by S. Chan Baek at 2024-01-12.\n"
     ]
    }
   ],
   "source": [
    "import time\n",
    "today = time.strftime('%Y-%m-%d')\n",
    "name = 'S. Chan Baek'\n",
    "print 'Last revised by %s at %s.' % (name, today)"
   ]
  },
  {
   "cell_type": "code",
   "execution_count": 2,
   "metadata": {},
   "outputs": [
    {
     "name": "stdout",
     "output_type": "stream",
     "text": [
      "/casa/bsc/projects/2_Structure-of-pri/2007_paper_prep\n"
     ]
    }
   ],
   "source": [
    "HOME = '/casa/bsc/projects/2_Structure-of-pri/2007_paper_prep'\n",
    "%cd $HOME"
   ]
  },
  {
   "cell_type": "code",
   "execution_count": 3,
   "metadata": {},
   "outputs": [],
   "source": [
    "from __future__ import division\n",
    "from Bio import SeqIO\n",
    "from collections import defaultdict\n",
    "import pandas as pd\n",
    "import numpy as np"
   ]
  },
  {
   "cell_type": "code",
   "execution_count": 20,
   "metadata": {},
   "outputs": [
    {
     "name": "stdout",
     "output_type": "stream",
     "text": [
      "519\n"
     ]
    },
    {
     "data": {
      "text/html": [
       "<div>\n",
       "<style scoped>\n",
       "    .dataframe tbody tr th:only-of-type {\n",
       "        vertical-align: middle;\n",
       "    }\n",
       "\n",
       "    .dataframe tbody tr th {\n",
       "        vertical-align: top;\n",
       "    }\n",
       "\n",
       "    .dataframe thead th {\n",
       "        text-align: right;\n",
       "    }\n",
       "</style>\n",
       "<table border=\"1\" class=\"dataframe\">\n",
       "  <thead>\n",
       "    <tr style=\"text-align: right;\">\n",
       "      <th></th>\n",
       "      <th>Precursor</th>\n",
       "      <th>5p</th>\n",
       "      <th>3p</th>\n",
       "      <th>Guide</th>\n",
       "    </tr>\n",
       "  </thead>\n",
       "  <tbody>\n",
       "    <tr>\n",
       "      <th>hsa-let-7a-1</th>\n",
       "      <td>UGAGGUAGUAGGUUGUAUAGUUUUAGGGUCACACCCACCACUGGGA...</td>\n",
       "      <td>UGAGGUAGUAGGUUGUAUAGUU</td>\n",
       "      <td>CUAUACAAUCUACUGUCUUUC</td>\n",
       "      <td>5p</td>\n",
       "    </tr>\n",
       "  </tbody>\n",
       "</table>\n",
       "</div>"
      ],
      "text/plain": [
       "                                                      Precursor  \\\n",
       "hsa-let-7a-1  UGAGGUAGUAGGUUGUAUAGUUUUAGGGUCACACCCACCACUGGGA...   \n",
       "\n",
       "                                  5p                     3p Guide  \n",
       "hsa-let-7a-1  UGAGGUAGUAGGUUGUAUAGUU  CUAUACAAUCUACUGUCUUUC    5p  "
      ]
     },
     "execution_count": 20,
     "metadata": {},
     "output_type": "execute_result"
    }
   ],
   "source": [
    "s1 = pd.read_csv('publication/TableS1__Pri-miRNAs_selected_for_SHAPE-MaP.csv',index_col=0)\n",
    "ALLMIRS = list(s1.index)\n",
    "print len(ALLMIRS)\n",
    "s1.head(1)"
   ]
  },
  {
   "cell_type": "markdown",
   "metadata": {},
   "source": [
    "## 1. Load data"
   ]
  },
  {
   "cell_type": "code",
   "execution_count": 6,
   "metadata": {},
   "outputs": [
    {
     "name": "stdout",
     "output_type": "stream",
     "text": [
      "CTGGATGTTCTCTTCACTGTGGGATGAGGTAGTAGGTTGTATAGTTTTAGGGTCACACCCACCACTGGGAGATAACTATACAATCTACTGTCTTTCCTAACGTGATAGAAAAGTCTGCATCCAGG\n"
     ]
    },
    {
     "data": {
      "text/html": [
       "<div>\n",
       "<style scoped>\n",
       "    .dataframe tbody tr th:only-of-type {\n",
       "        vertical-align: middle;\n",
       "    }\n",
       "\n",
       "    .dataframe tbody tr th {\n",
       "        vertical-align: top;\n",
       "    }\n",
       "\n",
       "    .dataframe thead th {\n",
       "        text-align: right;\n",
       "    }\n",
       "</style>\n",
       "<table border=\"1\" class=\"dataframe\">\n",
       "  <thead>\n",
       "    <tr style=\"text-align: right;\">\n",
       "      <th></th>\n",
       "      <th>Chr</th>\n",
       "      <th>Start</th>\n",
       "      <th>End</th>\n",
       "      <th>Strand</th>\n",
       "      <th>Construct sequence (125 nt)</th>\n",
       "      <th>5' flanking segment</th>\n",
       "      <th>Pre-miRNA</th>\n",
       "      <th>3' flanking segment</th>\n",
       "    </tr>\n",
       "    <tr>\n",
       "      <th>Pri-miRNA</th>\n",
       "      <th></th>\n",
       "      <th></th>\n",
       "      <th></th>\n",
       "      <th></th>\n",
       "      <th></th>\n",
       "      <th></th>\n",
       "      <th></th>\n",
       "      <th></th>\n",
       "    </tr>\n",
       "  </thead>\n",
       "  <tbody>\n",
       "    <tr>\n",
       "      <th>hsa-let-7a-1</th>\n",
       "      <td>chr9</td>\n",
       "      <td>94175938</td>\n",
       "      <td>94176062</td>\n",
       "      <td>+</td>\n",
       "      <td>CTGGATGTTCTCTTCACTGTGGGATGAGGTAGTAGGTTGTATAGTT...</td>\n",
       "      <td>CUGGAUGUUCUCUUCACUGUGGGA</td>\n",
       "      <td>UGAGGUAGUAGGUUGUAUAGUUUUAGGGUCACACCCACCACUGGGA...</td>\n",
       "      <td>CUAACGUGAUAGAAAAGUCUGCAUCCAGG</td>\n",
       "    </tr>\n",
       "  </tbody>\n",
       "</table>\n",
       "</div>"
      ],
      "text/plain": [
       "               Chr     Start       End Strand  \\\n",
       "Pri-miRNA                                       \n",
       "hsa-let-7a-1  chr9  94175938  94176062      +   \n",
       "\n",
       "                                    Construct sequence (125 nt)  \\\n",
       "Pri-miRNA                                                         \n",
       "hsa-let-7a-1  CTGGATGTTCTCTTCACTGTGGGATGAGGTAGTAGGTTGTATAGTT...   \n",
       "\n",
       "                   5' flanking segment  \\\n",
       "Pri-miRNA                                \n",
       "hsa-let-7a-1  CUGGAUGUUCUCUUCACUGUGGGA   \n",
       "\n",
       "                                                      Pre-miRNA  \\\n",
       "Pri-miRNA                                                         \n",
       "hsa-let-7a-1  UGAGGUAGUAGGUUGUAUAGUUUUAGGGUCACACCCACCACUGGGA...   \n",
       "\n",
       "                        3' flanking segment  \n",
       "Pri-miRNA                                    \n",
       "hsa-let-7a-1  CUAACGUGAUAGAAAAGUCUGCAUCCAGG  "
      ]
     },
     "execution_count": 6,
     "metadata": {},
     "output_type": "execute_result"
    }
   ],
   "source": [
    "kims2file = 'publication/Kim2021_TableS2.xlsx'\n",
    "kims2 = pd.ExcelFile(kims2file).parse('s2. Pri-miRNA constructs',header=9,index_col=0)\n",
    "constseqs = dict(kims2['Construct sequence (125 nt)'])\n",
    "print constseqs['hsa-let-7a-1']\n",
    "kims2.head(1)"
   ]
  },
  {
   "cell_type": "markdown",
   "metadata": {},
   "source": [
    "## 2. Control RNA sequences"
   ]
  },
  {
   "cell_type": "code",
   "execution_count": 21,
   "metadata": {},
   "outputs": [],
   "source": [
    "CONTROLS = ['IRES-domainII', 'U1-snRNA', 'Yeast-tRNAasp']\n",
    "CTL_SEQS = { \n",
    "'U1-snRNA':'ATACTTACCTGGCAGGGGAGATACCATGATCACGAAGGTGGTTTTCCCAGGGCGAGGCTTATCCATTGCACTCCGGATGTGC\\\n",
    "TGACCCCTGCGATTTCCCCAAATGTGGGAAACTCGACTGCATAATTTGTGGTAGTGGGGGACTGCGTTCGCGCTTTCCCCTG',\n",
    "'Yeast-tRNAasp':'GCCGTGATAGTTTAATGGTCAGAATGGGCGCTTGTCGCGTGCCAGATCGGGGTTCAATTCCCCGTCGCGGCGCCA',\n",
    "'IRES-domainII':'CCATGAATCACTCCCCTGTGAGGAACTACTGTCTTCACGCAGAAAGCGTCTAGCCATGGCGTTAGTATGAGTGTCGT\\\n",
    "GCAGCCTCCAGGACCCCC'}\n",
    "CTL_STRS = {\n",
    "'IRES-domainII':'0 0 0 0 0 0 0 0 0 0 0 0 0 0 89 88 87 86 0 85 84 83 82 0 0 0 0 0 81 80 79 78 \\\n",
    "76 0 0 73 72 71 0 69 68 0 0 0 63 62 61 60 59 58 0 0 0 0 0 0 0 50 49 48 47 46 45 0 0 0 0 41 40 0 \\\n",
    "38 37 36 0 0 33 0 32 31 30 29 23 22 21 20 18 17 16 15 0 0 0 0 0 0',\n",
    "'U1-snRNA':'0 0 0 0 0 0 0 0 0 0 0 122 121 120 119 0 47 46 45 44 43 0 42 41 40 39 38 0 0 0 0 0 \\\n",
    "0 0 0 0 0 27 26 25 24 23 21 20 19 18 17 91 90 89 88 87 0 0 0 83 82 81 0 79 78 77 76 75 0 0 0 \\\n",
    "0 0 0 0 0 0 0 64 63 62 61 60 0 58 57 56 0 0 0 52 51 50 49 48 117 116 115 113 112 111 110 109 \\\n",
    "108 0 0 0 0 0 0 0 100 99 98 97 96 95 0 94 93 92 0 15 14 13 12 0 0 0 0 0 0 0 0 0 0 0 0 0 0 0 \\\n",
    "163 162 161 160 159 158 0 0 155 154 153 0 0 0 0 148 147 146 0 0 143 142 141 140 139 138 0',\n",
    "'Yeast-tRNAasp':'71 70 69 68 67 66 65 0 0 25 24 23 22 0 0 0 0 0 0 0 0 13 12 11 10 0 43 42 41 \\\n",
    "40 39 0 0 0 0 0 0 0 31 30 29 28 27 0 0 0 0 64 63 62 61 60 0 0 0 0 0 0 0 52 51 50 49 48 7 6 5 \\\n",
    "4 3 2 1 0 0 0 0'}"
   ]
  },
  {
   "cell_type": "code",
   "execution_count": 22,
   "metadata": {},
   "outputs": [],
   "source": [
    "def make_ct(ctl, out):\n",
    "    seq = CTL_SEQS[ctl].replace('T','U')\n",
    "    sts = map(int, CTL_STRS[ctl].split())\n",
    "    with open(out, 'wt') as outf:\n",
    "        outf.write('%5s %s\\n'%(len(seq),ctl))\n",
    "        for i, (nuc,bp) in enumerate(zip(seq,sts)):\n",
    "            outf.write('%5s %s   %5s%5s%5s%5s\\n'%(i+1,nuc,i,(i+2)%(len(seq)+1),bp,i+1))"
   ]
  },
  {
   "cell_type": "code",
   "execution_count": 15,
   "metadata": {},
   "outputs": [],
   "source": [
    "pvclient = '/casa/bsc/bin/ShapeMapper_v1.2/pvclient.py'\n",
    "epspdf = '/casa/bsc/.local/texlive/2017/bin/x86_64-linux/epspdf'"
   ]
  },
  {
   "cell_type": "code",
   "execution_count": 19,
   "metadata": {},
   "outputs": [
    {
     "name": "stdout",
     "output_type": "stream",
     "text": [
      "IRES-domainII Done.\n",
      "U1-snRNA Done.\n",
      "Yeast-tRNAasp Done.\n"
     ]
    }
   ],
   "source": [
    "# Ct files for validating our SHAPE-MaP experiments\n",
    "for ctl in CONTROLS:\n",
    "    ctfile = 'publication/controls/%s_ref.ct'%ctl\n",
    "    out = 'publication/controls/%s_ref'%ctl\n",
    "    eps = '%s.eps'%out\n",
    "    make_ct(ctl, ctfile)\n",
    "    result = !$pvclient --ct $ctfile --out $out\n",
    "    print ctl, result[-1]"
   ]
  },
  {
   "cell_type": "code",
   "execution_count": 23,
   "metadata": {},
   "outputs": [],
   "source": [
    "# Reference sequence files for aligning\n",
    "with open('publication/Constructs.fa', 'wt') as out:\n",
    "    for pri in ALLMIRS:\n",
    "        out.write('>%s\\n%s\\n' % (pri,constseqs[pri]))\n",
    "    for ctl in CONTROLS:\n",
    "        out.write('>%s\\n%s\\n' % (ctl,CTL_SEQS[ctl]))"
   ]
  },
  {
   "cell_type": "markdown",
   "metadata": {},
   "source": [
    "## 3. Build table"
   ]
  },
  {
   "cell_type": "code",
   "execution_count": 24,
   "metadata": {},
   "outputs": [],
   "source": [
    "tbl = pd.DataFrame(index=ALLMIRS, columns=['Construct sequence'])\n",
    "for mir in ALLMIRS:\n",
    "    tbl.loc[mir, 'Construct sequence'] = constseqs[mir]"
   ]
  },
  {
   "cell_type": "code",
   "execution_count": 25,
   "metadata": {},
   "outputs": [],
   "source": [
    "for ct in sorted(CONTROLS):\n",
    "    tbl.loc[ct, 'Construct sequence'] = CTL_SEQS[ct]"
   ]
  },
  {
   "cell_type": "code",
   "execution_count": 26,
   "metadata": {},
   "outputs": [
    {
     "data": {
      "text/html": [
       "<div>\n",
       "<style scoped>\n",
       "    .dataframe tbody tr th:only-of-type {\n",
       "        vertical-align: middle;\n",
       "    }\n",
       "\n",
       "    .dataframe tbody tr th {\n",
       "        vertical-align: top;\n",
       "    }\n",
       "\n",
       "    .dataframe thead th {\n",
       "        text-align: right;\n",
       "    }\n",
       "</style>\n",
       "<table border=\"1\" class=\"dataframe\">\n",
       "  <thead>\n",
       "    <tr style=\"text-align: right;\">\n",
       "      <th></th>\n",
       "      <th>Construct sequence</th>\n",
       "    </tr>\n",
       "  </thead>\n",
       "  <tbody>\n",
       "    <tr>\n",
       "      <th>Yeast-tRNAasp</th>\n",
       "      <td>GCCGTGATAGTTTAATGGTCAGAATGGGCGCTTGTCGCGTGCCAGA...</td>\n",
       "    </tr>\n",
       "  </tbody>\n",
       "</table>\n",
       "</div>"
      ],
      "text/plain": [
       "                                              Construct sequence\n",
       "Yeast-tRNAasp  GCCGTGATAGTTTAATGGTCAGAATGGGCGCTTGTCGCGTGCCAGA..."
      ]
     },
     "execution_count": 26,
     "metadata": {},
     "output_type": "execute_result"
    }
   ],
   "source": [
    "tbl.tail(1)"
   ]
  },
  {
   "cell_type": "code",
   "execution_count": 27,
   "metadata": {},
   "outputs": [],
   "source": [
    "tbl.to_csv('publication/TableS2__Constructs_used_in_this_study.csv')"
   ]
  },
  {
   "cell_type": "code",
   "execution_count": null,
   "metadata": {},
   "outputs": [],
   "source": []
  }
 ],
 "metadata": {
  "kernelspec": {
   "display_name": "Python 2",
   "language": "python",
   "name": "python2"
  },
  "language_info": {
   "codemirror_mode": {
    "name": "ipython",
    "version": 2
   },
   "file_extension": ".py",
   "mimetype": "text/x-python",
   "name": "python",
   "nbconvert_exporter": "python",
   "pygments_lexer": "ipython2",
   "version": "2.7.18"
  }
 },
 "nbformat": 4,
 "nbformat_minor": 2
}

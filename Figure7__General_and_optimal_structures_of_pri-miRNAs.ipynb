{
 "cells": [
  {
   "attachments": {},
   "cell_type": "markdown",
   "metadata": {},
   "source": [
    "## Figure 7. General and optimal structures of pri-miRNAs.\n"
   ]
  },
  {
   "cell_type": "code",
   "execution_count": 1,
   "metadata": {},
   "outputs": [
    {
     "name": "stdout",
     "output_type": "stream",
     "text": [
      "Last revised by S. Chan Baek at 2024-01-26.\n"
     ]
    }
   ],
   "source": [
    "import time\n",
    "today = time.strftime('%Y-%m-%d')\n",
    "name = 'S. Chan Baek'\n",
    "print 'Last revised by %s at %s.' % (name, today)"
   ]
  },
  {
   "cell_type": "code",
   "execution_count": 2,
   "metadata": {},
   "outputs": [
    {
     "name": "stdout",
     "output_type": "stream",
     "text": [
      "/casa/bsc/projects/2_Structure-of-pri/2007_paper_prep/240126/\n",
      "/casa/bsc/projects/2_Structure-of-pri/2007_paper_prep\n"
     ]
    }
   ],
   "source": [
    "import os\n",
    "HOME = '/casa/bsc/projects/2_Structure-of-pri/2007_paper_prep'\n",
    "SAVEPATH = '%s/%s/'%(HOME,time.strftime('%y%m%d'))\n",
    "#if not os.path.exists(SAVEPATH):\n",
    "#    os.makedirs(SAVEPATH)\n",
    "print SAVEPATH\n",
    "%cd $HOME"
   ]
  },
  {
   "cell_type": "code",
   "execution_count": 45,
   "metadata": {},
   "outputs": [],
   "source": [
    "from __future__ import division\n",
    "from collections import Counter, defaultdict\n",
    "from matplotlib import pyplot as plt\n",
    "from matplotlib import gridspec, lines, colors\n",
    "from scipy.stats import pearsonr, mannwhitneyu, sem\n",
    "from os import listdir\n",
    "import pandas as pd\n",
    "import numpy as np\n",
    "import re\n",
    "%matplotlib inline"
   ]
  },
  {
   "cell_type": "code",
   "execution_count": 4,
   "metadata": {},
   "outputs": [
    {
     "name": "stdout",
     "output_type": "stream",
     "text": [
      "476\n"
     ]
    }
   ],
   "source": [
    "s1 = pd.read_csv('publication/TableS1__Pri-miRNAs_selected_for_SHAPE-MaP.csv',index_col=0)\n",
    "s2 = pd.read_csv('publication/TableS2__Constructs_used_in_this_study.csv',index_col=0)\n",
    "s3 = pd.read_csv('publication/TableS3_2__SHAPE_reactivity.csv',index_col=0)\n",
    "s3.columns = range(1,126)\n",
    "s3cnts = pd.read_csv('publication/TableS3_1__Read_counts.csv',index_col=0)\n",
    "s3shan = pd.read_csv('publication/TableS3_3__Shannon_entropy.csv',index_col=0)\n",
    "s3shan.columns = range(1,126)\n",
    "s3shan = s3shan.fillna(0)\n",
    "s4str = pd.read_csv('publication/TableS4_1__SHAPE-based_pri-miRNA_structures.csv',index_col=0)\n",
    "s4str.columns = range(1,126)\n",
    "s4 = pd.read_csv('publication/TableS4_2__Structural_features_of_pri-miRNAs.csv',index_col=0)\n",
    "releffs = s4['Cleavage efficiency (MP)']\n",
    "relhoms = s4['Cleavage homogeneity (MP)']\n",
    "constseqs = s2['Construct sequence'].to_dict()\n",
    "folded = list(s4.index)\n",
    "print len(folded)"
   ]
  },
  {
   "cell_type": "code",
   "execution_count": 5,
   "metadata": {},
   "outputs": [],
   "source": [
    "def get_pre_position(mir):\n",
    "    constseq = constseqs[mir].replace('T','U')\n",
    "    preseq = s1.loc[mir, 'Precursor']\n",
    "    return constseq.find(preseq)+1, constseq.find(preseq)+len(preseq)\n",
    "\n",
    "def split_ct(ctfile):\n",
    "    infos = open(ctfile, 'rt').read()\n",
    "    length = int(infos.split('\\n')[0].strip().split()[0])\n",
    "    rna = infos.split('\\n')[0].strip().split()[-1]\n",
    "    nstrt = infos.count(rna)\n",
    "    splitinfos = []\n",
    "    for i in range(nstrt):\n",
    "        lines = infos.split('\\n')[1+(1+length)*i:(1+length)*(i+1)]\n",
    "        splitinfos.append([ tuple(map(int,l.strip().split()[4:6][::-1])) for l in lines ])\n",
    "    return splitinfos"
   ]
  },
  {
   "cell_type": "markdown",
   "metadata": {},
   "source": [
    "---\n",
    "### A. General structure of pri-miRNAs"
   ]
  },
  {
   "cell_type": "code",
   "execution_count": 13,
   "metadata": {},
   "outputs": [],
   "source": [
    "s4['Bulges'] = s4['5p bulges']+s4['3p bulges']"
   ]
  },
  {
   "cell_type": "code",
   "execution_count": 14,
   "metadata": {},
   "outputs": [
    {
     "name": "stdout",
     "output_type": "stream",
     "text": [
      "Stem length (bp) [33 36]\n",
      "Apical loop size (nt) [11 15]\n",
      "3' basal segment length (nt) [ 2 14]\n",
      "Mismatches [3 5]\n",
      "Bulges [1 4]\n"
     ]
    }
   ],
   "source": [
    "features = ['Stem length (bp)','Apical loop size (nt)',\"3' basal segment length (nt)\",'Mismatches','Bulges']\n",
    "for feat in features:\n",
    "    print feat, np.percentile(s4[feat],[25,75],interpolation='nearest')"
   ]
  },
  {
   "cell_type": "markdown",
   "metadata": {},
   "source": [
    "### B. Optimal structure of pri-miRNA"
   ]
  },
  {
   "cell_type": "code",
   "execution_count": 17,
   "metadata": {},
   "outputs": [],
   "source": [
    "OPT_STEM = [34,35,36]\n",
    "OPT_LSTEM = [13]\n",
    "OPT_LOOP = range(13,999)\n",
    "OPT_MM = [0,1]\n",
    "OPT_BS3 = range(5,999)"
   ]
  },
  {
   "cell_type": "markdown",
   "metadata": {},
   "source": [
    "### C. Combination of optimal structures"
   ]
  },
  {
   "cell_type": "code",
   "execution_count": 18,
   "metadata": {},
   "outputs": [
    {
     "name": "stdout",
     "output_type": "stream",
     "text": [
      "['stem', 'lower stem', 'mismatch', 'loop', 'BS']\n"
     ]
    }
   ],
   "source": [
    "features = ['Stem length (bp)','Lower stem length (bp)','Apical loop size (nt)','Mismatches','Bulges','Mismatch at -6',\n",
    "            'bGWG at -10/-11',\"3' basal segment length (nt)\"]\n",
    "mirfeat = defaultdict(list)\n",
    "for m in folded:\n",
    "    stlen,lslen,loop,mm,bg,mm6,bgwg,bs3 = s4.loc[m,features]\n",
    "    mm = mm-mm6\n",
    "    bg = bg-bgwg\n",
    "    \n",
    "    if stlen in OPT_STEM:\n",
    "        mirfeat[m].append('stem')\n",
    "    if lslen in OPT_LSTEM:\n",
    "        mirfeat[m].append('lower stem')\n",
    "    if mm in OPT_MM:\n",
    "        mirfeat[m].append('mismatch')\n",
    "    if loop in OPT_LOOP:\n",
    "        mirfeat[m].append('loop')\n",
    "    if bs3 in OPT_BS3:\n",
    "        mirfeat[m].append('BS')\n",
    "    if m not in mirfeat:\n",
    "        mirfeat[m]=[]\n",
    "print mirfeat['hsa-let-7a-1']"
   ]
  },
  {
   "cell_type": "code",
   "execution_count": 25,
   "metadata": {},
   "outputs": [
    {
     "name": "stdout",
     "output_type": "stream",
     "text": [
      "19 448\n"
     ]
    }
   ],
   "source": [
    "CNTCUT = 6\n",
    "allcoms = set([';'.join(vs) for vs in mirfeat.values()])\n",
    "comcnts = Counter([';'.join(vs) for vs in mirfeat.values()])\n",
    "suffcoms = [com for com in allcoms if comcnts[com]>=CNTCUT]\n",
    "sortcoms = sorted(suffcoms,key=lambda x:comcnts[x])[::-1]\n",
    "cs = ['#a1dab4','#41b6c4','#2c7fb8','#253494','#253494']\n",
    "ys1 = [comcnts[com] for com in sortcoms]\n",
    "ys1 = np.array(ys1)/len(folded)*100\n",
    "tmpd = {0:'#a1dab4',1:'#a1dab4', 2:'#41b6c4', 3:'#2c7fb8', 4:'#253494', 5:'#253494'}\n",
    "csl = [tmpd[len(com.split(';'))] for com in sortcoms]\n",
    "labels = ['0-1','2','3','4-5']\n",
    "print len(sortcoms), sum([comcnts[com] for com in suffcoms])"
   ]
  },
  {
   "cell_type": "code",
   "execution_count": 27,
   "metadata": {},
   "outputs": [
    {
     "data": {
      "image/png": "[encoded data removed]",
      "text/plain": [
       "<matplotlib.figure.Figure at 0x7f34f8666b50>"
      ]
     },
     "metadata": {},
     "output_type": "display_data"
    }
   ],
   "source": [
    "feats2 = ['loop','stem','lower stem','mismatch','BS']\n",
    "named = {'loop':'Apical loop size','stem':'Stem length', 'lower stem':'Lower stem length',\n",
    "         'mismatch':'Mismatch count','BS':'Basal segment length','bulge':'Bulge count'}\n",
    "\n",
    "fig = plt.figure(figsize=(3.3,3))\n",
    "gs = gridspec.GridSpec(5,1)\n",
    "ax1 = plt.subplot2grid((5,1),(0,0),colspan=1,rowspan=3)\n",
    "ax2 = plt.subplot2grid((5,1),(3,0),colspan=1,rowspan=2)\n",
    "fig.subplots_adjust(hspace=.1)\n",
    "\n",
    "l = len(feats2)\n",
    "for i, mots in enumerate(sortcoms):\n",
    "    colors = [ '#242424' if mot in mots.split(';') else '#cdcdcd' for mot in feats2 ]\n",
    "    ax2.scatter([i]*l, range(l), s=95, color=colors, linewidth=0)\n",
    "ax2.spines['bottom'].set_visible(False)\n",
    "ax2.spines['left'].set_visible(False)\n",
    "ax2.set_ylim(-.6,len(feats2)+.5)\n",
    "ax2.invert_yaxis()\n",
    "ax2.set_xticks([]); ax2.set_yticks([])\n",
    "for i,txt in zip(range(len(feats2)),feats2):\n",
    "    ax2.text(-.9,i,named[txt],va='center',ha='right',fontsize=10)\n",
    "\n",
    "for c,l in zip(cs,labels):\n",
    "    ax1.bar([-1],[0],color=c,label=l,width=.7,edgecolor='k',lw=1)\n",
    "ax1.legend(handlelength=1,title='No. optimal\\nfeatures',labelspacing=.25,\n",
    "           loc=(.7,.3))\n",
    "ax1.set_ylim(0,10)\n",
    "\n",
    "for ax in [ax1,ax2]:\n",
    "    ax.set_xlim(-.7,len(ys1)-.3)\n",
    "    ax.tick_params(bottom='off')\n",
    "    \n",
    "ax1.spines['left'].set_visible(False)\n",
    "ax1.spines['bottom'].set_visible(False)\n",
    "ax1.set_facecolor('#ededed')\n",
    "ax1.bar(range(len(ys1)),ys1,color=csl,width=.7,edgecolor='k',lw=1,zorder=2)\n",
    "ax1.set_ylabel('Pri-miRNAs (%)')\n",
    "ax1.set_yticks(range(0,11,2))\n",
    "ax1.yaxis.grid(ls='-',lw=.8,color='w')\n",
    "#fig.savefig('combination.pdf',dpi=300)"
   ]
  },
  {
   "cell_type": "markdown",
   "metadata": {},
   "source": [
    "### D-E. Cleavage efficiency and cleavage homogeneity"
   ]
  },
  {
   "cell_type": "code",
   "execution_count": 32,
   "metadata": {},
   "outputs": [
    {
     "name": "stdout",
     "output_type": "stream",
     "text": [
      "['MIMAT0000510']\n",
      "hsa-mir-6859-1\n",
      "['hsa-let-7a-2', 'hsa-let-7i', 'hsa-let-7e', 'hsa-let-7c', 'hsa-let-7a-3', 'hsa-let-7b', 'hsa-let-7g', 'hsa-let-7a-1', 'hsa-let-7f-1', 'hsa-let-7d', 'hsa-mir-98', 'hsa-let-7f-2']\n"
     ]
    }
   ],
   "source": [
    "def parse_line(row):\n",
    "    for s in row['attr'].split(';'):\n",
    "        tag, value = s.split('=')\n",
    "        row[tag] = value\n",
    "    return row\n",
    "\n",
    "def load_mirbase_annot():\n",
    "    gff = 'publication/human_mirbase-v21.gff3'\n",
    "    anntbl = pd.read_table(gff, header=12, sep='\\t', usecols=[0,2,3,4,6,8], \n",
    "                           names=['chr','kind','start','end','strand','attr'])\n",
    "    anntbl = anntbl.apply(parse_line, axis=1).drop(['attr'], axis=1)\n",
    "    return anntbl\n",
    "\n",
    "def drop_family(ml):\n",
    "    dupls = []\n",
    "    for fam in famgrps:\n",
    "        overlap = [m for m in famgrps[fam] if m in ml]\n",
    "        \n",
    "        if len(overlap)>=2:\n",
    "            dupls.extend(overlap[1:])\n",
    "    return [m for m in ml if m not in dupls]\n",
    "\n",
    "anntbl = load_mirbase_annot()\n",
    "annpri = anntbl[anntbl['kind']=='miRNA_primary_transcript'].set_index('Name')\n",
    "annmat = anntbl[anntbl['kind']=='miRNA'].set_index('ID')\n",
    "\n",
    "primat = {}\n",
    "for pri, row in annpri.iterrows():\n",
    "    matureDerives = anntbl[anntbl['Derives_from']==row['ID']]\n",
    "    primat[pri] = matureDerives['ID'].tolist()\n",
    "print primat['hsa-mir-320a']\n",
    "\n",
    "namedict = annpri.reset_index().set_index('Alias')['Name'].to_dict()\n",
    "print namedict['MI0022705']\n",
    "\n",
    "dbf = 'publication/mirgenedb_v2.gff'\n",
    "db = pd.read_table(dbf, sep='\\t', header=2, usecols=[0,2,3,4,6,8], \n",
    "                     names=['chr','type','start','end','strand','info'])\n",
    "db['db id'] = db['info'].apply(lambda x:x.split(';')[0].split('=')[1]) # Hsa-Let-7-P1_pre\n",
    "db['db name'] = db['db id'].apply(lambda x:x.split('_')[0]) # Hsa-Let-7-P1\n",
    "dbpre = db[db['type']=='pre_miRNA'].copy()\n",
    "dbpre['family'] = db['db name'].apply(lambda x:'-'.join(x.split('-')[1:3]))\n",
    "dbpre = dbpre[dbpre['info'].apply(lambda x:x.find('Alias')>=0)]\n",
    "dbpre['mb name'] = dbpre['info'].apply(lambda x:namedict[x.split(';')[1].split('=')[1]])\n",
    "allmirs = dbpre['mb name'].tolist()\n",
    "famgrps = {fam:grp['mb name'].tolist() for fam,grp in dbpre.groupby('family')}\n",
    "print famgrps['Let-7']"
   ]
  },
  {
   "cell_type": "code",
   "execution_count": 35,
   "metadata": {},
   "outputs": [
    {
     "name": "stdout",
     "output_type": "stream",
     "text": [
      "[93, 102, 65, 43]\n"
     ]
    }
   ],
   "source": [
    "bins = [(0,1),(2,2),(3,3),(4,6)]\n",
    "labels = ['0-1',2,3,'4-5']\n",
    "mls = [drop_family([m for m in folded if lb<=len(mirfeat[m])<=ub]) for lb,ub in bins]\n",
    "cs = ['#a1dab4','#41b6c4','#2c7fb8','#253494','#253494']\n",
    "print map(len,mls) "
   ]
  },
  {
   "cell_type": "code",
   "execution_count": 36,
   "metadata": {},
   "outputs": [
    {
     "name": "stdout",
     "output_type": "stream",
     "text": [
      "8.432672424100323e-08\n",
      "0.00016112220046057415\n",
      "0.20712937915631235\n"
     ]
    }
   ],
   "source": [
    "data = [ [releffs[m] for m in ml] for ml in mls ]\n",
    "print mannwhitneyu(data[-1],data[0])[1]*2\n",
    "print mannwhitneyu(data[-1],data[1])[1]*2\n",
    "print mannwhitneyu(data[-1],data[2])[1]*2"
   ]
  },
  {
   "cell_type": "code",
   "execution_count": 38,
   "metadata": {},
   "outputs": [
    {
     "data": {
      "image/png": "[encoded data removed]",
      "text/plain": [
       "<matplotlib.figure.Figure at 0x7f34ff2217d0>"
      ]
     },
     "metadata": {},
     "output_type": "display_data"
    }
   ],
   "source": [
    "data = [ [d if d<1.6 else 1.6 for d in ds] for ds in data ]\n",
    "bins = np.arange(-.01,1.62,.02)\n",
    "xs = np.arange(0,1.61,.02)\n",
    "\n",
    "fig, ax = plt.subplots(1, 1, figsize=(1.85,2))\n",
    "for ds,l,c in zip(data,labels,cs):\n",
    "    vs, ts = np.histogram(ds,bins=bins)\n",
    "    ax.plot(xs, vs.cumsum()/vs.sum(), lw=1.8, label='%s (%s)       '%(l,len(ds)),color=c)\n",
    "ax.spines['left'].set_bounds(0,1)\n",
    "ax.set_xlabel('Cleavage efficiency')\n",
    "ax.set_ylabel('Cumulative fraction')\n",
    "ax.set_xticks([0,.5,1,1.5])\n",
    "ax.set_yticks(np.arange(0,1.1,.25))\n",
    "ax.grid(ls='-',lw=.5)\n",
    "ax.legend(handlelength=.8,loc=(.84,.03),title='No. optimal features',labelspacing=.4)\n",
    "#fig.savefig('eff.pdf')#,dpi=300)"
   ]
  },
  {
   "cell_type": "code",
   "execution_count": 39,
   "metadata": {},
   "outputs": [
    {
     "name": "stdout",
     "output_type": "stream",
     "text": [
      "7.095594921440403e-10\n",
      "1.6049248444906648e-05\n",
      "0.06971179453351256\n"
     ]
    }
   ],
   "source": [
    "data = [ [relhoms[m] for m in ml] for ml in mls ]\n",
    "print mannwhitneyu(data[-1],data[0])[1]*2\n",
    "print mannwhitneyu(data[-1],data[1])[1]*2\n",
    "print mannwhitneyu(data[-1],data[2])[1]*2"
   ]
  },
  {
   "cell_type": "code",
   "execution_count": 40,
   "metadata": {},
   "outputs": [
    {
     "data": {
      "text/plain": [
       "<matplotlib.legend.Legend at 0x7f34f6d0d210>"
      ]
     },
     "execution_count": 40,
     "metadata": {},
     "output_type": "execute_result"
    },
    {
     "data": {
      "image/png": "[encoded data removed]",
      "text/plain": [
       "<matplotlib.figure.Figure at 0x7f34f6f93c90>"
      ]
     },
     "metadata": {},
     "output_type": "display_data"
    }
   ],
   "source": [
    "bins = np.arange(-.01,1.02,.02)\n",
    "xs = np.arange(0,1.01,.02)\n",
    "\n",
    "fig, ax = plt.subplots(1, 1, figsize=(1.85,2))\n",
    "for ds,l,c in zip(data,labels,cs):\n",
    "    vs, ts = np.histogram(ds,bins=bins)\n",
    "    ax.plot(xs, vs.cumsum()/vs.sum(), lw=1.8, label='%s (%s)       '%(l,len(ds)),color=c)\n",
    "ax.spines['left'].set_bounds(0,1)\n",
    "ax.set_xlabel('Cleavage homogeneity')\n",
    "ax.set_ylabel('Cumulative fraction')\n",
    "ax.set_yticks(np.arange(0,1.1,.25))\n",
    "ax.grid(ls='-',lw=.5)\n",
    "ax.legend(handlelength=.8,loc=(.9,.03),title='No. optimal features',labelspacing=.4)\n",
    "#fig.savefig('hom.pdf')#,dpi=300)"
   ]
  },
  {
   "cell_type": "markdown",
   "metadata": {},
   "source": [
    "### F-G. Conservation and cellular expression of miRNA groups classified in (C)"
   ]
  },
  {
   "cell_type": "code",
   "execution_count": 33,
   "metadata": {},
   "outputs": [
    {
     "data": {
      "text/html": [
       "<div>\n",
       "<style scoped>\n",
       "    .dataframe tbody tr th:only-of-type {\n",
       "        vertical-align: middle;\n",
       "    }\n",
       "\n",
       "    .dataframe tbody tr th {\n",
       "        vertical-align: top;\n",
       "    }\n",
       "\n",
       "    .dataframe thead th {\n",
       "        text-align: right;\n",
       "    }\n",
       "</style>\n",
       "<table border=\"1\" class=\"dataframe\">\n",
       "  <thead>\n",
       "    <tr style=\"text-align: right;\">\n",
       "      <th></th>\n",
       "      <th>hek293t_1</th>\n",
       "      <th>hek293t_2</th>\n",
       "      <th>hela_1</th>\n",
       "      <th>hela_2</th>\n",
       "    </tr>\n",
       "  </thead>\n",
       "  <tbody>\n",
       "    <tr>\n",
       "      <th>hsa-let-7a-2-3p</th>\n",
       "      <td>0.0</td>\n",
       "      <td>0.0</td>\n",
       "      <td>14.621023</td>\n",
       "      <td>16.57337</td>\n",
       "    </tr>\n",
       "  </tbody>\n",
       "</table>\n",
       "</div>"
      ],
      "text/plain": [
       "                 hek293t_1  hek293t_2     hela_1    hela_2\n",
       "hsa-let-7a-2-3p        0.0        0.0  14.621023  16.57337"
      ]
     },
     "execution_count": 33,
     "metadata": {},
     "output_type": "execute_result"
    }
   ],
   "source": [
    "aqseq = pd.read_table('publication/Kim2019_aqseq_rpm.tsv',index_col=0)\n",
    "aqseq = aqseq / aqseq.sum() * 10**6\n",
    "aqseq.head(1)"
   ]
  },
  {
   "cell_type": "code",
   "execution_count": 42,
   "metadata": {},
   "outputs": [],
   "source": [
    "def get_mature_exp(pri,exptbl):\n",
    "    mats = primat[pri]\n",
    "    matexp = []\n",
    "    for mat in mats:\n",
    "        matname = annmat.loc[mat,'Name']\n",
    "        if matname in exptbl.index:\n",
    "            matexp.append((exptbl.loc[matname]+1).tolist())\n",
    "    if matexp:\n",
    "        return max(matexp,key=lambda x:np.average(x))\n",
    "    return [1,1]\n",
    "aqseqrpms = { p:map(np.log2,get_mature_exp(p,aqseq)) for p in folded }"
   ]
  },
  {
   "cell_type": "code",
   "execution_count": 46,
   "metadata": {},
   "outputs": [],
   "source": [
    "def get_phylop_scores(chrom, start, end, path):\n",
    "    phystarts = [ int(f.split('.')[0]) for f in listdir('%s/%s'%(path, chrom)) \n",
    "                  if f.endswith('.gz') ]\n",
    "    init = sorted([ s for s in phystarts if s<=start ])[-1]\n",
    "    if start<max(phystarts):\n",
    "        nextst = sorted([ s for s in phystarts if s>start])[0]\n",
    "    else: nextst = end\n",
    "    rels, rele = start-init, end-init\n",
    "    phys = open('%s/%s/%s.phylop.gz'%(path, chrom,init), 'rt').read().strip().split('\\n')\n",
    "    if len(phys) <= rels:\n",
    "        if nextst >= end:\n",
    "            return ['-']*(end-start+1)\n",
    "        else:\n",
    "            return ['-']*(nextst-start) + get_phylop_scores(chrom, nextst, end, path)\n",
    "    elif len(phys) > rele:\n",
    "        return map(float, phys[rels:rele+1])\n",
    "    else: # rels < len(phys) <= rele\n",
    "        return map(float, phys[rels:]) + get_phylop_scores(chrom, init+len(phys), end,path)\n",
    "\n",
    "def get_mature_conserv(pri, path):\n",
    "    mats = primat[pri]\n",
    "    matcons = []\n",
    "    for mat in mats:\n",
    "        ch, st, en = annmat.loc[mat,['chr','start','end']]\n",
    "        cons = [ c for c in get_phylop_scores(ch, st, en, path) if c!='-' ]\n",
    "        if cons:\n",
    "            matcons.append(np.average(cons))\n",
    "    if matcons:\n",
    "        return max(matcons)\n",
    "    return -999\n",
    "\n",
    "path100 = '/casa/bsc/databases/human/phyloP100way'\n",
    "matcons100 = { p:get_mature_conserv(p,path100) for p in folded}"
   ]
  },
  {
   "cell_type": "code",
   "execution_count": 47,
   "metadata": {},
   "outputs": [
    {
     "name": "stdout",
     "output_type": "stream",
     "text": [
      "0.013114910128930986\n",
      "0.5959004142049428\n",
      "0.6832881787897143\n"
     ]
    }
   ],
   "source": [
    "data = [ [np.average(aqseqrpms[m]) for m in ml] for ml in mls ]\n",
    "print mannwhitneyu(data[-1],data[0])[1]*2\n",
    "print mannwhitneyu(data[-1],data[1])[1]*2\n",
    "print mannwhitneyu(data[-1],data[2])[1]*2"
   ]
  },
  {
   "cell_type": "code",
   "execution_count": 48,
   "metadata": {},
   "outputs": [
    {
     "data": {
      "text/plain": [
       "<matplotlib.legend.Legend at 0x7f34f6edd3d0>"
      ]
     },
     "execution_count": 48,
     "metadata": {},
     "output_type": "execute_result"
    },
    {
     "data": {
      "image/png": "[encoded data removed]",
      "text/plain": [
       "<matplotlib.figure.Figure at 0x7f34f6d0d3d0>"
      ]
     },
     "metadata": {},
     "output_type": "display_data"
    }
   ],
   "source": [
    "bins = np.arange(-.2,15.3,.4)\n",
    "xs = np.arange(0,15.1,.4)\n",
    "fig, ax = plt.subplots(1, 1, figsize=(1.85,2))\n",
    "for ds,i,c in zip(data,labels,cs):\n",
    "    vs, ts = np.histogram(ds,bins=bins)\n",
    "    ax.plot(xs, vs.cumsum()/vs.sum(), lw=1.8, label='%s (%s)       '%(i,len(ds)),color=c)\n",
    "ax.spines['left'].set_bounds(.06,1)\n",
    "ax.spines['bottom'].set_bounds(0,15)\n",
    "ax.set_xlabel('Log2 average RPM')#\\n(Hela & 293T; Kim et al., 2019)')\n",
    "ax.set_ylabel('Cumulative fraction')\n",
    "ax.set_xticks(range(0,16,5))\n",
    "ax.set_yticks(np.arange(.25,1.1,.25))\n",
    "ax.grid(ls='-',lw=.5)\n",
    "ax.legend(handlelength=.8,loc=(.84,.03),title='No. optimal features')\n",
    "#fig.savefig('expression_aqseq.pdf')#,dpi=300)"
   ]
  },
  {
   "cell_type": "code",
   "execution_count": 49,
   "metadata": {},
   "outputs": [
    {
     "name": "stdout",
     "output_type": "stream",
     "text": [
      "0.00042490575955278525\n",
      "0.01737176862011903\n",
      "0.08102975514762313\n"
     ]
    }
   ],
   "source": [
    "data = [ [matcons100[m] for m in ml if matcons100[m]>-999] for ml in mls ]\n",
    "print mannwhitneyu(data[-1],data[0])[1]*2\n",
    "print mannwhitneyu(data[-1],data[1])[1]*2\n",
    "print mannwhitneyu(data[-1],data[2])[1]*2"
   ]
  },
  {
   "cell_type": "code",
   "execution_count": 50,
   "metadata": {},
   "outputs": [
    {
     "data": {
      "text/plain": [
       "<matplotlib.legend.Legend at 0x7f34f7074d90>"
      ]
     },
     "execution_count": 50,
     "metadata": {},
     "output_type": "execute_result"
    },
    {
     "data": {
      "image/png": "[encoded data removed]",
      "text/plain": [
       "<matplotlib.figure.Figure at 0x7f34f71e5dd0>"
      ]
     },
     "metadata": {},
     "output_type": "display_data"
    }
   ],
   "source": [
    "data = [ [d if d<9 else 9 for d in ds] for ds in data ]\n",
    "bins = np.arange(-1.1,9.11,.2)\n",
    "xs = np.arange(-1,9.1,.2)\n",
    "#print map(len,data)\n",
    "\n",
    "fig, ax = plt.subplots(1, 1, figsize=(1.85,2))\n",
    "for ds,l,c in zip(data,labels,cs):\n",
    "    vs, ts = np.histogram(ds,bins=bins)\n",
    "    ax.plot(xs, vs.cumsum()/vs.sum(), lw=1.8, label='%s (%s)       '%(l,len(ds)),color=c)\n",
    "ax.spines['left'].set_bounds(0,1)\n",
    "ax.set_xlabel('Average phyloP score')\n",
    "ax.set_ylabel('Cumulative fraction')\n",
    "ax.set_xticks(range(0,9,4))\n",
    "ax.set_yticks(np.arange(0,1.1,.25))\n",
    "ax.grid(ls='-',lw=.5)\n",
    "ax.legend(handlelength=.8,loc=(.9,.03),title='No. optimal features',labelspacing=.4)\n",
    "#fig.savefig('conserve99.pdf')#,dpi=300)"
   ]
  },
  {
   "cell_type": "markdown",
   "metadata": {},
   "source": [
    "### S6"
   ]
  },
  {
   "cell_type": "code",
   "execution_count": 51,
   "metadata": {},
   "outputs": [
    {
     "name": "stdout",
     "output_type": "stream",
     "text": [
      "165\n"
     ]
    }
   ],
   "source": [
    "dgcrf = 'publication/Nguyen2018_rpm.csv'\n",
    "dgcrtbl = pd.read_table(dgcrf, index_col=0, sep='\\t')#.astype(int)\n",
    "dgcrtbl['WT'] = dgcrtbl[['WT2', 'WT3']].mean(axis=1)\n",
    "dgcrtbl['C352A'] = dgcrtbl[['C352A2','C352A3']].mean(axis=1)\n",
    "dgcrtbl['P351A'] = dgcrtbl[['P351A2', 'P351A3']].mean(axis=1)\n",
    "dgcrtbl['ALA'] = dgcrtbl[['ALA-2', 'ALA-3']].mean(axis=1)\n",
    "dgcrtbl['FC'] = ((dgcrtbl['P351A']+.1) / (dgcrtbl['WT']+.1)).apply(np.log2)\n",
    "cut = sorted(dgcrtbl['WT'])[-250]\n",
    "dgcrsub = dgcrtbl[dgcrtbl['WT']>=cut]\n",
    "dgcrsub = dgcrsub.reindex([m for m in dgcrsub.index if m.count('-')==2])\n",
    "print len(dgcrsub)"
   ]
  },
  {
   "cell_type": "code",
   "execution_count": 53,
   "metadata": {},
   "outputs": [
    {
     "name": "stdout",
     "output_type": "stream",
     "text": [
      "66 23\n",
      "0.023043282144479246\n"
     ]
    }
   ],
   "source": [
    "ms0 = s4[s4['Apical loop size (nt)']>=13].index\n",
    "ms1 = s4[s4['Apical loop size (nt)']<=9].index\n",
    "fc0 = [dgcrsub.loc[m,'FC'] for m in ms0 if m in dgcrsub.index]\n",
    "fc1 = [dgcrsub.loc[m,'FC'] for m in ms1 if m in dgcrsub.index]\n",
    "print len(fc0), len(fc1)\n",
    "print mannwhitneyu(fc0,fc1)[1]*2"
   ]
  },
  {
   "cell_type": "code",
   "execution_count": 54,
   "metadata": {},
   "outputs": [
    {
     "name": "stdout",
     "output_type": "stream",
     "text": [
      "[66, 23]\n"
     ]
    }
   ],
   "source": [
    "mls = [ms0,ms1]\n",
    "bins = np.arange(-4.1,2.11,.2)\n",
    "data = [ [dgcrsub.loc[m,'FC'] for m in ml if m in dgcrsub.index] for ml in mls ]\n",
    "data = [ [c if c>-4 else -4 for c in cs] for cs in data ]\n",
    "xs = np.arange(-4,2.1,.2)\n",
    "cs = 'tab:red #424242'.split()\n",
    "labels = ['Loop size    13','Loop size    9']\n",
    "print map(len,data)"
   ]
  },
  {
   "cell_type": "code",
   "execution_count": 55,
   "metadata": {},
   "outputs": [
    {
     "data": {
      "text/plain": [
       "Text(-0.5,0.4,u'p = 0.023')"
      ]
     },
     "execution_count": 55,
     "metadata": {},
     "output_type": "execute_result"
    },
    {
     "data": {
      "image/png": "[encoded data removed]",
      "text/plain": [
       "<matplotlib.figure.Figure at 0x7f34f6ee4a50>"
      ]
     },
     "metadata": {},
     "output_type": "display_data"
    }
   ],
   "source": [
    "fig, ax = plt.subplots(1, 1, figsize=(2.3,2.3))\n",
    "for ds,l,c in zip(data,labels,cs):\n",
    "    vs, ts = np.histogram(ds,bins=bins)\n",
    "    ax.plot(xs, vs.cumsum()/vs.sum(), lw=1.8, label='%s (%s)'%(l,len(ds)),color=c)\n",
    "ax.spines['left'].set_bounds(0,1)\n",
    "ax.set_xlabel('log2 (DGCR8 P351A / WT)\\n(Nguyen et al., 2018)')\n",
    "ax.set_ylabel('Cumulative fraction')\n",
    "ax.set_xticks(range(-4,3,2))\n",
    "ax.set_yticks(np.arange(0,1.1,.25))\n",
    "ax.grid(ls='-',lw=.5)\n",
    "ax.legend(handlelength=1,loc=(.55,.05))\n",
    "ax.text(-.5,.4,'p = 0.023')\n",
    "#fig.savefig(resultpath+'221111_dgcr8.pdf')#,dpi=300)"
   ]
  },
  {
   "cell_type": "code",
   "execution_count": null,
   "metadata": {},
   "outputs": [],
   "source": []
  },
  {
   "cell_type": "code",
   "execution_count": null,
   "metadata": {},
   "outputs": [],
   "source": []
  }
 ],
 "metadata": {
  "kernelspec": {
   "display_name": "Python 2",
   "language": "python",
   "name": "python2"
  },
  "language_info": {
   "codemirror_mode": {
    "name": "ipython",
    "version": 2
   },
   "file_extension": ".py",
   "mimetype": "text/x-python",
   "name": "python",
   "nbconvert_exporter": "python",
   "pygments_lexer": "ipython2",
   "version": "2.7.18"
  }
 },
 "nbformat": 4,
 "nbformat_minor": 2
}

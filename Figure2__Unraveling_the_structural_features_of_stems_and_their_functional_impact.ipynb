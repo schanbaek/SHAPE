{
 "cells": [
  {
   "cell_type": "markdown",
   "metadata": {},
   "source": [
    "## Figure 2. Unraveling the structural features of stems and their functional impact.\n",
    "- 2A. Stem length distribution.\n",
    "- 2B. In vitro processing results of pri-miRNAs binned by the stem length.\n",
    "- 2C. Distributions of the upper and lower stem lengths.\n",
    "- 2D. In vitro processing results of pri-miRNAs binned by the lower and upper stem lengths.\n",
    "- 2E. Distribution of the number of mismatched pairs in the stem.\n",
    "- 2F. In vitro processing results of pri-miRNAs binned by the number of mismatched pairs.\n",
    "- 2G. Mismatch frequency in the stem.\n",
    "- S2B-C. In vitro processing results of pri-miRNAs with and without a mismatch at -6 or +1.\n",
    "- S2D. Distribution of the number of bulged or asymmetric bases in the stem.\n",
    "- S2E. In vitro processing results of pri-miRNAs binned by the number of bulged/asym. bases."
   ]
  },
  {
   "cell_type": "code",
   "execution_count": 3,
   "metadata": {
    "scrolled": true
   },
   "outputs": [
    {
     "name": "stdout",
     "output_type": "stream",
     "text": [
      "Last revised by S. Chan Baek at 2024-01-25.\n"
     ]
    }
   ],
   "source": [
    "import time\n",
    "today = time.strftime('%Y-%m-%d')\n",
    "name = 'S. Chan Baek'\n",
    "print 'Last revised by %s at %s.' % (name, today)"
   ]
  },
  {
   "cell_type": "code",
   "execution_count": 4,
   "metadata": {},
   "outputs": [
    {
     "name": "stdout",
     "output_type": "stream",
     "text": [
      "/casa/bsc/projects/2_Structure-of-pri/2007_paper_prep/240125/\n",
      "/casa/bsc/projects/2_Structure-of-pri/2007_paper_prep\n"
     ]
    }
   ],
   "source": [
    "import os\n",
    "HOME = '/casa/bsc/projects/2_Structure-of-pri/2007_paper_prep'\n",
    "SAVEPATH = '%s/%s/'%(HOME,time.strftime('%y%m%d'))\n",
    "if not os.path.exists(SAVEPATH):\n",
    "    os.makedirs(SAVEPATH)\n",
    "print SAVEPATH\n",
    "%cd $HOME"
   ]
  },
  {
   "cell_type": "code",
   "execution_count": 6,
   "metadata": {},
   "outputs": [],
   "source": [
    "from __future__ import division\n",
    "from collections import Counter, defaultdict\n",
    "from matplotlib import pyplot as plt\n",
    "from matplotlib import gridspec, lines, colors\n",
    "from scipy.stats import pearsonr, mannwhitneyu, sem\n",
    "import pandas as pd\n",
    "import numpy as np\n",
    "import re\n",
    "%matplotlib inline"
   ]
  },
  {
   "cell_type": "code",
   "execution_count": 7,
   "metadata": {},
   "outputs": [
    {
     "name": "stdout",
     "output_type": "stream",
     "text": [
      "476\n"
     ]
    }
   ],
   "source": [
    "s1 = pd.read_csv('publication/TableS1__Pri-miRNAs_selected_for_SHAPE-MaP.csv',index_col=0)\n",
    "s2 = pd.read_csv('publication/TableS2__Constructs_used_in_this_study.csv',index_col=0)\n",
    "s3 = pd.read_csv('publication/TableS3_2__SHAPE_reactivity.csv',index_col=0)\n",
    "s3.columns = range(1,126)\n",
    "s3cnts = pd.read_csv('publication/TableS3_1__Read_counts.csv',index_col=0)\n",
    "s3shan = pd.read_csv('publication/TableS3_3__Shannon_entropy.csv',index_col=0)\n",
    "s3shan.columns = range(1,126)\n",
    "s3shan = s3shan.fillna(0)\n",
    "s4str = pd.read_csv('publication/TableS4_1__SHAPE-based_pri-miRNA_structures.csv',index_col=0)\n",
    "s4str.columns = range(1,126)\n",
    "s4 = pd.read_csv('publication/TableS4_2__Structural_features_of_pri-miRNAs.csv',index_col=0)\n",
    "constseqs = s2['Construct sequence'].to_dict()\n",
    "folded = list(s4.index)\n",
    "print len(folded)"
   ]
  },
  {
   "cell_type": "code",
   "execution_count": 10,
   "metadata": {},
   "outputs": [],
   "source": [
    "releffs = s4['Cleavage efficiency (MP)']\n",
    "relhoms = s4['Cleavage homogeneity (MP)']"
   ]
  },
  {
   "cell_type": "code",
   "execution_count": 11,
   "metadata": {},
   "outputs": [],
   "source": [
    "def split_ct(ctfile):\n",
    "    infos = open(ctfile, 'rt').read()\n",
    "    length = int(infos.split('\\n')[0].strip().split()[0])\n",
    "    rna = infos.split('\\n')[0].strip().split()[-1]\n",
    "    nstrt = infos.count(rna)\n",
    "    splitinfos = []\n",
    "    for i in range(nstrt):\n",
    "        lines = infos.split('\\n')[1+(1+length)*i:(1+length)*(i+1)]\n",
    "        splitinfos.append([ tuple(map(int,l.strip().split()[4:6][::-1])) for l in lines ])\n",
    "    return splitinfos"
   ]
  },
  {
   "cell_type": "code",
   "execution_count": 31,
   "metadata": {},
   "outputs": [],
   "source": [
    "def get_pre_position(mir):\n",
    "    constseq = constseqs[mir].replace('T','U')\n",
    "    preseq = s1.loc[mir, 'Precursor']\n",
    "    return constseq.find(preseq)+1, constseq.find(preseq)+len(preseq)"
   ]
  },
  {
   "cell_type": "markdown",
   "metadata": {},
   "source": [
    "### 2A. Stem length distribution."
   ]
  },
  {
   "cell_type": "code",
   "execution_count": 13,
   "metadata": {},
   "outputs": [
    {
     "name": "stdout",
     "output_type": "stream",
     "text": [
      "1711\n"
     ]
    }
   ],
   "source": [
    "roden = 'publication/Roden2017_TableS5.xls'\n",
    "roden = pd.ExcelFile(roden).parse('Supplemental Table S5',header=25,index_col=1)\n",
    "roden = roden[~roden.index.duplicated(keep='last')]\n",
    "print len(roden)"
   ]
  },
  {
   "cell_type": "code",
   "execution_count": 15,
   "metadata": {},
   "outputs": [
    {
     "name": "stdout",
     "output_type": "stream",
     "text": [
      "414\n",
      "0.567226890756\n"
     ]
    }
   ],
   "source": [
    "ms = [m for m in folded if m in roden.index]\n",
    "print len(ms)\n",
    "\n",
    "bins = [(20,30),(31,31),(32,32),(33,33),(34,34),(35,35),(36,36),(37,37),(38,38),(39,39),(40,50)]\n",
    "xs = np.arange(30,41)\n",
    "ys1 = [len([m for m in ms if lb<=s4.loc[m,'Stem length (bp)']<=ub]) for lb,ub in bins]\n",
    "ys1 = np.array(ys1)/sum(ys1)*100\n",
    "ys2 = [len([m for m in ms if lb<=roden.loc[m,'StemLength']<=ub]) for lb,ub in bins]\n",
    "ys2 = np.array(ys2)/sum(ys2)*100\n",
    "print len([m for m in folded if 34<=s4.loc[m,'Stem length (bp)']<=36])/len(folded)"
   ]
  },
  {
   "cell_type": "code",
   "execution_count": 16,
   "metadata": {},
   "outputs": [
    {
     "data": {
      "text/plain": [
       "<matplotlib.legend.Legend at 0x7f499501ced0>"
      ]
     },
     "execution_count": 16,
     "metadata": {},
     "output_type": "execute_result"
    },
    {
     "data": {
      "image/png": "[encoded data removed]",
      "text/plain": [
       "<matplotlib.figure.Figure at 0x7f49949ef250>"
      ]
     },
     "metadata": {},
     "output_type": "display_data"
    }
   ],
   "source": [
    "fig, ax = plt.subplots(1, 1, figsize=(3.7,2))\n",
    "ax.bar(xs-.175,ys1,color='#e6550d',width=.35,edgecolor='k',lw=1,zorder=2,\n",
    "      label='SHAPE-based')\n",
    "ax.bar(xs+.175,ys2,color='#bababa',width=.35,edgecolor='k',lw=1,zorder=2,\n",
    "      label='Sequence-only')\n",
    "ax.set_xlabel('Stem length (bp)')\n",
    "ax.set_ylabel('Pri-miRNA proportion (%)')\n",
    "ax.set_xticks(xs)\n",
    "ax.set_xticklabels(['$\\leq$30    ']+list(xs[1:-1])+['   $\\geq$40'])\n",
    "ax.set_xlim(min(xs)-.7,max(xs)+.5)\n",
    "ax.yaxis.grid(ls='-',lw=.5)\n",
    "ax.legend(loc=(.02,1.02),handlelength=1.2)\n",
    "#fig.savefig(resultpath+'230717_f2a__stem.pdf')"
   ]
  },
  {
   "cell_type": "markdown",
   "metadata": {},
   "source": [
    "### 2B. In vitro processing results of pri-miRNAs binned by the stem length."
   ]
  },
  {
   "cell_type": "code",
   "execution_count": 17,
   "metadata": {},
   "outputs": [],
   "source": [
    "bins = [(20,33),(34,34),(35,35),(36,36),(37,50)]\n",
    "msl = [[m for m in folded if lb<=s4.loc[m,'Stem length (bp)']<=ub] for lb,ub in bins]\n",
    "pes = [[releffs[m] for m in ms] for ms in msl]\n",
    "phs = [[relhoms[m] for m in ms] for ms in msl]\n",
    "xs = np.arange(33,38)\n",
    "ys1 = map(np.average,pes)\n",
    "es1 = map(sem,pes)\n",
    "ys2 = map(np.average,phs)\n",
    "es2 = map(sem,phs)\n",
    "labels = ['$\\leq$33',34,35,36,'$\\geq$37']\n",
    "labels = ['%s\\n(%s)'%(l,len(pe)) for l,pe in zip(labels,pes)]"
   ]
  },
  {
   "cell_type": "code",
   "execution_count": 19,
   "metadata": {},
   "outputs": [
    {
     "name": "stdout",
     "output_type": "stream",
     "text": [
      "0.0015373116592667046\n",
      "0.01769629100392906\n",
      "1.922517669916881e-05\n",
      "0.00022080278998514276\n"
     ]
    }
   ],
   "source": [
    "print mannwhitneyu(pes[0],pes[1]+pes[2]+pes[3])[1]*2\n",
    "print mannwhitneyu(pes[4],pes[1]+pes[2]+pes[3])[1]*2\n",
    "print mannwhitneyu(phs[0],phs[1]+phs[2]+phs[3])[1]*2\n",
    "print mannwhitneyu(phs[4],phs[1]+phs[2]+phs[3])[1]*2"
   ]
  },
  {
   "cell_type": "code",
   "execution_count": 20,
   "metadata": {},
   "outputs": [
    {
     "data": {
      "text/plain": [
       "Text(0,0.5,u'Cleavage homogeneity')"
      ]
     },
     "execution_count": 20,
     "metadata": {},
     "output_type": "execute_result"
    },
    {
     "data": {
      "image/png": "[encoded data removed]",
      "text/plain": [
       "<matplotlib.figure.Figure at 0x7f4994faded0>"
      ]
     },
     "metadata": {},
     "output_type": "display_data"
    }
   ],
   "source": [
    "fig,ax = plt.subplots(1,1,figsize=(2.5,2))\n",
    "\n",
    "ax.errorbar(xs-.12,ys1,yerr=es1,lw=0,elinewidth=1.8,ms=3,marker='o',color='#7b3294')\n",
    "axt = ax.twinx()\n",
    "axt.errorbar(xs+.12,ys2,yerr=es2,lw=0,elinewidth=1.8,ms=3,marker='o',color='#4dac26')\n",
    "ax.set_xlim(min(xs)-.5,max(xs)+.5)\n",
    "ax.set_xticks(xs)\n",
    "ax.set_xticklabels(labels)\n",
    "ax.grid(ls='-',lw=.7,color='w')\n",
    "for a in [ax,axt]:\n",
    "    a.spines['left'].set_visible(False)\n",
    "    a.spines['bottom'].set_visible(False)\n",
    "axt.tick_params(left='off',right='on')\n",
    "ax.set_facecolor('#ededed')\n",
    "ax.set_xlabel('Stem length (bp)')\n",
    "ax.set_ylabel('Cleavage efficiency',color='#7b3294')\n",
    "axt.set_ylabel('Cleavage homogeneity',color='#4dac26')\n",
    "#fig.savefig(resultpath + '230710_s2d__stem_processing.pdf')"
   ]
  },
  {
   "cell_type": "markdown",
   "metadata": {},
   "source": [
    "### S2B. In vitro processing results of pri-miRNAs binned by the stem length (seq-only)"
   ]
  },
  {
   "cell_type": "code",
   "execution_count": 21,
   "metadata": {},
   "outputs": [],
   "source": [
    "ms = [m for m in roden.index if m in releffs.keys()]\n",
    "bins = [(20,33),(34,34),(35,35),(36,36),(37,50)]\n",
    "msl = [[m for m in ms if lb<=roden.loc[m,'StemLength']<=ub] for lb,ub in bins]\n",
    "pes = [[releffs[m] for m in ms] for ms in msl]\n",
    "phs = [[relhoms[m] for m in ms] for ms in msl]\n",
    "xs = np.arange(33,38)\n",
    "ys1 = map(np.average,pes)\n",
    "es1 = map(sem,pes)\n",
    "ys2 = map(np.average,phs)\n",
    "es2 = map(sem,phs)\n",
    "labels = ['$\\leq$33',34,35,36,'$\\geq$37']\n",
    "labels = ['%s\\n(%s)'%(l,len(pe)) for l,pe in zip(labels,pes)]"
   ]
  },
  {
   "cell_type": "code",
   "execution_count": 22,
   "metadata": {},
   "outputs": [
    {
     "data": {
      "text/plain": [
       "Text(0,0.5,u'Cleavage homogeneity')"
      ]
     },
     "execution_count": 22,
     "metadata": {},
     "output_type": "execute_result"
    },
    {
     "data": {
      "image/png": "[encoded data removed]",
      "text/plain": [
       "<matplotlib.figure.Figure at 0x7f4994ed6890>"
      ]
     },
     "metadata": {},
     "output_type": "display_data"
    }
   ],
   "source": [
    "fig,ax = plt.subplots(1,1,figsize=(2.5,2))\n",
    "\n",
    "ax.errorbar(xs-.12,ys1,yerr=es1,lw=0,elinewidth=1.8,ms=3,marker='o',color='#7b3294')\n",
    "axt = ax.twinx()\n",
    "axt.errorbar(xs+.12,ys2,yerr=es2,lw=0,elinewidth=1.8,ms=3,marker='o',color='#4dac26')\n",
    "ax.set_xlim(min(xs)-.5,max(xs)+.5)\n",
    "ax.set_xticks(xs)\n",
    "ax.set_xticklabels(labels)\n",
    "ax.grid(ls='-',lw=.7,color='w')\n",
    "#ax.tick_params(labelsize=9.4,left='on')\n",
    "for a in [ax,axt]:\n",
    "    a.spines['left'].set_visible(False)\n",
    "    a.spines['bottom'].set_visible(False)\n",
    "axt.tick_params(left='off',right='on')\n",
    "ax.set_facecolor('#ededed')\n",
    "ax.set_xlabel('Stem length (bp)')\n",
    "ax.set_ylabel('Cleavage efficiency',color='#7b3294')\n",
    "axt.set_ylabel('Cleavage homogeneity',color='#4dac26')\n",
    "#fig.savefig(resultpath + '230710_s2d__stem_processing_roden.pdf')"
   ]
  },
  {
   "cell_type": "markdown",
   "metadata": {},
   "source": [
    "### 2C. Distributions of the upper and lower stem lengths."
   ]
  },
  {
   "cell_type": "code",
   "execution_count": 24,
   "metadata": {},
   "outputs": [],
   "source": [
    "from matplotlib.colors import LinearSegmentedColormap, ColorConverter\n",
    "to_rgb = ColorConverter().to_rgb\n",
    "def custom_cmap(colors, cmap_name=\"newmap\", nspace=3, linear=True):\n",
    "    if (type(colors) is str) or (len(colors) is 1):\n",
    "        colors = [colors, \"white\"]\n",
    "    ncolors = len(colors)\n",
    "    sidx = map(int, map(np.around, np.linspace(0, nspace-1, num=ncolors)))\n",
    "    intervals = np.linspace(0, 1.0, num=nspace)\n",
    "    rgb = [\"red\", \"green\", \"blue\"]\n",
    "    cdict = {e:None for e in rgb}\n",
    "    for element, components in zip(rgb, zip(*[to_rgb(c) for c in colors])):\n",
    "        intensities = [components[0]]\n",
    "        for i, value in enumerate(components):\n",
    "            if i + 1 == len(components): break\n",
    "            v1, v2 = components[i:i+2]\n",
    "            intensities += list(np.linspace(v1, v2, num=sidx[i+1] - sidx[i] + 1))[1:]\n",
    "        cdict[element] =  zip(intervals, intensities, intensities)\n",
    "    return LinearSegmentedColormap(cmap_name, cdict)"
   ]
  },
  {
   "cell_type": "code",
   "execution_count": 25,
   "metadata": {},
   "outputs": [
    {
     "name": "stdout",
     "output_type": "stream",
     "text": [
      "476\n"
     ]
    }
   ],
   "source": [
    "lmin,lmax = 10, 16\n",
    "umin,umax = 19, 25\n",
    "lstems, ustems = {}, {}\n",
    "data = pd.DataFrame(index=range(lmin,lmax+1),columns=range(umin,umax+1)).fillna(0)\n",
    "for m in folded:\n",
    "    ls,us = s4.loc[m,['Lower stem length (bp)','Upper stem length (bp)']]\n",
    "    ls = min(max(lmin,ls),lmax)\n",
    "    us = min(max(umin,us),umax)\n",
    "    data.loc[ls,us] += 1\n",
    "print data.sum().sum()\n",
    "c = '#424242'\n",
    "red = custom_cmap(['#f0f0f0','#de2d26'])\n",
    "xsl = range(lmin,lmax+1); ysl = data.T.sum()/len(folded)*100\n",
    "xsu = range(umin,umax+1); ysu = data.sum()/len(folded)*100"
   ]
  },
  {
   "cell_type": "code",
   "execution_count": 26,
   "metadata": {},
   "outputs": [
    {
     "data": {
      "image/png": "[encoded data removed]",
      "text/plain": [
       "<matplotlib.figure.Figure at 0x7f4994ceb190>"
      ]
     },
     "metadata": {},
     "output_type": "display_data"
    }
   ],
   "source": [
    "fig = plt.figure(figsize=(2.7,2.7))\n",
    "gs = gridspec.GridSpec(2, 2, width_ratios=(3,1), height_ratios=(1,3))\n",
    "ax1 = fig.add_subplot(gs[0]); ax2 = fig.add_subplot(gs[2]); ax3 = fig.add_subplot(gs[3])\n",
    "fig.subplots_adjust(wspace=.07, hspace=.107)\n",
    "\n",
    "ax1.bar(xsl,ysl,color=c,zorder=2,width=.7,lw=1,edgecolor='k')\n",
    "ax3.barh(xsu,ysu,color=c,zorder=2,height=.7,lw=1,edgecolor='k')\n",
    "im = ax2.pcolor(data.T/len(folded)*100,cmap=red,vmin=0,vmax=12)\n",
    "\n",
    "axcb = fig.add_axes([0.72, 0.69, 0.18, 0.04])\n",
    "cb = plt.colorbar(im, cax=axcb, orientation='horizontal')\n",
    "axcb.xaxis.set_ticks_position('top')\n",
    "cb.set_ticks([0,5,10]); cb.set_ticklabels([0,5,10])\n",
    "axcb.tick_params(direction='in',length=2)\n",
    "cb.outline.set_linewidth(0); cb.solids.set_rasterized(True)\n",
    "axcb.text(.63,3.5,'Pri-miRNAs',ha='center')\n",
    "\n",
    "ax2.set_xticks(np.arange(len(data))+.5); ax2.set_yticks(np.arange(len(data))+.5)\n",
    "ax2.set_xticklabels(['$\\leq$10 ',11,12,13,14,15,' $\\geq$16'])\n",
    "ax2.set_yticklabels(['$\\leq$19',20,21,22,23,24,'$\\geq$25'])\n",
    "ax1.set_xticks([]); ax3.set_yticks([])\n",
    "\n",
    "for ax in [ax1,ax3]:\n",
    "    ax.set_facecolor('#f0f0f0')\n",
    "    ax.tick_params(left='off',bottom='off')\n",
    "    ax.spines['left'].set_visible(False)\n",
    "    ax.spines['bottom'].set_visible(False)\n",
    "    \n",
    "ax1.yaxis.grid(ls='-',lw=1,color='w'); ax3.xaxis.grid(ls='-',lw=1,color='w')\n",
    "ax1.set_yticks([0,15,30]); ax3.set_xticks([0,15,30])\n",
    "ax1.set_xlim(lmin-.6,lmax+.6); ax3.set_ylim(umin-.6,umax+.6)\n",
    "ax1.text(6.7,30,'(%)',va='center'); ax3.text(30,16.5,'(%)',ha='center')\n",
    "    \n",
    "ax2.set_xlabel('Lower stem (bp)')\n",
    "ax2.set_ylabel('Upper stem (bp)')\n",
    "ax2.spines['left'].set_visible(False)\n",
    "ax2.spines['bottom'].set_visible(False)\n",
    "ax2.tick_params(left='off',bottom='off')\n",
    "#fig.savefig(resultpath + '220527_f2c__lsus.pdf')"
   ]
  },
  {
   "cell_type": "markdown",
   "metadata": {},
   "source": [
    "### 2D. In vitro processing results of pri-miRNAs binned by the lower and upper stem lengths."
   ]
  },
  {
   "cell_type": "code",
   "execution_count": 27,
   "metadata": {},
   "outputs": [
    {
     "name": "stdout",
     "output_type": "stream",
     "text": [
      "11 0.00007 0.00000\n",
      "12 0.00898 0.00901\n",
      "14 0.68854 0.03386\n",
      "15 0.00061 0.00495\n",
      "20 0.2762 0.3936\n",
      "21 0.5545 0.9488\n",
      "23 0.2277 0.2159\n",
      "24 0.0672 0.1034\n"
     ]
    }
   ],
   "source": [
    "bins = [(-5,11),(12,12),(13,13),(14,14),(15,30)]\n",
    "msl = [[m for m in folded if lb<=s4.loc[m,'Lower stem length (bp)']<=ub] for lb,ub in bins]\n",
    "pes = [[releffs[m] for m in ms] for ms in msl]\n",
    "phs = [[relhoms[m] for m in ms] for ms in msl]\n",
    "xs2 = np.arange(11,16)\n",
    "ys21 = map(np.average,pes)\n",
    "es21 = map(sem,pes)\n",
    "ys22 = map(np.average,phs)\n",
    "es22 = map(sem,phs)\n",
    "labels2 = ['$\\leq$11',12,13,14,'$\\geq$15']\n",
    "labels2 = ['%s\\n(%s)'%(l,len(pe)) for l,pe in zip(labels2,pes)]\n",
    "for x,pe,ph in zip([11,12,14,15],pes[:2]+pes[3:],phs[:2]+phs[3:]):\n",
    "    print '%s %.5f %.5f'%(x,mannwhitneyu(pes[2],pe)[1]*2,mannwhitneyu(phs[2],ph)[1]*2)\n",
    "    \n",
    "bins = [(-5,20),(21,21),(22,22),(23,23),(24,40)]\n",
    "msl = [[m for m in folded if lb<=s4.loc[m,'Upper stem length (bp)']<=ub] for lb,ub in bins]\n",
    "pes = [[releffs[m] for m in ms] for ms in msl]\n",
    "phs = [[relhoms[m] for m in ms] for ms in msl]\n",
    "xs3 = np.arange(20,25)\n",
    "ys31 = map(np.average,pes)\n",
    "es31 = map(sem,pes)\n",
    "ys32 = map(np.average,phs)\n",
    "es32 = map(sem,phs)\n",
    "labels3 = ['$\\leq$20',21,22,23,'$\\geq$24']\n",
    "labels3 = ['%s\\n(%s)'%(l,len(pe)) for l,pe in zip(labels3,pes)]\n",
    "for x,pe,ph in zip([20,21,23,24],pes[:2]+pes[3:],phs[:2]+phs[3:]):\n",
    "    print '%s %.4f %.4f'%(x,mannwhitneyu(pes[2],pe)[1]*2,mannwhitneyu(phs[2],ph)[1]*2)\n",
    "    \n",
    "xsl = [xs2,xs3]\n",
    "ysl1 = [ys21,ys31]\n",
    "ysl2 = [ys22,ys32]\n",
    "esl1 = [es21,es31]\n",
    "esl2 = [es22,es32]\n",
    "labell = [labels2,labels3]\n",
    "xlabels = ['Lower stem length (bp)','Upper stem length (bp)']"
   ]
  },
  {
   "cell_type": "code",
   "execution_count": 28,
   "metadata": {},
   "outputs": [
    {
     "data": {
      "image/png": "[encoded data removed]",
      "text/plain": [
       "<matplotlib.figure.Figure at 0x7f4994d87810>"
      ]
     },
     "metadata": {},
     "output_type": "display_data"
    }
   ],
   "source": [
    "fig,axes = plt.subplots(1,2,figsize=(5.2,2),sharey=True)\n",
    "\n",
    "for ax,xs,ys1,ys2,es1,es2,labels,xlab in zip(axes,xsl,ysl1,ysl2,esl1,esl2,labell,xlabels):\n",
    "    ax.errorbar(xs-.12,ys1,yerr=es1,lw=0,elinewidth=1.8,ms=3,marker='o',color='#7b3294')\n",
    "    axt = ax.twinx()\n",
    "    axt.errorbar(xs+.12,ys2,yerr=es2,lw=0,elinewidth=1.8,ms=3,marker='o',color='#4dac26')\n",
    "    ax.set_xlim(min(xs)-.5,max(xs)+.5)\n",
    "    ax.set_xticks(xs)\n",
    "    ax.set_xticklabels(labels)\n",
    "    ax.grid(ls='-',lw=.7,color='w')\n",
    "    ax.tick_params(left='off')\n",
    "    axt.spines['left'].set_visible(False)\n",
    "    axt.spines['bottom'].set_visible(False)\n",
    "    ax.set_yticklabels([]); axt.set_yticklabels([])\n",
    "    axt.tick_params(left='off',right='off')\n",
    "    axt.set_ylim(.46,.78)\n",
    "\n",
    "for ax in axes:\n",
    "    ax.spines['left'].set_visible(False)\n",
    "    ax.spines['bottom'].set_visible(False)\n",
    "    ax.set_facecolor('#ededed')\n",
    "    \n",
    "axes[0].tick_params(left='on'); axt.tick_params(right='on')\n",
    "axes[0].set_yticks([.6,.7,.8,.9]); axes[0].set_yticklabels([.6,.7,.8,.9])\n",
    "axt.set_yticks([.5,.6,.7]); axt.set_yticklabels([.5,.6,.7])\n",
    "axes[0].set_xlabel('Lower stem (bp)'); axes[1].set_xlabel('Upper stem (bp)')\n",
    "axes[0].set_ylabel('Cleavage efficiency',color='#7b3294')\n",
    "axt.set_ylabel('Cleavage homogeneity',color='#4dac26')\n",
    "fig.subplots_adjust(wspace=.1)\n",
    "#fig.savefig(resultpath + '220527_f2d__lsus_processing.pdf')"
   ]
  },
  {
   "cell_type": "markdown",
   "metadata": {},
   "source": [
    "### 2G. Mismatch frequency in the stem."
   ]
  },
  {
   "cell_type": "code",
   "execution_count": 29,
   "metadata": {},
   "outputs": [],
   "source": [
    "def get_sym_str(ctinfo, ps, pe):\n",
    "    stinfo = [(x,y) for x,y in ctinfo if y>0]\n",
    "    ls = [ (x,y) for i,(x,y) in enumerate(stinfo[:-1]) \n",
    "          if stinfo[i+1]==(y,x) and x>ps and y<pe ]\n",
    "    loopst, loopen = min(ls, key=lambda (x,y):abs(120-x-y))\n",
    "    stems = [ (i,p) for i,p in ctinfo if i<=loopst and loopen<=p ]\n",
    "    if len(stems)<2:\n",
    "        return 'F'*125\n",
    "    stemst, stemen = stems[0]\n",
    "    stems = stems + [ (p,i) for i,p in stems[::-1] ]\n",
    "    symst = ''\n",
    "    for (l5,l3),(u5,u3) in zip(stems[:-1],stems[1:]):\n",
    "        if l5==loopst: symst += 'M'+'L'*(loopen-loopst-1)\n",
    "        elif u5-l5==1: symst += 'M'\n",
    "        else:\n",
    "            symmet = min(u5-l5-1, l3-u3-1)\n",
    "            symst += 'M' + symmet*'S' + (u5-l5-1-symmet)*'A'# + symmet*'S'\n",
    "    symst = 'F'*(stemst-1) + symst + 'M' + 'F'*(125-stemen)\n",
    "    return symst"
   ]
  },
  {
   "cell_type": "code",
   "execution_count": 39,
   "metadata": {},
   "outputs": [
    {
     "data": {
      "text/html": [
       "<div>\n",
       "<style scoped>\n",
       "    .dataframe tbody tr th:only-of-type {\n",
       "        vertical-align: middle;\n",
       "    }\n",
       "\n",
       "    .dataframe tbody tr th {\n",
       "        vertical-align: top;\n",
       "    }\n",
       "\n",
       "    .dataframe thead th {\n",
       "        text-align: right;\n",
       "    }\n",
       "</style>\n",
       "<table border=\"1\" class=\"dataframe\">\n",
       "  <thead>\n",
       "    <tr style=\"text-align: right;\">\n",
       "      <th></th>\n",
       "      <th>-15</th>\n",
       "      <th>-14</th>\n",
       "      <th>-13</th>\n",
       "      <th>-12</th>\n",
       "      <th>-11</th>\n",
       "      <th>-10</th>\n",
       "      <th>-9</th>\n",
       "      <th>-8</th>\n",
       "      <th>-7</th>\n",
       "      <th>-6</th>\n",
       "      <th>...</th>\n",
       "      <th>15</th>\n",
       "      <th>16</th>\n",
       "      <th>17</th>\n",
       "      <th>18</th>\n",
       "      <th>19</th>\n",
       "      <th>20</th>\n",
       "      <th>21</th>\n",
       "      <th>22</th>\n",
       "      <th>23</th>\n",
       "      <th>24</th>\n",
       "    </tr>\n",
       "  </thead>\n",
       "  <tbody>\n",
       "    <tr>\n",
       "      <th>hsa-let-7a-1</th>\n",
       "      <td>1</td>\n",
       "      <td>1</td>\n",
       "      <td>0</td>\n",
       "      <td>0</td>\n",
       "      <td>0</td>\n",
       "      <td>0</td>\n",
       "      <td>0</td>\n",
       "      <td>0</td>\n",
       "      <td>0</td>\n",
       "      <td>0</td>\n",
       "      <td>...</td>\n",
       "      <td>0</td>\n",
       "      <td>0</td>\n",
       "      <td>0</td>\n",
       "      <td>0</td>\n",
       "      <td>0</td>\n",
       "      <td>0</td>\n",
       "      <td>1</td>\n",
       "      <td>1</td>\n",
       "      <td>NaN</td>\n",
       "      <td>NaN</td>\n",
       "    </tr>\n",
       "    <tr>\n",
       "      <th>hsa-let-7a-2</th>\n",
       "      <td>1</td>\n",
       "      <td>0</td>\n",
       "      <td>0</td>\n",
       "      <td>0</td>\n",
       "      <td>0</td>\n",
       "      <td>1</td>\n",
       "      <td>1</td>\n",
       "      <td>1</td>\n",
       "      <td>0</td>\n",
       "      <td>0</td>\n",
       "      <td>...</td>\n",
       "      <td>0</td>\n",
       "      <td>0</td>\n",
       "      <td>0</td>\n",
       "      <td>0</td>\n",
       "      <td>0</td>\n",
       "      <td>0</td>\n",
       "      <td>0</td>\n",
       "      <td>1</td>\n",
       "      <td>1</td>\n",
       "      <td>NaN</td>\n",
       "    </tr>\n",
       "    <tr>\n",
       "      <th>hsa-let-7a-3</th>\n",
       "      <td>1</td>\n",
       "      <td>0</td>\n",
       "      <td>0</td>\n",
       "      <td>1</td>\n",
       "      <td>0</td>\n",
       "      <td>0</td>\n",
       "      <td>0</td>\n",
       "      <td>0</td>\n",
       "      <td>0</td>\n",
       "      <td>0</td>\n",
       "      <td>...</td>\n",
       "      <td>0</td>\n",
       "      <td>0</td>\n",
       "      <td>0</td>\n",
       "      <td>0</td>\n",
       "      <td>0</td>\n",
       "      <td>0</td>\n",
       "      <td>1</td>\n",
       "      <td>0</td>\n",
       "      <td>NaN</td>\n",
       "      <td>NaN</td>\n",
       "    </tr>\n",
       "  </tbody>\n",
       "</table>\n",
       "<p>3 rows × 40 columns</p>\n",
       "</div>"
      ],
      "text/plain": [
       "             -15 -14 -13 -12 -11 -10 -9  -8  -7  -6  ...   15  16  17  18  19  \\\n",
       "hsa-let-7a-1   1   1   0   0   0   0   0   0   0   0 ...    0   0   0   0   0   \n",
       "hsa-let-7a-2   1   0   0   0   0   1   1   1   0   0 ...    0   0   0   0   0   \n",
       "hsa-let-7a-3   1   0   0   1   0   0   0   0   0   0 ...    0   0   0   0   0   \n",
       "\n",
       "              20  21  22   23   24  \n",
       "hsa-let-7a-1   0   1   1  NaN  NaN  \n",
       "hsa-let-7a-2   0   0   1    1  NaN  \n",
       "hsa-let-7a-3   0   1   0  NaN  NaN  \n",
       "\n",
       "[3 rows x 40 columns]"
      ]
     },
     "execution_count": 39,
     "metadata": {},
     "output_type": "execute_result"
    }
   ],
   "source": [
    "mmtbl = pd.DataFrame(index=folded,columns=range(-15,25))\n",
    "for m in folded:\n",
    "    ctinfo = list(s4str.loc[m].items())\n",
    "    ps, pe = get_pre_position(m)\n",
    "    symstr = get_sym_str(ctinfo, ps, pe)\n",
    "    ajs, aje = map(int,s4.loc[m,'Apical junction position'].split(', '))\n",
    "    bjs, bje = map(int,s4.loc[m,'Basal junction position'].split(', ')) \n",
    "    usstr = symstr[ps-1:ajs].replace('A','')+symstr[ajs:ajs+2]\n",
    "    lsstr = symstr[bjs-3:bjs-1]+symstr[bjs-1:ps-1].replace('A','')\n",
    "    usstr = [0 if s=='M' else 1 for s in usstr]\n",
    "    lsstr = [0 if s=='M' else 1 for s in lsstr]\n",
    "    strd = dict(zip(range(25),usstr)); strd.update(dict(zip(range(-1,-16,-1),lsstr[::-1])))\n",
    "    mmtbl.loc[m] = pd.Series(strd)\n",
    "mmtbl.head(3)"
   ]
  },
  {
   "cell_type": "code",
   "execution_count": 40,
   "metadata": {},
   "outputs": [
    {
     "data": {
      "image/png": "[encoded data removed]",
      "text/plain": [
       "<matplotlib.figure.Figure at 0x7f4994bf9350>"
      ]
     },
     "metadata": {},
     "output_type": "display_data"
    }
   ],
   "source": [
    "xs = range(-13,21)\n",
    "ys = mmtbl[xs].sum()/len(folded)*100\n",
    "xtks = range(-10,1,5)+range(4,20,5)\n",
    "xtls = range(-10,0,5)+['+1','+5','+10','+15','+20']\n",
    "\n",
    "fig, ax = plt.subplots(1, 1, figsize=(4.4,1.9))\n",
    "ax.bar(xs,ys,color='#424242',zorder=2,width=.7,edgecolor='k',lw=1)\n",
    "\n",
    "ax.set_xlim(min(xs)-1,max(xs)+1)\n",
    "ax.set_xticks(xtks)\n",
    "ax.set_xticklabels(xtls)\n",
    "ax.set_xlabel('5p strand position')\n",
    "ax.set_ylabel('Mismatch frequency (%)')\n",
    "ax.grid(ls='-',lw=.5)\n",
    "#fig.savefig(resultpath + '230705_f2e__mismatch.pdf')"
   ]
  },
  {
   "cell_type": "code",
   "execution_count": 41,
   "metadata": {},
   "outputs": [
    {
     "name": "stdout",
     "output_type": "stream",
     "text": [
      "270 206\n"
     ]
    }
   ],
   "source": [
    "major5p = s1[s1['Guide']=='5p'].reindex(folded).dropna().index\n",
    "major3p = s1[s1['Guide']=='3p'].reindex(folded).dropna().index\n",
    "print len(major5p), len(major3p)"
   ]
  },
  {
   "cell_type": "code",
   "execution_count": 42,
   "metadata": {},
   "outputs": [
    {
     "data": {
      "image/png": "[encoded data removed]",
      "text/plain": [
       "<matplotlib.figure.Figure at 0x7f4994d4d210>"
      ]
     },
     "metadata": {},
     "output_type": "display_data"
    }
   ],
   "source": [
    "## 5p guide\n",
    "xs = range(-13,21)\n",
    "ys = mmtbl.reindex(major5p)[xs].sum()/len(major5p)*100\n",
    "xtks = range(-10,1,5)+range(4,20,5)\n",
    "xtls = range(-10,0,5)+['+1','+5','+10','+15','+20']\n",
    "\n",
    "fig, ax = plt.subplots(1, 1, figsize=(4.4,1.9))\n",
    "ax.bar(xs,ys,color='#424242',zorder=2,width=.7,edgecolor='k',lw=1)\n",
    "\n",
    "ax.set_xlim(min(xs)-1,max(xs)+1)\n",
    "ax.set_xticks(xtks)\n",
    "ax.set_xticklabels(xtls)\n",
    "ax.set_xlabel('5p strand position')\n",
    "ax.set_ylabel('Mismatch frequency (%)')\n",
    "ax.grid(ls='-',lw=.5)\n",
    "#fig.savefig(resultpath + '230705_f2e__mismatch_5p.pdf')"
   ]
  },
  {
   "cell_type": "code",
   "execution_count": 43,
   "metadata": {},
   "outputs": [
    {
     "data": {
      "image/png": "[encoded data removed]",
      "text/plain": [
       "<matplotlib.figure.Figure at 0x7f4994afa810>"
      ]
     },
     "metadata": {},
     "output_type": "display_data"
    }
   ],
   "source": [
    "## 3p guide\n",
    "xs = range(-13,21)\n",
    "ys = mmtbl.reindex(major3p)[xs].sum()/len(major3p)*100\n",
    "xtks = range(-10,1,5)+range(4,20,5)\n",
    "xtls = range(-10,0,5)+['+1','+5','+10','+15','+20']\n",
    "\n",
    "fig, ax = plt.subplots(1, 1, figsize=(4.4,1.9))\n",
    "ax.bar(xs,ys,color='#424242',zorder=2,width=.7,edgecolor='k',lw=1)\n",
    "\n",
    "ax.set_xlim(min(xs)-1,max(xs)+1)\n",
    "ax.set_xticks(xtks)\n",
    "ax.set_xticklabels(xtls)\n",
    "ax.set_xlabel('5p strand position')\n",
    "ax.set_ylabel('Mismatch frequency (%)')\n",
    "ax.grid(ls='-',lw=.5)\n",
    "#fig.savefig(resultpath + '230705_f2e__mismatch_3p.pdf')"
   ]
  },
  {
   "cell_type": "markdown",
   "metadata": {},
   "source": [
    "### 2E. Distribution of the number of mismatched pairs in the stem."
   ]
  },
  {
   "cell_type": "code",
   "execution_count": 44,
   "metadata": {},
   "outputs": [
    {
     "name": "stdout",
     "output_type": "stream",
     "text": [
      "[ 1.68067227  7.77310924 15.54621849 18.69747899 19.74789916 14.70588235\n",
      " 10.08403361  6.72268908  5.04201681]\n"
     ]
    }
   ],
   "source": [
    "bins = [(0,0),(1,1),(2,2),(3,3),(4,4),(5,5),(6,6),(7,7),(8,50)]\n",
    "xs = range(0,9)\n",
    "ys = [len([m for m in folded if lb<=s4.loc[m,'Mismatches']<=ub]) for lb,ub in bins]\n",
    "ys = np.array(ys)/len(folded)*100\n",
    "print ys"
   ]
  },
  {
   "cell_type": "code",
   "execution_count": 45,
   "metadata": {},
   "outputs": [
    {
     "data": {
      "image/png": "[encoded data removed]",
      "text/plain": [
       "<matplotlib.figure.Figure at 0x7f4994452d10>"
      ]
     },
     "metadata": {},
     "output_type": "display_data"
    }
   ],
   "source": [
    "fig, ax = plt.subplots(1, 1, figsize=(3,2))\n",
    "ax.bar(xs,ys,color='#424242',width=.7,edgecolor='k',lw=1,zorder=2)\n",
    "\n",
    "ax.set_xlabel('Mismatches in the stem')\n",
    "ax.set_ylabel('Pri-miRNA proportion (%)')\n",
    "ax.set_xticks(xs)\n",
    "ax.set_xticklabels(xs[:-1]+['   $\\geq$8'])\n",
    "ax.set_yticks([0,10,20])\n",
    "ax.set_xlim(min(xs)-.7,max(xs)+.5)\n",
    "ax.yaxis.grid(ls='-',lw=.5)\n",
    "ax.tick_params(labelsize=9.4)\n",
    "#fig.savefig(resultpath+'220527_f2f__mismatch_count.pdf')"
   ]
  },
  {
   "cell_type": "markdown",
   "metadata": {},
   "source": [
    "### 2F. In vitro processing results of pri-miRNAs binned by the number of mismatched pairs."
   ]
  },
  {
   "cell_type": "code",
   "execution_count": 46,
   "metadata": {},
   "outputs": [
    {
     "name": "stdout",
     "output_type": "stream",
     "text": [
      "0.0044046444656003795\n",
      "0.002235095311166664\n"
     ]
    }
   ],
   "source": [
    "bins = [(0,1),(2,3),(4,5),(6,7),(8,30)]\n",
    "msl = [[m for m in folded if lb<=s4.loc[m,'Mismatches']-s4.loc[m,'Mismatch at -6']<=ub] \n",
    "       for lb,ub in bins]\n",
    "pes = [[releffs[m] for m in ms] for ms in msl]\n",
    "phs = [[relhoms[m] for m in ms] for ms in msl]\n",
    "xs = np.arange(len(bins))\n",
    "ys1 = map(np.average,pes)\n",
    "es1 = map(sem,pes)\n",
    "ys2 = map(np.average,phs)\n",
    "es2 = map(sem,phs)\n",
    "labels = ['0-1','2-3','4-5','6-7','$\\geq$8']\n",
    "print mannwhitneyu(pes[0],pes[1]+pes[2]+pes[3]+pes[4])[1]*2\n",
    "print mannwhitneyu(phs[0],phs[1]+phs[2]+phs[3]+phs[4])[1]*2\n",
    "#labels = ['%s\\n(%s)'%(l,len(pe)) for l,pe in zip(labels,pes)]"
   ]
  },
  {
   "cell_type": "code",
   "execution_count": 47,
   "metadata": {
    "scrolled": true
   },
   "outputs": [
    {
     "data": {
      "text/plain": [
       "Text(0,0.5,u'Cleavage homogeneity')"
      ]
     },
     "execution_count": 47,
     "metadata": {},
     "output_type": "execute_result"
    },
    {
     "data": {
      "image/png": "[encoded data removed]",
      "text/plain": [
       "<matplotlib.figure.Figure at 0x7f49944c8610>"
      ]
     },
     "metadata": {},
     "output_type": "display_data"
    }
   ],
   "source": [
    "fig,ax = plt.subplots(1,1,figsize=(2,1.7))\n",
    "\n",
    "ax.errorbar(xs-.12,ys1,yerr=es1,lw=0,elinewidth=1.8,ms=3,marker='o',color='#7b3294')\n",
    "axt = ax.twinx()\n",
    "axt.errorbar(xs+.12,ys2,yerr=es2,lw=0,elinewidth=1.8,ms=3,marker='o',color='#4dac26')\n",
    "ax.set_xlim(min(xs)-.5,max(xs)+.5)\n",
    "ax.set_xticks(xs)\n",
    "ax.set_xticklabels(labels)\n",
    "ax.grid(ls='-',lw=.7,color='w')\n",
    "for a in [ax,axt]:\n",
    "    a.spines['left'].set_visible(False)\n",
    "    a.spines['bottom'].set_visible(False)\n",
    "ax.tick_params(left='on')\n",
    "axt.tick_params(left='off',right='on')\n",
    "ax.set_facecolor('#ededed')\n",
    "ax.set_xlabel('Mismatches in the stem')\n",
    "ax.set_ylabel('Cleavage efficiency',color='#7b3294')\n",
    "axt.set_ylabel('Cleavage homogeneity',color='#4dac26')\n",
    "#fig.savefig(resultpath + '220527_f2g__mismatch_processing.pdf')"
   ]
  },
  {
   "cell_type": "markdown",
   "metadata": {},
   "source": [
    "### S2C-D. In vitro processing results of pri-miRNAs with and without a mismatch at -6 or +1."
   ]
  },
  {
   "cell_type": "code",
   "execution_count": 48,
   "metadata": {},
   "outputs": [
    {
     "name": "stdout",
     "output_type": "stream",
     "text": [
      "0.0030691576089133294 8.057223339719038e-05\n"
     ]
    }
   ],
   "source": [
    "msl = [mmtbl[mmtbl[-6]==1].index, mmtbl[mmtbl[-6]!=1].index]\n",
    "pes = [[releffs[m] for m in ms] for ms in msl]\n",
    "phs = [[relhoms[m] for m in ms] for ms in msl]\n",
    "xs = np.arange(2)\n",
    "ys1 = map(np.average,pes)\n",
    "es1 = map(sem,pes)\n",
    "ys2 = map(np.average,phs)\n",
    "es2 = map(sem,phs)\n",
    "labels = ['yes','no']\n",
    "labels = ['%s\\n(%s)'%(l,len(pe)) for l,pe in zip(labels,pes)]\n",
    "print mannwhitneyu(pes[0],pes[1])[1]*2, mannwhitneyu(phs[0],phs[1])[1]*2"
   ]
  },
  {
   "cell_type": "code",
   "execution_count": 49,
   "metadata": {},
   "outputs": [
    {
     "data": {
      "text/plain": [
       "Text(0,0.5,u'Cleavage homogeneity')"
      ]
     },
     "execution_count": 49,
     "metadata": {},
     "output_type": "execute_result"
    },
    {
     "data": {
      "image/png": "[encoded data removed]",
      "text/plain": [
       "<matplotlib.figure.Figure at 0x7f49943c1b10>"
      ]
     },
     "metadata": {},
     "output_type": "display_data"
    }
   ],
   "source": [
    "fig,ax = plt.subplots(1,1,figsize=(1.5,2))\n",
    "\n",
    "ax.errorbar(xs-.1,ys1,yerr=es1,lw=0,elinewidth=1.8,ms=3,marker='o',color='#7b3294')\n",
    "axt = ax.twinx()\n",
    "axt.errorbar(xs+.1,ys2,yerr=es2,lw=0,elinewidth=1.8,ms=3,marker='o',color='#4dac26')\n",
    "ax.set_xlim(min(xs)-.5,max(xs)+.5)\n",
    "ax.set_xticks(xs)\n",
    "ax.set_xticklabels(labels)\n",
    "ax.grid(ls='-',lw=.7,color='w')\n",
    "ax.tick_params(left='on')\n",
    "ax.set_title('Mismatch at -6\\n')\n",
    "for a in [ax,axt]:\n",
    "    a.spines['left'].set_visible(False)\n",
    "    a.spines['bottom'].set_visible(False)\n",
    "axt.tick_params(left='off',right='on')\n",
    "ax.set_facecolor('#ededed')\n",
    "#ax.set_yticks([.5,.6]); axt.set_yticks([.5,.6])\n",
    "ax.set_ylabel('Cleavage efficiency',color='#7b3294')\n",
    "axt.set_ylabel('Cleavage homogeneity',color='#4dac26')\n",
    "#fig.savefig(resultpath + '220530_s2_mismatch6.pdf')"
   ]
  },
  {
   "cell_type": "code",
   "execution_count": 50,
   "metadata": {},
   "outputs": [
    {
     "name": "stdout",
     "output_type": "stream",
     "text": [
      "0.6047795061580055 0.1760031819084239\n"
     ]
    }
   ],
   "source": [
    "msl = [mmtbl[mmtbl[0]==1].index, mmtbl[mmtbl[0]!=1].index]\n",
    "pes = [[releffs[m] for m in ms] for ms in msl]\n",
    "phs = [[relhoms[m] for m in ms] for ms in msl]\n",
    "xs = np.arange(2)\n",
    "ys1 = map(np.average,pes)\n",
    "es1 = map(sem,pes)\n",
    "ys2 = map(np.average,phs)\n",
    "es2 = map(sem,phs)\n",
    "labels = ['yes','no']\n",
    "labels = ['%s\\n(%s)'%(l,len(pe)) for l,pe in zip(labels,pes)]\n",
    "print mannwhitneyu(pes[0],pes[1])[1]*2, mannwhitneyu(phs[0],phs[1])[1]*2"
   ]
  },
  {
   "cell_type": "code",
   "execution_count": 51,
   "metadata": {},
   "outputs": [
    {
     "data": {
      "text/plain": [
       "Text(0,0.5,u'Cleavage homogeneity')"
      ]
     },
     "execution_count": 51,
     "metadata": {},
     "output_type": "execute_result"
    },
    {
     "data": {
      "image/png": "[encoded data removed]",
      "text/plain": [
       "<matplotlib.figure.Figure at 0x7f49942dc1d0>"
      ]
     },
     "metadata": {},
     "output_type": "display_data"
    }
   ],
   "source": [
    "fig,ax = plt.subplots(1,1,figsize=(1.5,2))\n",
    "\n",
    "ax.errorbar(xs-.1,ys1,yerr=es1,lw=0,elinewidth=1.8,ms=3,marker='o',color='#7b3294')\n",
    "axt = ax.twinx()\n",
    "axt.errorbar(xs+.1,ys2,yerr=es2,lw=0,elinewidth=1.8,ms=3,marker='o',color='#4dac26')\n",
    "ax.set_xlim(min(xs)-.5,max(xs)+.5)\n",
    "ax.set_xticks(xs)\n",
    "ax.set_xticklabels(labels)\n",
    "ax.grid(ls='-',lw=.7,color='w')\n",
    "ax.tick_params(left='on')\n",
    "ax.set_title('Mismatch at +1\\n')\n",
    "for a in [ax,axt]:\n",
    "    a.spines['left'].set_visible(False)\n",
    "    a.spines['bottom'].set_visible(False)\n",
    "axt.tick_params(left='off',right='on')\n",
    "ax.set_facecolor('#ededed')\n",
    "ax.set_yticks([.75,.8])#; axt.set_yticks([.5,.6])\n",
    "ax.set_ylabel('Cleavage efficiency',color='#7b3294')\n",
    "axt.set_ylabel('Cleavage homogeneity',color='#4dac26')\n",
    "#fig.savefig(resultpath + '220530_s2_mismatch1.pdf')"
   ]
  },
  {
   "cell_type": "code",
   "execution_count": null,
   "metadata": {},
   "outputs": [],
   "source": []
  }
 ],
 "metadata": {
  "kernelspec": {
   "display_name": "Python 2",
   "language": "python",
   "name": "python2"
  },
  "language_info": {
   "codemirror_mode": {
    "name": "ipython",
    "version": 2
   },
   "file_extension": ".py",
   "mimetype": "text/x-python",
   "name": "python",
   "nbconvert_exporter": "python",
   "pygments_lexer": "ipython2",
   "version": "2.7.18"
  }
 },
 "nbformat": 4,
 "nbformat_minor": 2
}

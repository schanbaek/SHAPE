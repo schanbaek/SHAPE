{
 "cells": [
  {
   "cell_type": "markdown",
   "metadata": {},
   "source": [
    "## Figure S7. SHAPE-based pri-miRNA structures\n",
    "#### data to include\n",
    "- SHAPE-based pri-miRNA structure\n",
    "- pri-miRNA features and optimality\n",
    "- in vitro processing results\n",
    "- possible cofactors"
   ]
  },
  {
   "cell_type": "code",
   "execution_count": 22,
   "metadata": {},
   "outputs": [
    {
     "name": "stdout",
     "output_type": "stream",
     "text": [
      "Last revised by S. Chan Baek at 2023-10-28.\n"
     ]
    }
   ],
   "source": [
    "import time\n",
    "today = time.strftime('%Y-%m-%d')\n",
    "name = 'S. Chan Baek'\n",
    "print 'Last revised by %s at %s.' % (name, today)"
   ]
  },
  {
   "cell_type": "code",
   "execution_count": 23,
   "metadata": {},
   "outputs": [
    {
     "name": "stdout",
     "output_type": "stream",
     "text": [
      "/casa/bsc/projects/2_Structure-of-pri/2007_paper_prep\n"
     ]
    }
   ],
   "source": [
    "home = '/casa/bsc/projects/2_Structure-of-pri/2007_paper_prep'\n",
    "%cd $home"
   ]
  },
  {
   "cell_type": "code",
   "execution_count": 24,
   "metadata": {},
   "outputs": [
    {
     "name": "stdout",
     "output_type": "stream",
     "text": [
      "resultpath: results/231028/\n"
     ]
    }
   ],
   "source": [
    "import sys; sys.path.append('/casa/bsc/notebooks/')\n",
    "from basic import gen_result_dir\n",
    "resultpath = gen_result_dir('results/')\n",
    "print 'resultpath:', resultpath"
   ]
  },
  {
   "cell_type": "code",
   "execution_count": 25,
   "metadata": {},
   "outputs": [],
   "source": [
    "from __future__ import division\n",
    "from collections import Counter, defaultdict\n",
    "from matplotlib import pyplot as plt\n",
    "from os import path\n",
    "import matplotlib\n",
    "import pandas as pd\n",
    "import numpy as np\n",
    "import re\n",
    "import gzip\n",
    "from util import *\n",
    "#%matplotlib inline"
   ]
  },
  {
   "cell_type": "markdown",
   "metadata": {},
   "source": [
    "### 1) Load data"
   ]
  },
  {
   "cell_type": "code",
   "execution_count": 26,
   "metadata": {},
   "outputs": [],
   "source": [
    "## processing data\n",
    "as1 = pd.read_csv('supplementary/TableS1__Previously_identified_DROSHA-dependence.csv', \n",
    "                 header=1, index_col=0)\n",
    "as2 = pd.read_csv('supplementary/TableS2__Oligonucleotides_used_in_this_study.csv',\n",
    "                 header=1, index_col=0)\n",
    "as3 = pd.read_csv('supplementary/TableS3__In_vitro_processing_results_\\\n",
    "Microprocessor-only.csv', header=1, index_col=0)\n",
    "as4 = pd.read_csv('supplementary/TableS4__Cis-acting_elements_of_human_pri-miRNAs.csv', \n",
    "                 header=1, index_col=0)\n",
    "as5 = pd.read_csv('supplementary/TableS5__In_vitro_processing_results_SRSF3.csv', \n",
    "                 header=1, index_col=0)"
   ]
  },
  {
   "cell_type": "code",
   "execution_count": 27,
   "metadata": {},
   "outputs": [
    {
     "name": "stdout",
     "output_type": "stream",
     "text": [
      "560 747 758\n"
     ]
    }
   ],
   "source": [
    "EFFCUT = 1.5\n",
    "HOMCUT = .25\n",
    "effsmp = as3['Cleavage Efficiency'].to_dict()\n",
    "homsmp = as3['Cleavage Homogeneity'].to_dict()\n",
    "effssr = as5['Cleavage Efficiency'].to_dict()\n",
    "homssr = as5['Cleavage Homogeneity'].to_dict()\n",
    "dcsmirsmp = [ m for m in as3.index if effsmp[m]>=EFFCUT and homsmp[m]>=HOMCUT ]\n",
    "nodcsmp = [ m for m in as3.index if m not in dcsmirsmp ]\n",
    "dcsmirs = [ m for m in as5.index if effssr[m]>=EFFCUT and homssr[m]>=HOMCUT ]\n",
    "nodcs = [ m for m in as5.index if m not in dcsmirs ]\n",
    "ivpmirs = sorted([m for m in as3.index if m in as5.index])\n",
    "productive = [m for m in ivpmirs if m in dcsmirs or m in dcsmirsmp]\n",
    "print len(dcsmirsmp), len(dcsmirs), len(productive)"
   ]
  },
  {
   "cell_type": "code",
   "execution_count": 31,
   "metadata": {},
   "outputs": [],
   "source": [
    "#clvmp = pd.read_csv('../../1_DCS/2004_paper_prep/\\\n",
    "#resources/210111_cleavage_sites.csv',index_col=0)\n",
    "#clvsr = pd.read_csv('../../1_DCS/2004_paper_prep/\\\n",
    "#resources/210111_cleavage_sites_srsf3.csv',index_col=0)\n",
    "clvmp = pd.read_csv('../../1_DCS/2004_paper_prep/\\\n",
    "resources/210325_cleavage_sites_inv.csv',index_col=0)\n",
    "clvsr = pd.read_csv('../../1_DCS/2004_paper_prep/\\\n",
    "resources/210325_cleavage_sites_srsf3_inv.csv',index_col=0)"
   ]
  },
  {
   "cell_type": "code",
   "execution_count": 29,
   "metadata": {},
   "outputs": [
    {
     "name": "stdout",
     "output_type": "stream",
     "text": [
      "560 (25, 96)\n"
     ]
    }
   ],
   "source": [
    "majorcsmp = {}\n",
    "for mir in dcsmirsmp:\n",
    "    c5, c3 = as3.loc[[mir],[\"5' cleavage site\",\"3' cleavage site\"]].iloc[0]\n",
    "    majorcsmp[mir] = (int(c5),int(c3))\n",
    "print len(majorcsmp), majorcsmp['hsa-let-7a-1']"
   ]
  },
  {
   "cell_type": "code",
   "execution_count": 30,
   "metadata": {},
   "outputs": [
    {
     "name": "stdout",
     "output_type": "stream",
     "text": [
      "747 (25, 96)\n"
     ]
    }
   ],
   "source": [
    "majorcs = {}\n",
    "for mir in dcsmirs:\n",
    "    c5, c3 = as5.loc[[mir],[\"5' cleavage site\",\"3' cleavage site\"]].iloc[0]\n",
    "    majorcs[mir] = (int(c5),int(c3))\n",
    "print len(majorcs), majorcs['hsa-let-7a-1']"
   ]
  },
  {
   "cell_type": "code",
   "execution_count": 28,
   "metadata": {},
   "outputs": [
    {
     "data": {
      "text/html": [
       "<div>\n",
       "<style scoped>\n",
       "    .dataframe tbody tr th:only-of-type {\n",
       "        vertical-align: middle;\n",
       "    }\n",
       "\n",
       "    .dataframe tbody tr th {\n",
       "        vertical-align: top;\n",
       "    }\n",
       "\n",
       "    .dataframe thead th {\n",
       "        text-align: right;\n",
       "    }\n",
       "</style>\n",
       "<table border=\"1\" class=\"dataframe\">\n",
       "  <thead>\n",
       "    <tr style=\"text-align: right;\">\n",
       "      <th></th>\n",
       "      <th>stem</th>\n",
       "      <th>upper stem</th>\n",
       "      <th>lower stem</th>\n",
       "      <th>BJ5</th>\n",
       "      <th>BJ3</th>\n",
       "      <th>AJ5</th>\n",
       "      <th>AJ3</th>\n",
       "      <th>BS5</th>\n",
       "      <th>BS3</th>\n",
       "      <th>BE5</th>\n",
       "      <th>BE3</th>\n",
       "      <th>loop</th>\n",
       "    </tr>\n",
       "  </thead>\n",
       "  <tbody>\n",
       "    <tr>\n",
       "      <th>hsa-let-7a-1</th>\n",
       "      <td>34.0</td>\n",
       "      <td>21.0</td>\n",
       "      <td>13.0</td>\n",
       "      <td>11.0</td>\n",
       "      <td>109.0</td>\n",
       "      <td>46.0</td>\n",
       "      <td>74.0</td>\n",
       "      <td>2.0</td>\n",
       "      <td>7.0</td>\n",
       "      <td>8.0</td>\n",
       "      <td>117.0</td>\n",
       "      <td>27.0</td>\n",
       "    </tr>\n",
       "    <tr>\n",
       "      <th>hsa-let-7a-2</th>\n",
       "      <td>36.0</td>\n",
       "      <td>22.0</td>\n",
       "      <td>14.0</td>\n",
       "      <td>13.0</td>\n",
       "      <td>106.0</td>\n",
       "      <td>49.0</td>\n",
       "      <td>71.0</td>\n",
       "      <td>6.0</td>\n",
       "      <td>9.0</td>\n",
       "      <td>6.0</td>\n",
       "      <td>116.0</td>\n",
       "      <td>21.0</td>\n",
       "    </tr>\n",
       "    <tr>\n",
       "      <th>hsa-let-7a-3</th>\n",
       "      <td>35.0</td>\n",
       "      <td>21.0</td>\n",
       "      <td>14.0</td>\n",
       "      <td>12.0</td>\n",
       "      <td>107.0</td>\n",
       "      <td>47.0</td>\n",
       "      <td>72.0</td>\n",
       "      <td>3.0</td>\n",
       "      <td>4.0</td>\n",
       "      <td>8.0</td>\n",
       "      <td>112.0</td>\n",
       "      <td>24.0</td>\n",
       "    </tr>\n",
       "  </tbody>\n",
       "</table>\n",
       "</div>"
      ],
      "text/plain": [
       "              stem  upper stem  lower stem   BJ5    BJ3   AJ5   AJ3  BS5  BS3  \\\n",
       "hsa-let-7a-1  34.0        21.0        13.0  11.0  109.0  46.0  74.0  2.0  7.0   \n",
       "hsa-let-7a-2  36.0        22.0        14.0  13.0  106.0  49.0  71.0  6.0  9.0   \n",
       "hsa-let-7a-3  35.0        21.0        14.0  12.0  107.0  47.0  72.0  3.0  4.0   \n",
       "\n",
       "              BE5    BE3  loop  \n",
       "hsa-let-7a-1  8.0  117.0  27.0  \n",
       "hsa-let-7a-2  6.0  116.0  21.0  \n",
       "hsa-let-7a-3  8.0  112.0  24.0  "
      ]
     },
     "execution_count": 28,
     "metadata": {},
     "output_type": "execute_result"
    }
   ],
   "source": [
    "## shape data\n",
    "s1 = pd.read_csv('supplementary/211228_s1_pri-info.csv',header=1,index_col=0)\n",
    "s2 = pd.read_csv('supplementary/211228_s2_construct.csv',header=1,index_col=0)\n",
    "constseqs = s2['construct sequence'].to_dict()\n",
    "features = pd.read_csv('shape/2021-12-28/231027_features.csv',index_col=0)\n",
    "folded = list(features.index)\n",
    "features.iloc[:3,:12]"
   ]
  },
  {
   "cell_type": "code",
   "execution_count": 32,
   "metadata": {},
   "outputs": [],
   "source": [
    "def get_pre_position(mir):\n",
    "    constseq = constseqs[mir].replace('T','U')\n",
    "    preseq = s1.loc[mir, 'precursor']\n",
    "    return constseq.find(preseq)+1, constseq.find(preseq)+len(preseq)"
   ]
  },
  {
   "cell_type": "code",
   "execution_count": 12,
   "metadata": {},
   "outputs": [],
   "source": [
    "# def get_pre_position(mir):\n",
    "#     flank5, flank3 = as2.loc[mir,[\"5' flanking segment\",\"3' flanking segment\"]]\n",
    "#     if flank5 or flank3:\n",
    "#         return (len(flank5)+1,125-len(flank3))\n",
    "#     else:\n",
    "#         return (0,126)"
   ]
  },
  {
   "cell_type": "code",
   "execution_count": 33,
   "metadata": {},
   "outputs": [],
   "source": [
    "def split_ct(ctfile):\n",
    "    infos = open(ctfile, 'rt').read()\n",
    "    rna = infos.split('\\n')[0].strip().split()[-1]\n",
    "    nstrt = infos.count(rna)\n",
    "    splitinfos = []\n",
    "    for i in range(nstrt):\n",
    "        lines = infos.split('\\n')[1+(1+len(constseqs[rna]))*i:(1+len(constseqs[rna]))*(i+1)]\n",
    "        splitinfos.append([ tuple(map(int,l.strip().split()[4:6][::-1])) for l in lines ])\n",
    "    return splitinfos"
   ]
  },
  {
   "cell_type": "code",
   "execution_count": 34,
   "metadata": {},
   "outputs": [
    {
     "name": "stdout",
     "output_type": "stream",
     "text": [
      "['MIMAT0000510']\n"
     ]
    }
   ],
   "source": [
    "primat = {}\n",
    "for pri, row in annpri.iterrows():\n",
    "    matureDerives = anntbl[anntbl['Derives_from']==row['ID']]\n",
    "    primat[pri] = matureDerives['ID'].tolist()\n",
    "print primat['hsa-mir-320a']"
   ]
  },
  {
   "cell_type": "code",
   "execution_count": 36,
   "metadata": {},
   "outputs": [
    {
     "name": "stdout",
     "output_type": "stream",
     "text": [
      " 108 [15, 16]\n"
     ]
    }
   ],
   "source": [
    "ugrange = range(-20,-9)\n",
    "uglist = defaultdict(list)\n",
    "ugposes = {}\n",
    "for m in folded:\n",
    "    if m in dcsmirs:\n",
    "        ps, pe = majorcs[m]\n",
    "    elif m in dcsmirsmp:\n",
    "        ps, pe = majorcsmp[m]\n",
    "    else:\n",
    "        ps, pe = get_pre_position(m)\n",
    "        \n",
    "    priseq = constseqs[m].replace('T','U')\n",
    "    lstems = [(i,p) for i,p in split_ct(features.loc[m,'ct file'])[0] if i<ps]\n",
    "    consecps = zip(lstems[:-1],lstems[1:])\n",
    "    symstr = features.loc[m,'structure']\n",
    "    for (i1,p1),(i2,p2) in consecps:\n",
    "        if 0<p1<60 or 0<p2<60:\n",
    "            continue\n",
    "        \n",
    "        firstm = symstr[i1-1:].find('M')\n",
    "        pos = -1*(count_len(symstr[i1-1+firstm:ps-1])+firstm)\n",
    "        if pos not in ugrange:\n",
    "            continue\n",
    "        \n",
    "        if priseq[i1-1:i2]=='UG':\n",
    "            uglist[pos].append(m)\n",
    "            if pos==-14:\n",
    "                ugposes[m] = range(i1,i2+1)\n",
    "ugmirs = set(uglist[-14])\n",
    "print len(ugmirs), ugposes['hsa-mir-16-1']"
   ]
  },
  {
   "cell_type": "code",
   "execution_count": 37,
   "metadata": {},
   "outputs": [
    {
     "name": "stdout",
     "output_type": "stream",
     "text": [
      "200 [53, 54, 55, 56]\n"
     ]
    }
   ],
   "source": [
    "ugurange = range(16,27)\n",
    "ugulist = defaultdict(list)\n",
    "uguposes = defaultdict(list)\n",
    "for m in folded:\n",
    "    if m in dcsmirs:\n",
    "        ps, pe = majorcs[m]\n",
    "    elif m in dcsmirsmp:\n",
    "        ps, pe = majorcsmp[m]\n",
    "    else:\n",
    "        ps, pe = get_pre_position(m)\n",
    "        \n",
    "    aj5,aj3 = features.loc[m,['AJ5','AJ3']].astype(int)\n",
    "    priseq = constseqs[m].replace('T','U')\n",
    "    ustems = [(i,p) for i,p in split_ct(features.loc[m,'ct file'])[0] if ps<=i<aj3]\n",
    "    symstr = features.loc[m,'structure']\n",
    "    symstr = symstr[:aj5]+'L'*(aj3-aj5-1)+symstr[aj3-1:]\n",
    "    for i1,p1 in ustems:        \n",
    "        firstm = symstr[:i1].rfind('M')\n",
    "        pos = count_len(symstr[ps-1:firstm])+(i1-firstm)\n",
    "        if pos not in ugurange:\n",
    "            continue\n",
    "        \n",
    "        if priseq[i1-1:i1+2] in ['UGU','GUG']:\n",
    "            ugulist[pos].append(m)\n",
    "            if pos in range(20,25):\n",
    "                uguposes[m].extend([p for p in range(i1,i1+3) if p not in uguposes[m]])\n",
    "ugumirs = set(ugulist[20]+ugulist[21]+ugulist[22]+ugulist[23]+ugulist[24])\n",
    "print len(ugumirs), uguposes['hsa-mir-30a']"
   ]
  },
  {
   "cell_type": "code",
   "execution_count": 38,
   "metadata": {},
   "outputs": [],
   "source": [
    "scotbl = pd.ExcelFile('supplementary/Kwon_2018_s4.xlsx')\\\n",
    ".parse('DODGERS scores',header=5,index_col=2)\n",
    "def matching_bases(st, en, symstr):\n",
    "    str5p = symstr[st-1:]\n",
    "    str3p = symstr[:en][::-1]\n",
    "    i,j = 0,0\n",
    "    match = {}\n",
    "    while i<len(str5p) and j<len(str3p):\n",
    "        if str5p[i]=='L' or str3p[j]=='L':\n",
    "            break\n",
    "        if str5p[i]!='A' and str3p[j]!='A':\n",
    "            match[i]=j; i+=1; j+=1\n",
    "        elif str5p[i]=='A':\n",
    "            i+=1\n",
    "        elif str3p[j]=='A':\n",
    "            j+=1\n",
    "    return {i+st:en-j for i,j in match.items()}\n",
    "\n",
    "def get_ghgs(mir):\n",
    "    symstr = features.loc[mir,'structure']\n",
    "    bjs = symstr.find('M')+1\n",
    "    bje = symstr.rfind('M')+1\n",
    "    matches = matching_bases(bjs,bje,symstr)\n",
    "    priseq = constseqs[mir].replace('T','U')\n",
    "    if mir in dcsmirs:\n",
    "        ps, pe = majorcs[mir]\n",
    "    elif mir in dcsmirsmp:\n",
    "        ps, pe = majorcsmp[mir]\n",
    "    else:\n",
    "        ps, pe = get_pre_position(mir)\n",
    "        \n",
    "    if len(matches)<3:\n",
    "        return {}\n",
    "    end = sorted(matches.keys())[-3]\n",
    "    ghgs, ghgpos = {}, []\n",
    "    for st in range(bjs,end+1):\n",
    "        if st not in matches:\n",
    "            continue\n",
    "        if all([((st+i),(matches[st]-i)) in matches.items() for i in range(3)]):\n",
    "            if st<ps:\n",
    "                pos = -count_len(symstr[st-1:ps-1])\n",
    "            else:\n",
    "                pos = count_len(symstr[ps-1:st-1])\n",
    "            ghg5p = priseq[st-1:st+2]\n",
    "            ghg3p = priseq[matches[st]-3:matches[st]][::-1]\n",
    "            ghgseq = ghg5p+ghg3p\n",
    "            ghgs[pos+1] = scotbl.loc[ghgseq,'DODGERS score']\n",
    "            if pos==-7:\n",
    "                ghgpos = range(st,st+3)+range(matches[st]-2,matches[st]+1)\n",
    "    return ghgs, ghgpos"
   ]
  },
  {
   "cell_type": "code",
   "execution_count": 39,
   "metadata": {},
   "outputs": [
    {
     "name": "stdout",
     "output_type": "stream",
     "text": [
      "242 [24, 25, 26, 93, 94, 95]\n"
     ]
    }
   ],
   "source": [
    "ghgtbl = {}\n",
    "ghgposes = {}\n",
    "for mir in folded:\n",
    "    ghg, ghgpos = get_ghgs(mir)\n",
    "    ghgtbl[mir] = ghg\n",
    "    ghgposes[mir] = ghgpos\n",
    "ghgtbl = pd.DataFrame(ghgtbl).T\n",
    "ghgmirs = list(ghgtbl[ghgtbl[-6]>=38].index)\n",
    "print len(ghgmirs), ghgposes['hsa-mir-125a']"
   ]
  },
  {
   "cell_type": "code",
   "execution_count": 40,
   "metadata": {},
   "outputs": [],
   "source": [
    "def find_cnnc(mir, cnnc):\n",
    "    if mir in dcsmirs:\n",
    "        ps, pe = majorcs[mir]\n",
    "    elif mir in dcsmirsmp:\n",
    "        ps, pe = majorcsmp[mir]\n",
    "    else:\n",
    "        ps, pe = get_pre_position(mir)\n",
    "    cnncseq = constseqs[mir][pe+15:pe+21]\n",
    "    cnncfind = re.search(cnnc, cnncseq)\n",
    "    if cnncfind:\n",
    "        return range(cnncfind.start()+pe+16,cnncfind.start()+pe+20)\n",
    "    return []"
   ]
  },
  {
   "cell_type": "code",
   "execution_count": 41,
   "metadata": {},
   "outputs": [
    {
     "name": "stdout",
     "output_type": "stream",
     "text": [
      "297 [106, 107, 108, 109]\n"
     ]
    }
   ],
   "source": [
    "cnncmirs = [m for m in folded if find_cnnc(m,'C..C')]\n",
    "cnncposes = {m:find_cnnc(m,'C..C') for m in folded}\n",
    "print len(cnncmirs), cnncposes['hsa-mir-125a']"
   ]
  },
  {
   "cell_type": "code",
   "execution_count": 42,
   "metadata": {},
   "outputs": [],
   "source": [
    "gwgmirs = ['hsa-mir-3140',\n",
    " 'hsa-mir-424',\n",
    " 'hsa-mir-486-1',\n",
    " 'hsa-mir-98',\n",
    " 'hsa-mir-99a',\n",
    " 'hsa-mir-1247',\n",
    " 'hsa-mir-1271',\n",
    " 'hsa-mir-183',\n",
    " 'hsa-mir-2115']\n",
    "gwgposes = {'hsa-mir-3140':[103,104,105],\n",
    "            'hsa-mir-424':[98,99,100],\n",
    "            'hsa-mir-486-1':[101,102,103],\n",
    "            'hsa-mir-98':[108,109,110],\n",
    "            'hsa-mir-99a':[97,98,99],\n",
    "            'hsa-mir-1247':[100,101,102],\n",
    "            'hsa-mir-1271':[97,98,99],\n",
    "            'hsa-mir-183':[100,101,102],\n",
    "            'hsa-mir-2115':[100,101,102]}"
   ]
  },
  {
   "cell_type": "markdown",
   "metadata": {},
   "source": [
    "### 2) processing table"
   ]
  },
  {
   "cell_type": "code",
   "execution_count": 43,
   "metadata": {},
   "outputs": [],
   "source": [
    "def filter_na(v):\n",
    "    if np.isnan(v):\n",
    "        return 'n.d'\n",
    "    return '%.0f%%'%(v*100)"
   ]
  },
  {
   "cell_type": "code",
   "execution_count": 44,
   "metadata": {},
   "outputs": [],
   "source": [
    "def narank(v):\n",
    "    if np.isnan(v):\n",
    "        return 'n.d'\n",
    "    return int(v)"
   ]
  },
  {
   "cell_type": "code",
   "execution_count": 45,
   "metadata": {},
   "outputs": [],
   "source": [
    "enorm = effsmp['hsa-mir-30a']\n",
    "hnorm = homsmp['hsa-mir-30a']"
   ]
  },
  {
   "cell_type": "code",
   "execution_count": 46,
   "metadata": {},
   "outputs": [
    {
     "data": {
      "text/html": [
       "<div>\n",
       "<style scoped>\n",
       "    .dataframe tbody tr th:only-of-type {\n",
       "        vertical-align: middle;\n",
       "    }\n",
       "\n",
       "    .dataframe tbody tr th {\n",
       "        vertical-align: top;\n",
       "    }\n",
       "\n",
       "    .dataframe thead th {\n",
       "        text-align: right;\n",
       "    }\n",
       "</style>\n",
       "<table border=\"1\" class=\"dataframe\">\n",
       "  <thead>\n",
       "    <tr style=\"text-align: right;\">\n",
       "      <th></th>\n",
       "      <th>Cleavage Efficiency</th>\n",
       "      <th>Cleavage Homogeneity</th>\n",
       "      <th>eff_rank</th>\n",
       "      <th>hom_rank</th>\n",
       "    </tr>\n",
       "    <tr>\n",
       "      <th>Pri-miRNA</th>\n",
       "      <th></th>\n",
       "      <th></th>\n",
       "      <th></th>\n",
       "      <th></th>\n",
       "    </tr>\n",
       "  </thead>\n",
       "  <tbody>\n",
       "    <tr>\n",
       "      <th>hsa-let-7a-1</th>\n",
       "      <td>1.41</td>\n",
       "      <td>1.12</td>\n",
       "      <td>22</td>\n",
       "      <td>30</td>\n",
       "    </tr>\n",
       "    <tr>\n",
       "      <th>hsa-let-7a-2</th>\n",
       "      <td>1.14</td>\n",
       "      <td>1.00</td>\n",
       "      <td>107</td>\n",
       "      <td>93</td>\n",
       "    </tr>\n",
       "    <tr>\n",
       "      <th>hsa-let-7a-3</th>\n",
       "      <td>0.61</td>\n",
       "      <td>0.63</td>\n",
       "      <td>322</td>\n",
       "      <td>266</td>\n",
       "    </tr>\n",
       "    <tr>\n",
       "      <th>hsa-let-7b</th>\n",
       "      <td>1.05</td>\n",
       "      <td>0.98</td>\n",
       "      <td>148</td>\n",
       "      <td>107</td>\n",
       "    </tr>\n",
       "    <tr>\n",
       "      <th>hsa-let-7c</th>\n",
       "      <td>0.00</td>\n",
       "      <td>0.15</td>\n",
       "      <td>476</td>\n",
       "      <td>412</td>\n",
       "    </tr>\n",
       "  </tbody>\n",
       "</table>\n",
       "</div>"
      ],
      "text/plain": [
       "              Cleavage Efficiency  Cleavage Homogeneity  eff_rank  hom_rank\n",
       "Pri-miRNA                                                                  \n",
       "hsa-let-7a-1                 1.41                  1.12        22        30\n",
       "hsa-let-7a-2                 1.14                  1.00       107        93\n",
       "hsa-let-7a-3                 0.61                  0.63       322       266\n",
       "hsa-let-7b                   1.05                  0.98       148       107\n",
       "hsa-let-7c                   0.00                  0.15       476       412"
      ]
     },
     "execution_count": 46,
     "metadata": {},
     "output_type": "execute_result"
    }
   ],
   "source": [
    "sub = as3[['Cleavage Efficiency','Cleavage Homogeneity']].reindex(folded)\n",
    "sub['eff_rank'] = sub['Cleavage Efficiency'].rank(ascending=False,method='max').astype(int)\n",
    "sub['hom_rank'] = sub['Cleavage Homogeneity'].rank(ascending=False,method='max').astype(int)\n",
    "sub['Cleavage Efficiency'] = (sub['Cleavage Efficiency']/enorm).round(2)\n",
    "sub['Cleavage Homogeneity'] = (sub['Cleavage Homogeneity']/hnorm).round(2)\n",
    "sub.head(5)"
   ]
  },
  {
   "cell_type": "code",
   "execution_count": 49,
   "metadata": {},
   "outputs": [
    {
     "data": {
      "text/html": [
       "<div>\n",
       "<style scoped>\n",
       "    .dataframe tbody tr th:only-of-type {\n",
       "        vertical-align: middle;\n",
       "    }\n",
       "\n",
       "    .dataframe tbody tr th {\n",
       "        vertical-align: top;\n",
       "    }\n",
       "\n",
       "    .dataframe thead th {\n",
       "        text-align: right;\n",
       "    }\n",
       "</style>\n",
       "<table border=\"1\" class=\"dataframe\">\n",
       "  <thead>\n",
       "    <tr style=\"text-align: right;\">\n",
       "      <th></th>\n",
       "      <th>Cleavage Efficiency</th>\n",
       "      <th>Cleavage Homogeneity</th>\n",
       "      <th>eff_rank</th>\n",
       "      <th>hom_rank</th>\n",
       "    </tr>\n",
       "    <tr>\n",
       "      <th>Pri-miRNA</th>\n",
       "      <th></th>\n",
       "      <th></th>\n",
       "      <th></th>\n",
       "      <th></th>\n",
       "    </tr>\n",
       "  </thead>\n",
       "  <tbody>\n",
       "    <tr>\n",
       "      <th>hsa-let-7a-1</th>\n",
       "      <td>2.22</td>\n",
       "      <td>1.11</td>\n",
       "      <td>19</td>\n",
       "      <td>57</td>\n",
       "    </tr>\n",
       "    <tr>\n",
       "      <th>hsa-let-7a-2</th>\n",
       "      <td>2.02</td>\n",
       "      <td>0.97</td>\n",
       "      <td>70</td>\n",
       "      <td>173</td>\n",
       "    </tr>\n",
       "    <tr>\n",
       "      <th>hsa-let-7a-3</th>\n",
       "      <td>1.22</td>\n",
       "      <td>0.81</td>\n",
       "      <td>377</td>\n",
       "      <td>288</td>\n",
       "    </tr>\n",
       "    <tr>\n",
       "      <th>hsa-let-7b</th>\n",
       "      <td>1.90</td>\n",
       "      <td>0.96</td>\n",
       "      <td>122</td>\n",
       "      <td>189</td>\n",
       "    </tr>\n",
       "    <tr>\n",
       "      <th>hsa-let-7c</th>\n",
       "      <td>1.61</td>\n",
       "      <td>0.85</td>\n",
       "      <td>261</td>\n",
       "      <td>264</td>\n",
       "    </tr>\n",
       "  </tbody>\n",
       "</table>\n",
       "</div>"
      ],
      "text/plain": [
       "              Cleavage Efficiency  Cleavage Homogeneity  eff_rank  hom_rank\n",
       "Pri-miRNA                                                                  \n",
       "hsa-let-7a-1                 2.22                  1.11        19        57\n",
       "hsa-let-7a-2                 2.02                  0.97        70       173\n",
       "hsa-let-7a-3                 1.22                  0.81       377       288\n",
       "hsa-let-7b                   1.90                  0.96       122       189\n",
       "hsa-let-7c                   1.61                  0.85       261       264"
      ]
     },
     "execution_count": 49,
     "metadata": {},
     "output_type": "execute_result"
    }
   ],
   "source": [
    "su2 = as5[['Cleavage Efficiency','Cleavage Homogeneity']].reindex(folded)\n",
    "su2['eff_rank'] = su2['Cleavage Efficiency'].rank(ascending=False,method='max').astype(int)\n",
    "su2['hom_rank'] = su2['Cleavage Homogeneity'].rank(ascending=False,method='max').astype(int)\n",
    "su2['Cleavage Efficiency'] = (su2['Cleavage Efficiency']/enorm).round(2)\n",
    "su2['Cleavage Homogeneity'] = (su2['Cleavage Homogeneity']/hnorm).round(2)\n",
    "su2.head(5)"
   ]
  },
  {
   "cell_type": "code",
   "execution_count": 47,
   "metadata": {},
   "outputs": [
    {
     "data": {
      "text/plain": [
       "(0.49176470588235294, 0.6823529411764706, 0.8211764705882353, 1.0)"
      ]
     },
     "execution_count": 47,
     "metadata": {},
     "output_type": "execute_result"
    }
   ],
   "source": [
    "#cmap = matplotlib.cm.get_cmap('RdYlBu')\n",
    "cmap = custom_cmap(['#de2d26','#f0f0f0','#f0f0f0','#3182bd'])\n",
    "cmap2 = custom_cmap(['#3182bd','#f0f0f0','#f0f0f0','#de2d26'])\n",
    "cmap(0.8)"
   ]
  },
  {
   "cell_type": "code",
   "execution_count": 50,
   "metadata": {
    "scrolled": true
   },
   "outputs": [
    {
     "data": {
      "text/html": [
       "<div>\n",
       "<style scoped>\n",
       "    .dataframe tbody tr th:only-of-type {\n",
       "        vertical-align: middle;\n",
       "    }\n",
       "\n",
       "    .dataframe tbody tr th {\n",
       "        vertical-align: top;\n",
       "    }\n",
       "\n",
       "    .dataframe thead th {\n",
       "        text-align: right;\n",
       "    }\n",
       "</style>\n",
       "<table border=\"1\" class=\"dataframe\">\n",
       "  <thead>\n",
       "    <tr style=\"text-align: right;\">\n",
       "      <th></th>\n",
       "      <th>w/o SRSF3</th>\n",
       "      <th>w/ SRSF3</th>\n",
       "    </tr>\n",
       "  </thead>\n",
       "  <tbody>\n",
       "    <tr>\n",
       "      <th>cleavage\\nefficiency</th>\n",
       "      <td>1.41\\n(22 / 476)</td>\n",
       "      <td>2.22\\n(19 / 476)</td>\n",
       "    </tr>\n",
       "    <tr>\n",
       "      <th>cleavage\\nhomogeneity</th>\n",
       "      <td>1.12\\n(30 / 476)</td>\n",
       "      <td>1.11\\n(57 / 476)</td>\n",
       "    </tr>\n",
       "  </tbody>\n",
       "</table>\n",
       "</div>"
      ],
      "text/plain": [
       "                              w/o SRSF3          w/ SRSF3\n",
       "cleavage\\nefficiency   1.41\\n(22 / 476)  2.22\\n(19 / 476)\n",
       "cleavage\\nhomogeneity  1.12\\n(30 / 476)  1.11\\n(57 / 476)"
      ]
     },
     "execution_count": 50,
     "metadata": {},
     "output_type": "execute_result"
    }
   ],
   "source": [
    "index = ['cleavage\\nefficiency','cleavage\\nhomogeneity']\n",
    "columns = ['w/o SRSF3','w/ SRSF3']\n",
    "items = ['Cleavage Efficiency','eff_rank','Cleavage Homogeneity','hom_rank']\n",
    "\n",
    "dataall = {}\n",
    "colorall = {}\n",
    "for m in folded:\n",
    "    data = pd.DataFrame(columns=columns,index=index)\n",
    "    eff,effr,hom,homr = sub.loc[m,items]\n",
    "    ef2,ef2r,ho2,ho2r = su2.loc[m,items]\n",
    "    cs, cs2 = [], []\n",
    "    \n",
    "    data.loc['cleavage\\nefficiency','w/o SRSF3'] = '%s\\n(%i / %i)'%(eff,effr,len(folded))\n",
    "    data.loc['cleavage\\nhomogeneity','w/o SRSF3'] = '%s\\n(%i / %i)'%(hom,homr,len(folded))\n",
    "    data.loc['cleavage\\nefficiency','w/ SRSF3'] = '%s\\n(%i / %i)'%(ef2,ef2r,len(folded))\n",
    "    data.loc['cleavage\\nhomogeneity','w/ SRSF3'] = '%s\\n(%i / %i)'%(ho2,ho2r,len(folded))\n",
    "    cs.extend(map(cmap,[effr/len(folded),homr/len(folded)]))\n",
    "    cs2.extend(map(cmap,[ef2r/len(folded),ho2r/len(folded)]))\n",
    "    \n",
    "    dataall[m] = data\n",
    "    colorall[m] = zip(cs,cs2)\n",
    "dataall['hsa-let-7a-1']"
   ]
  },
  {
   "cell_type": "code",
   "execution_count": 51,
   "metadata": {},
   "outputs": [
    {
     "name": "stdout",
     "output_type": "stream",
     "text": [
      "pri-let-7a-1\n"
     ]
    }
   ],
   "source": [
    "## name\n",
    "mirnames = {}\n",
    "for m in folded:\n",
    "    name = m.replace('hsa-','pri-')\n",
    "    #name = name[0].upper()+name[1:]\n",
    "#     if m in productive:\n",
    "#         name = '%s (\"processed\")'%name\n",
    "#     else:\n",
    "#         name = '%s (\"failed\")'%name\n",
    "    mirnames[m] = name\n",
    "print mirnames['hsa-let-7a-1']"
   ]
  },
  {
   "cell_type": "code",
   "execution_count": 52,
   "metadata": {},
   "outputs": [
    {
     "name": "stdout",
     "output_type": "stream",
     "text": [
      "chr9: 94175938-94176062 (+)\n"
     ]
    }
   ],
   "source": [
    "## coordinate\n",
    "coords = {}\n",
    "for m in ivpmirs:\n",
    "    ch,st,en,strand = as2.loc[m,['Chr','Start','End','Strand']]\n",
    "    coords[m] = '%s: %s-%s (%s)'%(ch,st,en,strand)\n",
    "print coords['hsa-let-7a-1']"
   ]
  },
  {
   "cell_type": "code",
   "execution_count": 53,
   "metadata": {},
   "outputs": [],
   "source": [
    "## conservation\n",
    "def get_phylop_scores(chrom, start, end, path):\n",
    "    phystarts = [ int(f.split('.')[0]) for f in listdir('%s/%s'%(path, chrom)) \n",
    "                  if f.endswith('.gz') ]\n",
    "    init = sorted([ s for s in phystarts if s<=start ])[-1]\n",
    "    if start<max(phystarts):\n",
    "        nextst = sorted([ s for s in phystarts if s>start])[0]\n",
    "    else: nextst = end\n",
    "    rels, rele = start-init, end-init\n",
    "    phys = open('%s/%s/%s.phylop.gz'%(path, chrom,init), 'rt').read().strip().split('\\n')\n",
    "    if len(phys) <= rels:\n",
    "        if nextst >= end:\n",
    "            return ['-']*(end-start+1)\n",
    "        else:\n",
    "            return ['-']*(nextst-start) + get_phylop_scores(chrom, nextst, end)\n",
    "    elif len(phys) > rele:\n",
    "        return map(float, phys[rels:rele+1])\n",
    "    else: # rels < len(phys) <= rele\n",
    "        return map(float, phys[rels:]) + get_phylop_scores(chrom, init+len(phys), end)\n",
    "    \n",
    "def get_mature_conserv(pri, path):\n",
    "    mats = primat[pri]\n",
    "    matcons = []\n",
    "    for mat in mats:\n",
    "        ch, st, en = annmat.loc[mat,['chr','start','end']]\n",
    "        cons = [ c for c in get_phylop_scores(ch, st, en, path) if c!='-' ]\n",
    "        if cons:\n",
    "            matcons.append(np.average(cons))\n",
    "    if matcons:\n",
    "        return max(matcons)\n",
    "    return -999\n",
    "\n",
    "path100 = '/casa/bsc/databases/human/phyloP100way'\n",
    "matcons100 = { p:get_mature_conserv(p,path100) for p in ivpmirs}"
   ]
  },
  {
   "cell_type": "code",
   "execution_count": 54,
   "metadata": {},
   "outputs": [
    {
     "name": "stdout",
     "output_type": "stream",
     "text": [
      "8.0 (median of MirGeneDB: 2.4)\n"
     ]
    }
   ],
   "source": [
    "med = np.median([matcons100[m] for m in s1.index if m in ivpmirs])\n",
    "constext = {m:'%.1f (median of MirGeneDB: %.1f)'%(matcons100[m],med) for m in ivpmirs}\n",
    "print constext['hsa-let-7a-1']"
   ]
  },
  {
   "cell_type": "code",
   "execution_count": 45,
   "metadata": {},
   "outputs": [],
   "source": [
    "## expression\n",
    "exptbl = pd.read_table('../../1_DCS/2004_paper_prep/\\\n",
    "supplementary/RNAAtlas_miRNA_rpm_filtered.txt',sep='\\t')\n",
    "exptbl = exptbl[exptbl['MIMAT_id'].apply(lambda x: x in annmat.index)]\n",
    "exptbl['Name'] = exptbl['MIMAT_id'].apply(lambda x:annmat.loc[x,'Name'])\n",
    "exptbl = exptbl.set_index('Name')\n",
    "exptbl = exptbl.drop(['MIMAT_id','genome_coordinates'],axis=1)\n",
    "\n",
    "def get_mature_exp(pri):\n",
    "    mats = primat[pri]\n",
    "    matexp = []\n",
    "    for mat in mats:\n",
    "        matname = annmat.loc[mat,'Name']\n",
    "        if matname in exptbl.index:\n",
    "            matexp.append(exptbl.loc[matname].tolist())\n",
    "    if matexp:\n",
    "        return max(matexp,key=lambda x:np.average(x))\n",
    "    return [0]\n",
    "\n",
    "matexp = { p:get_mature_exp(p) for p in ivpmirs }"
   ]
  },
  {
   "cell_type": "code",
   "execution_count": 46,
   "metadata": {},
   "outputs": [
    {
     "name": "stdout",
     "output_type": "stream",
     "text": [
      "59365 (median of MirGeneDB: 38)\n"
     ]
    }
   ],
   "source": [
    "med = np.median([np.average(matexp[m]) for m in s1.index if m in ivpmirs])\n",
    "exptext = {m:'%.0f (median of MirGeneDB: %.0f)'%(np.average(matexp[m]),med) for m in ivpmirs}\n",
    "print exptext['hsa-let-7a-1']"
   ]
  },
  {
   "cell_type": "code",
   "execution_count": 125,
   "metadata": {},
   "outputs": [
    {
     "ename": "KeyboardInterrupt",
     "evalue": "",
     "output_type": "error",
     "traceback": [
      "\u001b[0;31m\u001b[0m",
      "\u001b[0;31mKeyboardInterrupt\u001b[0mTraceback (most recent call last)",
      "\u001b[0;32m<ipython-input-125-28b73a1f33fa>\u001b[0m in \u001b[0;36m<module>\u001b[0;34m()\u001b[0m\n\u001b[1;32m     27\u001b[0m     \u001b[0;32mreturn\u001b[0m \u001b[0mzip\u001b[0m\u001b[0;34m(\u001b[0m\u001b[0msamechr\u001b[0m\u001b[0;34m,\u001b[0m\u001b[0mdists\u001b[0m\u001b[0;34m)\u001b[0m\u001b[0;34m\u001b[0m\u001b[0m\n\u001b[1;32m     28\u001b[0m \u001b[0;34m\u001b[0m\u001b[0m\n\u001b[0;32m---> 29\u001b[0;31m \u001b[0mneighbors\u001b[0m \u001b[0;34m=\u001b[0m \u001b[0;34m{\u001b[0m\u001b[0mm\u001b[0m\u001b[0;34m:\u001b[0m\u001b[0mfind_neighbor_mir\u001b[0m\u001b[0;34m(\u001b[0m\u001b[0mm\u001b[0m\u001b[0;34m)\u001b[0m \u001b[0;32mfor\u001b[0m \u001b[0mm\u001b[0m \u001b[0;32min\u001b[0m \u001b[0mivpmirs\u001b[0m\u001b[0;34m}\u001b[0m\u001b[0;34m\u001b[0m\u001b[0m\n\u001b[0m\u001b[1;32m     30\u001b[0m \u001b[0;32mprint\u001b[0m \u001b[0mneighbors\u001b[0m\u001b[0;34m[\u001b[0m\u001b[0;34m'hsa-mir-15a'\u001b[0m\u001b[0;34m]\u001b[0m\u001b[0;34m\u001b[0m\u001b[0m\n",
      "\u001b[0;32m<ipython-input-125-28b73a1f33fa>\u001b[0m in \u001b[0;36m<dictcomp>\u001b[0;34m((m,))\u001b[0m\n\u001b[1;32m     27\u001b[0m     \u001b[0;32mreturn\u001b[0m \u001b[0mzip\u001b[0m\u001b[0;34m(\u001b[0m\u001b[0msamechr\u001b[0m\u001b[0;34m,\u001b[0m\u001b[0mdists\u001b[0m\u001b[0;34m)\u001b[0m\u001b[0;34m\u001b[0m\u001b[0m\n\u001b[1;32m     28\u001b[0m \u001b[0;34m\u001b[0m\u001b[0m\n\u001b[0;32m---> 29\u001b[0;31m \u001b[0mneighbors\u001b[0m \u001b[0;34m=\u001b[0m \u001b[0;34m{\u001b[0m\u001b[0mm\u001b[0m\u001b[0;34m:\u001b[0m\u001b[0mfind_neighbor_mir\u001b[0m\u001b[0;34m(\u001b[0m\u001b[0mm\u001b[0m\u001b[0;34m)\u001b[0m \u001b[0;32mfor\u001b[0m \u001b[0mm\u001b[0m \u001b[0;32min\u001b[0m \u001b[0mivpmirs\u001b[0m\u001b[0;34m}\u001b[0m\u001b[0;34m\u001b[0m\u001b[0m\n\u001b[0m\u001b[1;32m     30\u001b[0m \u001b[0;32mprint\u001b[0m \u001b[0mneighbors\u001b[0m\u001b[0;34m[\u001b[0m\u001b[0;34m'hsa-mir-15a'\u001b[0m\u001b[0;34m]\u001b[0m\u001b[0;34m\u001b[0m\u001b[0m\n",
      "\u001b[0;32m<ipython-input-125-28b73a1f33fa>\u001b[0m in \u001b[0;36mfind_neighbor_mir\u001b[0;34m(mir)\u001b[0m\n\u001b[1;32m      6\u001b[0m \u001b[0;32mdef\u001b[0m \u001b[0mfind_neighbor_mir\u001b[0m\u001b[0;34m(\u001b[0m\u001b[0mmir\u001b[0m\u001b[0;34m)\u001b[0m\u001b[0;34m:\u001b[0m\u001b[0;34m\u001b[0m\u001b[0m\n\u001b[1;32m      7\u001b[0m     \u001b[0mchrom\u001b[0m\u001b[0;34m,\u001b[0m \u001b[0mstart\u001b[0m\u001b[0;34m,\u001b[0m \u001b[0mend\u001b[0m\u001b[0;34m,\u001b[0m \u001b[0mstrand\u001b[0m \u001b[0;34m=\u001b[0m \u001b[0mgentbl\u001b[0m\u001b[0;34m.\u001b[0m\u001b[0mloc\u001b[0m\u001b[0;34m[\u001b[0m\u001b[0mmir\u001b[0m\u001b[0;34m,\u001b[0m\u001b[0;34m[\u001b[0m\u001b[0;34m'chr'\u001b[0m\u001b[0;34m,\u001b[0m\u001b[0;34m'start'\u001b[0m\u001b[0;34m,\u001b[0m\u001b[0;34m'end'\u001b[0m\u001b[0;34m,\u001b[0m\u001b[0;34m'strand'\u001b[0m\u001b[0;34m]\u001b[0m\u001b[0;34m]\u001b[0m\u001b[0;34m\u001b[0m\u001b[0m\n\u001b[0;32m----> 8\u001b[0;31m     samechr = [ m for m in ivpmirs if gentbl.loc[m,'chr']==chrom and m!=mir\n\u001b[0m\u001b[1;32m      9\u001b[0m             and min(abs(start-gentbl.loc[m,'end']),abs(end-gentbl.loc[m,'start']))<=10**4 ]\n\u001b[1;32m     10\u001b[0m     \u001b[0mdists\u001b[0m \u001b[0;34m=\u001b[0m \u001b[0;34m[\u001b[0m\u001b[0;34m]\u001b[0m\u001b[0;34m\u001b[0m\u001b[0m\n",
      "\u001b[0;32m/casa/bsc/.local/lib/python2.7/site-packages/pandas/core/indexing.pyc\u001b[0m in \u001b[0;36m__getitem__\u001b[0;34m(self, key)\u001b[0m\n\u001b[1;32m   1356\u001b[0m     \u001b[0m_exception\u001b[0m \u001b[0;34m=\u001b[0m \u001b[0mException\u001b[0m\u001b[0;34m\u001b[0m\u001b[0m\n\u001b[1;32m   1357\u001b[0m \u001b[0;34m\u001b[0m\u001b[0m\n\u001b[0;32m-> 1358\u001b[0;31m     \u001b[0;32mdef\u001b[0m \u001b[0m__getitem__\u001b[0m\u001b[0;34m(\u001b[0m\u001b[0mself\u001b[0m\u001b[0;34m,\u001b[0m \u001b[0mkey\u001b[0m\u001b[0;34m)\u001b[0m\u001b[0;34m:\u001b[0m\u001b[0;34m\u001b[0m\u001b[0m\n\u001b[0m\u001b[1;32m   1359\u001b[0m         \u001b[0;32mif\u001b[0m \u001b[0mtype\u001b[0m\u001b[0;34m(\u001b[0m\u001b[0mkey\u001b[0m\u001b[0;34m)\u001b[0m \u001b[0;32mis\u001b[0m \u001b[0mtuple\u001b[0m\u001b[0;34m:\u001b[0m\u001b[0;34m\u001b[0m\u001b[0m\n\u001b[1;32m   1360\u001b[0m             key = tuple(com._apply_if_callable(x, self.obj)\n",
      "\u001b[0;31mKeyboardInterrupt\u001b[0m: "
     ]
    }
   ],
   "source": [
    "## cluster\n",
    "BEDCOLS = 'chr start end mir . strand'.split()\n",
    "gencsv = '/casa/bsc/databases/miRNA/annotation/hg38_hsa_hairpin.bed'\n",
    "gentbl = pd.read_table(gencsv, sep='\\t', names=BEDCOLS).set_index('mir')\n",
    "\n",
    "def find_neighbor_mir(mir):\n",
    "    chrom, start, end, strand = gentbl.loc[mir,['chr','start','end','strand']]\n",
    "    samechr = [ m for m in ivpmirs if gentbl.loc[m,'chr']==chrom and m!=mir\n",
    "            and min(abs(start-gentbl.loc[m,'end']),abs(end-gentbl.loc[m,'start']))<=10**4 ]\n",
    "    dists = []\n",
    "    for m in samechr:\n",
    "        st, en, strd = gentbl.loc[m,['start','end','strand']]\n",
    "        if strand=='+':\n",
    "            if st<start:\n",
    "                relpos = r'$\\minus$%s'%max(start-en,0)\n",
    "            else:\n",
    "                relpos = '+%s'%max(st-end,0)\n",
    "        else:\n",
    "            if st<start:\n",
    "                relpos = '+%s'%max(start-en,0)\n",
    "            else:\n",
    "                relpos = r'$\\minus$%s'%max(st-end,0)\n",
    "        if strd==strand:\n",
    "            dists.append(relpos)\n",
    "        else:\n",
    "            dists.append(relpos+' AS')\n",
    "    return zip(samechr,dists)\n",
    "\n",
    "neighbors = {m:find_neighbor_mir(m) for m in ivpmirs}\n",
    "print neighbors['hsa-mir-15a']"
   ]
  },
  {
   "cell_type": "code",
   "execution_count": null,
   "metadata": {},
   "outputs": [],
   "source": [
    "clsttext = {m:'\\n'.join(['    %s [relative pos: %s]'%(mirnames[nei],dist)\n",
    "                         for nei,dist in neighbors[m]]) for m in folded}\n",
    "print clsttext['hsa-mir-15a']"
   ]
  },
  {
   "cell_type": "code",
   "execution_count": null,
   "metadata": {},
   "outputs": [],
   "source": [
    "## in vivo study\n",
    "invivo = {}\n",
    "for m in ivpmirs:\n",
    "    note = as1.loc[m,'DROSHA dependency']\n",
    "    if m=='hsa-mir-451a':\n",
    "        invivo[m] = 'DICER-independent'\n",
    "    elif 'DROSHA' in note:\n",
    "        invivo[m] = note.split('dent, ')[1].replace('verified','validated')\n",
    "    else:\n",
    "        invivo[m] = ''\n",
    "print invivo['hsa-let-7a-1']"
   ]
  },
  {
   "cell_type": "code",
   "execution_count": 55,
   "metadata": {},
   "outputs": [
    {
     "data": {
      "text/plain": [
       "(-0.05500000000000001,\n",
       " 0.05500000000000001,\n",
       " -0.05500000000000001,\n",
       " 0.05500000000000001)"
      ]
     },
     "execution_count": 55,
     "metadata": {},
     "output_type": "execute_result"
    },
    {
     "data": {
      "image/png": "[encoded data removed]",
      "text/plain": [
       "<matplotlib.figure.Figure at 0x7fa1cd9eeed0>"
      ]
     },
     "metadata": {},
     "output_type": "display_data"
    }
   ],
   "source": [
    "m = 'hsa-let-7a-1'\n",
    "fig, ax = plt.subplots(1,1,figsize=(1.4,1))\n",
    "data = dataall[m]\n",
    "\n",
    "table = ax.table(cellText=data.values,colLabels=columns,rowLabels=index,loc='center',\n",
    "    colWidths=[1,1,1],rowColours=['#dcdcdc']*len(index),colColours=['#dcdcdc']*len(columns),\n",
    "    cellColours=colorall[m])\n",
    "\n",
    "axtmp = fig.add_axes([0,0,.01,.01])\n",
    "im = axtmp.pcolor([[0,1]],cmap=cmap2); axtmp.set_visible(False)\n",
    "axcb = fig.add_axes([1.45,0,.08,.6])\n",
    "cb = plt.colorbar(im, cax=axcb)\n",
    "cb.set_ticks([0,1]); cb.set_ticklabels(['Bottom','Top'])\n",
    "cb.ax.tick_params(labelsize=10)\n",
    "cb.solids.set_rasterized(True)\n",
    "axcb.text(2.9, 1.3, 'Rank among\\ntested pri-miRs',fontsize=10,ha='center')\n",
    "\n",
    "ax.set_xlim(0,10); ax.set_ylim(0,10)\n",
    "table.scale(1,2.5)\n",
    "ax.axis('tight'); ax.axis('off')\n",
    "#fig.savefig(resultpath + 'test4.eps')\n",
    "#plt.close()"
   ]
  },
  {
   "cell_type": "code",
   "execution_count": 69,
   "metadata": {},
   "outputs": [],
   "source": [
    "uppath = '/casa/bsc/projects/2_Structure-of-pri/2007_paper_prep/shape/2021-12-28'\n",
    "infopath = '%s/231027/'%uppath\n",
    "if not path.exists(uppath):\n",
    "    !mkdir $uppath\n",
    "if not path.exists(infopath):\n",
    "    !mkdir $infopath"
   ]
  },
  {
   "cell_type": "code",
   "execution_count": 37,
   "metadata": {},
   "outputs": [],
   "source": [
    "for m in folded:\n",
    "    fig, ax = plt.subplots(1,1,figsize=(1.3,1))\n",
    "    data = dataall[m]\n",
    "    table = ax.table(cellText=data.values,colLabels=columns,rowLabels=index,loc='center',\n",
    "        colWidths=[1,1,1],rowColours=['#dcdcdc']*len(index),\n",
    "        colColours=['#dcdcdc']*len(columns),cellColours=colorall[m])\n",
    "    ax.set_xlim(0,10); ax.set_ylim(0,10)\n",
    "    \n",
    "    axtmp = fig.add_axes([0,0,.01,.01])\n",
    "    im = axtmp.pcolor([[0,1]],cmap=cmap2); axtmp.set_visible(False)\n",
    "    axcb = fig.add_axes([1.45,0,.08,.6])\n",
    "    cb = plt.colorbar(im, cax=axcb); cb.solids.set_rasterized(True)\n",
    "    cb.set_ticks([0,1]); cb.set_ticklabels(['Bottom','Top']); cb.ax.tick_params(labelsize=10)\n",
    "    axcb.text(2.9, 1.3, 'Rank among\\nall pri-miRs',fontsize=10,ha='center')\n",
    "    table.scale(1,2.5)\n",
    "    ax.axis('tight'); ax.axis('off')\n",
    "    fig.savefig(infopath + '%s_processing.eps'%m.replace('hsa-',''))\n",
    "    plt.close()"
   ]
  },
  {
   "cell_type": "markdown",
   "metadata": {},
   "source": [
    "### 3) SHAPE table"
   ]
  },
  {
   "cell_type": "code",
   "execution_count": 59,
   "metadata": {},
   "outputs": [
    {
     "data": {
      "text/html": [
       "<div>\n",
       "<style scoped>\n",
       "    .dataframe tbody tr th:only-of-type {\n",
       "        vertical-align: middle;\n",
       "    }\n",
       "\n",
       "    .dataframe tbody tr th {\n",
       "        vertical-align: top;\n",
       "    }\n",
       "\n",
       "    .dataframe thead th {\n",
       "        text-align: right;\n",
       "    }\n",
       "</style>\n",
       "<table border=\"1\" class=\"dataframe\">\n",
       "  <thead>\n",
       "    <tr style=\"text-align: right;\">\n",
       "      <th></th>\n",
       "      <th>Stem length</th>\n",
       "      <th>Lower stem length</th>\n",
       "      <th>Upper stem length</th>\n",
       "      <th>Mismatch count</th>\n",
       "      <th>Bulge count</th>\n",
       "      <th>Apical loop size</th>\n",
       "      <th>5' basal segment length</th>\n",
       "      <th>3' basal segment length</th>\n",
       "      <th>mismatch at -6</th>\n",
       "      <th>3p bulge at -10</th>\n",
       "    </tr>\n",
       "  </thead>\n",
       "  <tbody>\n",
       "    <tr>\n",
       "      <th>hsa-let-7a-1</th>\n",
       "      <td>34</td>\n",
       "      <td>13</td>\n",
       "      <td>21</td>\n",
       "      <td>0</td>\n",
       "      <td>4</td>\n",
       "      <td>27</td>\n",
       "      <td>2</td>\n",
       "      <td>7</td>\n",
       "      <td>0.0</td>\n",
       "      <td>2.0</td>\n",
       "    </tr>\n",
       "  </tbody>\n",
       "</table>\n",
       "</div>"
      ],
      "text/plain": [
       "              Stem length  Lower stem length  Upper stem length  \\\n",
       "hsa-let-7a-1           34                 13                 21   \n",
       "\n",
       "              Mismatch count  Bulge count  Apical loop size  \\\n",
       "hsa-let-7a-1               0            4                27   \n",
       "\n",
       "              5' basal segment length  3' basal segment length  \\\n",
       "hsa-let-7a-1                        2                        7   \n",
       "\n",
       "              mismatch at -6  3p bulge at -10  \n",
       "hsa-let-7a-1             0.0              2.0  "
      ]
     },
     "execution_count": 59,
     "metadata": {},
     "output_type": "execute_result"
    }
   ],
   "source": [
    "s4 = pd.read_csv('supplementary/231027_s4_features.csv',index_col=0)\n",
    "s4.head(1)"
   ]
  },
  {
   "cell_type": "code",
   "execution_count": 60,
   "metadata": {},
   "outputs": [],
   "source": [
    "s4drop = s4.drop([\"5' basal segment length\",'Upper stem length','3p bulge at -10',\n",
    "              'mismatch at -6'],axis=1)"
   ]
  },
  {
   "cell_type": "code",
   "execution_count": 64,
   "metadata": {},
   "outputs": [
    {
     "data": {
      "text/html": [
       "<div>\n",
       "<style scoped>\n",
       "    .dataframe tbody tr th:only-of-type {\n",
       "        vertical-align: middle;\n",
       "    }\n",
       "\n",
       "    .dataframe tbody tr th {\n",
       "        vertical-align: top;\n",
       "    }\n",
       "\n",
       "    .dataframe thead th {\n",
       "        text-align: right;\n",
       "    }\n",
       "</style>\n",
       "<table border=\"1\" class=\"dataframe\">\n",
       "  <thead>\n",
       "    <tr style=\"text-align: right;\">\n",
       "      <th></th>\n",
       "      <th>stem</th>\n",
       "      <th>lower stem</th>\n",
       "      <th>mismatch</th>\n",
       "      <th>mm</th>\n",
       "      <th>bulged</th>\n",
       "      <th>bg3</th>\n",
       "      <th>loop</th>\n",
       "      <th>basal segment</th>\n",
       "    </tr>\n",
       "  </thead>\n",
       "  <tbody>\n",
       "    <tr>\n",
       "      <th>hsa-let-7a-1</th>\n",
       "      <td>2</td>\n",
       "      <td>2</td>\n",
       "      <td>2</td>\n",
       "      <td>-10</td>\n",
       "      <td>1</td>\n",
       "      <td>10</td>\n",
       "      <td>2</td>\n",
       "      <td>2</td>\n",
       "    </tr>\n",
       "    <tr>\n",
       "      <th>hsa-let-7a-2</th>\n",
       "      <td>2</td>\n",
       "      <td>1</td>\n",
       "      <td>0</td>\n",
       "      <td>-10</td>\n",
       "      <td>2</td>\n",
       "      <td>-10</td>\n",
       "      <td>2</td>\n",
       "      <td>2</td>\n",
       "    </tr>\n",
       "    <tr>\n",
       "      <th>hsa-let-7a-3</th>\n",
       "      <td>2</td>\n",
       "      <td>1</td>\n",
       "      <td>2</td>\n",
       "      <td>-10</td>\n",
       "      <td>1</td>\n",
       "      <td>-10</td>\n",
       "      <td>2</td>\n",
       "      <td>2</td>\n",
       "    </tr>\n",
       "  </tbody>\n",
       "</table>\n",
       "</div>"
      ],
      "text/plain": [
       "              stem  lower stem  mismatch  mm  bulged  bg3  loop  basal segment\n",
       "hsa-let-7a-1     2           2         2 -10       1   10     2              2\n",
       "hsa-let-7a-2     2           1         0 -10       2  -10     2              2\n",
       "hsa-let-7a-3     2           1         2 -10       1  -10     2              2"
      ]
     },
     "execution_count": 64,
     "metadata": {},
     "output_type": "execute_result"
    }
   ],
   "source": [
    "s5 = pd.read_csv('supplementary/221110_ml.csv',index_col=0).iloc[:,:8]\n",
    "s5['mm'] = (s5['mm']-1)*10\n",
    "s5['bg3'] = (s5['bg3']-1)*10\n",
    "s5.head(3)"
   ]
  },
  {
   "cell_type": "code",
   "execution_count": 62,
   "metadata": {},
   "outputs": [],
   "source": [
    "encoding = {2:'Optimal',1:'Suboptimal',0:'Poor',-10:'',10:''}\n",
    "encoding2 = {0:'Not possessed',2:'Possessed'}"
   ]
  },
  {
   "cell_type": "code",
   "execution_count": 89,
   "metadata": {},
   "outputs": [
    {
     "data": {
      "text/html": [
       "<div>\n",
       "<style scoped>\n",
       "    .dataframe tbody tr th:only-of-type {\n",
       "        vertical-align: middle;\n",
       "    }\n",
       "\n",
       "    .dataframe tbody tr th {\n",
       "        vertical-align: top;\n",
       "    }\n",
       "\n",
       "    .dataframe thead th {\n",
       "        text-align: right;\n",
       "    }\n",
       "</style>\n",
       "<table border=\"1\" class=\"dataframe\">\n",
       "  <thead>\n",
       "    <tr style=\"text-align: right;\">\n",
       "      <th></th>\n",
       "      <th>stem</th>\n",
       "      <th>upper stem</th>\n",
       "      <th>lower stem</th>\n",
       "      <th>BJ5</th>\n",
       "      <th>BJ3</th>\n",
       "      <th>AJ5</th>\n",
       "      <th>AJ3</th>\n",
       "      <th>BS5</th>\n",
       "      <th>BS3</th>\n",
       "      <th>BE5</th>\n",
       "      <th>BE3</th>\n",
       "      <th>loop</th>\n",
       "      <th>Mismatch</th>\n",
       "      <th>Bulge</th>\n",
       "      <th>ct file</th>\n",
       "      <th>structure</th>\n",
       "    </tr>\n",
       "  </thead>\n",
       "  <tbody>\n",
       "    <tr>\n",
       "      <th>hsa-let-7a-1</th>\n",
       "      <td>34.0</td>\n",
       "      <td>21.0</td>\n",
       "      <td>13.0</td>\n",
       "      <td>11.0</td>\n",
       "      <td>109.0</td>\n",
       "      <td>46.0</td>\n",
       "      <td>74.0</td>\n",
       "      <td>2.0</td>\n",
       "      <td>7.0</td>\n",
       "      <td>8.0</td>\n",
       "      <td>117.0</td>\n",
       "      <td>27.0</td>\n",
       "      <td>0.0</td>\n",
       "      <td>4.0</td>\n",
       "      <td>shape/2021-12-28/figures/hsa-let-7a-1_rep2-1_m...</td>\n",
       "      <td>MMMMMMMMSSMMMMMMMAMMMMMMAMMMMMMMMMMMMMMMMMMMMM...</td>\n",
       "    </tr>\n",
       "  </tbody>\n",
       "</table>\n",
       "</div>"
      ],
      "text/plain": [
       "              stem  upper stem  lower stem   BJ5    BJ3   AJ5   AJ3  BS5  BS3  \\\n",
       "hsa-let-7a-1  34.0        21.0        13.0  11.0  109.0  46.0  74.0  2.0  7.0   \n",
       "\n",
       "              BE5    BE3  loop  Mismatch  Bulge  \\\n",
       "hsa-let-7a-1  8.0  117.0  27.0       0.0    4.0   \n",
       "\n",
       "                                                        ct file  \\\n",
       "hsa-let-7a-1  shape/2021-12-28/figures/hsa-let-7a-1_rep2-1_m...   \n",
       "\n",
       "                                                      structure  \n",
       "hsa-let-7a-1  MMMMMMMMSSMMMMMMMAMMMMMMAMMMMMMMMMMMMMMMMMMMMM...  "
      ]
     },
     "execution_count": 89,
     "metadata": {},
     "output_type": "execute_result"
    }
   ],
   "source": [
    "features.head(1)"
   ]
  },
  {
   "cell_type": "code",
   "execution_count": 90,
   "metadata": {},
   "outputs": [
    {
     "data": {
      "text/plain": [
       "Index([u'Stem length', u'Lower stem length', u'Mismatch count', u'Bulge count',\n",
       "       u'Apical loop size', u'3' basal segment length', u'Mismatch at -6',\n",
       "       u'bGWG bulge at -10/-11'],\n",
       "      dtype='object')"
      ]
     },
     "execution_count": 90,
     "metadata": {},
     "output_type": "execute_result"
    }
   ],
   "source": [
    "shtbl.index"
   ]
  },
  {
   "cell_type": "code",
   "execution_count": 91,
   "metadata": {},
   "outputs": [],
   "source": [
    "shdata = {}\n",
    "for m in folded:\n",
    "    shtbl = s4drop.reindex([m]).T#.drop([\"5' basal segment length\",'Upper stem length'])\n",
    "    shtbl.loc['Mismatch at -6',m] = encoding2[int(s4.loc[m,'mismatch at -6'])]\n",
    "    #shtbl.loc['3p bulge at -10',m] = encoding2[int(shtbl.loc['3p bulge at -10',m])]\n",
    "    shtbl.loc['bGWG bulge at -10/-11',m] = encoding2[int(m in gwgmirs)*2]\n",
    "    steml,lsteml,mmcnt,bgcnt,loopl,bsl = features.loc[m,['stem','lower stem','Mismatch','Bulge','loop','BS3']].astype(int)\n",
    "    if 34<=steml<=36:\n",
    "        shtbl.loc['Stem length','Optimality'] = 'Optimal'\n",
    "    else:\n",
    "        shtbl.loc['Stem length','Optimality'] = 'Suboptimal'\n",
    "        \n",
    "    if lsteml==13:\n",
    "        shtbl.loc['Lower stem length','Optimality'] = 'Optimal'\n",
    "    else:\n",
    "        shtbl.loc['Lower stem length','Optimality'] = 'Suboptimal'\n",
    "        \n",
    "    if mmcnt<=1:\n",
    "        shtbl.loc['Mismatch count','Optimality'] = 'Optimal'\n",
    "    else:\n",
    "        shtbl.loc['Stem length','Optimality'] = 'Suboptimal'\n",
    "        \n",
    "    if bgcnt<=1:\n",
    "        shtbl.loc['Bulge count','Optimality'] = 'Optimal'\n",
    "    else:\n",
    "        shtbl.loc['Stem length','Optimality'] = 'Suboptimal'\n",
    "        \n",
    "    if loopl>=13:\n",
    "        shtbl.loc['Apical loop size','Optimality'] = 'Optimal'\n",
    "    else:\n",
    "        shtbl.loc['Apical loop size','Optimality'] = 'Suboptimal'\n",
    "        \n",
    "    if bsl>=5:\n",
    "        shtbl.loc[\"3' basal segment length\",'Optimality'] = 'Optimal'\n",
    "    else:\n",
    "        shtbl.loc[\"3' basal segment length\",'Optimality'] = 'Suboptimal'\n",
    "    \n",
    "    #for f1,f2 in zip(shtbl.index,['stem','lower stem','mismatch','bulged','loop','basal segment']):        \n",
    "    #    shtbl.loc[f1,'Optimality'] = encoding[s5.loc[m,f2]]\n",
    "    shdata[m] = shtbl.fillna('')"
   ]
  },
  {
   "cell_type": "code",
   "execution_count": 92,
   "metadata": {},
   "outputs": [],
   "source": [
    "columns = ['Features','Optimality']\n",
    "rows = ['Stem length (bp)','Lower stem length\\n(bp)','Mismatched pairs\\nin the stem',\n",
    "        'Bulged bases\\nin the stem','Apical loop size (nt)',\n",
    "        \"3' basal segment\\nlength (nt)\",'Mismatch at -6','bGWG at -10/-11']"
   ]
  },
  {
   "cell_type": "code",
   "execution_count": 67,
   "metadata": {},
   "outputs": [
    {
     "data": {
      "text/plain": [
       "(-0.05500000000000001,\n",
       " 0.05500000000000001,\n",
       " -0.05500000000000001,\n",
       " 0.05500000000000001)"
      ]
     },
     "execution_count": 67,
     "metadata": {},
     "output_type": "execute_result"
    },
    {
     "data": {
      "image/png": "[encoded data removed]",
      "text/plain": [
       "<matplotlib.figure.Figure at 0x7fa1ce18ad10>"
      ]
     },
     "metadata": {},
     "output_type": "display_data"
    }
   ],
   "source": [
    "m = 'hsa-let-7a-1'\n",
    "fig, ax = plt.subplots(1,1,figsize=(1.5,1.5))\n",
    "data = shdata[m]\n",
    "table = ax.table(cellText=data.values,colLabels=columns,rowLabels=rows,loc='center',\n",
    "    colWidths=[1,1,1],rowColours=['#dcdcdc']*len(rows),colColours=['#dcdcdc']*len(columns))\n",
    "ax.text(-.25,.2,mirnames[m],fontsize=13,weight='bold')\n",
    "ax.text(-.25,.18,coords[m],fontsize=11)\n",
    "table.scale(1,2.2)\n",
    "ax.axis('tight'); ax.axis('off')\n",
    "#fig.savefig(resultpath + 'test4.eps')\n",
    "#plt.close()"
   ]
  },
  {
   "cell_type": "code",
   "execution_count": 126,
   "metadata": {},
   "outputs": [
    {
     "data": {
      "image/png": "[encoded data removed]",
      "text/plain": [
       "<matplotlib.figure.Figure at 0x7f5c0a800a90>"
      ]
     },
     "metadata": {},
     "output_type": "display_data"
    }
   ],
   "source": [
    "m = 'hsa-let-7a-1'\n",
    "fig, (ax,ax2) = plt.subplots(2,1,figsize=(1.5,4.3))\n",
    "data = shdata[m].values\n",
    "for i in range(6):\n",
    "    data[i] = np.array([int(data[i][0]),data[i][1]])\n",
    "table = ax.table(cellText=data,colLabels=columns,rowLabels=rows,loc='center',\n",
    " colWidths=[1,1,1],rowColours=['#dcdcdc']*len(rows),colColours=['#dcdcdc']*len(columns))\n",
    "ax.text(-.25,.21,mirnames[m],fontsize=13,weight='bold')\n",
    "ax.text(-.25,.187,coords[m],fontsize=11)\n",
    "table.scale(1,2.8)\n",
    "ax.axis('tight'); ax.axis('off')\n",
    "\n",
    "data = dataall[m]\n",
    "table = ax2.table(cellText=data.values,colLabels=['w/o SRSF3','w/ SRSF3'],\n",
    "    rowLabels=['Cleavage\\nefficiency','Cleavage\\nhomogeneity'],loc='center',\n",
    "    colWidths=[1,1,1],rowColours=['#dcdcdc']*len(index),\n",
    "    colColours=['#dcdcdc']*len(columns),cellColours=colorall[m])\n",
    "\n",
    "axtmp = fig.add_axes([0,0,.01,.01])\n",
    "im = axtmp.pcolor([[0,1]],cmap=cmap2); axtmp.set_visible(False)\n",
    "axcb = fig.add_axes([1.45,.12,.08,.15])\n",
    "cb = plt.colorbar(im, cax=axcb); cb.solids.set_rasterized(True)\n",
    "cb.set_ticks([0,1]); cb.set_ticklabels(['Bottom','Top']); cb.ax.tick_params(labelsize=10)\n",
    "axcb.text(2.9, 1.2, 'Rank among\\nall pri-miRs',fontsize=10,ha='center')\n",
    "table.scale(1,2.8)\n",
    "ax2.axis('tight'); ax2.axis('off')\n",
    "fig.subplots_adjust(hspace=1.25)"
   ]
  },
  {
   "cell_type": "code",
   "execution_count": 93,
   "metadata": {},
   "outputs": [],
   "source": [
    "for m in folded:\n",
    "    fig, (ax,ax2) = plt.subplots(2,1,figsize=(1.5,4.3))\n",
    "    data = shdata[m].values\n",
    "    for i in range(6):\n",
    "        data[i] = np.array([int(data[i][0]),data[i][1]])\n",
    "    table = ax.table(cellText=data,colLabels=columns,rowLabels=rows,loc='center',\n",
    "     colWidths=[1,1,1],rowColours=['#dcdcdc']*len(rows),colColours=['#dcdcdc']*len(columns))\n",
    "    ax.text(-.25,.21,mirnames[m],fontsize=13,weight='bold')\n",
    "    ax.text(-.25,.187,coords[m],fontsize=11)\n",
    "    table.scale(1,3)\n",
    "    ax.axis('tight'); ax.axis('off')\n",
    "\n",
    "    data = dataall[m]\n",
    "    table = ax2.table(cellText=data.values,colLabels=['w/o SRSF3','w/ SRSF3'],\n",
    "        rowLabels=['Cleavage\\nefficiency','Cleavage\\nhomogeneity'],loc='center',\n",
    "        colWidths=[1,1,1],rowColours=['#dcdcdc']*len(index),\n",
    "        colColours=['#dcdcdc']*len(columns),cellColours=colorall[m])\n",
    "\n",
    "    axtmp = fig.add_axes([0,0,.01,.01])\n",
    "    im = axtmp.pcolor([[0,1]],cmap=cmap2); axtmp.set_visible(False)\n",
    "    axcb = fig.add_axes([1.45,.12,.08,.15])\n",
    "    cb = plt.colorbar(im, cax=axcb); cb.solids.set_rasterized(True)\n",
    "    cb.set_ticks([0,1]); cb.set_ticklabels(['Bottom','Top']); cb.ax.tick_params(labelsize=10)\n",
    "    axcb.text(2.9, 1.21, 'Rank among\\ntested pri-miRs',fontsize=10,ha='center')\n",
    "    table.scale(1,3)\n",
    "    ax2.axis('tight'); ax2.axis('off')\n",
    "    fig.subplots_adjust(hspace=1.25)\n",
    "    \n",
    "    fig.savefig(infopath + '%s_combine.eps'%m.replace('hsa-',''))\n",
    "    plt.close()"
   ]
  },
  {
   "cell_type": "markdown",
   "metadata": {},
   "source": [
    "### 4) Show cleavage site"
   ]
  },
  {
   "cell_type": "code",
   "execution_count": 72,
   "metadata": {},
   "outputs": [],
   "source": [
    "import math"
   ]
  },
  {
   "cell_type": "code",
   "execution_count": 73,
   "metadata": {},
   "outputs": [],
   "source": [
    "def get_angle(x0,y0,x,y):\n",
    "    if x==x0:\n",
    "        return math.pi/2\n",
    "    if x0<x and y0<=y:\n",
    "        return math.atan((y-y0)/(x-x0))\n",
    "    if x0<x and y0>y:\n",
    "        return math.atan((y-y0)/(x-x0))+2*math.pi\n",
    "    return math.atan((y-y0)/(x-x0))+math.pi"
   ]
  },
  {
   "cell_type": "code",
   "execution_count": 74,
   "metadata": {},
   "outputs": [],
   "source": [
    "def calculate_stem_angle(coord):\n",
    "    angles = []\n",
    "    poses = sorted(coord.keys())\n",
    "    for p1,p2 in zip(poses[:-1],poses[1:]):\n",
    "        if p1<60:\n",
    "            x0,y0 = coord[p1]\n",
    "            x,y = coord[p2]\n",
    "        else:\n",
    "            x0,y0 = coord[p2]\n",
    "            x,y = coord[p1]   \n",
    "        angles.append(round(get_angle(x0,y0,x,y),2))\n",
    "    angle = sorted(Counter(angles).items(), key=lambda x:x[1], reverse=True)[0][0]\n",
    "    return angle # radian"
   ]
  },
  {
   "cell_type": "code",
   "execution_count": 75,
   "metadata": {},
   "outputs": [],
   "source": [
    "def get_coordinate_dict(lines):\n",
    "    posd = {}\n",
    "    for i, l in enumerate(lines):\n",
    "        if l.startswith('% nucleotide'):\n",
    "            pos = int(l.split()[2])-2\n",
    "            x, y = map(float, lines[i+2].split()[:2])\n",
    "            posd[pos] = (x+3.5, y+3.5) # center of character\n",
    "    return posd"
   ]
  },
  {
   "cell_type": "code",
   "execution_count": 76,
   "metadata": {},
   "outputs": [],
   "source": [
    "def erase_numbers(lines):\n",
    "    flag = 1\n",
    "    nlines = []\n",
    "    for l in lines:\n",
    "        if flag > 0:\n",
    "            nlines.append(l)\n",
    "        if l == '0 0 0 setrgbcolor':\n",
    "            flag -= 1\n",
    "        if flag <= 0 and l == 'newpath':\n",
    "            flag += 999\n",
    "    return nlines"
   ]
  },
  {
   "cell_type": "code",
   "execution_count": 77,
   "metadata": {},
   "outputs": [],
   "source": [
    "def get_final_coord(lines):\n",
    "    x, y = 0,0\n",
    "    for l in rlines:\n",
    "        if 'translate' in l:\n",
    "            x+=float(l.split()[0])\n",
    "            y+=float(l.split()[1])\n",
    "    return x,y"
   ]
  },
  {
   "cell_type": "code",
   "execution_count": 78,
   "metadata": {},
   "outputs": [],
   "source": [
    "def insert_info(info, angle, lines, mir):\n",
    "    boxline = [l for l in lines if l.startswith('%%BoundingBox')][0]\n",
    "    xi,yi,xf,yf = map(int, boxline.split(':')[1].strip().split())    \n",
    "    \n",
    "    nlines = [l for l in lines if '(%s)'%mir not in l]\n",
    "    fx, fy = get_final_coord(nlines)\n",
    "    if angle<=math.pi/4 or math.pi*3/4<=angle<=math.pi*5/4 or angle>=math.pi*7/4: # top\n",
    "        mx = 0\n",
    "        my = yf+50\n",
    "        nboxline = '%%BoundingBox: '+'%s %s %s %s'%(xi-70,yi-40,xf+30,yf+450)\n",
    "    else: # left\n",
    "        mx = -430\n",
    "        my = yf-400\n",
    "        nboxline = '%%BoundingBox: '+'%s %s %s %s'%(xi-450,yi-20,xf+60,yf+50)\n",
    "    p1 = nlines.index(boxline)\n",
    "    nlines = nlines[:p1]+[nboxline]+nlines[p1+1:]\n",
    "    \n",
    "    infolines = open(info,'rt').read().split('\\n')\n",
    "    infolines = [l for l in infolines if 'BoundingBox' not in l]\n",
    "    p2 = [i+1 for i in range(len(infolines)) if 'mpldict begin' in infolines[i]][1]\n",
    "    infolines = infolines[:p2]+['%s %s translate'%(-fx+mx,-fy+my)]+infolines[p2+1:]\n",
    "    return nlines + infolines"
   ]
  },
  {
   "cell_type": "code",
   "execution_count": 79,
   "metadata": {},
   "outputs": [],
   "source": [
    "def get_rgb(s):\n",
    "    hex2int = [ int(s[2*i+1:2*i+3], 16) for i in range(3) ]\n",
    "    return ' '.join([ str(round(n/256, 3)) for n in hex2int ]) + ' setrgbcolor'"
   ]
  },
  {
   "cell_type": "code",
   "execution_count": 80,
   "metadata": {},
   "outputs": [],
   "source": [
    "def draw_arrowhead_v1(point, angle):\n",
    "    xm,ym = point\n",
    "    sin, cos = math.sin(angle), math.cos(angle)\n",
    "    xi = xm - 3*sin - 4*cos\n",
    "    yi = ym + 3*cos - 4*sin\n",
    "    xf = xm + 3*sin - 4*cos\n",
    "    yf = ym - 3*cos - 4*sin\n",
    "    line = '%.2f %.2f moveto %.2f %.2f lineto %.2f %.2f lineto stroke' % (xi,yi,xm,ym,xf,yf)\n",
    "    return line"
   ]
  },
  {
   "cell_type": "code",
   "execution_count": 81,
   "metadata": {},
   "outputs": [],
   "source": [
    "def draw_clv_site(submp, subsr, coord, angle):\n",
    "    length = 20\n",
    "    sin, cos = math.sin(angle), math.cos(angle)\n",
    "    ret = [ '1.5 setlinewidth', get_rgb('#de2d26') ]\n",
    "    for i,row in subsr.iterrows():\n",
    "        x5, y5 = coord[row['hstart']-1]\n",
    "        sx5 = x5 - length*sin - 5*cos\n",
    "        sy5 = y5 + length*cos - 5*sin\n",
    "        sxf = x5 - 5*sin - 5*cos\n",
    "        syf = y5 + 5*cos - 5*sin\n",
    "        ret.append('%.2f %.2f moveto %.2f %.2f lineto stroke'%(sx5,sy5,sxf,syf))\n",
    "        ret.append(draw_arrowhead_v1((sxf,syf), angle-math.pi/2))\n",
    "        \n",
    "        x3,y3 = coord[row['hend']-1]\n",
    "        sx3 = x3 + length*sin - 5*cos\n",
    "        sy3 = y3 - length*cos - 5*sin\n",
    "        sxf = x3 + 5*sin - 5*cos\n",
    "        syf = y3 - 5*cos - 5*sin\n",
    "        tx = x3 + 30*sin - 8*cos\n",
    "        ty = y3 - 30*cos - 8*sin\n",
    "        ret.append('%.2f %.2f moveto %.2f %.2f lineto stroke'%(sx3,sy3,sxf,syf))\n",
    "        ret.append(draw_arrowhead_v1((sxf,syf), angle+math.pi/2))  \n",
    "        #ret.append('%.2f %.2f moveto ((w)%.0f%%) show' % (tx,ty,row['score']*100))\n",
    "\n",
    "#     length = 25\n",
    "#     startd = {p:1 if p in subsr['hstart'].tolist() else 0 for p in range(125)}\n",
    "#     endd = {p:1 if p in subsr['hend'].tolist() else 0 for p in range(125)}\n",
    "#     ret.append(get_rgb('#757575'))\n",
    "#     for i,row in submp.iterrows():\n",
    "#         x5, y5 = coord[row['hstart']-1]\n",
    "#         sx5 = x5 - length*sin - 5*cos\n",
    "#         sy5 = y5 + length*cos - 5*sin\n",
    "#         sxf = x5 - 9*sin - 5*cos\n",
    "#         syf = y5 + 9*cos - 5*sin\n",
    "#         ret.append('%.2f %.2f moveto %.2f %.2f lineto stroke'%(sx5,sy5,sxf,syf))\n",
    "#         ret.append(draw_arrowhead_v1((sxf,syf), angle-math.pi/2))\n",
    "\n",
    "#         x3,y3 = coord[row['hend']-1]\n",
    "#         sx3 = x3 + length*sin - 5*cos\n",
    "#         sy3 = y3 - length*cos - 5*sin\n",
    "#         sxf = x3 + 9*sin - 5*cos\n",
    "#         syf = y3 - 9*cos - 5*sin\n",
    "#         tx = x3 + 30*sin + 30*endd[row['hend']] - 8*cos\n",
    "#         ty = y3 - 30*cos - 8*sin\n",
    "#         ret.append('%.2f %.2f moveto %.2f %.2f lineto stroke'%(sx3,sy3,sxf,syf))\n",
    "#         ret.append(draw_arrowhead_v1((sxf,syf), angle+math.pi/2))\n",
    "#         ret.append('%.2f %.2f moveto ((wo)%.0f%%) show' % (tx,ty,row['score']*100))\n",
    "    \n",
    "    return '\\n'.join(ret)"
   ]
  },
  {
   "cell_type": "code",
   "execution_count": 82,
   "metadata": {},
   "outputs": [],
   "source": [
    "def draw_clv_site_v2(sub5, sub3, coord, angle):\n",
    "    length = 20\n",
    "    sin, cos = math.sin(angle), math.cos(angle)\n",
    "    ret = [ '1.5 setlinewidth', get_rgb('#000000') ]\n",
    "    for pos,frac in sub5.items():\n",
    "        x5, y5 = coord[pos-1]\n",
    "        sx5 = x5 - length*sin - 5*cos\n",
    "        sy5 = y5 + length*cos - 5*sin\n",
    "        sxf = x5 - 5*sin - 5*cos\n",
    "        syf = y5 + 5*cos - 5*sin\n",
    "        tx = x5 - (length+10)*sin - 8*cos - len('%.1f'%(frac*100))*7\n",
    "        ty = y5 + (length+10)*cos - 8*sin\n",
    "        ret.append('%.2f %.2f moveto %.2f %.2f lineto stroke'%(sx5,sy5,sxf,syf))\n",
    "        ret.append(draw_arrowhead_v1((sxf,syf), angle-math.pi/2))\n",
    "        ret.append('%.2f %.2f moveto ((%s)%.1f) show' % (tx,ty,pos,frac*100))\n",
    "        \n",
    "    for pos,frac in sub3.items():\n",
    "        x3,y3 = coord[pos-1]\n",
    "        sx3 = x3 + length*sin - 5*cos\n",
    "        sy3 = y3 - length*cos - 5*sin\n",
    "        sxf = x3 + 5*sin - 5*cos\n",
    "        syf = y3 - 5*cos - 5*sin\n",
    "        tx = x3 + 30*sin - 8*cos\n",
    "        ty = y3 - 30*cos - 8*sin\n",
    "        ret.append('%.2f %.2f moveto %.2f %.2f lineto stroke'%(sx3,sy3,sxf,syf))\n",
    "        ret.append(draw_arrowhead_v1((sxf,syf), angle+math.pi/2))  \n",
    "        ret.append('%.2f %.2f moveto ((%s)%.1f) show' % (tx,ty,pos,frac*100))\n",
    "    \n",
    "    return '\\n'.join(ret)"
   ]
  },
  {
   "cell_type": "markdown",
   "metadata": {},
   "source": [
    "### 5) Show structural features"
   ]
  },
  {
   "cell_type": "code",
   "execution_count": 85,
   "metadata": {
    "scrolled": true
   },
   "outputs": [
    {
     "name": "stdout",
     "output_type": "stream",
     "text": [
      "(8, 117)\n"
     ]
    }
   ],
   "source": [
    "bsends = {}\n",
    "for m in folded:\n",
    "    bsends[m] = (int(features.loc[m,'BE5']),int(features.loc[m,'BE3']))\n",
    "# for l in open('shape/2021-07-05/bs_ends.txt','rt'):\n",
    "#     m, bse = l.split()\n",
    "#     bsends[m] = map(int,bse.split(';'))\n",
    "print bsends['hsa-let-7a-1']"
   ]
  },
  {
   "cell_type": "code",
   "execution_count": 86,
   "metadata": {},
   "outputs": [],
   "source": [
    "def highlight_letters(poses, coord, color):\n",
    "    lines = ['%.2f %.2f 8 0 360 arc'%coord[pos-1] for pos in poses]\n",
    "    for i in range(len(poses)//2):\n",
    "        lines[2*i+1] = '%s\\n%s\\nfill\\n'%(lines[2*i+1],get_rgb(color))\n",
    "    lines.append('%s\\nfill\\n'%(get_rgb(color)))\n",
    "    return '\\n'.join(lines)"
   ]
  },
  {
   "cell_type": "code",
   "execution_count": 87,
   "metadata": {},
   "outputs": [],
   "source": [
    "colord = { 'UG':'#b3cde3','UGU':'#ccebc5','CNNC':'#decbe4','mGHG':'#f4cae4', 'GWG':'#e5d8bd' }\n",
    "def highlight_motif(mir, coord, colord, angle):\n",
    "    hlines = []\n",
    "    if mir in ugmirs:\n",
    "        hlines.append(highlight_letters(ugposes[mir], coord, colord['UG']))\n",
    "    if mir in ugumirs:\n",
    "        hlines.append(highlight_letters(uguposes[mir], coord, colord['UGU']))\n",
    "    if mir in ghgmirs:\n",
    "        hlines.append(highlight_letters(ghgposes[mir], coord, colord['mGHG']))\n",
    "    if mir in cnncmirs:\n",
    "        hlines.append(highlight_letters(cnncposes[mir], coord, colord['CNNC']))\n",
    "    if mir in gwgmirs:\n",
    "        hlines.append(highlight_letters(gwgposes[mir], coord, colord['GWG']))\n",
    "    return '\\n'.join(hlines)"
   ]
  },
  {
   "cell_type": "code",
   "execution_count": 88,
   "metadata": {},
   "outputs": [],
   "source": [
    "def get_stemdist(st,en,coord,angle):\n",
    "    #if st<en:\n",
    "    x5,y5 = coord[st-1]\n",
    "    xp,yp = coord[en-1]\n",
    "    #else:\n",
    "    #    x5,y5 = coord[en-1]\n",
    "    #    xp,yp = coord[st-1]\n",
    "    a2 = get_angle(x5,y5,xp,yp)\n",
    "    l = np.sqrt((y5-yp)**2+(x5-xp)**2)\n",
    "    return abs(l*math.cos(angle%(math.pi*2)-a2))"
   ]
  },
  {
   "cell_type": "code",
   "execution_count": 94,
   "metadata": {},
   "outputs": [],
   "source": [
    "def find_farthest(ori,poses,coord,angle):\n",
    "    return max(poses,key=lambda x:get_stemdist(ori,x,coord,angle))"
   ]
  },
  {
   "cell_type": "code",
   "execution_count": 95,
   "metadata": {},
   "outputs": [],
   "source": [
    "def draw_arrowhead(xm, ym, sin, cos, option): # +1: heading top, -1: heading bottom\n",
    "    xi = xm - 3*sin - option*4*cos\n",
    "    yi = ym + 3*cos - option*4*sin\n",
    "    xf = xm + 3*sin - option*4*cos\n",
    "    yf = ym - 3*cos - option*4*sin\n",
    "    line = '%.2f %.2f moveto %.2f %.2f lineto %.2f %.2f lineto stroke' % (xi,yi,xm,ym,xf,yf)\n",
    "    return line"
   ]
  },
  {
   "cell_type": "code",
   "execution_count": 96,
   "metadata": {},
   "outputs": [],
   "source": [
    "def draw_arrowline(x0,y0,x,y,sin,cos,texts): # x0,y0 must be upper\n",
    "    line = '%.2f %.2f moveto %.2f %.2f lineto stroke'%(x0,y0,x,y)\n",
    "    arr1 = draw_arrowhead(x0,y0,sin,cos,1)\n",
    "    arr2 = draw_arrowhead(x,y,sin,cos,-1)\n",
    "    mx = (x0+x)/2 - len(texts[0])*4*min(abs(sin)*2,1)-7\n",
    "    my = (y0+y)/2 + 10*cos\n",
    "    txtsize = '/Helvetica-Bold findfont 8 scalefont setfont'\n",
    "    if len(texts)==1:\n",
    "        sline = '%.2f %.2f moveto (%s) show' % (mx, my, texts[0])\n",
    "    else:\n",
    "        sline = '%.2f %.2f moveto (%s) show' % (mx, my+5, texts[0])\n",
    "        sline = sline + '\\n%.2f %.2f moveto (%s) show' % (mx, my-5, texts[1])\n",
    "    return '\\n'.join([line,arr1,arr2,txtsize,sline])"
   ]
  },
  {
   "cell_type": "code",
   "execution_count": 97,
   "metadata": {},
   "outputs": [],
   "source": [
    "def draw_str_features(mir, coord, angle):\n",
    "    sin,cos = math.sin(angle), math.cos(angle)\n",
    "    ps, pe = get_pre_position(mir)\n",
    "    aj5,aj3,bj5 = features.loc[mir,['AJ5','AJ3','BJ5']].astype(int)\n",
    "    bs5 = bsends[mir][0]+int(bsends[mir][0]==0)\n",
    "    top = find_farthest(aj5,range(aj5+1,aj3),coord,angle)\n",
    "    topdist = get_stemdist(aj5,top,coord,angle)\n",
    "    usdist = get_stemdist(ps,aj5,coord,angle)\n",
    "    lsdist = get_stemdist(bj5,ps,coord,angle)\n",
    "    bottom = find_farthest(bj5,range(bs5,bj5),coord,angle)\n",
    "    botdist = get_stemdist(bottom,bj5,coord,angle)\n",
    "\n",
    "    x0,y0 = coord[aj5-1]\n",
    "    poses = [p for p in range(1,125) if any([angle<get_angle(x0,y0,coord[p-1][0],\n",
    "                            coord[p-1][1])+math.pi*2*i<angle+math.pi for i in range(2)])]\n",
    "    left = find_farthest(aj5,poses,coord,angle+math.pi/2)\n",
    "    dist = get_stemdist(aj5,left,coord,angle+math.pi/2)+20\n",
    "    \n",
    "    ajx = x0 - dist*sin\n",
    "    ajy = y0 + dist*cos\n",
    "    lpx = ajx + topdist*cos\n",
    "    lpy = ajy + topdist*sin\n",
    "    csx = ajx - usdist*cos\n",
    "    csy = ajy - usdist*sin\n",
    "    bjx = csx - lsdist*cos\n",
    "    bjy = csy - lsdist*sin\n",
    "    bsx = bjx - botdist*cos\n",
    "    bsy = bjy - botdist*sin\n",
    "    \n",
    "    lptext = ['Loop: %i nt'%features.loc[mir,'loop']]\n",
    "    ustext = ['US: %i bp'%features.loc[mir,'upper stem']]\n",
    "    lstext = ['LS: %i bp'%features.loc[mir,'lower stem']]\n",
    "    bstext = [\"5' BS: %i nt\"%features.loc[mir,'BS5'],\n",
    "              \"3' BS: %i nt\"%features.loc[mir,'BS3']]\n",
    "    #if angle<=math.pi:\n",
    "    lpline = draw_arrowline(lpx,lpy,ajx,ajy,sin,cos,lptext)\n",
    "    usline = draw_arrowline(ajx,ajy,csx,csy,sin,cos,ustext)\n",
    "    lsline = draw_arrowline(csx,csy,bjx,bjy,sin,cos,lstext)\n",
    "    bsline = draw_arrowline(bjx,bjy,bsx,bsy,sin,cos,bstext)\n",
    "    #else:\n",
    "    #    lpline = draw_arrowline(ajx,ajy,lpx,lpy,sin,cos,lptext)\n",
    "    #    usline = draw_arrowline(csx,csy,ajx,ajy,sin,cos,ustext)\n",
    "    #    lsline = draw_arrowline(bjx,bjy,csx,csy,sin,cos,lstext)\n",
    "    #    bsline = draw_arrowline(bsx,bsy,bjx,bjy,sin,cos,bstext)\n",
    "      \n",
    "    #mx = csx - 65\n",
    "    #my = csy + 20*cos\n",
    "    #mm, bg = features.loc[mir,['Mismatch','Bulge']].astype(int) \n",
    "    #mmline = '%.2f %.2f moveto (%s) show'%(mx,my+6,'Mismatch: %s bp'%mm)\n",
    "    #bgline = '%.2f %.2f moveto (%s) show'%(mx,my-6,'Bulged: %s nt'%bg)\n",
    "\n",
    "    #return '\\n'.join([lpline,usline,lsline,bsline,mmline,bgline])\n",
    "    return '\\n'.join([lpline,usline,lsline,bsline])"
   ]
  },
  {
   "cell_type": "code",
   "execution_count": 100,
   "metadata": {},
   "outputs": [],
   "source": [
    "for mir in folded:\n",
    "    eps = 'shape/2021-12-28/figures/%s_b.eps'%mir\n",
    "    infoeps = '%s/%s_combine.eps'% (infopath, mir.replace('hsa-',''))\n",
    "    rlines = open(eps,'rt').read().strip().split('\\n')\n",
    "\n",
    "    coord = get_coordinate_dict(rlines)\n",
    "    angle = calculate_stem_angle(coord)\n",
    "    nlines = erase_numbers(rlines)\n",
    "    tlines = insert_info(infoeps, angle, nlines, mir)\n",
    "\n",
    "    subsr = clvsr[clvsr['miRNA'].isin([mir])].iloc[:1,:]\n",
    "    clvline = draw_clv_site(subsr,subsr,coord,angle)    \n",
    "    mline = highlight_motif(mir, coord, colord, angle)\n",
    "    strline = draw_str_features(mir,coord,angle)\n",
    "    out = open('%s/%s_final.eps'%(infopath,mir.replace('hsa-','')), 'wt')\n",
    "    for l in tlines:\n",
    "        if l == '/Helvetica-Bold findfont 16 scalefont setfont':\n",
    "            out.write('/Helvetica-Bold findfont 8 scalefont setfont\\n')\n",
    "            out.write('%s\\nnewpath\\n\\n'%clvline)\n",
    "            out.write('1 setlinewidth\\n%s\\n%s\\nnewpath\\n\\n'%(get_rgb('#000000'),strline))\n",
    "        elif l.startswith('% nucleotide') and mline:\n",
    "            out.write('%s\\n\\n'%mline)\n",
    "            mline=''\n",
    "        out.write('%s\\n'%l)\n",
    "    out.close()"
   ]
  },
  {
   "cell_type": "code",
   "execution_count": 120,
   "metadata": {},
   "outputs": [
    {
     "data": {
      "text/plain": [
       "'/casa/bsc/projects/2_Structure-of-pri/2007_paper_prep/shape/2021-12-28/230718/'"
      ]
     },
     "execution_count": 120,
     "metadata": {},
     "output_type": "execute_result"
    }
   ],
   "source": [
    "infopath"
   ]
  },
  {
   "cell_type": "code",
   "execution_count": null,
   "metadata": {},
   "outputs": [],
   "source": []
  }
 ],
 "metadata": {
  "kernelspec": {
   "display_name": "Python 2",
   "language": "python",
   "name": "python2"
  },
  "language_info": {
   "codemirror_mode": {
    "name": "ipython",
    "version": 2
   },
   "file_extension": ".py",
   "mimetype": "text/x-python",
   "name": "python",
   "nbconvert_exporter": "python",
   "pygments_lexer": "ipython2",
   "version": "2.7.18"
  }
 },
 "nbformat": 4,
 "nbformat_minor": 2
}

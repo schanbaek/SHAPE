{
 "cells": [
  {
   "cell_type": "markdown",
   "metadata": {},
   "source": [
    "# In vitro processing results of pri-miRNA variants\n",
    "- Kwon et al., 2019"
   ]
  },
  {
   "cell_type": "markdown",
   "metadata": {},
   "source": [
    "### Dictionary\n",
    "`zcat ../rawdata/dict.fastq.gz | cutadapt -j 32 -a TGGAATTCTCGGGTGCCAAGG -m 130 - | grep 'AGGGTCTACCGGGCCACCGC' - | gzip -c - > dict.txt.gz`\n",
    "- Total reads processed:              42,140,068\n",
    "- Reads with adapters:                   567,440 (1.3%)\n",
    "- Reads that were too short:           1,168,017 (2.8%)\n",
    "- Reads written (passing filters):    40,972,051 (97.2%)\n",
    "\n",
    "`zcat dict.txt.gz | cut -c -155 | sort -u > dict_uniq.txt`  \n",
    "`sed -n -e 's/\\(^.*\\)\\(\\(AGGGTCTACCGGGCCACCGC\\).*\\)/\\1/p' dict_uniq.txt > dict_1barcode.txt`   \n",
    "`sed -n -e 's/^.*AGGGTCTACCGGGCCACCGC\\(.*\\)/\\1/p' dict_uniq.txt > dict_2pri.txt`  \n",
    "`paste -d '\\t' dict_1barcode.txt dict_2pri.txt > dict_split.txt`"
   ]
  },
  {
   "cell_type": "markdown",
   "metadata": {},
   "source": [
    "### Input\n",
    "`zcat ../rawdata/input_1.fastq.gz| cutadapt -j 32 -a AGGGTCTACCGGGCCACCGC --trimmed-only -m 25 -M 35 - | gzip -c - > input_barc_only.fastq.gz`\n",
    "- Total reads processed:              36,893,479\n",
    "- Reads with adapters:                36,718,291 (99.5%)\n",
    "- Reads that were too short:             162,193 (0.4%)\n",
    "- Reads that were too long:              178,143 (0.5%)\n",
    "- Reads written (passing filters):    36,553,143 (99.1%)\n",
    "\n",
    "`zcat input_barc_only.fastq.gz | awk 'NR % 4 == 2' | sort | uniq -c > input_counts.txt`"
   ]
  },
  {
   "cell_type": "markdown",
   "metadata": {},
   "source": [
    "### Cleaved\n",
    "`zcat ../rawdata/clv_1.fastq.gz| cutadapt -j 32 -a AGGGTCTACCGGGCCACCGC --trimmed-only -m 25 -M 35 - | gzip -c - > clv_barc_only.fastq.gz`\n",
    "- Total reads processed:              45,121,437\n",
    "- Reads with adapters:                44,850,336 (99.4%)\n",
    "- Reads that were too short:             196,752 (0.4%)\n",
    "- Reads that were too long:              283,947 (0.6%)\n",
    "- Reads written (passing filters):    44,640,738 (98.9%)\n",
    "\n",
    "`zcat clv_barc_only.fastq.gz | awk 'NR % 4 == 2' | sort | uniq -c > clv_counts.txt`"
   ]
  },
  {
   "cell_type": "code",
   "execution_count": 1,
   "metadata": {},
   "outputs": [
    {
     "name": "stdout",
     "output_type": "stream",
     "text": [
      "Last revised by Seungchan Baek at 2021-12-28.\n"
     ]
    }
   ],
   "source": [
    "import time\n",
    "today = time.strftime('%Y-%m-%d')\n",
    "name = 'Seungchan Baek'\n",
    "print 'Last revised by %s at %s.' % (name, today)"
   ]
  },
  {
   "cell_type": "code",
   "execution_count": 2,
   "metadata": {
    "scrolled": true
   },
   "outputs": [
    {
     "name": "stdout",
     "output_type": "stream",
     "text": [
      "/casa/bsc/projects/2_Structure-of-pri/2007_paper_prep\n"
     ]
    }
   ],
   "source": [
    "home = '/casa/bsc/projects/2_Structure-of-pri/2007_paper_prep'\n",
    "%cd $home"
   ]
  },
  {
   "cell_type": "code",
   "execution_count": 3,
   "metadata": {},
   "outputs": [
    {
     "name": "stdout",
     "output_type": "stream",
     "text": [
      "resultpath: results/211228/\n"
     ]
    }
   ],
   "source": [
    "import sys; sys.path.append('/casa/bsc/notebooks/')\n",
    "from basic import gen_result_dir\n",
    "resultpath = gen_result_dir('results/')\n",
    "print 'resultpath:', resultpath"
   ]
  },
  {
   "cell_type": "code",
   "execution_count": 4,
   "metadata": {},
   "outputs": [],
   "source": [
    "from __future__ import division\n",
    "from collections import Counter, defaultdict\n",
    "import pandas as pd\n",
    "import numpy as np\n",
    "import seaborn as sns\n",
    "import re\n",
    "import gzip"
   ]
  },
  {
   "cell_type": "code",
   "execution_count": 5,
   "metadata": {},
   "outputs": [],
   "source": [
    "COMMON1 = 'AGGGTCTACCGGGCCACCGC'\n",
    "COMMON2 = 'CCCCAGGTGTGTGGTTTTTA'\n",
    "WCPAIRS = [ 'GC', 'CG', 'AT', 'TA' ]\n",
    "WBPAIRS = [ 'GT', 'TG' ]"
   ]
  },
  {
   "cell_type": "code",
   "execution_count": 6,
   "metadata": {},
   "outputs": [],
   "source": [
    "STRS = defaultdict(lambda: 'S')\n",
    "STRS.update({p:'D' for p in WCPAIRS})#+WBPAIRS})\n",
    "templates = defaultdict(lambda: 'unknown')\n",
    "templates.update({ 'AAAGGGACC':'watson', 'TGAGGCCTC':'crick', 'TGAGACCCT':'mir-125a' })"
   ]
  },
  {
   "cell_type": "code",
   "execution_count": 7,
   "metadata": {},
   "outputs": [
    {
     "name": "stdout",
     "output_type": "stream",
     "text": [
      "13979388\n"
     ]
    }
   ],
   "source": [
    "cols = ['barcode','pri']\n",
    "dicttbl = pd.read_table(gzip.open('publication/Kwon2019/dict_split.txt.gz','rb'),sep='\\t',names=cols)\n",
    "dicttbl['template'] = dicttbl['pri'].apply(lambda x:templates[x[27:36]])\n",
    "dicttbl = dicttbl[dicttbl['template']!='unknown']\n",
    "print len(dicttbl)"
   ]
  },
  {
   "cell_type": "code",
   "execution_count": 8,
   "metadata": {},
   "outputs": [
    {
     "name": "stdout",
     "output_type": "stream",
     "text": [
      "5757557 4634000 3586044\n"
     ]
    }
   ],
   "source": [
    "watson = dicttbl[dicttbl['template']=='watson']\n",
    "watson = watson[watson['pri'].apply(len)>=99]\n",
    "crick = dicttbl[dicttbl['template']=='crick']\n",
    "crick = crick[crick['pri'].apply(len)>=95]\n",
    "mir125 = dicttbl[dicttbl['template']=='mir-125a']\n",
    "mir125 = mir125[mir125['pri'].apply(len)>=95]\n",
    "print len(watson), len(crick), len(mir125)"
   ]
  },
  {
   "cell_type": "code",
   "execution_count": 9,
   "metadata": {},
   "outputs": [
    {
     "name": "stdout",
     "output_type": "stream",
     "text": [
      "13977601\n"
     ]
    }
   ],
   "source": [
    "watson['ghg'] = watson['pri'].apply(lambda x:x[20:23])\n",
    "watson['bj5'] = watson['pri'].apply(lambda x:x[13:15])\n",
    "watson['bj3'] = watson['pri'].apply(lambda x:x[97:99][::-1])\n",
    "watson['aj5'] = watson['pri'].apply(lambda x:x[48:51])\n",
    "watson['aj3'] = watson['pri'].apply(lambda x:x[61:64][::-1])\n",
    "\n",
    "crick['ghg'] = crick['pri'].apply(lambda x:x[16:19])\n",
    "crick['bj5'] = crick['pri'].apply(lambda x:x[9:11])\n",
    "crick['bj3'] = crick['pri'].apply(lambda x:x[93:95][::-1])\n",
    "crick['aj5'] = crick['pri'].apply(lambda x:x[44:47])\n",
    "crick['aj3'] = crick['pri'].apply(lambda x:x[57:60][::-1])\n",
    "\n",
    "mir125['ghg'] = mir125['pri'].apply(lambda x:x[16:19])\n",
    "mir125['bj5'] = mir125['pri'].apply(lambda x:x[9:11])\n",
    "mir125['bj3'] = mir125['pri'].apply(lambda x:x[93:95][::-1])\n",
    "mir125['aj5'] = mir125['pri'].apply(lambda x:x[46:49])\n",
    "mir125['aj3'] = mir125['pri'].apply(lambda x:x[57:60][::-1])\n",
    "\n",
    "dicttbl = watson.append(crick).append(mir125)\n",
    "watson = 0; crick = 0; mir125 = 0\n",
    "print len(dicttbl)"
   ]
  },
  {
   "cell_type": "code",
   "execution_count": 10,
   "metadata": {},
   "outputs": [
    {
     "name": "stdout",
     "output_type": "stream",
     "text": [
      "13621598\n"
     ]
    }
   ],
   "source": [
    "dicttbl = dicttbl[dicttbl['bj5'].apply(lambda x: 'A' not in x)]\n",
    "dicttbl = dicttbl[dicttbl['bj3'].apply(lambda x: ('T' not in x) and ('G' not in x))]\n",
    "dicttbl = dicttbl[dicttbl['aj5'].apply(lambda x: 'A' not in x)]\n",
    "dicttbl = dicttbl[dicttbl['aj3'].apply(lambda x: ('T' not in x[:2]) and ('G' not in x[:2]))]\n",
    "print len(dicttbl)"
   ]
  },
  {
   "cell_type": "code",
   "execution_count": 11,
   "metadata": {
    "scrolled": true
   },
   "outputs": [
    {
     "name": "stdout",
     "output_type": "stream",
     "text": [
      "72652\n"
     ]
    }
   ],
   "source": [
    "repbarcs = {}\n",
    "for info,grp in dicttbl.groupby(['template','ghg','bj5','bj3','aj5','aj3']):\n",
    "    barcs = grp['barcode'].tolist()\n",
    "    rep = barcs[0]\n",
    "    repbarcs.update({b:rep for b in barcs})\n",
    "    \n",
    "dicttbl = dicttbl.set_index('barcode')\n",
    "dicttbl = dicttbl[~dicttbl.index.duplicated(keep=False)]\n",
    "dicttbl = dicttbl.reindex(set(repbarcs.values())).dropna()\n",
    "print len(dicttbl)"
   ]
  },
  {
   "cell_type": "code",
   "execution_count": 12,
   "metadata": {},
   "outputs": [],
   "source": [
    "inpcnts = defaultdict(int)\n",
    "for l in gzip.open('publication/Kwon2019/input_counts.txt.gz','rb'):\n",
    "    cnt,barc = l.strip().split()\n",
    "    try:\n",
    "        inpcnts[repbarcs[barc]] += int(cnt)\n",
    "    except KeyError:\n",
    "        continue"
   ]
  },
  {
   "cell_type": "code",
   "execution_count": 13,
   "metadata": {},
   "outputs": [],
   "source": [
    "clvcnts = defaultdict(int)\n",
    "for l in gzip.open('publication/Kwon2019/clv_counts.txt.gz','rb'):\n",
    "    cnt,barc = l.strip().split()\n",
    "    try:\n",
    "        clvcnts[repbarcs[barc]] += int(cnt)\n",
    "    except KeyError:\n",
    "        continue"
   ]
  },
  {
   "cell_type": "code",
   "execution_count": 14,
   "metadata": {},
   "outputs": [
    {
     "name": "stdout",
     "output_type": "stream",
     "text": [
      "35707\n"
     ]
    }
   ],
   "source": [
    "cut = 20\n",
    "both = set(inpcnts.keys())&set(clvcnts.keys())\n",
    "barcs = [b for b in both if inpcnts[b]>=cut]\n",
    "print len(barcs)"
   ]
  },
  {
   "cell_type": "code",
   "execution_count": 15,
   "metadata": {},
   "outputs": [
    {
     "data": {
      "text/html": [
       "<div>\n",
       "<style scoped>\n",
       "    .dataframe tbody tr th:only-of-type {\n",
       "        vertical-align: middle;\n",
       "    }\n",
       "\n",
       "    .dataframe tbody tr th {\n",
       "        vertical-align: top;\n",
       "    }\n",
       "\n",
       "    .dataframe thead th {\n",
       "        text-align: right;\n",
       "    }\n",
       "</style>\n",
       "<table border=\"1\" class=\"dataframe\">\n",
       "  <thead>\n",
       "    <tr style=\"text-align: right;\">\n",
       "      <th></th>\n",
       "      <th>template</th>\n",
       "      <th>ghg</th>\n",
       "      <th>bj5</th>\n",
       "      <th>bj3</th>\n",
       "      <th>aj5</th>\n",
       "      <th>aj3</th>\n",
       "      <th>bj str</th>\n",
       "      <th>aj str</th>\n",
       "    </tr>\n",
       "    <tr>\n",
       "      <th>barcode</th>\n",
       "      <th></th>\n",
       "      <th></th>\n",
       "      <th></th>\n",
       "      <th></th>\n",
       "      <th></th>\n",
       "      <th></th>\n",
       "      <th></th>\n",
       "      <th></th>\n",
       "    </tr>\n",
       "  </thead>\n",
       "  <tbody>\n",
       "    <tr>\n",
       "      <th>CTTCTGTTCTGAAAGACGGGTCTTCGAGA</th>\n",
       "      <td>mir-125a</td>\n",
       "      <td>TAT</td>\n",
       "      <td>TG</td>\n",
       "      <td>CC</td>\n",
       "      <td>TCG</td>\n",
       "      <td>CAG</td>\n",
       "      <td>SD</td>\n",
       "      <td>SSS</td>\n",
       "    </tr>\n",
       "    <tr>\n",
       "      <th>AAACTATGATGAAGGGTGTGTCGGATTATGC</th>\n",
       "      <td>crick</td>\n",
       "      <td>TTT</td>\n",
       "      <td>GG</td>\n",
       "      <td>CC</td>\n",
       "      <td>TTT</td>\n",
       "      <td>ACA</td>\n",
       "      <td>DD</td>\n",
       "      <td>DSS</td>\n",
       "    </tr>\n",
       "    <tr>\n",
       "      <th>AACTCTGGGATACAGAAGTAATCACGCCTGA</th>\n",
       "      <td>watson</td>\n",
       "      <td>GTG</td>\n",
       "      <td>TC</td>\n",
       "      <td>CC</td>\n",
       "      <td>TGG</td>\n",
       "      <td>CCT</td>\n",
       "      <td>SS</td>\n",
       "      <td>SSS</td>\n",
       "    </tr>\n",
       "  </tbody>\n",
       "</table>\n",
       "</div>"
      ],
      "text/plain": [
       "                                 template  ghg bj5 bj3  aj5  aj3 bj str aj str\n",
       "barcode                                                                       \n",
       "CTTCTGTTCTGAAAGACGGGTCTTCGAGA    mir-125a  TAT  TG  CC  TCG  CAG     SD    SSS\n",
       "AAACTATGATGAAGGGTGTGTCGGATTATGC     crick  TTT  GG  CC  TTT  ACA     DD    DSS\n",
       "AACTCTGGGATACAGAAGTAATCACGCCTGA    watson  GTG  TC  CC  TGG  CCT     SS    SSS"
      ]
     },
     "execution_count": 15,
     "metadata": {},
     "output_type": "execute_result"
    }
   ],
   "source": [
    "dicttbl['bj str 1'] = (dicttbl['bj5'].apply(lambda x:x[0])+\n",
    "                      dicttbl['bj3'].apply(lambda x:x[0])).apply(lambda x:STRS[x])\n",
    "dicttbl['bj str 2'] = (dicttbl['bj5'].apply(lambda x:x[1])+\n",
    "                      dicttbl['bj3'].apply(lambda x:x[1])).apply(lambda x:STRS[x])\n",
    "dicttbl['bj str'] = dicttbl['bj str 1']+dicttbl['bj str 2']\n",
    "dicttbl['aj str 1'] = (dicttbl['aj5'].apply(lambda x:x[0])+\n",
    "                      dicttbl['aj3'].apply(lambda x:x[0])).apply(lambda x:STRS[x])\n",
    "dicttbl['aj str 2'] = (dicttbl['aj5'].apply(lambda x:x[1])+\n",
    "                      dicttbl['aj3'].apply(lambda x:x[1])).apply(lambda x:STRS[x])\n",
    "dicttbl['aj str 3'] = (dicttbl['aj5'].apply(lambda x:x[2])+\n",
    "                      dicttbl['aj3'].apply(lambda x:x[2])).apply(lambda x:STRS[x])\n",
    "dicttbl['aj str'] = dicttbl['aj str 1']+dicttbl['aj str 2']+dicttbl['aj str 3']\n",
    "dicttbl['aj str'] = dicttbl['aj str'].apply(lambda x: (x+'S').find('S')*'D'+\n",
    "                                                       (3-(x+'S').find('S'))*'S')\n",
    "dicttbl = dicttbl.drop(['bj str 1','bj str 2','aj str 1','aj str 2','aj str 3','pri'],axis=1)\n",
    "dicttbl.head(3)"
   ]
  },
  {
   "cell_type": "code",
   "execution_count": 16,
   "metadata": {},
   "outputs": [],
   "source": [
    "dicttbl['UG1'] = dicttbl['bj5'].apply(lambda x:int(x[0]=='G'))\n",
    "dicttbl['UG2'] = (dicttbl['bj5']=='TG').apply(int)\n",
    "dicttbl['UG3'] = dicttbl['bj5'].apply(lambda x:int(x[1]=='T'))\n",
    "dicttbl['UGU1'] = dicttbl['aj5'].apply(lambda x:int(x[:2]=='GT'))\n",
    "dicttbl['UGU2'] = (dicttbl['aj5']=='TGT').apply(int)\n",
    "dicttbl['UGU3'] = dicttbl['aj5'].apply(lambda x:int(x[1:]=='TG'))\n",
    "dicttbl['UG'] = dicttbl['UG1']+dicttbl['UG2']+dicttbl['UG3']\n",
    "dicttbl['UGU'] = dicttbl['UGU1']+dicttbl['UGU2']+dicttbl['UGU3']"
   ]
  },
  {
   "cell_type": "code",
   "execution_count": 17,
   "metadata": {},
   "outputs": [
    {
     "data": {
      "text/html": [
       "<div>\n",
       "<style scoped>\n",
       "    .dataframe tbody tr th:only-of-type {\n",
       "        vertical-align: middle;\n",
       "    }\n",
       "\n",
       "    .dataframe tbody tr th {\n",
       "        vertical-align: top;\n",
       "    }\n",
       "\n",
       "    .dataframe thead th {\n",
       "        text-align: right;\n",
       "    }\n",
       "</style>\n",
       "<table border=\"1\" class=\"dataframe\">\n",
       "  <thead>\n",
       "    <tr style=\"text-align: right;\">\n",
       "      <th></th>\n",
       "      <th>input</th>\n",
       "      <th>cleaved</th>\n",
       "      <th>eff</th>\n",
       "    </tr>\n",
       "  </thead>\n",
       "  <tbody>\n",
       "    <tr>\n",
       "      <th>AAGAGCTATTCCTATCGTGTTGATTAACGC</th>\n",
       "      <td>220</td>\n",
       "      <td>311</td>\n",
       "      <td>1.413636</td>\n",
       "    </tr>\n",
       "    <tr>\n",
       "      <th>AAACTATGATGAAGGGTGTGTCGGATTATGC</th>\n",
       "      <td>1425</td>\n",
       "      <td>618</td>\n",
       "      <td>0.433684</td>\n",
       "    </tr>\n",
       "    <tr>\n",
       "      <th>AAATTGTGTTAACGGTGAACTAGACTTTT</th>\n",
       "      <td>64</td>\n",
       "      <td>147</td>\n",
       "      <td>2.296875</td>\n",
       "    </tr>\n",
       "  </tbody>\n",
       "</table>\n",
       "</div>"
      ],
      "text/plain": [
       "                                 input  cleaved       eff\n",
       "AAGAGCTATTCCTATCGTGTTGATTAACGC     220      311  1.413636\n",
       "AAACTATGATGAAGGGTGTGTCGGATTATGC   1425      618  0.433684\n",
       "AAATTGTGTTAACGGTGAACTAGACTTTT       64      147  2.296875"
      ]
     },
     "execution_count": 17,
     "metadata": {},
     "output_type": "execute_result"
    }
   ],
   "source": [
    "efftbl = pd.DataFrame(columns=['input','cleaved'],index=barcs)\n",
    "efftbl['input'] = pd.Series(inpcnts)\n",
    "efftbl['cleaved'] = pd.Series(clvcnts)\n",
    "efftbl['eff'] = efftbl['cleaved']/efftbl['input']\n",
    "efftbl.head(3)"
   ]
  },
  {
   "cell_type": "code",
   "execution_count": 18,
   "metadata": {},
   "outputs": [
    {
     "name": "stdout",
     "output_type": "stream",
     "text": [
      "25831\n"
     ]
    }
   ],
   "source": [
    "dicttbl = dicttbl.join(efftbl,how='inner').dropna()\n",
    "print len(dicttbl)"
   ]
  },
  {
   "cell_type": "code",
   "execution_count": 19,
   "metadata": {},
   "outputs": [],
   "source": [
    "dicttbl.to_csv('publication/Kwon2019/var_processing.csv')"
   ]
  },
  {
   "cell_type": "code",
   "execution_count": null,
   "metadata": {},
   "outputs": [],
   "source": []
  },
  {
   "cell_type": "markdown",
   "metadata": {},
   "source": [
    "---"
   ]
  }
 ],
 "metadata": {
  "kernelspec": {
   "display_name": "Python 2",
   "language": "python",
   "name": "python2"
  },
  "language_info": {
   "codemirror_mode": {
    "name": "ipython",
    "version": 2
   },
   "file_extension": ".py",
   "mimetype": "text/x-python",
   "name": "python",
   "nbconvert_exporter": "python",
   "pygments_lexer": "ipython2",
   "version": "2.7.18"
  }
 },
 "nbformat": 4,
 "nbformat_minor": 2
}

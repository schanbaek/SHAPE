{
 "cells": [
  {
   "attachments": {},
   "cell_type": "markdown",
   "metadata": {},
   "source": [
    "## Figure 5. Regulatory potential of the apical loop structure.\n",
    "- 5A. Distribution of the apical loop size.\n",
    "- 5B. In vitro processing results of pri-miRNAs binned by the apical loop size."
   ]
  },
  {
   "cell_type": "code",
   "execution_count": 11,
   "metadata": {},
   "outputs": [
    {
     "name": "stdout",
     "output_type": "stream",
     "text": [
      "Last revised by S. Chan Baek at 2024-01-26.\n"
     ]
    }
   ],
   "source": [
    "import time\n",
    "today = time.strftime('%Y-%m-%d')\n",
    "name = 'S. Chan Baek'\n",
    "print 'Last revised by %s at %s.' % (name, today)"
   ]
  },
  {
   "cell_type": "code",
   "execution_count": 12,
   "metadata": {},
   "outputs": [
    {
     "name": "stdout",
     "output_type": "stream",
     "text": [
      "/casa/bsc/projects/2_Structure-of-pri/2007_paper_prep/240126/\n",
      "/casa/bsc/projects/2_Structure-of-pri/2007_paper_prep\n"
     ]
    }
   ],
   "source": [
    "import os\n",
    "HOME = '/casa/bsc/projects/2_Structure-of-pri/2007_paper_prep'\n",
    "SAVEPATH = '%s/%s/'%(HOME,time.strftime('%y%m%d'))\n",
    "#if not os.path.exists(SAVEPATH):\n",
    "#    os.makedirs(SAVEPATH)\n",
    "print SAVEPATH\n",
    "%cd $HOME"
   ]
  },
  {
   "cell_type": "code",
   "execution_count": 13,
   "metadata": {},
   "outputs": [],
   "source": [
    "from __future__ import division\n",
    "from collections import Counter, defaultdict\n",
    "from matplotlib import pyplot as plt\n",
    "from matplotlib import gridspec, lines, colors\n",
    "from scipy.stats import pearsonr, mannwhitneyu, sem\n",
    "import pandas as pd\n",
    "import numpy as np\n",
    "import re\n",
    "%matplotlib inline"
   ]
  },
  {
   "cell_type": "code",
   "execution_count": 14,
   "metadata": {},
   "outputs": [
    {
     "name": "stdout",
     "output_type": "stream",
     "text": [
      "476\n"
     ]
    }
   ],
   "source": [
    "s1 = pd.read_csv('publication/TableS1__Pri-miRNAs_selected_for_SHAPE-MaP.csv',index_col=0)\n",
    "s2 = pd.read_csv('publication/TableS2__Constructs_used_in_this_study.csv',index_col=0)\n",
    "s3 = pd.read_csv('publication/TableS3_2__SHAPE_reactivity.csv',index_col=0)\n",
    "s3.columns = range(1,126)\n",
    "s3cnts = pd.read_csv('publication/TableS3_1__Read_counts.csv',index_col=0)\n",
    "s3shan = pd.read_csv('publication/TableS3_3__Shannon_entropy.csv',index_col=0)\n",
    "s3shan.columns = range(1,126)\n",
    "s3shan = s3shan.fillna(0)\n",
    "s4str = pd.read_csv('publication/TableS4_1__SHAPE-based_pri-miRNA_structures.csv',index_col=0)\n",
    "s4str.columns = range(1,126)\n",
    "s4 = pd.read_csv('publication/TableS4_2__Structural_features_of_pri-miRNAs.csv',index_col=0)\n",
    "releffs = s4['Cleavage efficiency (MP)']\n",
    "relhoms = s4['Cleavage homogeneity (MP)']\n",
    "constseqs = s2['Construct sequence'].to_dict()\n",
    "folded = list(s4.index)\n",
    "print len(folded)"
   ]
  },
  {
   "cell_type": "code",
   "execution_count": 15,
   "metadata": {},
   "outputs": [],
   "source": [
    "def get_pre_position(mir):\n",
    "    constseq = constseqs[mir].replace('T','U')\n",
    "    preseq = s1.loc[mir, 'Precursor']\n",
    "    return constseq.find(preseq)+1, constseq.find(preseq)+len(preseq)\n",
    "\n",
    "def split_ct(ctfile):\n",
    "    infos = open(ctfile, 'rt').read()\n",
    "    length = int(infos.split('\\n')[0].strip().split()[0])\n",
    "    rna = infos.split('\\n')[0].strip().split()[-1]\n",
    "    nstrt = infos.count(rna)\n",
    "    splitinfos = []\n",
    "    for i in range(nstrt):\n",
    "        lines = infos.split('\\n')[1+(1+length)*i:(1+length)*(i+1)]\n",
    "        splitinfos.append([ tuple(map(int,l.strip().split()[4:6][::-1])) for l in lines ])\n",
    "    return splitinfos"
   ]
  },
  {
   "cell_type": "markdown",
   "metadata": {},
   "source": [
    "### 5A. Distribution of the apical loop size"
   ]
  },
  {
   "cell_type": "code",
   "execution_count": 16,
   "metadata": {},
   "outputs": [
    {
     "name": "stdout",
     "output_type": "stream",
     "text": [
      "[ 0.21008403  1.05042017  2.31092437  1.8907563   2.5210084   5.25210084\n",
      "  6.72268908  4.83193277  9.24369748 13.65546218 13.65546218  9.87394958\n",
      "  9.87394958  3.99159664  4.20168067  2.5210084   1.05042017  7.14285714]\n",
      "[0.         0.         0.         0.         0.         0.\n",
      " 0.         0.         0.         0.         0.         0.\n",
      " 0.         0.         0.         0.21008403 0.         2.10084034]\n"
     ]
    }
   ],
   "source": [
    "xs = range(3,20)\n",
    "ys = [s4[s4['Apical loop size (nt)']==x] for x in xs]+[s4[s4['Apical loop size (nt)']>=20]]\n",
    "ys1 = np.array(map(len,ys))/len(folded)*100\n",
    "\n",
    "let7s = [m for m in folded if m.startswith('hsa-let')] + ['hsa-mir-98']\n",
    "sub = s4.reindex(let7s)\n",
    "ys = [sub[sub['Apical loop size (nt)']==x] for x in xs]+[sub[sub['Apical loop size (nt)']>=20]]\n",
    "ys2 = np.array(map(len,ys))/len(folded)*100\n",
    "xs = range(3,21)\n",
    "print ys1\n",
    "print ys2"
   ]
  },
  {
   "cell_type": "code",
   "execution_count": 17,
   "metadata": {
    "scrolled": true
   },
   "outputs": [
    {
     "data": {
      "text/plain": [
       "<matplotlib.legend.Legend at 0x7f0396e58310>"
      ]
     },
     "execution_count": 17,
     "metadata": {},
     "output_type": "execute_result"
    },
    {
     "data": {
      "image/png": "[encoded data removed]",
      "text/plain": [
       "<matplotlib.figure.Figure at 0x7f0397052dd0>"
      ]
     },
     "metadata": {},
     "output_type": "display_data"
    }
   ],
   "source": [
    "fig, ax = plt.subplots(1, 1, figsize=(4.8,2.2))\n",
    "ax.bar(xs,ys1,color='#424242',width=.7,edgecolor='k',lw=1,zorder=2)\n",
    "ax.bar(xs,ys2,color='tab:red',width=.7,edgecolor='k',lw=1,zorder=2,\n",
    "       label='Let-7 family\\n(n = %s)'%len(let7s))\n",
    "ax.set_xlabel('Apical loop size (nt)')\n",
    "ax.set_ylabel('Pri-miRNA proportion (%)')\n",
    "ax.set_xticks(xs)\n",
    "ax.set_xticklabels(xs[:-1]+['   $\\geq$20'])\n",
    "ax.set_xlim(min(xs)-.7,max(xs)+.5)\n",
    "ax.yaxis.grid(ls='-',lw=.5)\n",
    "ax.legend(loc=(.7,.8),handlelength=1.2)\n",
    "#fig.savefig(resultpath+'220530_f4a__loop_tmp.pdf')"
   ]
  },
  {
   "cell_type": "markdown",
   "metadata": {},
   "source": [
    "### 5B. In vitro processing results of pri-miRNAs binned by the apical loop size"
   ]
  },
  {
   "cell_type": "code",
   "execution_count": 19,
   "metadata": {},
   "outputs": [
    {
     "name": "stdout",
     "output_type": "stream",
     "text": [
      "$\\leq$7 0.9958 0.9959\n",
      "8-9 0.3314 0.3252\n",
      "10-11 0.1760 0.2064\n",
      "12 0.0292 0.0062\n",
      "13 0.0004 0.0012\n",
      "14-15 0.0005 0.0001\n",
      "$\\geq$16 0.0006 0.0021\n"
     ]
    }
   ],
   "source": [
    "bins = [(3,7),(8,9),(10,11),(12,12),(13,13),(14,15),(16,50)]\n",
    "msl = [[m for m in folded if lb<=s4.loc[m,'Apical loop size (nt)']<=ub] for lb,ub in bins]\n",
    "pes = [[releffs[m] for m in ms] for ms in msl]\n",
    "phs = [[relhoms[m] for m in ms] for ms in msl]\n",
    "xs = np.arange(len(bins))\n",
    "ys1 = map(np.average,pes)\n",
    "es1 = map(sem,pes)\n",
    "ys2 = map(np.average,phs)\n",
    "es2 = map(sem,phs)\n",
    "labels = ['$\\leq$7','8-9','10-11','12','13','14-15','$\\geq$16']\n",
    "for x,pe,ph in zip(labels,pes,phs):\n",
    "    print '%s %.4f %.4f'%(x,mannwhitneyu(pes[0],pe)[1]*2,mannwhitneyu(phs[0],ph)[1]*2)\n",
    "labels = ['%s\\n(%s)'%(l,len(pe)) for l,pe in zip(labels,pes)]"
   ]
  },
  {
   "cell_type": "code",
   "execution_count": 20,
   "metadata": {},
   "outputs": [
    {
     "data": {
      "text/plain": [
       "Text(0,0.5,u'Cleavage homogeneity')"
      ]
     },
     "execution_count": 20,
     "metadata": {},
     "output_type": "execute_result"
    },
    {
     "data": {
      "image/png": "[encoded data removed]",
      "text/plain": [
       "<matplotlib.figure.Figure at 0x7f0396904390>"
      ]
     },
     "metadata": {},
     "output_type": "display_data"
    }
   ],
   "source": [
    "fig,ax = plt.subplots(1,1,figsize=(3.8,2))\n",
    "\n",
    "ax.errorbar(xs-.12,ys1,yerr=es1,lw=0,elinewidth=1.8,ms=3,marker='o',color='#7b3294')\n",
    "axt = ax.twinx()\n",
    "axt.errorbar(xs+.12,ys2,yerr=es2,lw=0,elinewidth=1.8,ms=3,marker='o',color='#4dac26')\n",
    "ax.set_xlim(min(xs)-.5,max(xs)+.5)\n",
    "ax.set_xticks(xs)\n",
    "ax.set_xticklabels(labels)\n",
    "ax.grid(ls='-',lw=.7,color='w')\n",
    "for a in [ax,axt]:\n",
    "    a.spines['left'].set_visible(False)\n",
    "    a.spines['bottom'].set_visible(False)\n",
    "\n",
    "axt.tick_params(left='off',right='on')\n",
    "ax.set_facecolor('#ededed')\n",
    "ax.set_xlabel('Apical loop size (nt)')\n",
    "ax.set_ylabel('Cleavage efficiency',color='#7b3294')\n",
    "axt.set_ylabel('Cleavage homogeneity',color='#4dac26')\n",
    "#fig.savefig(resultpath + '230713_f4b__loop_processing.pdf')"
   ]
  },
  {
   "cell_type": "code",
   "execution_count": 21,
   "metadata": {},
   "outputs": [
    {
     "name": "stdout",
     "output_type": "stream",
     "text": [
      "MannwhitneyuResult(statistic=20955.5, pvalue=5.404387134745742e-07)\n",
      "MannwhitneyuResult(statistic=21888.0, pvalue=1.0606960734213443e-05)\n"
     ]
    }
   ],
   "source": [
    "print mannwhitneyu(pes[0]+pes[1]+pes[2]+pes[3],pes[4]+pes[5]+pes[6])\n",
    "print mannwhitneyu(phs[0]+phs[1]+phs[2]+phs[3],phs[4]+phs[5]+phs[6])"
   ]
  },
  {
   "cell_type": "markdown",
   "metadata": {},
   "source": [
    "### S5B"
   ]
  },
  {
   "cell_type": "markdown",
   "metadata": {},
   "source": [
    "Readings  \n",
    "https://www.med.upenn.edu/ostaplab/assets/user-content/documents/simpleligandbindingequations.pdf  \n",
    "https://stackoverflow.com/questions/9990789/how-to-force-zero-interception-in-linear-regression"
   ]
  },
  {
   "cell_type": "code",
   "execution_count": 22,
   "metadata": {},
   "outputs": [],
   "source": [
    "from sklearn.linear_model import LinearRegression"
   ]
  },
  {
   "cell_type": "code",
   "execution_count": 23,
   "metadata": {},
   "outputs": [
    {
     "data": {
      "text/html": [
       "<div>\n",
       "<style scoped>\n",
       "    .dataframe tbody tr th:only-of-type {\n",
       "        vertical-align: middle;\n",
       "    }\n",
       "\n",
       "    .dataframe tbody tr th {\n",
       "        vertical-align: top;\n",
       "    }\n",
       "\n",
       "    .dataframe thead th {\n",
       "        text-align: right;\n",
       "    }\n",
       "</style>\n",
       "<table border=\"1\" class=\"dataframe\">\n",
       "  <thead>\n",
       "    <tr style=\"text-align: right;\">\n",
       "      <th></th>\n",
       "      <th>5</th>\n",
       "      <th>10</th>\n",
       "      <th>20</th>\n",
       "      <th>40</th>\n",
       "      <th>80</th>\n",
       "      <th>160</th>\n",
       "    </tr>\n",
       "  </thead>\n",
       "  <tbody>\n",
       "    <tr>\n",
       "      <th>let-7a-3</th>\n",
       "      <td>0.450463</td>\n",
       "      <td>2.054103</td>\n",
       "      <td>6.614215</td>\n",
       "      <td>19.633337</td>\n",
       "      <td>43.155917</td>\n",
       "      <td>78.808397</td>\n",
       "    </tr>\n",
       "    <tr>\n",
       "      <th>let-7a-1</th>\n",
       "      <td>2.507302</td>\n",
       "      <td>6.389326</td>\n",
       "      <td>18.948788</td>\n",
       "      <td>40.185612</td>\n",
       "      <td>73.525279</td>\n",
       "      <td>92.833935</td>\n",
       "    </tr>\n",
       "    <tr>\n",
       "      <th>let-7f-2</th>\n",
       "      <td>2.964073</td>\n",
       "      <td>8.672878</td>\n",
       "      <td>23.972588</td>\n",
       "      <td>56.398788</td>\n",
       "      <td>83.116107</td>\n",
       "      <td>96.443568</td>\n",
       "    </tr>\n",
       "    <tr>\n",
       "      <th>let-7c</th>\n",
       "      <td>8.444568</td>\n",
       "      <td>16.665235</td>\n",
       "      <td>41.099078</td>\n",
       "      <td>75.580445</td>\n",
       "      <td>94.077098</td>\n",
       "      <td>98.357979</td>\n",
       "    </tr>\n",
       "    <tr>\n",
       "      <th>let-7e</th>\n",
       "      <td>12.098207</td>\n",
       "      <td>26.484450</td>\n",
       "      <td>56.855483</td>\n",
       "      <td>85.171350</td>\n",
       "      <td>92.478626</td>\n",
       "      <td>94.503620</td>\n",
       "    </tr>\n",
       "    <tr>\n",
       "      <th>let-7a-2</th>\n",
       "      <td>14.610069</td>\n",
       "      <td>34.476807</td>\n",
       "      <td>72.840198</td>\n",
       "      <td>91.793545</td>\n",
       "      <td>97.502426</td>\n",
       "      <td>98.429953</td>\n",
       "    </tr>\n",
       "  </tbody>\n",
       "</table>\n",
       "</div>"
      ],
      "text/plain": [
       "                  5         10         20         40         80        160\n",
       "let-7a-3   0.450463   2.054103   6.614215  19.633337  43.155917  78.808397\n",
       "let-7a-1   2.507302   6.389326  18.948788  40.185612  73.525279  92.833935\n",
       "let-7f-2   2.964073   8.672878  23.972588  56.398788  83.116107  96.443568\n",
       "let-7c     8.444568  16.665235  41.099078  75.580445  94.077098  98.357979\n",
       "let-7e    12.098207  26.484450  56.855483  85.171350  92.478626  94.503620\n",
       "let-7a-2  14.610069  34.476807  72.840198  91.793545  97.502426  98.429953"
      ]
     },
     "execution_count": 23,
     "metadata": {},
     "output_type": "execute_result"
    }
   ],
   "source": [
    "tbl = pd.read_table('publication/LIN28_EMSA/bound_frac.tsv',index_col=0).astype(float)\n",
    "tbl"
   ]
  },
  {
   "cell_type": "code",
   "execution_count": 24,
   "metadata": {},
   "outputs": [
    {
     "name": "stdout",
     "output_type": "stream",
     "text": [
      "let-7a-3 420.01515817274145\n",
      "let-7a-1 129.2142537453002\n",
      "let-7f-2 92.61706265410429\n",
      "let-7c 43.59337785187717\n",
      "let-7e 24.117681599507417\n",
      "let-7a-2 15.866624459565221\n"
     ]
    }
   ],
   "source": [
    "xs = 1/np.array([5,10,20,40,80,160])\n",
    "xs2 = np.array([[x] for x in xs])\n",
    "kds = {}\n",
    "for pri in tbl.index:\n",
    "    ys = 100/(tbl.loc[pri].values)-1\n",
    "    reg = LinearRegression(fit_intercept=False).fit(xs2[1:],ys[1:])\n",
    "    print pri, reg.coef_[0]\n",
    "    kds[pri] = reg.coef_[0]"
   ]
  },
  {
   "cell_type": "code",
   "execution_count": 25,
   "metadata": {},
   "outputs": [
    {
     "data": {
      "text/plain": [
       "<matplotlib.legend.Legend at 0x7f0391edc6d0>"
      ]
     },
     "execution_count": 25,
     "metadata": {},
     "output_type": "execute_result"
    },
    {
     "data": {
      "image/png": "[encoded data removed]",
      "text/plain": [
       "<matplotlib.figure.Figure at 0x7f0396fe0210>"
      ]
     },
     "metadata": {},
     "output_type": "display_data"
    }
   ],
   "source": [
    "fig, ax = plt.subplots(1, 1, figsize=(3,3))\n",
    "for pri in sorted(tbl.index):\n",
    "    ys = 100/(tbl.loc[pri].values)-1\n",
    "    ax.scatter(xs[1:],ys[1:],s=10,zorder=3)\n",
    "    ax.plot(xs[1:],kds[pri]*xs[1:],label=pri)\n",
    "ax.set_xlim(0,.11)\n",
    "ax.set_xlabel('1 / [LIN28A] (nM-1)')\n",
    "ax.set_ylabel('[Unbound] / [Bound]')\n",
    "ax.legend(loc=(1.02,.5),handlelength=1.2)\n",
    "#fig.savefig('kd calculation.pdf')"
   ]
  },
  {
   "cell_type": "code",
   "execution_count": 28,
   "metadata": {},
   "outputs": [
    {
     "name": "stdout",
     "output_type": "stream",
     "text": [
      "env: DATAPATH=/casa/bsc/bin/RNAstructure/data_tables\n"
     ]
    }
   ],
   "source": [
    "efn2 = '/casa/bsc/bin/RNAstructure/exe/efn2'\n",
    "datapath = '/casa/bsc/bin/RNAstructure/data_tables'\n",
    "%env DATAPATH $datapath"
   ]
  },
  {
   "cell_type": "code",
   "execution_count": 29,
   "metadata": {},
   "outputs": [],
   "source": [
    "pris = ['hsa-%s'%pri for pri in tbl.index]\n",
    "for m in pris:\n",
    "    rts = s3.loc[m].tolist()\n",
    "    with open('publication/LIN28_EMSA/%s.shape'%m,'wt') as out:\n",
    "        out.write('\\n'.join(['%s\\t%s'%(i+1,rt) for i,rt in enumerate(rts)]))\n",
    "    ctfile = 'publication/structures/SHAPE/%s.ct'%m\n",
    "    dgfile = 'publication/LIN28_EMSA/%s.delg'%pri\n",
    "    #res = !$efn2 $ctfile $dgfile -sh $rtfile -w"
   ]
  },
  {
   "cell_type": "code",
   "execution_count": 30,
   "metadata": {},
   "outputs": [],
   "source": [
    "delgs = {'let-7f-2':.1,\n",
    "         'let-7a-3':-7.2,\n",
    "         'let-7a-1':3.6,\n",
    "         'let-7a-2':6.4,\n",
    "         'let-7c':6.4,\n",
    "         'let-7e':5.9}"
   ]
  },
  {
   "cell_type": "code",
   "execution_count": 36,
   "metadata": {},
   "outputs": [
    {
     "data": {
      "text/plain": [
       "[-7.2, 3.6, 0.1, 6.4, 5.9, 6.4]"
      ]
     },
     "execution_count": 36,
     "metadata": {},
     "output_type": "execute_result"
    }
   ],
   "source": [
    "xs"
   ]
  },
  {
   "cell_type": "code",
   "execution_count": 37,
   "metadata": {},
   "outputs": [
    {
     "data": {
      "text/plain": [
       "[420.01515817274145,\n",
       " 129.2142537453002,\n",
       " 92.61706265410429,\n",
       " 43.59337785187717,\n",
       " 24.117681599507417,\n",
       " 15.866624459565221]"
      ]
     },
     "execution_count": 37,
     "metadata": {},
     "output_type": "execute_result"
    }
   ],
   "source": [
    "ys"
   ]
  },
  {
   "cell_type": "code",
   "execution_count": 39,
   "metadata": {},
   "outputs": [],
   "source": [
    "xs = [delgs[m] for m in tbl.index]\n",
    "xs2 = [[x] for x in xs]\n",
    "ys = [kds[m] for m in tbl.index]\n",
    "reg = LinearRegression().fit(xs2,ys)\n",
    "r, p = pearsonr(xs,ys)\n",
    "colors = ['#F58345']*3 + ['#2F8475']*3"
   ]
  },
  {
   "cell_type": "code",
   "execution_count": 41,
   "metadata": {},
   "outputs": [
    {
     "data": {
      "text/plain": [
       "Text(2,380,u'r = -0.95\\np = 0.004')"
      ]
     },
     "execution_count": 41,
     "metadata": {},
     "output_type": "execute_result"
    },
    {
     "data": {
      "image/png": "[encoded data removed]",
      "text/plain": [
       "<matplotlib.figure.Figure at 0x7f03f6f39b90>"
      ]
     },
     "metadata": {},
     "output_type": "display_data"
    }
   ],
   "source": [
    "fig, ax = plt.subplots(1, 1, figsize=(2.5,2.5))\n",
    "ax.scatter(xs,ys,s=20,zorder=3,color=colors)\n",
    "ax.plot(xs,np.array(xs)*reg.coef_[0]+reg.intercept_,ls='--',color='#242424')\n",
    "\n",
    "ax.set_xlabel('Free energy of the loop (kcal / mol)')\n",
    "ax.set_ylabel('Kd (nM)')\n",
    "ax.text(2,380,'r = %.2f\\np = %.3f'%(r,p),fontsize=11)\n",
    "#fig.savefig('delta G corr.pdf')"
   ]
  },
  {
   "cell_type": "code",
   "execution_count": null,
   "metadata": {},
   "outputs": [],
   "source": []
  }
 ],
 "metadata": {
  "kernelspec": {
   "display_name": "Python 2",
   "language": "python",
   "name": "python2"
  },
  "language_info": {
   "codemirror_mode": {
    "name": "ipython",
    "version": 2
   },
   "file_extension": ".py",
   "mimetype": "text/x-python",
   "name": "python",
   "nbconvert_exporter": "python",
   "pygments_lexer": "ipython2",
   "version": "2.7.18"
  }
 },
 "nbformat": 4,
 "nbformat_minor": 2
}

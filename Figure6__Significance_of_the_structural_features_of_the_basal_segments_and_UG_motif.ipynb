{
 "cells": [
  {
   "attachments": {},
   "cell_type": "markdown",
   "metadata": {},
   "source": [
    "## Figure 6. Significance of the structural features of the basal segments and UG motif.\n",
    "- 6A. Distribution of the basal segment lengths.\n",
    "- 6B. In vitro processing results of pri-miRNAs binned by the basal segment length.\n",
    "- 6D. In vitro processing results of pri-miRNAs with the UG motif in different structures.\n",
    "- 6E. In vitro processing results of artificial pri-miRNAs with the UG motif in different structures.\n",
    "- S5B. Positional frequency of the UG with different structures. "
   ]
  },
  {
   "cell_type": "code",
   "execution_count": 1,
   "metadata": {},
   "outputs": [
    {
     "name": "stdout",
     "output_type": "stream",
     "text": [
      "Last revised by S. Chan Baek at 2024-01-26.\n"
     ]
    }
   ],
   "source": [
    "import time\n",
    "today = time.strftime('%Y-%m-%d')\n",
    "name = 'S. Chan Baek'\n",
    "print 'Last revised by %s at %s.' % (name, today)"
   ]
  },
  {
   "cell_type": "code",
   "execution_count": 2,
   "metadata": {},
   "outputs": [
    {
     "name": "stdout",
     "output_type": "stream",
     "text": [
      "/casa/bsc/projects/2_Structure-of-pri/2007_paper_prep/240126/\n",
      "/casa/bsc/projects/2_Structure-of-pri/2007_paper_prep\n"
     ]
    }
   ],
   "source": [
    "import os\n",
    "HOME = '/casa/bsc/projects/2_Structure-of-pri/2007_paper_prep'\n",
    "SAVEPATH = '%s/%s/'%(HOME,time.strftime('%y%m%d'))\n",
    "#if not os.path.exists(SAVEPATH):\n",
    "#    os.makedirs(SAVEPATH)\n",
    "print SAVEPATH\n",
    "%cd $HOME"
   ]
  },
  {
   "cell_type": "code",
   "execution_count": 3,
   "metadata": {},
   "outputs": [],
   "source": [
    "from __future__ import division\n",
    "from collections import Counter, defaultdict\n",
    "from matplotlib import pyplot as plt\n",
    "from matplotlib import gridspec, lines, colors\n",
    "from scipy.stats import pearsonr, mannwhitneyu, sem\n",
    "import pandas as pd\n",
    "import numpy as np\n",
    "import re\n",
    "%matplotlib inline"
   ]
  },
  {
   "cell_type": "code",
   "execution_count": 4,
   "metadata": {},
   "outputs": [
    {
     "name": "stdout",
     "output_type": "stream",
     "text": [
      "476\n"
     ]
    }
   ],
   "source": [
    "s1 = pd.read_csv('publication/TableS1__Pri-miRNAs_selected_for_SHAPE-MaP.csv',index_col=0)\n",
    "s2 = pd.read_csv('publication/TableS2__Constructs_used_in_this_study.csv',index_col=0)\n",
    "s3 = pd.read_csv('publication/TableS3_2__SHAPE_reactivity.csv',index_col=0)\n",
    "s3.columns = range(1,126)\n",
    "s3cnts = pd.read_csv('publication/TableS3_1__Read_counts.csv',index_col=0)\n",
    "s3shan = pd.read_csv('publication/TableS3_3__Shannon_entropy.csv',index_col=0)\n",
    "s3shan.columns = range(1,126)\n",
    "s3shan = s3shan.fillna(0)\n",
    "s4str = pd.read_csv('publication/TableS4_1__SHAPE-based_pri-miRNA_structures.csv',index_col=0)\n",
    "s4str.columns = range(1,126)\n",
    "s4 = pd.read_csv('publication/TableS4_2__Structural_features_of_pri-miRNAs.csv',index_col=0)\n",
    "releffs = s4['Cleavage efficiency (MP)']\n",
    "relhoms = s4['Cleavage homogeneity (MP)']\n",
    "constseqs = s2['Construct sequence'].to_dict()\n",
    "folded = list(s4.index)\n",
    "print len(folded)"
   ]
  },
  {
   "cell_type": "code",
   "execution_count": 5,
   "metadata": {},
   "outputs": [],
   "source": [
    "def get_pre_position(mir):\n",
    "    constseq = constseqs[mir].replace('T','U')\n",
    "    preseq = s1.loc[mir, 'Precursor']\n",
    "    return constseq.find(preseq)+1, constseq.find(preseq)+len(preseq)\n",
    "\n",
    "def split_ct(ctfile):\n",
    "    infos = open(ctfile, 'rt').read()\n",
    "    length = int(infos.split('\\n')[0].strip().split()[0])\n",
    "    rna = infos.split('\\n')[0].strip().split()[-1]\n",
    "    nstrt = infos.count(rna)\n",
    "    splitinfos = []\n",
    "    for i in range(nstrt):\n",
    "        lines = infos.split('\\n')[1+(1+length)*i:(1+length)*(i+1)]\n",
    "        splitinfos.append([ tuple(map(int,l.strip().split()[4:6][::-1])) for l in lines ])\n",
    "    return splitinfos"
   ]
  },
  {
   "cell_type": "markdown",
   "metadata": {},
   "source": [
    "### 6A. Distribution of the basal segment lengths."
   ]
  },
  {
   "cell_type": "code",
   "execution_count": 8,
   "metadata": {},
   "outputs": [],
   "source": [
    "from matplotlib.colors import LinearSegmentedColormap, ColorConverter\n",
    "to_rgb = ColorConverter().to_rgb\n",
    "def custom_cmap(colors, cmap_name=\"newmap\", nspace=3, linear=True):\n",
    "    if (type(colors) is str) or (len(colors) is 1):\n",
    "        colors = [colors, \"white\"]\n",
    "    ncolors = len(colors)\n",
    "    sidx = map(int, map(np.around, np.linspace(0, nspace-1, num=ncolors)))\n",
    "    intervals = np.linspace(0, 1.0, num=nspace)\n",
    "    rgb = [\"red\", \"green\", \"blue\"]\n",
    "    cdict = {e:None for e in rgb}\n",
    "    for element, components in zip(rgb, zip(*[to_rgb(c) for c in colors])):\n",
    "        intensities = [components[0]]\n",
    "        for i, value in enumerate(components):\n",
    "            if i + 1 == len(components): break\n",
    "            v1, v2 = components[i:i+2]\n",
    "            intensities += list(np.linspace(v1, v2, num=sidx[i+1] - sidx[i] + 1))[1:]\n",
    "        cdict[element] =  zip(intervals, intensities, intensities)\n",
    "    return LinearSegmentedColormap(cmap_name, cdict)"
   ]
  },
  {
   "cell_type": "code",
   "execution_count": 9,
   "metadata": {},
   "outputs": [],
   "source": [
    "xs = np.arange(8)\n",
    "data = pd.DataFrame(index=xs,columns=xs).fillna(0)\n",
    "for m in folded:\n",
    "    data.loc[min((s4.loc[m,\"5' basal segment length (nt)\"]+1)//3,max(xs)),\n",
    "             min((s4.loc[m,\"3' basal segment length (nt)\"]+1)//3,max(xs))]+=1\n",
    "    \n",
    "c='#424242'\n",
    "red = custom_cmap(['#f0f0f0','#de2d26'])\n",
    "ys5 = data.T.sum()/len(folded)*100\n",
    "ys3 = data.sum()/len(folded)*100\n",
    "labels =  ['0-1','2-4','5-7','8-10','11-13','14-16','17-19','$\\geq$20']"
   ]
  },
  {
   "cell_type": "code",
   "execution_count": 10,
   "metadata": {},
   "outputs": [
    {
     "data": {
      "image/png": "[encoded data removed]",
      "text/plain": [
       "<matplotlib.figure.Figure at 0x7fa60835a890>"
      ]
     },
     "metadata": {},
     "output_type": "display_data"
    }
   ],
   "source": [
    "fig = plt.figure(figsize=(2.6,2.6))\n",
    "gs = gridspec.GridSpec(2, 2, width_ratios=(3,1), height_ratios=(1,3))\n",
    "ax1 = fig.add_subplot(gs[0]); ax2 = fig.add_subplot(gs[2]); ax3 = fig.add_subplot(gs[3])\n",
    "fig.subplots_adjust(wspace=.08, hspace=.08)\n",
    "\n",
    "ax1.bar(xs,ys5,color=c,lw=1,edgecolor='k',width=.7,zorder=2)\n",
    "ax3.barh(xs,ys3,color=c,lw=1,edgecolor='k',height=.7,zorder=2)\n",
    "im = ax2.pcolor(data.T/len(folded)*100,cmap=red,vmin=0,vmax=10)\n",
    "\n",
    "axcb = fig.add_axes([0.71, 0.69, 0.2, 0.04])\n",
    "cb = plt.colorbar(im, cax=axcb, orientation='horizontal')\n",
    "axcb.xaxis.set_ticks_position('top')\n",
    "cb.set_ticks([0,5,10]); cb.set_ticklabels([0,5,10])\n",
    "axcb.tick_params(direction='in',length=2,labelsize=9.4)\n",
    "cb.outline.set_linewidth(0); cb.solids.set_rasterized(True)\n",
    "axcb.text(-.08,3.5,'Pri-miRNAs',fontsize=9.4)\n",
    "\n",
    "ax2.set_xticks(np.arange(len(labels))+.5); ax2.set_yticks(np.arange(len(labels))+.5)\n",
    "ax2.set_xticklabels(labels,rotation=90); ax2.set_yticklabels(labels)\n",
    "ax1.set_xticks([]); ax3.set_yticks([])\n",
    "\n",
    "for ax in [ax1,ax3]:\n",
    "    ax.set_facecolor('#f0f0f0')\n",
    "    ax.spines['left'].set_visible(False)\n",
    "    ax.spines['bottom'].set_visible(False)\n",
    "    ax.tick_params(left='off',bottom='off',labelsize=9.4)\n",
    "\n",
    "ax1.yaxis.grid(ls='-',lw=1,color='w'); ax3.xaxis.grid(ls='-',lw=1,color='w')\n",
    "ax1.set_xlim(-.6,len(labels)-.4); ax3.set_ylim(-.6,len(labels)-.4)\n",
    "ax1.set_yticks([0,15,30]); ax3.set_xticks([0,15,30])\n",
    "ax1.text(-3.5,30,'(%)',va='center',fontsize=9.4)\n",
    "ax3.text(30,-2.7,'(%)',ha='center',fontsize=9.4)\n",
    "\n",
    "ax2.set_xlabel('5 basal segment (nt)')\n",
    "ax2.set_ylabel('3 basal segment (nt)')\n",
    "ax2.spines['left'].set_visible(False); ax2.spines['bottom'].set_visible(False)\n",
    "ax2.tick_params(left='off',bottom='off',labelsize=9.4)\n",
    "#fig.savefig(resultpath + '220530_f5a__basal_segment.pdf')"
   ]
  },
  {
   "cell_type": "markdown",
   "metadata": {},
   "source": [
    "### 6B. In vitro processing results of pri-miRNAs binned by the basal segment length."
   ]
  },
  {
   "cell_type": "code",
   "execution_count": 17,
   "metadata": {},
   "outputs": [
    {
     "name": "stdout",
     "output_type": "stream",
     "text": [
      "0.012044008013955358\n",
      "0.007701927309342966\n",
      "0.008714444116206307\n",
      "0.018152800804290117\n"
     ]
    }
   ],
   "source": [
    "bins = [(0,1),(2,4),(5,7),(8,10),(11,19),(20,50)]\n",
    "msl = [[m for m in folded if lb<=s4.loc[m,\"5' basal segment length (nt)\"]<=ub] for lb,ub in bins]\n",
    "pes = [[releffs[m] for m in ms] for ms in msl]\n",
    "phs = [[relhoms[m] for m in ms] for ms in msl]\n",
    "xs1 = np.arange(len(bins))\n",
    "ys11 = map(np.average,pes)\n",
    "es11 = map(sem,pes)\n",
    "ys12 = map(np.average,phs)\n",
    "es12 = map(sem,phs)\n",
    "labels1 = ['0-1','2-4','5-7','8-10','11-19',' >=20']\n",
    "labels1 = ['%s\\n(%s)'%(l,len(pe)) for l,pe in zip(labels1,pes)]\n",
    "print mannwhitneyu(pes[0]+pes[1]+pes[2]+pes[3]+pes[4],pes[5])[1]*2\n",
    "print mannwhitneyu(phs[0]+phs[1]+phs[2]+phs[3]+phs[4],phs[5])[1]*2\n",
    "\n",
    "bins = [(0,1),(2,4),(5,7),(8,10),(11,19),(20,50)]\n",
    "msl = [[m for m in folded if lb<=s4.loc[m,\"3' basal segment length (nt)\"]<=ub] for lb,ub in bins]\n",
    "pes = [[releffs[m] for m in ms] for ms in msl]\n",
    "phs = [[relhoms[m] for m in ms] for ms in msl]\n",
    "xs2 = np.arange(len(bins))\n",
    "ys21 = map(np.average,pes)\n",
    "es21 = map(sem,pes)\n",
    "ys22 = map(np.average,phs)\n",
    "es22 = map(sem,phs)\n",
    "#labels2 = ['0-2','3-5','6-8','9-11',' $\\geq$12']\n",
    "labels2 = ['0-1','2-4','5-7','8-10','11-19',' >=20']\n",
    "labels2 = ['%s\\n(%s)'%(l,len(pe)) for l,pe in zip(labels2,pes)]\n",
    "print mannwhitneyu(pes[0]+pes[1],pes[2]+pes[3]+pes[4]+pes[5])[1]*2\n",
    "print mannwhitneyu(phs[0]+phs[1],phs[2]+phs[3]+phs[4]+phs[5])[1]*2"
   ]
  },
  {
   "cell_type": "code",
   "execution_count": 18,
   "metadata": {},
   "outputs": [],
   "source": [
    "xsl = [xs1,xs2]\n",
    "ysl1 = [ys11,ys21]\n",
    "ysl2 = [ys12,ys22]\n",
    "esl1 = [es11,es21]\n",
    "esl2 = [es12,es22]\n",
    "labell = [labels1,labels2]\n",
    "xlabels = ['5 basal segment (nt)','3 basal segment (nt)']"
   ]
  },
  {
   "cell_type": "code",
   "execution_count": 24,
   "metadata": {},
   "outputs": [
    {
     "data": {
      "image/png": "[encoded data removed]",
      "text/plain": [
       "<matplotlib.figure.Figure at 0x7fa596bdeb90>"
      ]
     },
     "metadata": {},
     "output_type": "display_data"
    }
   ],
   "source": [
    "fig = plt.figure(figsize=(5.8,2.4))\n",
    "gs = gridspec.GridSpec(1, 2, width_ratios=(1,1))\n",
    "axes = [fig.add_subplot(gs[i]) for i in range(2)]\n",
    "\n",
    "for ax,xs,ys1,ys2,es1,es2,labels,xlab in zip(axes,xsl,ysl1,ysl2,esl1,esl2,labell,xlabels):\n",
    "    ax.errorbar(xs-.12,ys1,yerr=es1,lw=0,elinewidth=1.8,ms=3,marker='o',color='#7b3294')\n",
    "    axt = ax.twinx()\n",
    "    axt.errorbar(xs+.12,ys2,yerr=es2,lw=0,elinewidth=1.8,ms=3,marker='o',color='#4dac26')\n",
    "    ax.set_xlim(min(xs)-.5,max(xs)+.5); axt.set_xlim(min(xs)-.5,max(xs)+.5)\n",
    "    ax.set_ylim(.38,.97)\n",
    "    axt.set_ylim(.36,.77)\n",
    "    ax.set_xticks(xs)\n",
    "    ax.set_xticklabels(labels)\n",
    "    ax.set_yticklabels([]); axt.set_yticklabels([])\n",
    "    ax.set_xlabel(xlab)\n",
    "    ax.tick_params(left='off')\n",
    "    axt.tick_params(left='off',right='off')\n",
    "    ax.spines['left'].set_visible(False); ax.spines['bottom'].set_visible(False)\n",
    "    axt.spines['left'].set_visible(False); axt.spines['bottom'].set_visible(False)\n",
    "    ax.set_facecolor('#ededed')\n",
    "    ax.grid(ls='-',lw=.7,color='w')\n",
    "\n",
    "\n",
    "axes[0].set_yticks([.5,.7,.9]); axes[0].set_yticklabels([.5,.7,.9])\n",
    "axt.set_yticks([.4,.5,.6,.7]); axt.set_yticklabels([.4,.5,.6,.7])\n",
    "axes[0].tick_params(left='on'); axt.tick_params(right='on')\n",
    "axes[0].set_ylabel('Cleavage efficiency',color='#7b3294')\n",
    "axt.set_ylabel('Cleavage homogeneity',color='#4dac26')\n",
    "fig.subplots_adjust(wspace=.05)\n",
    "fig.savefig('f5b__basal_processing.pdf')"
   ]
  },
  {
   "cell_type": "markdown",
   "metadata": {},
   "source": [
    "### S4. Positional frequency of the UG with different structures."
   ]
  },
  {
   "cell_type": "code",
   "execution_count": 27,
   "metadata": {},
   "outputs": [],
   "source": [
    "def get_sym_str(ctinfo, ps, pe):\n",
    "    stinfo = [(x,y) for x,y in ctinfo if y>0]\n",
    "    ls = [ (x,y) for i,(x,y) in enumerate(stinfo[:-1]) \n",
    "          if stinfo[i+1]==(y,x) and x>ps and y<pe ]\n",
    "    loopst, loopen = min(ls, key=lambda (x,y):abs(120-x-y))\n",
    "    stems = [ (i,p) for i,p in ctinfo if i<=loopst and loopen<=p ]\n",
    "    if len(stems)<2:\n",
    "        return 'F'*125\n",
    "    stemst, stemen = stems[0]\n",
    "    stems = stems + [ (p,i) for i,p in stems[::-1] ]\n",
    "    symst = ''\n",
    "    for (l5,l3),(u5,u3) in zip(stems[:-1],stems[1:]):\n",
    "        if l5==loopst: symst += 'M'+'L'*(loopen-loopst-1)\n",
    "        elif u5-l5==1: symst += 'M'\n",
    "        else:\n",
    "            symmet = min(u5-l5-1, l3-u3-1)\n",
    "            symst += 'M' + symmet*'S' + (u5-l5-1-symmet)*'A'# + symmet*'S'\n",
    "    symst = 'F'*(stemst-1) + symst + 'M' + 'F'*(125-stemen)\n",
    "    return symst"
   ]
  },
  {
   "cell_type": "code",
   "execution_count": 38,
   "metadata": {},
   "outputs": [
    {
     "name": "stdout",
     "output_type": "stream",
     "text": [
      "115\n"
     ]
    }
   ],
   "source": [
    "ugrange = [-15,-14,-13]\n",
    "ugtbl = pd.DataFrame(columns=ugrange,index=['DD','DS','SD','SS']).fillna(0)\n",
    "ugmirs = {}\n",
    "for m in folded:\n",
    "    ctinfo = list(s4str.loc[m].items())\n",
    "    ps, pe = get_pre_position(m)\n",
    "    symstr = get_sym_str(ctinfo, ps, pe)\n",
    "    bjs, bje = map(int,s4.loc[m,'Basal junction position'].split(', '))\n",
    "    lstem = s4.loc[m,'Lower stem length (bp)']\n",
    "    subseq = constseqs[m].replace('T','U')[:ps]\n",
    "    for r in re.finditer('UG',subseq):\n",
    "        s,e = r.span()\n",
    "        ugstr = symstr[s:e].replace('M','D')\n",
    "        ugstr = re.sub('[ASF]','S',ugstr)\n",
    "        dist2bj = s+1-bjs\n",
    "        pos = -lstem+dist2bj\n",
    "        if pos in ugrange:\n",
    "            ugtbl.loc[ugstr,pos]+=1\n",
    "        if pos==-14:\n",
    "            ugmirs[m] = ugstr\n",
    "ugtbl = ugtbl/len(folded)*100\n",
    "print len(ugmirs)"
   ]
  },
  {
   "cell_type": "code",
   "execution_count": 44,
   "metadata": {},
   "outputs": [
    {
     "data": {
      "image/png": "[encoded data removed]",
      "text/plain": [
       "<matplotlib.figure.Figure at 0x7fa596a60d10>"
      ]
     },
     "metadata": {},
     "output_type": "display_data"
    }
   ],
   "source": [
    "xs = [-15,-14,-13]\n",
    "ys1 = ugtbl.loc['DD'].tolist()\n",
    "ys2 = ugtbl.loc['SD'].tolist()\n",
    "ys3 = ugtbl.loc['SS'].tolist()\n",
    "\n",
    "fig, ax = plt.subplots(1, 1, figsize=(2.5,1.8))\n",
    "ax.errorbar(xs,ys1,ms=5,marker='o',label='UGdd',color='tab:orange')\n",
    "ax.errorbar(xs,ys2,ms=5,marker='o',label='UGsd',color='tab:red')\n",
    "ax.errorbar(xs,ys3,ms=5,marker='o',label='UGss',color='tab:blue')\n",
    "ax.set_ylabel('Dimer frequency (%)')\n",
    "ax.set_xlabel('5p strand position')\n",
    "ax.legend(loc=(.95,.55))\n",
    "fig.savefig('230717_ug_freq.pdf')"
   ]
  },
  {
   "cell_type": "markdown",
   "metadata": {},
   "source": [
    "### 5D. In vitro processing results of pri-miRNAs with the UG motif in different structures."
   ]
  },
  {
   "cell_type": "code",
   "execution_count": 45,
   "metadata": {},
   "outputs": [
    {
     "name": "stdout",
     "output_type": "stream",
     "text": [
      "UGdd 0.2031 0.0300\n",
      "UGsd 0.0014 0.0037\n",
      "UGss 1.0000 0.8053\n",
      "No UG 0.9999 0.9999\n"
     ]
    }
   ],
   "source": [
    "msl = [[m for m in ugmirs if ugmirs[m]=='DD'],\n",
    "       [m for m in ugmirs if ugmirs[m]=='SD'],\n",
    "       [m for m in ugmirs if ugmirs[m]=='SS'],\n",
    "       [m for m in folded if m not in ugmirs]]\n",
    "\n",
    "pes = [[releffs[m] for m in ms] for ms in msl]\n",
    "phs = [[relhoms[m] for m in ms] for ms in msl]\n",
    "xs = np.arange(len(msl))\n",
    "ys1 = map(np.average,pes)\n",
    "es1 = map(sem,pes)\n",
    "ys2 = map(np.average,phs)\n",
    "es2 = map(sem,phs)\n",
    "labels = ['UGdd','UGsd','UGss','No UG']\n",
    "for x,pe,ph in zip(labels,pes,phs):\n",
    "    print '%s %.4f %.4f'%(x,mannwhitneyu(pes[3],pe)[1]*2,mannwhitneyu(phs[3],ph)[1]*2)\n",
    "labels = ['%s\\n(%s)'%(l,len(pe)) for l,pe in zip(labels,pes)]"
   ]
  },
  {
   "cell_type": "code",
   "execution_count": 46,
   "metadata": {},
   "outputs": [
    {
     "data": {
      "image/png": "[encoded data removed]",
      "text/plain": [
       "<matplotlib.figure.Figure at 0x7fa596fddd10>"
      ]
     },
     "metadata": {},
     "output_type": "display_data"
    }
   ],
   "source": [
    "fig,ax = plt.subplots(1,1,figsize=(3,2.3))\n",
    "\n",
    "ax.errorbar(xs-.08,ys1,yerr=es1,lw=0,elinewidth=1.8,ms=3,marker='o',color='#7b3294')\n",
    "axt = ax.twinx()\n",
    "axt.errorbar(xs+.08,ys2,yerr=es2,lw=0,elinewidth=1.8,ms=3,marker='o',color='#4dac26')\n",
    "ax.set_xlim(min(xs)-.5,max(xs)+.5)\n",
    "ax.set_xticks(xs)\n",
    "ax.set_xticklabels(labels)\n",
    "ax.grid(ls='-',lw=.5,color='w')\n",
    "for a in [ax,axt]:\n",
    "    a.spines['left'].set_visible(False)\n",
    "    a.spines['bottom'].set_visible(False)\n",
    "\n",
    "ax.tick_params(left='on')\n",
    "axt.tick_params(left='off',right='on')\n",
    "ax.set_facecolor('#ededed')\n",
    "ax.set_ylabel('Cleavage efficiency',color='#7b3294')\n",
    "axt.set_ylabel('Cleavage homogeneity',color='#4dac26')\n",
    "fig.savefig('221021_f5d__ug_processing.pdf')"
   ]
  },
  {
   "cell_type": "markdown",
   "metadata": {},
   "source": [
    "### 5E. In vitro processing results of artificial pri-miRNAs with the UG motif in different structures."
   ]
  },
  {
   "cell_type": "code",
   "execution_count": 48,
   "metadata": {},
   "outputs": [
    {
     "data": {
      "text/html": [
       "<div>\n",
       "<style scoped>\n",
       "    .dataframe tbody tr th:only-of-type {\n",
       "        vertical-align: middle;\n",
       "    }\n",
       "\n",
       "    .dataframe tbody tr th {\n",
       "        vertical-align: top;\n",
       "    }\n",
       "\n",
       "    .dataframe thead th {\n",
       "        text-align: right;\n",
       "    }\n",
       "</style>\n",
       "<table border=\"1\" class=\"dataframe\">\n",
       "  <thead>\n",
       "    <tr style=\"text-align: right;\">\n",
       "      <th></th>\n",
       "      <th>template</th>\n",
       "      <th>ghg</th>\n",
       "      <th>bj5</th>\n",
       "      <th>bj3</th>\n",
       "      <th>aj5</th>\n",
       "      <th>aj3</th>\n",
       "      <th>bj str</th>\n",
       "      <th>aj str</th>\n",
       "      <th>UG1</th>\n",
       "      <th>UG2</th>\n",
       "      <th>UG3</th>\n",
       "      <th>UGU1</th>\n",
       "      <th>UGU2</th>\n",
       "      <th>UGU3</th>\n",
       "      <th>UG</th>\n",
       "      <th>UGU</th>\n",
       "      <th>input</th>\n",
       "      <th>cleaved</th>\n",
       "      <th>eff</th>\n",
       "    </tr>\n",
       "  </thead>\n",
       "  <tbody>\n",
       "    <tr>\n",
       "      <th>AAACTATGATGAAGGGTGTGTCGGATTATGC</th>\n",
       "      <td>crick</td>\n",
       "      <td>TTT</td>\n",
       "      <td>GG</td>\n",
       "      <td>CC</td>\n",
       "      <td>TTT</td>\n",
       "      <td>ACA</td>\n",
       "      <td>DD</td>\n",
       "      <td>DSS</td>\n",
       "      <td>1</td>\n",
       "      <td>0</td>\n",
       "      <td>0</td>\n",
       "      <td>0</td>\n",
       "      <td>0</td>\n",
       "      <td>0</td>\n",
       "      <td>1</td>\n",
       "      <td>0</td>\n",
       "      <td>1425</td>\n",
       "      <td>618</td>\n",
       "      <td>0.433684</td>\n",
       "    </tr>\n",
       "  </tbody>\n",
       "</table>\n",
       "</div>"
      ],
      "text/plain": [
       "                                template  ghg bj5 bj3  aj5  aj3 bj str aj str  \\\n",
       "AAACTATGATGAAGGGTGTGTCGGATTATGC    crick  TTT  GG  CC  TTT  ACA     DD    DSS   \n",
       "\n",
       "                                 UG1  UG2  UG3  UGU1  UGU2  UGU3  UG  UGU  \\\n",
       "AAACTATGATGAAGGGTGTGTCGGATTATGC    1    0    0     0     0     0   1    0   \n",
       "\n",
       "                                 input  cleaved       eff  \n",
       "AAACTATGATGAAGGGTGTGTCGGATTATGC   1425      618  0.433684  "
      ]
     },
     "execution_count": 48,
     "metadata": {},
     "output_type": "execute_result"
    }
   ],
   "source": [
    "dicttbl = pd.read_csv('publication/Kwon2019/var_processing.csv',index_col=0)\n",
    "dicttbl.head(1)"
   ]
  },
  {
   "cell_type": "code",
   "execution_count": 50,
   "metadata": {},
   "outputs": [],
   "source": [
    "dictnorm = pd.DataFrame()\n",
    "for templ,grp in dicttbl.groupby(['template']):\n",
    "    tmp = grp.copy()\n",
    "    tmp['norm eff'] = (tmp['eff']-np.average(tmp['eff']))/np.std(tmp['eff'])\n",
    "    dictnorm = dictnorm.append(tmp)"
   ]
  },
  {
   "cell_type": "code",
   "execution_count": 51,
   "metadata": {},
   "outputs": [
    {
     "name": "stdout",
     "output_type": "stream",
     "text": [
      "666 2237\n",
      "737 4970\n",
      "769 10670\n",
      "1.5374573982987475e-34\n",
      "[0.0901337169956317, -0.4021435734626037]\n",
      "9.331372763556098e-19\n",
      "[1.0410055283533948, 0.4876195658969102]\n",
      "0.010524108364526923\n",
      "[0.0490760552385903, -0.08027866601229798]\n"
     ]
    }
   ],
   "source": [
    "ddug = dictnorm[(dictnorm['bj str']=='DD')&(dictnorm['UG2']==1)]['norm eff']\n",
    "ddct = dictnorm[(dictnorm['bj str']=='DD')&(dictnorm['UG2']==0)]['norm eff']\n",
    "print len(ddug), len(ddct)\n",
    "\n",
    "sdug = dictnorm[(dictnorm['bj str']=='SD')&(dictnorm['UG2']==1)]['norm eff']\n",
    "sdct = dictnorm[(dictnorm['bj str']=='SD')&(dictnorm['UG2']==0)]['norm eff']\n",
    "print len(sdug), len(sdct)\n",
    "\n",
    "ssug = dictnorm[(dictnorm['bj str']=='SS')&(dictnorm['UG2']==1)]['norm eff']\n",
    "ssct = dictnorm[(dictnorm['bj str']=='SS')&(dictnorm['UG2']==0)]['norm eff']\n",
    "print len(ssug), len(ssct)\n",
    "\n",
    "for ml,mlct in [(ddug,ddct),(sdug,sdct),(ssug,ssct)]:\n",
    "    print mannwhitneyu(ml,mlct)[1]\n",
    "    print map(np.average,[ml,mlct])"
   ]
  },
  {
   "cell_type": "code",
   "execution_count": 53,
   "metadata": {},
   "outputs": [
    {
     "name": "stdout",
     "output_type": "stream",
     "text": [
      "3.074914796597495e-34\n",
      "1.8662745527112196e-18\n",
      "0.021048216729053847\n"
     ]
    },
    {
     "data": {
      "image/png": "[encoded data removed]",
      "text/plain": [
       "<matplotlib.figure.Figure at 0x7fa5965cd510>"
      ]
     },
     "metadata": {},
     "output_type": "display_data"
    }
   ],
   "source": [
    "fig = plt.figure(figsize=(3.5,2))\n",
    "gs = gridspec.GridSpec(1, 3, width_ratios=(1,1,1))\n",
    "axes = [fig.add_subplot(gs[i]) for i in range(3)]\n",
    "for ax,ml,mlct in zip(axes,[ddug,sdug,ssug],[ddct,sdct,ssct]):\n",
    "    xs = np.arange(2)\n",
    "    #ys1 = map(np.average,[ml,mlct])\n",
    "    #es1 = map(sem,[ml,mlct])\n",
    "    print mannwhitneyu(ml,mlct)[1]*2\n",
    "    bp = ax.boxplot([ml,mlct],positions=xs,widths=.7,sym='',whis=1,\n",
    "              medianprops={'linewidth':0},meanprops={'color':'k','linestyle':'-'},\n",
    "              showmeans=True,meanline=True,patch_artist=True)\n",
    "    for patch in bp['boxes']:\n",
    "        patch.set_facecolor('#c2a5cf')\n",
    "    ax.set_xlim(min(xs)-.5,max(xs)+.5)\n",
    "    ax.set_ylim(-2.5,5)\n",
    "    ax.set_xticks(xs)\n",
    "    ax.set_xticklabels(['UG\\n(%s)'%len(ml),'No UG\\n(%s)'%len(mlct)])\n",
    "    ax.set_yticklabels([]); axt.set_yticklabels([])\n",
    "    ax.tick_params(left='off',labelsize=9.4)\n",
    "    ax.spines['left'].set_visible(False); ax.spines['bottom'].set_visible(False)\n",
    "    ax.set_facecolor('#ededed')\n",
    "    ax.grid(ls='-',lw=.7,color='w')\n",
    "    \n",
    "axes[0].set_yticks([-2,0,2,4]); axes[0].set_yticklabels([-2,0,2,4])\n",
    "axes[0].tick_params(left='on')\n",
    "axes[0].set_ylabel('Normalized\\nprocessing efficiency')\n",
    "fig.subplots_adjust(wspace=.05)\n",
    "#fig.savefig(resultpath + '220530_f5e__ug_processing_variant.pdf')"
   ]
  },
  {
   "cell_type": "code",
   "execution_count": null,
   "metadata": {},
   "outputs": [],
   "source": []
  },
  {
   "cell_type": "code",
   "execution_count": null,
   "metadata": {},
   "outputs": [],
   "source": []
  }
 ],
 "metadata": {
  "kernelspec": {
   "display_name": "Python 2",
   "language": "python",
   "name": "python2"
  },
  "language_info": {
   "codemirror_mode": {
    "name": "ipython",
    "version": 2
   },
   "file_extension": ".py",
   "mimetype": "text/x-python",
   "name": "python",
   "nbconvert_exporter": "python",
   "pygments_lexer": "ipython2",
   "version": "2.7.18"
  }
 },
 "nbformat": 4,
 "nbformat_minor": 2
}
